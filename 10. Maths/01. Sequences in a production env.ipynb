{
 "cells": [
  {
   "cell_type": "markdown",
   "id": "655abd56",
   "metadata": {},
   "source": [
    "# <b> Sequences in a production environment.</b>\n",
    "\n",
    "\n",
    "# <b>1. Geometric sequence </b>\n",
    "\n",
    "<div style=\"text-align:center\">\n",
    "<img src=\"img/industrie-usine.jpg\" width=\"500\"/>\n",
    "</div>\n",
    "\n",
    "A production unit manufactures aluminum profiles.<br>\n",
    "In 2013, annual production was 5,000 units.<br>\n",
    "We hyphotese that the increase in increase will be 4 % per year.<br>\n",
    "\n",
    "1. Calculate production in 2014\n",
    "2. Calculate productions in 2015 and 2016\n",
    "3. We designate by P0 production in 2013, P1 production in 2014, P2 in 2015\n",
    "In general, we designate by Pn production in 2013 + n\n",
    "Proove that the Pn suite is a geometric sequence, the reason for which will be specified.\n",
    "4. Express Pn as a function of n\n",
    "5. Determine production in 2019\n",
    "6. Determine the total production between 2013 and 2019\n",
    "\n",
    "\n",
    "<b> 1. Calculate production in 2014</b>"
   ]
  },
  {
   "cell_type": "code",
   "execution_count": 31,
   "id": "6d3a2da8",
   "metadata": {},
   "outputs": [
    {
     "name": "stdout",
     "output_type": "stream",
     "text": [
      "5200.0\n"
     ]
    }
   ],
   "source": [
    "p_2014 = 5000 + (5000 * 4 / 100)\n",
    "print(p_2014)"
   ]
  },
  {
   "cell_type": "markdown",
   "id": "6fa442d2",
   "metadata": {},
   "source": [
    "<b>2. Calculate productions in 2015 and 2016</b>"
   ]
  },
  {
   "cell_type": "code",
   "execution_count": 32,
   "id": "5e911dcf",
   "metadata": {},
   "outputs": [
    {
     "name": "stdout",
     "output_type": "stream",
     "text": [
      "5408.0\n"
     ]
    }
   ],
   "source": [
    "p_2015 = 5200 + (5200 * 4 / 100)\n",
    "print(p_2015)"
   ]
  },
  {
   "cell_type": "code",
   "execution_count": 33,
   "id": "f4bd793f",
   "metadata": {},
   "outputs": [
    {
     "name": "stdout",
     "output_type": "stream",
     "text": [
      "5624.32\n"
     ]
    }
   ],
   "source": [
    "p_2016 = 5408+ (5408 * 4 / 100)\n",
    "print(p_2016)"
   ]
  },
  {
   "cell_type": "markdown",
   "id": "603c230f",
   "metadata": {},
   "source": [
    "<b> 3. Proove that the Pn suite is a geometric sequence</b>\n",
    "\n",
    "$$\n",
    "P_{n+1} = P_{n} + \\frac{4}{100}P_{n}\n",
    "$$\n",
    "\n",
    "$$\n",
    "P_{n+1} = P_{n} + 0.04P_{n}\n",
    "$$\n",
    "\n",
    "$$\n",
    "P_{n+1} = P_{n}(1+004)\n",
    "$$\n",
    "\n",
    "$$\n",
    "P_{n+1} = 1.04P_{n}\n",
    "$$\n",
    "\n",
    "The sequence is geometric and its reason is 1.04"
   ]
  }
 ],
 "metadata": {
  "kernelspec": {
   "display_name": "Python 3",
   "language": "python",
   "name": "python3"
  },
  "language_info": {
   "codemirror_mode": {
    "name": "ipython",
    "version": 3
   },
   "file_extension": ".py",
   "mimetype": "text/x-python",
   "name": "python",
   "nbconvert_exporter": "python",
   "pygments_lexer": "ipython3",
   "version": "3.9.2"
  }
 },
 "nbformat": 4,
 "nbformat_minor": 5
}
