{
 "cells": [
  {
   "cell_type": "markdown",
   "id": "a12d88f0",
   "metadata": {},
   "source": [
    "Comin soon \n",
    "https://www-askpython-com.translate.goog/python/examples/calculus-in-python?_x_tr_sl=en&_x_tr_tl=fr&_x_tr_hl=fr&_x_tr_pto=sc"
   ]
  }
 ],
 "metadata": {
  "language_info": {
   "name": "python"
  }
 },
 "nbformat": 4,
 "nbformat_minor": 5
}
