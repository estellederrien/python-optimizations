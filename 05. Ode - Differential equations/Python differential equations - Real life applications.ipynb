{
 "cells": [
  {
   "cell_type": "markdown",
   "metadata": {},
   "source": [
    "<div style=\"text-align:center\">\n",
    "<img src=\"img/intro.png\">\n",
    "</div>"
   ]
  },
  {
   "cell_type": "markdown",
   "metadata": {},
   "source": [
    "\n",
    "*** CREATION IN PROGRESS ***<br>\n",
    "Notebook created by GITHUB ESTELLE DERRIEN\n",
    "\n",
    "Great link : https://personal.math.ubc.ca/~CLP/CLP1/clp_1_dc/front.html"
   ]
  },
  {
   "cell_type": "markdown",
   "metadata": {},
   "source": [
    "# <b>Summary</b>\n",
    "\n",
    "<h4>Part 1 : Immediate solutions</h4>\n",
    "\n",
    "- <i>Order 1 ODEs</i>\n",
    "    - <b>y' = 2y</b>\n",
    "        - Graphical solution\n",
    "        - Symbolic solution\n",
    "        - Algebra solution\n",
    "    - <b>y' = ax + x² </b>\n",
    "        - Graphical solution\n",
    "        - Symbolic solution\n",
    "        - Algebra solution\n",
    "    - <b> y' = ax + f</b>\n",
    "        - Graphical solution\n",
    "        - Symbolic solution\n",
    "        - Algebra solution\n",
    "    - <b> system</b>\n",
    "        - Graphical solution\n",
    "        - Symbolic solution\n",
    "        - Algebra solution\n",
    "\n",
    "<i>Order 2 ODES </i>\n",
    "\n",
    "\n",
    "<h4>Part 2 : Real life applications</h4>\n",
    "\n",
    "<h4>Part 3 : Optimizing Differential equations</h4>\n"
   ]
  },
  {
   "cell_type": "markdown",
   "metadata": {},
   "source": [
    "# <b>Introduction</b>\n",
    "\n",
    "A differential equation allows us to describe and analyze a dynamic system, in other words, a system in motion."
   ]
  },
  {
   "cell_type": "markdown",
   "metadata": {},
   "source": [
    "# <b>Part 1 : Immediate solutions</b>\n",
    "# <b><i>Order 1 ODEs</i></b>\n",
    "\n",
    "# <span style=\"color:red\"><b> y' = 2x </b></span>\n",
    "\n",
    "\n",
    "Here, y' is a <b>derivative</b>, 2 is a <b>constant</b>, x is a <b>variable</b>.<br>\n",
    "\"We have a function whose derivative is equal to twice the variable x.\"<br>\n",
    "\"The unknown is the function 𝑦 whose derivative is equal to 2x.\"<br>\n",
    "\n",
    "## Graphical solution\n",
    "We are looking for the graphical solution of our differential equation. The solution being a function, it draws a function, the function f(x) = x². It is thanks to these successive derivatives that we reconstruct and draw f(x) = x² on the interval [0;10]."
   ]
  },
  {
   "cell_type": "code",
   "execution_count": 29,
   "metadata": {},
   "outputs": [
    {
     "data": {
      "image/png": "[encoded data removed]",
      "text/plain": [
       "<Figure size 640x480 with 1 Axes>"
      ]
     },
     "metadata": {},
     "output_type": "display_data"
    },
    {
     "name": "stdout",
     "output_type": "stream",
     "text": [
      " At time 10, my value will be  101.000000001241\n"
     ]
    }
   ],
   "source": [
    "# -----------------------------------\n",
    "# Import lib\n",
    "# -----------------------------------\n",
    "from scipy import *\n",
    "from scipy.integrate import odeint # Solve ODE\n",
    "import matplotlib.pyplot as plt # Plot graphs\n",
    "import numpy as np\n",
    "from math import *\n",
    "\n",
    "# -----------------------------------\n",
    "# function that returns the derivative for each x supplied to the np.linspace function\n",
    "# -----------------------------------\n",
    "def derivative (y,x) :\n",
    "    return 2 * x\n",
    "\n",
    "# -----------------------------------\n",
    "# time points\n",
    "# -----------------------------------\n",
    "x = np.linspace ( 0 , 10)\n",
    "\n",
    "# -----------------------------------\n",
    "# Initial condition\n",
    "# -----------------------------------\n",
    "y0 = 1\n",
    "\n",
    "# -----------------------------------\n",
    "# solve ODE\n",
    "# -----------------------------------\n",
    "solution = odeint ( derivative , y0 , x )\n",
    "y = solution [ : , 0 ]\n",
    "\n",
    "# -----------------------------------\n",
    "# Plot result\n",
    "# -----------------------------------\n",
    "plt.plot ( x , y )\n",
    "plt.title(\"ODE y' = 2x - Solution : x² \" )\n",
    "plt.ylabel(\"value\")\n",
    "plt.xlabel(\"time\")\n",
    "plt.show()\n",
    "\n",
    "# Find the value at time 10 with graphical interpolation We see that this is not the precise result\n",
    "print(\" At time 10, my value will be \" ,np.interp(10, x, y))"
   ]
  },
  {
   "cell_type": "markdown",
   "metadata": {},
   "source": [
    "## Symbolic solution\n",
    "\n",
    "Now, let's find the solution to the differential equation, using mathematical symbols directly.\n",
    "\n",
    "We're still trying to solve:\n",
    "$$\n",
    "y'\n",
    "= 2x\n",
    "$$\n",
    "\n",
    "## Step 1 : Entering ODE into Sympy\n",
    "\n",
    "This allows Sympy to interpret the diff equation."
   ]
  },
  {
   "cell_type": "code",
   "execution_count": 30,
   "metadata": {},
   "outputs": [
    {
     "data": {
      "text/latex": [
       "$\\displaystyle \\frac{d}{d x} y{\\left(x \\right)} = 2 x$"
      ],
      "text/plain": [
       "Eq(Derivative(y(x), x), 2*x)"
      ]
     },
     "metadata": {},
     "output_type": "display_data"
    }
   ],
   "source": [
    "from sympy import Function, dsolve, Eq, Derivative, sin, cos, symbols\n",
    "from sympy.abc import x\n",
    "import sympy\n",
    "\n",
    "x   = sympy.Symbol('x')\n",
    "y   = sympy.Function('y')\n",
    "\n",
    "left_ode_side  = sympy.diff(y(x),x)\n",
    "right_ode_side = 2 * x\n",
    "\n",
    "edo = sympy.Eq( left_ode_side , right_ode_side )\n",
    "display(edo)"
   ]
  },
  {
   "cell_type": "markdown",
   "metadata": {},
   "source": [
    "## Step 2 : Computing general solution"
   ]
  },
  {
   "cell_type": "code",
   "execution_count": null,
   "metadata": {},
   "outputs": [],
   "source": [
    "solgen = sympy.dsolve(edo,y(x)) \n",
    "display(solgen)"
   ]
  },
  {
   "cell_type": "markdown",
   "metadata": {},
   "source": [
    "## Step 3: Computing a particular solution\n",
    "\n",
    "If we're looking for x = 10, we use the general solution found just above in step 2, and this is also evident on the graph. We then find y = 100.\n",
    "We can also display x = 3, to see, and we find 9.\n",
    "We substitute x for the value in the general solution."
   ]
  },
  {
   "cell_type": "code",
   "execution_count": null,
   "metadata": {},
   "outputs": [],
   "source": [
    "value = 10 ** 2\n",
    "print (\" My value after 10 times is \" , value)\n",
    "\n",
    "value = 3 ** 2\n",
    "print (\" My value after 3 times is \" , value)"
   ]
  }
 ],
 "metadata": {
  "kernelspec": {
   "display_name": "Python 3",
   "language": "python",
   "name": "python3"
  },
  "language_info": {
   "codemirror_mode": {
    "name": "ipython",
    "version": 3
   },
   "file_extension": ".py",
   "mimetype": "text/x-python",
   "name": "python",
   "nbconvert_exporter": "python",
   "pygments_lexer": "ipython3",
   "version": "3.9.2"
  }
 },
 "nbformat": 4,
 "nbformat_minor": 2
}
