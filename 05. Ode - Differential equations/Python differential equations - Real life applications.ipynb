{
 "cells": [
  {
   "cell_type": "markdown",
   "metadata": {},
   "source": [
    "<div style=\"text-align:center\">\n",
    "<img src=\"img/intro.png\">\n",
    "</div>"
   ]
  },
  {
   "cell_type": "markdown",
   "metadata": {},
   "source": [
    "\n",
    "*** CREATION IN PROGRESS ***<br>\n",
    "Notebook created by GITHUB ESTELLE DERRIEN\n",
    "\n",
    "Great link : https://personal.math.ubc.ca/~CLP/CLP1/clp_1_dc/front.html\n",
    "\n",
    "https://perso.univ-lyon1.fr/marc.buffat/COURS/BOOK_PYTHON_SCIENTIFIQUE_HTML/MGC2028L/cours/pendule_elastique.html\n",
    "\n",
    "https://cahier-de-prepa.fr/info-ipein/download?id=93"
   ]
  },
  {
   "cell_type": "markdown",
   "metadata": {},
   "source": [
    "# <b>Summary</b>\n",
    "\n",
    "- <h4>Part 1 : Immediate solutions</h4>\n",
    "\n",
    "    - <i>Order 1 ODEs</i>\n",
    "        - <b>y' = 2x</b>\n",
    "            - Graphical solution\n",
    "            - Symbolic solution\n",
    "            - Algebra solution\n",
    "        - <b>y' = 2y</b>\n",
    "            - Graphical solution\n",
    "            - Symbolic solution\n",
    "            - Algebra solution\n",
    "        - <b>5y' + 2y = 0</b>\n",
    "            - Graphical solution\n",
    "            - Symbolic solution\n",
    "            - Algebra solution\n",
    "        - <b>y' = ax + x² </b>\n",
    "            - Graphical solution\n",
    "            - Symbolic solution\n",
    "            - Algebra solution\n",
    "        - <b> y' = ax + f</b>\n",
    "            - Graphical solution\n",
    "            - Symbolic solution\n",
    "            - Algebra solution\n",
    "        - <b> system</b>\n",
    "            - Graphical solution\n",
    "            - Symbolic solution\n",
    "            - Algebra solution\n",
    "\n",
    "    - <i>Order 2 ODES </i>\n",
    "        - <b>ay''+y'+c=d</b>\n",
    "            - Graphical solution\n",
    "            - Symbolic solution\n",
    "            - Algebra solution\n",
    "\n",
    "- <h4>Part 2 : Real life applications</h4>\n",
    "    \n",
    "    \n",
    "    - 0. Basical population growth \n",
    "        - 1.1 Abstract\n",
    "        - 1.2 Instance\n",
    "        - 1.3 Graphical solution\n",
    "    - 1. Logistics population growth (limited resources)\n",
    "        - 1.1 Abstract\n",
    "        - 1.2 Instance\n",
    "        - 1.3 Graphical solution\n",
    "    - 2. What temperature will my pie be after 30 minutes?\n",
    "        - 2.1 Abstract\n",
    "        - 2.2 Instance\n",
    "        - 2.3 Solution\n",
    "    - 3. What will the temperature of my tea be after 5 minutes?\n",
    "        - 3.1 Abstract\n",
    "        - 3.2 Instance\n",
    "        - 3.3 Solution\n",
    "    - 4. Evolution of capital\n",
    "        - 4.1 Abstract\n",
    "        - 4.2 Instance\n",
    "        - 4.3 Solution\n",
    "    - 5. Velocity and Acceleration\n",
    "        - 5.1 Abstract\n",
    "        - 5.2 Instance\n",
    "        - 5.3 Solution\n",
    "    - 6. Charging a capacitor\n",
    "        - 6.1 Abstract\n",
    "        - 6.2 Instance\n",
    "        - 6.3 Solution\n",
    "    - Body temperature as a function of time (Health - Corpse Police Investigation)\n",
    "    - What will the rabbit population be after 4 days?\n",
    "    - Using ODES in a robotic environment \n",
    "\n",
    "\n",
    "<h4>Part 3 : Optimizing Differential equations</h4>\n"
   ]
  },
  {
   "cell_type": "markdown",
   "metadata": {},
   "source": [
    "# <b>Introduction</b>\n",
    "\n",
    "A differential equation allows us to describe and analyze a dynamic system, in other words, a system in motion."
   ]
  },
  {
   "cell_type": "markdown",
   "metadata": {},
   "source": [
    "# <b>Part 1 : Immediate solutions</b>\n",
    "# <b><i>Order 1 ODEs</i></b>\n",
    "\n",
    "# <div style=\"background:black;color:white;width:100%;text-align:center\"><b> y' = 2x </b></div>\n",
    "\n",
    "\n",
    "Here, y' is a <b>derivative</b>, 2 is a <b>constant</b>, x is a <b>variable</b>.<br>\n",
    "\"We have a function whose derivative is equal to twice the variable x.\"<br>\n",
    "\"The unknown is the function 𝑦 whose derivative is equal to 2x.\"<br>\n",
    "Link (French) : https://www.youtube.com/watch?v=qHF5kiDFkW8\n",
    "\n",
    "## <b>Graphical solution</b>\n",
    "We are looking for the graphical solution of our differential equation. The solution being a function, it draws a function, the function f(x) = x². It is thanks to these successive derivatives that we reconstruct and draw f(x) = x² on the interval [0;10]."
   ]
  },
  {
   "cell_type": "code",
   "execution_count": 584,
   "metadata": {},
   "outputs": [
    {
     "data": {
      "image/png": "[encoded data removed]",
      "text/plain": [
       "<Figure size 640x480 with 1 Axes>"
      ]
     },
     "metadata": {},
     "output_type": "display_data"
    },
    {
     "name": "stdout",
     "output_type": "stream",
     "text": [
      " At time 10, my value will be  101.000000001241\n"
     ]
    }
   ],
   "source": [
    "# -----------------------------------\n",
    "# Import lib\n",
    "# -----------------------------------\n",
    "from scipy import *\n",
    "from scipy.integrate import odeint # Solve ODE\n",
    "import matplotlib.pyplot as plt # Plot graphs\n",
    "import numpy as np\n",
    "from math import *\n",
    "\n",
    "# -----------------------------------\n",
    "# function that returns the derivative for each x supplied to the np.linspace function\n",
    "# -----------------------------------\n",
    "def derivative (y,x) :\n",
    "    return 2 * x\n",
    "\n",
    "# -----------------------------------\n",
    "# time points\n",
    "# -----------------------------------\n",
    "x = np.linspace ( 0 , 10)\n",
    "\n",
    "# -----------------------------------\n",
    "# Initial condition\n",
    "# -----------------------------------\n",
    "y0 = 1\n",
    "\n",
    "# -----------------------------------\n",
    "# solve ODE\n",
    "# -----------------------------------\n",
    "solution = odeint ( derivative , y0 , x )\n",
    "y = solution [ : , 0 ]\n",
    "\n",
    "# -----------------------------------\n",
    "# Plot result\n",
    "# -----------------------------------\n",
    "plt.plot ( x , y )\n",
    "plt.title(\"ODE y' = 2x - Solution : x² \" )\n",
    "plt.ylabel(\"value\")\n",
    "plt.xlabel(\"time\")\n",
    "plt.show()\n",
    "\n",
    "# Find the value at time 10 with graphical interpolation We see that this is not the precise result\n",
    "print(\" At time 10, my value will be \" ,np.interp(10, x, y))"
   ]
  },
  {
   "cell_type": "markdown",
   "metadata": {},
   "source": [
    "## <b>Symbolic solution</b>\n",
    "\n",
    "Now, let's find the solution to the differential equation, using mathematical symbols directly.\n",
    "\n",
    "We're still trying to solve:\n",
    "$$\n",
    "y'\n",
    "= 2x\n",
    "$$\n",
    "\n",
    "## Step 1 : Entering ODE into Sympy\n",
    "\n",
    "This allows Sympy to interpret the diff equation."
   ]
  },
  {
   "cell_type": "code",
   "execution_count": 585,
   "metadata": {},
   "outputs": [
    {
     "data": {
      "text/latex": [
       "$\\displaystyle \\frac{d}{d x} y{\\left(x \\right)} = 2 x$"
      ],
      "text/plain": [
       "Eq(Derivative(y(x), x), 2*x)"
      ]
     },
     "metadata": {},
     "output_type": "display_data"
    }
   ],
   "source": [
    "from sympy import Function, dsolve, Eq, Derivative, sin, cos, symbols\n",
    "from sympy.abc import x\n",
    "import sympy\n",
    "\n",
    "x   = sympy.Symbol('x')\n",
    "y   = sympy.Function('y')\n",
    "\n",
    "left_ode_side  = sympy.diff(y(x),x)\n",
    "right_ode_side = 2 * x\n",
    "\n",
    "edo = sympy.Eq( left_ode_side , right_ode_side )\n",
    "display(edo)"
   ]
  },
  {
   "cell_type": "markdown",
   "metadata": {},
   "source": [
    "## Step 2 : Computing general solution\n",
    "\n",
    "We calculate the solution functions of the diff equation.\n",
    "We find the same solution as Yvan Monka."
   ]
  },
  {
   "cell_type": "code",
   "execution_count": 586,
   "metadata": {},
   "outputs": [
    {
     "data": {
      "text/latex": [
       "$\\displaystyle y{\\left(x \\right)} = C_{1} + x^{2}$"
      ],
      "text/plain": [
       "Eq(y(x), C1 + x**2)"
      ]
     },
     "metadata": {},
     "output_type": "display_data"
    }
   ],
   "source": [
    "solgen = sympy.dsolve(edo,y(x)) \n",
    "display(solgen)"
   ]
  },
  {
   "cell_type": "markdown",
   "metadata": {},
   "source": [
    "## Step 3: Computing a particular solution\n",
    "\n",
    "If we're looking for x = 10, we use the general solution found just above in step 2, and this is also evident on the graph. We then find y = 100.\n",
    "We can also display x = 3, to see, and we find 9.\n",
    "We substitute x for the value in the general solution."
   ]
  },
  {
   "cell_type": "code",
   "execution_count": 587,
   "metadata": {},
   "outputs": [
    {
     "name": "stdout",
     "output_type": "stream",
     "text": [
      " My value after 10 times is  100\n",
      " My value after 3 times is  9\n"
     ]
    }
   ],
   "source": [
    "part_sol = 10 ** 2\n",
    "print (\" My value after 10 times is \" , part_sol)\n",
    "\n",
    "part_sol = 3 ** 2\n",
    "print (\" My value after 3 times is \" , part_sol)"
   ]
  },
  {
   "cell_type": "markdown",
   "metadata": {},
   "source": [
    "## <b>Algebric solution using DSolve</b>\n",
    "\n",
    "We use dsolve to solve\n",
    "$$\n",
    "y'\n",
    "= 2x\n",
    "$$\n",
    "\n",
    "This gives us the general solution. In this example, there is no initial condition; we'll see that later...\n",
    "We check the results and see that we find the same solution as Yvan Monka, in logical, graphical, symbolic, and algebraic solutions. This proves that the processes and codes are correct."
   ]
  },
  {
   "cell_type": "code",
   "execution_count": 588,
   "metadata": {},
   "outputs": [
    {
     "name": "stdout",
     "output_type": "stream",
     "text": [
      "Eq(y(x), C1 + x**2)\n",
      "C1 + x**2\n"
     ]
    }
   ],
   "source": [
    "# -----------------------------------\n",
    "# Import lib\n",
    "# -----------------------------------\n",
    "from sympy import symbols, Function, Eq, dsolve\n",
    "\n",
    "# -----------------------------------\n",
    "# Parameters\n",
    "# -----------------------------------\n",
    "x = symbols('x')\n",
    "y = Function('y')\n",
    "\n",
    "# -----------------------------------\n",
    "# Create ODE\n",
    "# -----------------------------------\n",
    "# Ode left part, then ode right part\n",
    "diff_equation = Eq(Derivative(y(x), x) , 2*x)\n",
    "\n",
    "# -----------------------------------\n",
    "# Solve ODE\n",
    "# -----------------------------------\n",
    "# We solve ODE, and get a general solution\n",
    "solution = dsolve(diff_equation)\n",
    "\n",
    "# -----------------------------------\n",
    "# Display solution\n",
    "# -----------------------------------\n",
    "print(solution)\n",
    "\n",
    "# Simplified solution\n",
    "print(solution.rhs)\n"
   ]
  },
  {
   "cell_type": "markdown",
   "metadata": {},
   "source": [
    "# <div style=\"background:black;color:white;width:100%;text-align:center\"><b> y' = 2y </b></div>\n",
    "\n",
    "\"The derivative of the function y is equal to 2 times the function y.\"\n",
    "\n",
    "Here, 2 is a <b>constant</b>, y is a <b>function</b>, and y' is a <b>derivative</b>.\n",
    "\n",
    "Link: https://www.youtube.com/watch?v=qHF5kiDFkW8\n",
    "Link: https://www.maths-et-tiques.fr/telech/20Prim-EdTC.pdf\n",
    "\n",
    "Here is Fractional Notation, which means the same thing and is more commonly used in Physics.\n",
    "\n",
    "$$\n",
    "\\frac{dx}{dt}\n",
    "= 2 x(t)\n",
    "$$\n",
    "\n",
    "## <b>Graphical solution</b>"
   ]
  },
  {
   "cell_type": "code",
   "execution_count": 589,
   "metadata": {},
   "outputs": [
    {
     "data": {
      "image/png": "[encoded data removed]",
      "text/plain": [
       "<Figure size 640x480 with 1 Axes>"
      ]
     },
     "metadata": {},
     "output_type": "display_data"
    },
    {
     "name": "stdout",
     "output_type": "stream",
     "text": [
      " At time 9, my value will be  66211191.82837978\n"
     ]
    }
   ],
   "source": [
    "# -----------------------------------\n",
    "# Import lib\n",
    "# -----------------------------------\n",
    "import numpy as np\n",
    "import matplotlib.pyplot as plt\n",
    "from scipy.integrate import solve_ivp\n",
    "\n",
    "# -----------------------------------\n",
    "# function that returns the derivative for each x supplied to the np.linspace function\n",
    "# -----------------------------------\n",
    "def derivee (y,x) :\n",
    "    return 2 * y\n",
    "\n",
    "# -----------------------------------\n",
    "# time points\n",
    "# -----------------------------------\n",
    "x = np.linspace ( 0 , 10)\n",
    "\n",
    "# -----------------------------------\n",
    "# initial condition\n",
    "# -----------------------------------\n",
    "y0 = 1\n",
    "\n",
    "# -----------------------------------\n",
    "# solve ODE\n",
    "# -----------------------------------\n",
    "solution = odeint ( derivee , y0 , x )\n",
    "y = solution [ : , 0 ]\n",
    "\n",
    "# -----------------------------------\n",
    "# plot result\n",
    "# -----------------------------------\n",
    "plt.plot ( x , y )\n",
    "plt.title(\"Diff equation : y' = 2y \" )\n",
    "plt.ylabel(\"value\")\n",
    "plt.xlabel(\"time\")\n",
    "plt.show()\n",
    "\n",
    "# Find the value at time 9 using graphical interpolation\n",
    "# We see that this isn't the precise result; we need to find another method\n",
    "print(\" At time 9, my value will be \" ,np.interp(9, x, y))"
   ]
  },
  {
   "cell_type": "markdown",
   "metadata": {},
   "source": [
    "## <b>Symbolic solution</b>\n",
    "\n",
    "Now, let's find the solution to the differential equation, using mathematical symbols directly.\n",
    "\n",
    "We're still trying to solve:\n",
    "$$\n",
    "y'\n",
    "= 2y\n",
    "$$\n",
    "\n",
    "## Step 1 : Entering ODE into Sympy\n",
    "\n",
    "This allows Sympy to interpret the diff equation."
   ]
  },
  {
   "cell_type": "code",
   "execution_count": 590,
   "metadata": {},
   "outputs": [
    {
     "data": {
      "text/latex": [
       "$\\displaystyle \\frac{d}{d x} y{\\left(x \\right)} = 2 y{\\left(x \\right)}$"
      ],
      "text/plain": [
       "Eq(Derivative(y(x), x), 2*y(x))"
      ]
     },
     "metadata": {},
     "output_type": "display_data"
    }
   ],
   "source": [
    "from sympy import Function, dsolve, Eq, Derivative, sin, cos, symbols\n",
    "from sympy.abc import x\n",
    "import sympy\n",
    "\n",
    "x   = sympy.Symbol('x')\n",
    "y   = sympy.Function('y')\n",
    "\n",
    "left  = sympy.diff(y(x),x)\n",
    "right = 2 * y(x) \n",
    "\n",
    "edo = sympy.Eq( left , right )\n",
    "display(edo)"
   ]
  },
  {
   "cell_type": "markdown",
   "metadata": {},
   "source": [
    "## Step 2 : Computing general solution\n",
    "\n",
    "The differential equation is in the format y' = ay.\n",
    "\n",
    "We find the same solution as Yvan Monka.\n",
    "\n",
    "The solutions to the differential equation are the following functions:"
   ]
  },
  {
   "cell_type": "code",
   "execution_count": 591,
   "metadata": {},
   "outputs": [
    {
     "data": {
      "text/latex": [
       "$\\displaystyle y{\\left(x \\right)} = C_{1} e^{2 x}$"
      ],
      "text/plain": [
       "Eq(y(x), C1*exp(2*x))"
      ]
     },
     "metadata": {},
     "output_type": "display_data"
    }
   ],
   "source": [
    "solgen = sympy.dsolve(edo,y(x)) \n",
    "display(solgen)"
   ]
  },
  {
   "cell_type": "markdown",
   "metadata": {},
   "source": [
    "## Step 3: Computing a particular solution\n",
    "\n",
    "Displaying a particular solution using the eq of the general solution\n",
    "Find Our value at time 9"
   ]
  },
  {
   "cell_type": "code",
   "execution_count": 592,
   "metadata": {},
   "outputs": [
    {
     "name": "stdout",
     "output_type": "stream",
     "text": [
      " My value at time 9 is  65659969.13733051\n"
     ]
    }
   ],
   "source": [
    "import math \n",
    "part_sol = math.exp(2 * 9)\n",
    "print (\" My value at time 9 is \" , part_sol)"
   ]
  },
  {
   "cell_type": "markdown",
   "metadata": {},
   "source": [
    "# <div style=\"background:black;color:white;width:100%;text-align:center\"><b> 5y' + 2y = 0 </b></div>\n",
    "\n",
    "1. Determine the general equation solution\n",
    "2. Determine the unique solution of the equation such that y(1) = 3"
   ]
  },
  {
   "cell_type": "markdown",
   "metadata": {},
   "source": [
    "## Determine the general solution of this equation with sympy\n",
    "\n",
    "We first put it in \"standard\" format with the derivative on the left: \n",
    "\n",
    "$$ y' = \\frac{-2 * y } {5}$$"
   ]
  },
  {
   "cell_type": "markdown",
   "metadata": {},
   "source": [
    "## <b> Step 1: Enter the ODE in Sympy </b>"
   ]
  },
  {
   "cell_type": "code",
   "execution_count": 593,
   "metadata": {},
   "outputs": [
    {
     "data": {
      "text/latex": [
       "$\\displaystyle \\frac{d}{d x} y{\\left(x \\right)} = - \\frac{2 y{\\left(x \\right)}}{5}$"
      ],
      "text/plain": [
       "Eq(Derivative(y(x), x), -2*y(x)/5)"
      ]
     },
     "metadata": {},
     "output_type": "display_data"
    }
   ],
   "source": [
    "from sympy import Function, dsolve, Eq, Derivative, sin, cos, symbols\n",
    "from sympy.abc import x\n",
    "import sympy\n",
    "\n",
    "x   = sympy.Symbol('x')\n",
    "y   = sympy.Function('y')\n",
    "\n",
    "left  = sympy.diff(y(x),x)\n",
    "\n",
    "right = -2 * y(x) / 5 # La fonction y s'écrit y(x)\n",
    "\n",
    "edo = sympy.Eq( left , right )\n",
    "display(edo)"
   ]
  },
  {
   "cell_type": "markdown",
   "metadata": {},
   "source": [
    "## <b> Step 2: Calculation of the general solution </b>"
   ]
  },
  {
   "cell_type": "code",
   "execution_count": 594,
   "metadata": {},
   "outputs": [
    {
     "data": {
      "text/latex": [
       "$\\displaystyle y{\\left(x \\right)} = C_{1} e^{- \\frac{2 x}{5}}$"
      ],
      "text/plain": [
       "Eq(y(x), C1*exp(-2*x/5))"
      ]
     },
     "metadata": {},
     "output_type": "display_data"
    }
   ],
   "source": [
    "solgen = sympy.dsolve(edo,y(x)) \n",
    "display(solgen)"
   ]
  },
  {
   "cell_type": "markdown",
   "metadata": {},
   "source": [
    "## Determine the only solution of the equation such as y (1) = 3 with sympy\n",
    "\n",
    "In other words, determine the only solution solution of the differential equation, when y (1) = 3\n",
    "\n",
    "## Step 1: Enter the condition\n",
    "\n",
    "Condition is a constant."
   ]
  },
  {
   "cell_type": "code",
   "execution_count": 595,
   "metadata": {},
   "outputs": [
    {
     "data": {
      "text/plain": [
       "{C1: 3*exp(2/5)}"
      ]
     },
     "execution_count": 595,
     "metadata": {},
     "output_type": "execute_result"
    }
   ],
   "source": [
    "x0 = 1\n",
    "y1 = 3\n",
    "consts = sympy.solve( sympy.Eq( y1, solgen.rhs.subs(x,x0)) , dict=True)[0]\n",
    "consts"
   ]
  },
  {
   "cell_type": "markdown",
   "metadata": {},
   "source": [
    "## Step 2: Calculate the unique solution with the constant\n",
    "\n",
    "We take into account the constant defined previously.\n",
    "We see that we find the same solution as in the exercise."
   ]
  },
  {
   "cell_type": "code",
   "execution_count": 596,
   "metadata": {},
   "outputs": [
    {
     "data": {
      "text/plain": [
       "'Only solution such as 𝑓 (1) = 3'"
      ]
     },
     "metadata": {},
     "output_type": "display_data"
    },
    {
     "data": {
      "text/latex": [
       "$\\displaystyle y{\\left(x \\right)} = 3 e^{\\frac{2}{5}} e^{- \\frac{2 x}{5}}$"
      ],
      "text/plain": [
       "Eq(y(x), 3*exp(2/5)*exp(-2*x/5))"
      ]
     },
     "execution_count": 596,
     "metadata": {},
     "output_type": "execute_result"
    }
   ],
   "source": [
    "solpar = solgen.subs(consts)\n",
    "\n",
    "display(\"Only solution such as 𝑓 (1) = 3\")\n",
    "solpar"
   ]
  },
  {
   "cell_type": "markdown",
   "metadata": {},
   "source": [
    "# <b>0. Law of natural growth </b>\n",
    "\n",
    "## <b>0.1 Abstract </b>\n",
    "It is logical to assume the rate of change of population P with respect to time t is proportional to the\n",
    "current population size P . \n",
    "\n",
    " $$ \\frac{dP}{dt} = rP   $$ \n",
    "\n",
    " $$ P(0) = 10 , t ∈ [0, 5] $$\n",
    "\n",
    "where r is the constant relative growth rate. This IVP results is the exponential relation for population P\n",
    "as a function of time t.\n",
    "\n",
    "thus\n",
    "\n",
    "\n",
    "$$ P(t) = P(0)e^{rt}   $$ \n",
    "\n",
    "\n",
    "\n",
    "\n",
    "Link : https://www2.math.upenn.edu/ugrad/calc/m114/Stewart104.pdf\n",
    "\n",
    "https://www3.nd.edu/~apilking/Calculus2ResourcesOriginal/Calculus2ResourcesOriginal/Lecture%205/NotesL5.pdf\n",
    "\n",
    "## <b>0.2 Instance </b>"
   ]
  },
  {
   "cell_type": "markdown",
   "metadata": {},
   "source": [
    "Population of bacteria Suppose that a population of bacteria grows naturally. <br>\n",
    "Suppose that the initial population is 100 bacteria, and, after 1 hour, the population has grown to 120. <br>\n",
    "\n",
    "- How large will the population be after 2 hours? <br>\n",
    "- How long will it take for the population to reach 1,000,000 bacteria?<br><br>\n",
    "\n",
    "Link : https://www.math.uci.edu/~ndonalds/math2a/notes/3-8.pdf\n",
    "\n",
    "## <b>0.3 Manual computation </b>\n",
    "\n",
    "We do not know the constant growth rate, so we need to calculate it manually, after that , we'll get the generic formula :\n",
    "\n",
    "<b>Step 1 :</b> \n",
    "\n",
    "P(0) is equal to 100 bacterias, so, substituing inside of $$ P(t) = P(0)e^{rt}   $$ \n",
    "We get : \n",
    "\n",
    "$$ P(t) = P(0) = 100e^{r * t}   $$ \n",
    "\n",
    "<b>Step 2 :</b> To find the r growth rate, let's look for P(1) = 120, r is unknown , let's calculate it!\n",
    "\n",
    "$$ 120 = P(1) = 100e^{r * 1} = 100e^{r}  -> e^{r} = 120/100 ->  e^{r} = 6/5 -> r = (ln 5/6) $$ \n",
    "\n",
    "<b>Step 3 </b>\n",
    "Now that we now the r growth rate, let's substitute inside of the general formula : \n",
    "\n",
    "$$ P(t) = 100(6/5)^t $$\n",
    "\n",
    "It is simplier to write than : \n",
    "\n",
    "$$ P(t) = 100e^{(ln 6/5)t} $$"
   ]
  },
  {
   "cell_type": "markdown",
   "metadata": {},
   "source": [
    "Now, we can answer question 2 : What is the bateria population after 2 hours ?"
   ]
  },
  {
   "cell_type": "code",
   "execution_count": 597,
   "metadata": {},
   "outputs": [
    {
     "name": "stdout",
     "output_type": "stream",
     "text": [
      " My population at time 2 is  144.0\n"
     ]
    }
   ],
   "source": [
    "# Pop After 2 hours\n",
    "import math \n",
    "population_after_2_hours = 100 * (6/5) ** 2\n",
    "print (\" My population at time 2 is \" , population_after_2_hours)"
   ]
  },
  {
   "cell_type": "markdown",
   "metadata": {},
   "source": [
    "## <b> 0.4 Graphical solution </b>"
   ]
  },
  {
   "cell_type": "code",
   "execution_count": 598,
   "metadata": {},
   "outputs": [
    {
     "data": {
      "image/png": "[encoded data removed]",
      "text/plain": [
       "<Figure size 640x480 with 1 Axes>"
      ]
     },
     "metadata": {},
     "output_type": "display_data"
    }
   ],
   "source": [
    "# -----------------------------------\n",
    "# Import lib\n",
    "# -----------------------------------\n",
    "import numpy as np\n",
    "import matplotlib.pyplot as plt\n",
    "from scipy.integrate import solve_ivp\n",
    "\n",
    "# -----------------------------------\n",
    "# function that returns the derivative for each x supplied to the np.linspace function\n",
    "# -----------------------------------\n",
    "def derivative (y,x) :\n",
    "    return  y * 0.2\n",
    "\n",
    "# -----------------------------------\n",
    "# time points\n",
    "# -----------------------------------\n",
    "x = np.linspace ( 0 , 5)\n",
    "\n",
    "# -----------------------------------\n",
    "# initial condition\n",
    "# -----------------------------------\n",
    "p0 = 100\n",
    "\n",
    "# -----------------------------------\n",
    "# solve ODE\n",
    "# -----------------------------------\n",
    "solution = odeint ( derivative , p0 , x )\n",
    "y = solution [ : , 0 ]\n",
    "\n",
    "# -----------------------------------\n",
    "# plot result\n",
    "# -----------------------------------\n",
    "plt.plot ( x , y )\n",
    "plt.title(\"Diff equation : y' = rP \" )\n",
    "plt.ylabel(\"population\")\n",
    "plt.xlabel(\"time\")\n",
    "plt.show()\n",
    "\n"
   ]
  },
  {
   "cell_type": "markdown",
   "metadata": {},
   "source": [
    "## <b> 0.5 Sympy solution </b>"
   ]
  },
  {
   "cell_type": "code",
   "execution_count": 599,
   "metadata": {},
   "outputs": [
    {
     "data": {
      "text/latex": [
       "$\\displaystyle \\frac{d}{d t} y{\\left(t \\right)} = 1.2 y{\\left(t \\right)}$"
      ],
      "text/plain": [
       "Eq(Derivative(y(t), t), 1.2*y(t))"
      ]
     },
     "metadata": {},
     "output_type": "display_data"
    }
   ],
   "source": [
    "from sympy import Function, dsolve, Eq, Derivative, sin, cos, symbols\n",
    "from sympy.abc import x\n",
    "import sympy\n",
    "\n",
    "k   = 6/5 # growth rate\n",
    "x   = sympy.Symbol('t')\n",
    "y   = sympy.Function('y')\n",
    "\n",
    "left  = sympy.diff(y(x),x)\n",
    "right = k * y(x) \n",
    "\n",
    "edo = sympy.Eq( left , right )\n",
    "display(edo)"
   ]
  },
  {
   "cell_type": "code",
   "execution_count": 600,
   "metadata": {},
   "outputs": [
    {
     "data": {
      "text/latex": [
       "$\\displaystyle y{\\left(t \\right)} = C_{1} e^{1.2 t}$"
      ],
      "text/plain": [
       "Eq(y(t), C1*exp(1.2*t))"
      ]
     },
     "metadata": {},
     "output_type": "display_data"
    }
   ],
   "source": [
    "solgen = sympy.dsolve(edo,y(x)) \n",
    "display(solgen)"
   ]
  },
  {
   "cell_type": "markdown",
   "metadata": {},
   "source": [
    "## <b> Instance 2 </b>\n",
    "\n",
    "Suppose the rate at which a population of bacteria grows is proportional to the\n",
    "size of the population at that time. If we begin with a population of 200 bacteria, and 2\n",
    "hours later there are 300 bacteria, how long will it take for the initial population to grow to\n",
    "1000 bacteria?\n",
    "\n",
    "http://ramanujan.math.trinity.edu/bmiceli/teach/calcIIS22/Pop-Exponential.pdf"
   ]
  },
  {
   "cell_type": "markdown",
   "metadata": {},
   "source": [
    "# <b>1. Logistics population growth (limited resources)</b>\n",
    "\n",
    "<div style=\"text-align:center\">\n",
    "<img src=\"img/bacter.jpg\" width=\"500\"/>\n",
    "</div>\n",
    "\n",
    "## <b>1.1 Abstract</b>\n",
    "Here is the differential equation of the Verhulst logistics equation \n",
    "\n",
    " $$ y' = ry (1- \\frac{y}{K})   $$ \n",
    "\n",
    " $$ t(0) = 100 , t ∈ [0, 40] $$\n",
    "\n",
    "Where\n",
    "- Y 'which is the evolution of the population according to time t\n",
    "- Y which is the function\n",
    "- r which is the growth rate\n",
    "- K The population threshold, or the load capacity, that is why we say \"limited resources\"\n",
    "- t (0) which is the population in time 0\n",
    "- [0.40] which is the number of time steps, in other words the extent of the analysis.\n",
    "\n",
    "which is generally used to model the self-limited growth of a biological population, that is, limited growth by limited resources.\n",
    "Initially, growth follows an approximate exponential model with a growth rate r.\n",
    "As the size of the population is close to the K load capacity K, the population\n",
    "The curve is flattened, for a model generally used to model the self-limited growth of a biological population.\n",
    "\n",
    "I can write it like that too : \n",
    "\n",
    " $$ \\frac{dy}{dt} = ry (1- \\frac{y}{K})   $$ \n",
    "\n",
    " $$ t(0) = 100 , t ∈ [0, 40] $$\n",
    "\n",
    " (Wikipedia source : https://fr.wikipedia.org/wiki/Mod%C3%A8le_de_Verhulst):\n",
    "\n",
    "## <b> 1.2 Graphical Solution </b>"
   ]
  },
  {
   "cell_type": "code",
   "execution_count": 601,
   "metadata": {},
   "outputs": [
    {
     "data": {
      "image/png": "[encoded data removed]",
      "text/plain": [
       "<Figure size 640x480 with 1 Axes>"
      ]
     },
     "metadata": {},
     "output_type": "display_data"
    }
   ],
   "source": [
    "\n",
    "# -----------------------------------\n",
    "# Instance\n",
    "# -----------------------------------\n",
    "# Growth rate\n",
    "r = 0.2\n",
    "# Population threshold\n",
    "K = 200\n",
    "# Initial condition\n",
    "y0 = 100 # At the beggining, there are 100 individuals\n",
    "\n",
    "#  Time points\n",
    "x = np.linspace ( 0 , 40) # This is the extent of our analysis\n",
    "\n",
    "# -----------------------------------\n",
    "# EDO\n",
    "# -----------------------------------\n",
    "# Equation\n",
    "def deriv (y,x) :\n",
    "    return  r * y *  ( 1 - (y / K)) # We stupidly copy the differential equation cited above, taken from Wikipedia\n",
    "\n",
    "# -----------------------------------\n",
    "# Solve EDO\n",
    "# -----------------------------------\n",
    "solution = odeint ( deriv , y0 , x )\n",
    "y = solution [ : , 0 ]\n",
    "\n",
    "# -----------------------------------\n",
    "# Plot solution\n",
    "# -----------------------------------\n",
    "plt.plot ( x , y )\n",
    "plt.title(\"Individual\" )\n",
    "plt.ylabel(\"amount\")\n",
    "plt.xlabel(\"time\")\n",
    "plt.show()"
   ]
  }
 ],
 "metadata": {
  "kernelspec": {
   "display_name": "Python 3",
   "language": "python",
   "name": "python3"
  },
  "language_info": {
   "codemirror_mode": {
    "name": "ipython",
    "version": 3
   },
   "file_extension": ".py",
   "mimetype": "text/x-python",
   "name": "python",
   "nbconvert_exporter": "python",
   "pygments_lexer": "ipython3",
   "version": "3.9.2"
  }
 },
 "nbformat": 4,
 "nbformat_minor": 2
}
