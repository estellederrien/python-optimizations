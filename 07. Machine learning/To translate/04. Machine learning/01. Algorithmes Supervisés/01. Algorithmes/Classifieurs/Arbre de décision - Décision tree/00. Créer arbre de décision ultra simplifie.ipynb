{
 "cells": [
  {
   "attachments": {},
   "cell_type": "markdown",
   "metadata": {},
   "source": [
    "## Arbre de décision \n",
    " Classifieur de type arbre de décision , prédiction de sexe en fonction de caractéristiques (features, en Anglais)\n",
    "\n",
    " Source :\n",
    " https://stackoverflow.com/questions/47251594/scikit-learn-decision-tree-probability-of-prediction-being-a-or-b"
   ]
  },
  {
   "cell_type": "code",
   "execution_count": 2,
   "metadata": {},
   "outputs": [
    {
     "name": "stdout",
     "output_type": "stream",
     "text": [
      "['male' 'male']\n",
      "[[0. 1.]\n",
      " [0. 1.]]\n"
     ]
    }
   ],
   "source": [
    "from sklearn import tree\n",
    "\n",
    "# Charger les datas\n",
    "X = [[65,9],[67,7],[70,11],[62,6],[60,7],[72,13],[66,10],[67,7.5]]\n",
    "Y=[\"male\",\"female\",\"male\",\"female\",\"female\",\"male\",\"male\",\"female\"]\n",
    "\n",
    "# Construire le modèle\n",
    "clf = tree.DecisionTreeClassifier()\n",
    "\n",
    "# Entrainer le modèle\n",
    "clf.fit(X, Y)\n",
    "\n",
    "# Prédire\n",
    "prediction = clf.predict([[68,9],[66,9]])\n",
    "\n",
    "# Probabilités\n",
    "probs = clf.predict_proba([[68,9],[66,9]])\n",
    "\n",
    "# Imprimer le genre prédit par le classifieur et la proba\n",
    "print(prediction)\n",
    "print(probs)"
   ]
  }
 ],
 "metadata": {
  "kernelspec": {
   "display_name": "Python 3",
   "language": "python",
   "name": "python3"
  },
  "language_info": {
   "codemirror_mode": {
    "name": "ipython",
    "version": 3
   },
   "file_extension": ".py",
   "mimetype": "text/x-python",
   "name": "python",
   "nbconvert_exporter": "python",
   "pygments_lexer": "ipython3",
   "version": "3.8.0"
  },
  "orig_nbformat": 4,
  "vscode": {
   "interpreter": {
    "hash": "edb60928ae049011e12e2dc43646b5515922153b602d9d974a622a5d486bbfcc"
   }
  }
 },
 "nbformat": 4,
 "nbformat_minor": 2
}
