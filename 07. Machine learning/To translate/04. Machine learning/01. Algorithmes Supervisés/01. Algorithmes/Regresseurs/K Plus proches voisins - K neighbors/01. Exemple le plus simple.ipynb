{
 "cells": [
  {
   "attachments": {},
   "cell_type": "markdown",
   "metadata": {},
   "source": [
    "# Regression K Neighbors\n",
    "\n",
    "Prédire la valeur de y , en donnant une valeur de x."
   ]
  },
  {
   "cell_type": "code",
   "execution_count": 5,
   "metadata": {},
   "outputs": [
    {
     "name": "stdout",
     "output_type": "stream",
     "text": [
      "[0.5]\n"
     ]
    }
   ],
   "source": [
    "# Import de la lib\n",
    "from sklearn.neighbors import KNeighborsRegressor\n",
    "\n",
    "# Dataset\n",
    "X = [[0], [1], [2], [3]]\n",
    "y = [0, 0, 1, 1]\n",
    "\n",
    "# Choix du regresseur\n",
    "neigh = KNeighborsRegressor(n_neighbors=2)\n",
    "\n",
    "# Entrainement \n",
    "neigh.fit(X, y)\n",
    "\n",
    "# On imprime le résultat\n",
    "print(neigh.predict([[1.5]]))"
   ]
  },
  {
   "cell_type": "code",
   "execution_count": 6,
   "metadata": {},
   "outputs": [
    {
     "name": "stdout",
     "output_type": "stream",
     "text": [
      "Test set R^2: 0.75\n"
     ]
    }
   ],
   "source": [
    "# On évalue si le dataset a un bon score\n",
    "# R2 est la mesure de la performane de prédiction par rapport au modèle\n",
    "print(\"Test set R^2: {:.2f}\".format(neigh.score(X, y)))"
   ]
  }
 ],
 "metadata": {
  "kernelspec": {
   "display_name": "Python 3",
   "language": "python",
   "name": "python3"
  },
  "language_info": {
   "codemirror_mode": {
    "name": "ipython",
    "version": 3
   },
   "file_extension": ".py",
   "mimetype": "text/x-python",
   "name": "python",
   "nbconvert_exporter": "python",
   "pygments_lexer": "ipython3",
   "version": "3.8.0"
  },
  "orig_nbformat": 4,
  "vscode": {
   "interpreter": {
    "hash": "edb60928ae049011e12e2dc43646b5515922153b602d9d974a622a5d486bbfcc"
   }
  }
 },
 "nbformat": 4,
 "nbformat_minor": 2
}
