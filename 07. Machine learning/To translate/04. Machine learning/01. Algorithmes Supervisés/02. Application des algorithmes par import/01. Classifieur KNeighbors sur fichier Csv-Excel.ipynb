{
 "cells": [
  {
   "attachments": {},
   "cell_type": "markdown",
   "metadata": {},
   "source": [
    "# Classifieur KNeighbors sur fichier CSV Excel\n",
    "\n",
    "On veut classifier des objets à l'aide de l'algo classifieur KNeighbors avec pour source un fichier Excel comportant des caractéristiques multiples (Features en Anglais)"
   ]
  },
  {
   "attachments": {},
   "cell_type": "markdown",
   "metadata": {},
   "source": [
    "Source : https://www.cours-gratuit.com/tutoriel-python/tutoriel-python-matriser-les-knn-avec-scikit-learn"
   ]
  },
  {
   "cell_type": "code",
   "execution_count": 50,
   "metadata": {},
   "outputs": [
    {
     "data": {
      "text/html": [
       "<div>\n",
       "<style scoped>\n",
       "    .dataframe tbody tr th:only-of-type {\n",
       "        vertical-align: middle;\n",
       "    }\n",
       "\n",
       "    .dataframe tbody tr th {\n",
       "        vertical-align: top;\n",
       "    }\n",
       "\n",
       "    .dataframe thead th {\n",
       "        text-align: right;\n",
       "    }\n",
       "</style>\n",
       "<table border=\"1\" class=\"dataframe\">\n",
       "  <thead>\n",
       "    <tr style=\"text-align: right;\">\n",
       "      <th></th>\n",
       "      <th>etiquette_fruit</th>\n",
       "      <th>nom_fruit</th>\n",
       "      <th>poids</th>\n",
       "      <th>largeur</th>\n",
       "      <th>hauteur</th>\n",
       "      <th>score-couleur</th>\n",
       "    </tr>\n",
       "  </thead>\n",
       "  <tbody>\n",
       "    <tr>\n",
       "      <th>0</th>\n",
       "      <td>1</td>\n",
       "      <td>pomme</td>\n",
       "      <td>180</td>\n",
       "      <td>8.4</td>\n",
       "      <td>6.8</td>\n",
       "      <td>0.60</td>\n",
       "    </tr>\n",
       "    <tr>\n",
       "      <th>1</th>\n",
       "      <td>1</td>\n",
       "      <td>pomme</td>\n",
       "      <td>198</td>\n",
       "      <td>8.2</td>\n",
       "      <td>7.5</td>\n",
       "      <td>0.55</td>\n",
       "    </tr>\n",
       "    <tr>\n",
       "      <th>2</th>\n",
       "      <td>1</td>\n",
       "      <td>pomme</td>\n",
       "      <td>174</td>\n",
       "      <td>8.0</td>\n",
       "      <td>7.7</td>\n",
       "      <td>0.59</td>\n",
       "    </tr>\n",
       "    <tr>\n",
       "      <th>3</th>\n",
       "      <td>2</td>\n",
       "      <td>mandarine</td>\n",
       "      <td>85</td>\n",
       "      <td>6.0</td>\n",
       "      <td>4.0</td>\n",
       "      <td>0.80</td>\n",
       "    </tr>\n",
       "    <tr>\n",
       "      <th>4</th>\n",
       "      <td>2</td>\n",
       "      <td>mandarine</td>\n",
       "      <td>80</td>\n",
       "      <td>5.8</td>\n",
       "      <td>4.6</td>\n",
       "      <td>0.81</td>\n",
       "    </tr>\n",
       "  </tbody>\n",
       "</table>\n",
       "</div>"
      ],
      "text/plain": [
       "   etiquette_fruit  nom_fruit  poids  largeur  hauteur  score-couleur\n",
       "0                1      pomme    180      8.4      6.8           0.60\n",
       "1                1      pomme    198      8.2      7.5           0.55\n",
       "2                1      pomme    174      8.0      7.7           0.59\n",
       "3                2  mandarine     85      6.0      4.0           0.80\n",
       "4                2  mandarine     80      5.8      4.6           0.81"
      ]
     },
     "execution_count": 50,
     "metadata": {},
     "output_type": "execute_result"
    }
   ],
   "source": [
    "# On importe les libs\n",
    "import numpy as np\n",
    "import pandas as pd\n",
    "from sklearn.model_selection import train_test_split\n",
    "\n",
    "# On importe le fichier Excel\n",
    "df = pd.read_excel('datasets/fruitDataset.xlsx')\n",
    "\n",
    "# On affiche le début du fichier pour voir à quoi ça ressemble et les features\n",
    "# Qui sont généralement le nom des colonnes\n",
    "df.head()"
   ]
  },
  {
   "cell_type": "code",
   "execution_count": 51,
   "metadata": {},
   "outputs": [],
   "source": [
    "# Liaison entre l'étiquette numérique et le nom du fruit \n",
    "# pour avoir un résultat plus agréable qu'un chiffre.\n",
    "nom_fruit_cible = dict( zip (df.etiquette_fruit.unique(), df.nom_fruit.unique()))\n"
   ]
  },
  {
   "cell_type": "code",
   "execution_count": 52,
   "metadata": {},
   "outputs": [],
   "source": [
    "# définition du modèle\n",
    "x = df [['poids', 'largeur', 'hauteur']]\n",
    "y = df['etiquette_fruit']\n",
    "x_train, x_test, y_train, y_test = train_test_split(x.values, y, random_state=0)"
   ]
  },
  {
   "cell_type": "code",
   "execution_count": 53,
   "metadata": {},
   "outputs": [
    {
     "data": {
      "text/plain": [
       "1.0"
      ]
     },
     "execution_count": 53,
     "metadata": {},
     "output_type": "execute_result"
    }
   ],
   "source": [
    "# Entrainement du modèle\n",
    "from sklearn.neighbors import KNeighborsClassifier\n",
    "\n",
    "# instanciation et définition du k\n",
    "knn = KNeighborsClassifier(n_neighbors = 3)\n",
    "\n",
    "# training\n",
    "knn.fit(x_train,y_train)\n",
    "\n",
    "# score\n",
    "knn.score(x_test,y_test)"
   ]
  },
  {
   "cell_type": "code",
   "execution_count": 54,
   "metadata": {},
   "outputs": [
    {
     "name": "stdout",
     "output_type": "stream",
     "text": [
      "[2]\n"
     ]
    },
    {
     "data": {
      "text/plain": [
       "'mandarine'"
      ]
     },
     "execution_count": 54,
     "metadata": {},
     "output_type": "execute_result"
    }
   ],
   "source": [
    "# On donne les features [poids,largeur,hauteur] \n",
    "# à skLearn qui doit deviner l'étiquette fruit, \n",
    "# grâce au training préalable , qui lui a apprit à reconnaitre à quel \n",
    "# fruit il a affaire .\n",
    "\n",
    "prediction_fruit = knn.predict([[20,4.3,5.5]])\n",
    "\n",
    "# Là, il pense que le fruit est une mandarine parce que \n",
    "# Il a un poids de 20,4 , et une petite largeur et hauteur.\n",
    "print(prediction_fruit)\n",
    "nom_fruit_cible[prediction_fruit[0]]"
   ]
  },
  {
   "cell_type": "code",
   "execution_count": 55,
   "metadata": {},
   "outputs": [
    {
     "name": "stdout",
     "output_type": "stream",
     "text": [
      "[1]\n"
     ]
    },
    {
     "data": {
      "text/plain": [
       "'pomme'"
      ]
     },
     "execution_count": 55,
     "metadata": {},
     "output_type": "execute_result"
    }
   ],
   "source": [
    "# On essaye avec des \"features\" plus grosses :\n",
    "prediction_fruit = knn.predict([[195,7,5.5]])\n",
    "\n",
    "# Là, il pense que le fruit est une pomme parce que \n",
    "# Il a un poids de 195 , et ça lui fait penser à une pomme, forcément et pas une mandarine\n",
    "# vu les features qu'on lui a soumis dans le fichier Excel.\n",
    "print(prediction_fruit)\n",
    "nom_fruit_cible[prediction_fruit[0]]"
   ]
  }
 ],
 "metadata": {
  "kernelspec": {
   "display_name": "Python 3",
   "language": "python",
   "name": "python3"
  },
  "language_info": {
   "codemirror_mode": {
    "name": "ipython",
    "version": 3
   },
   "file_extension": ".py",
   "mimetype": "text/x-python",
   "name": "python",
   "nbconvert_exporter": "python",
   "pygments_lexer": "ipython3",
   "version": "3.8.0"
  },
  "orig_nbformat": 4,
  "vscode": {
   "interpreter": {
    "hash": "edb60928ae049011e12e2dc43646b5515922153b602d9d974a622a5d486bbfcc"
   }
  }
 },
 "nbformat": 4,
 "nbformat_minor": 2
}
