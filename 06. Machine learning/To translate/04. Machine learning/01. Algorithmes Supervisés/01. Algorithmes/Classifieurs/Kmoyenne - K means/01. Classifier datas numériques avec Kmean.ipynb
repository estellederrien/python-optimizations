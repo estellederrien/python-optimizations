{
 "cells": [
  {
   "cell_type": "code",
   "execution_count": 1,
   "metadata": {},
   "outputs": [
    {
     "data": {
      "text/plain": [
       "' \\nOn a un dataset comprenant un vecteur x avec des valeurs numériques\\net un vecteur y avec des valeurs numériques.\\nL\\'algo KMean ou Kmoyenne permet de \"regrouper\" les valeurs similaires en groupes (clusters). \\nCahque cluster dispose alors d\\'un \\'centroid\\' qui est la moyenne des valeurs X,Y présentes dans chaque clusters.\\nSource :\\nhttps://datatofish.com/k-means-clustering-python/\\n'"
      ]
     },
     "execution_count": 1,
     "metadata": {},
     "output_type": "execute_result"
    }
   ],
   "source": [
    "\"\"\" \n",
    "On a un dataset comprenant un vecteur x avec des valeurs numériques et un vecteur y avec des valeurs numériques.\n",
    "\n",
    "L'algo KMean ou Kmoyenne permet de \"regrouper\" les valeurs similaires en groupes (clusters). \n",
    "Chaque cluster dispose alors d'un 'centroid' qui est la moyenne des valeurs X,Y présentes dans chaque clusters.\n",
    "\n",
    "Source :\n",
    "https://datatofish.com/k-means-clustering-python/\n",
    "\"\"\"\n",
    "\n"
   ]
  },
  {
   "cell_type": "code",
   "execution_count": 2,
   "metadata": {},
   "outputs": [
    {
     "ename": "ModuleNotFoundError",
     "evalue": "No module named 'sklearn'",
     "output_type": "error",
     "traceback": [
      "\u001b[1;31m---------------------------------------------------------------------------\u001b[0m",
      "\u001b[1;31mModuleNotFoundError\u001b[0m                       Traceback (most recent call last)",
      "\u001b[1;32mc:\\www\\python-data-science2\\34. Machine learning - refondation\\supervisé\\Classifieurs\\K Plus proches voisins - K neighbors\\01. Classifier avec Kmean.ipynb Cellule 2\u001b[0m in \u001b[0;36m<cell line: 4>\u001b[1;34m()\u001b[0m\n\u001b[0;32m      <a href='vscode-notebook-cell:/c%3A/www/python-data-science2/34.%20Machine%20learning%20-%20refondation/supervis%C3%A9/Classifieurs/K%20Plus%20proches%20voisins%20-%20K%20neighbors/01.%20Classifier%20avec%20Kmean.ipynb#W1sZmlsZQ%3D%3D?line=1'>2</a>\u001b[0m \u001b[39mfrom\u001b[39;00m \u001b[39mpandas\u001b[39;00m \u001b[39mimport\u001b[39;00m DataFrame\n\u001b[0;32m      <a href='vscode-notebook-cell:/c%3A/www/python-data-science2/34.%20Machine%20learning%20-%20refondation/supervis%C3%A9/Classifieurs/K%20Plus%20proches%20voisins%20-%20K%20neighbors/01.%20Classifier%20avec%20Kmean.ipynb#W1sZmlsZQ%3D%3D?line=2'>3</a>\u001b[0m \u001b[39mimport\u001b[39;00m \u001b[39mmatplotlib\u001b[39;00m\u001b[39m.\u001b[39;00m\u001b[39mpyplot\u001b[39;00m \u001b[39mas\u001b[39;00m \u001b[39mplt\u001b[39;00m\n\u001b[1;32m----> <a href='vscode-notebook-cell:/c%3A/www/python-data-science2/34.%20Machine%20learning%20-%20refondation/supervis%C3%A9/Classifieurs/K%20Plus%20proches%20voisins%20-%20K%20neighbors/01.%20Classifier%20avec%20Kmean.ipynb#W1sZmlsZQ%3D%3D?line=3'>4</a>\u001b[0m \u001b[39mfrom\u001b[39;00m \u001b[39msklearn\u001b[39;00m\u001b[39m.\u001b[39;00m\u001b[39mcluster\u001b[39;00m \u001b[39mimport\u001b[39;00m KMeans\n\u001b[0;32m      <a href='vscode-notebook-cell:/c%3A/www/python-data-science2/34.%20Machine%20learning%20-%20refondation/supervis%C3%A9/Classifieurs/K%20Plus%20proches%20voisins%20-%20K%20neighbors/01.%20Classifier%20avec%20Kmean.ipynb#W1sZmlsZQ%3D%3D?line=5'>6</a>\u001b[0m \u001b[39m# 2. On crée notre dataset\u001b[39;00m\n\u001b[0;32m      <a href='vscode-notebook-cell:/c%3A/www/python-data-science2/34.%20Machine%20learning%20-%20refondation/supervis%C3%A9/Classifieurs/K%20Plus%20proches%20voisins%20-%20K%20neighbors/01.%20Classifier%20avec%20Kmean.ipynb#W1sZmlsZQ%3D%3D?line=6'>7</a>\u001b[0m Data \u001b[39m=\u001b[39m {\u001b[39m'\u001b[39m\u001b[39mx\u001b[39m\u001b[39m'\u001b[39m: [\u001b[39m25\u001b[39m,\u001b[39m34\u001b[39m,\u001b[39m22\u001b[39m,\u001b[39m27\u001b[39m,\u001b[39m33\u001b[39m,\u001b[39m33\u001b[39m,\u001b[39m31\u001b[39m,\u001b[39m22\u001b[39m,\u001b[39m35\u001b[39m,\u001b[39m34\u001b[39m,\u001b[39m67\u001b[39m,\u001b[39m54\u001b[39m,\u001b[39m57\u001b[39m,\u001b[39m43\u001b[39m,\u001b[39m50\u001b[39m,\u001b[39m57\u001b[39m,\u001b[39m59\u001b[39m,\u001b[39m52\u001b[39m,\u001b[39m65\u001b[39m,\u001b[39m47\u001b[39m,\u001b[39m49\u001b[39m,\u001b[39m48\u001b[39m,\u001b[39m35\u001b[39m,\u001b[39m33\u001b[39m,\u001b[39m44\u001b[39m,\u001b[39m45\u001b[39m,\u001b[39m38\u001b[39m,\u001b[39m43\u001b[39m,\u001b[39m51\u001b[39m,\u001b[39m46\u001b[39m],\n\u001b[0;32m      <a href='vscode-notebook-cell:/c%3A/www/python-data-science2/34.%20Machine%20learning%20-%20refondation/supervis%C3%A9/Classifieurs/K%20Plus%20proches%20voisins%20-%20K%20neighbors/01.%20Classifier%20avec%20Kmean.ipynb#W1sZmlsZQ%3D%3D?line=7'>8</a>\u001b[0m         \u001b[39m'\u001b[39m\u001b[39my\u001b[39m\u001b[39m'\u001b[39m: [\u001b[39m79\u001b[39m,\u001b[39m51\u001b[39m,\u001b[39m53\u001b[39m,\u001b[39m78\u001b[39m,\u001b[39m59\u001b[39m,\u001b[39m74\u001b[39m,\u001b[39m73\u001b[39m,\u001b[39m57\u001b[39m,\u001b[39m69\u001b[39m,\u001b[39m75\u001b[39m,\u001b[39m51\u001b[39m,\u001b[39m32\u001b[39m,\u001b[39m40\u001b[39m,\u001b[39m47\u001b[39m,\u001b[39m53\u001b[39m,\u001b[39m36\u001b[39m,\u001b[39m35\u001b[39m,\u001b[39m58\u001b[39m,\u001b[39m59\u001b[39m,\u001b[39m50\u001b[39m,\u001b[39m25\u001b[39m,\u001b[39m20\u001b[39m,\u001b[39m14\u001b[39m,\u001b[39m12\u001b[39m,\u001b[39m20\u001b[39m,\u001b[39m5\u001b[39m,\u001b[39m29\u001b[39m,\u001b[39m27\u001b[39m,\u001b[39m8\u001b[39m,\u001b[39m7\u001b[39m]\n\u001b[0;32m      <a href='vscode-notebook-cell:/c%3A/www/python-data-science2/34.%20Machine%20learning%20-%20refondation/supervis%C3%A9/Classifieurs/K%20Plus%20proches%20voisins%20-%20K%20neighbors/01.%20Classifier%20avec%20Kmean.ipynb#W1sZmlsZQ%3D%3D?line=8'>9</a>\u001b[0m        }\n",
      "\u001b[1;31mModuleNotFoundError\u001b[0m: No module named 'sklearn'"
     ]
    }
   ],
   "source": [
    "# 1. on importe la lib \n",
    "from pandas import DataFrame\n",
    "import matplotlib.pyplot as plt\n",
    "from sklearn.cluster import KMeans\n",
    "\n",
    "# 2. On crée notre dataset\n",
    "Data = {'x': [25,34,22,27,33,33,31,22,35,34,67,54,57,43,50,57,59,52,65,47,49,48,35,33,44,45,38,43,51,46],\n",
    "        'y': [79,51,53,78,59,74,73,57,69,75,51,32,40,47,53,36,35,58,59,50,25,20,14,12,20,5,29,27,8,7]\n",
    "       }\n",
    "  \n",
    "df = DataFrame(Data,columns=['x','y'])\n",
    "print (df)\n",
    "\n",
    "# 3. On utilise l'algoritme KMEANS pour créer nos 3 clusters et repérer nos centroids.\n",
    "kmeans = KMeans(n_clusters=3).fit(df)\n",
    "centroids = kmeans.cluster_centers_\n",
    "print(centroids)\n",
    "\n",
    "plt.scatter(df['x'], df['y'], c= kmeans.labels_.astype(float), s=50, alpha=0.5)\n",
    "plt.scatter(centroids[:, 0], centroids[:, 1], c='red', s=50)\n",
    "plt.show()"
   ]
  }
 ],
 "metadata": {
  "kernelspec": {
   "display_name": "Python 3.8.5 64-bit",
   "language": "python",
   "name": "python3"
  },
  "language_info": {
   "codemirror_mode": {
    "name": "ipython",
    "version": 3
   },
   "file_extension": ".py",
   "mimetype": "text/x-python",
   "name": "python",
   "nbconvert_exporter": "python",
   "pygments_lexer": "ipython3",
   "version": "3.8.5"
  },
  "orig_nbformat": 4,
  "vscode": {
   "interpreter": {
    "hash": "6bd0648e655c19027e4f56e697a7cd4ab7921013b5d2695c8854e14fd1f5ba73"
   }
  }
 },
 "nbformat": 4,
 "nbformat_minor": 2
}
