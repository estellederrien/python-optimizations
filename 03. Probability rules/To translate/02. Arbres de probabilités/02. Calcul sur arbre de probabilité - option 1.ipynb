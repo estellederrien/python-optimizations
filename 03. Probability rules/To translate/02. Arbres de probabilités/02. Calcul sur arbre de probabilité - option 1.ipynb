{
 "cells": [
  {
   "attachments": {},
   "cell_type": "markdown",
   "metadata": {},
   "source": [
    "Lien : https://radzion.com/blog/probability/total"
   ]
  },
  {
   "attachments": {},
   "cell_type": "markdown",
   "metadata": {},
   "source": [
    "<img src=\"arbre-1.png\"></img>\n",
    "<img src=\"arbre-2.png\"></img>"
   ]
  },
  {
   "cell_type": "code",
   "execution_count": 2,
   "metadata": {},
   "outputs": [
    {
     "name": "stdout",
     "output_type": "stream",
     "text": [
      "0.7\n"
     ]
    }
   ],
   "source": [
    "def probability_of_event(nodes, name):\n",
    "    probability = 0\n",
    "\n",
    "    def node_probability(node, name):\n",
    "        if node.name == name:\n",
    "            return [node.probability]\n",
    "\n",
    "        if len(node.childrens) == 0:\n",
    "            return []\n",
    "\n",
    "        probabilities = []\n",
    "        for children in node.childrens:\n",
    "            for probability in node_probability(children, name):\n",
    "                probabilities.append(node.probability * probability)\n",
    "\n",
    "        return probabilities\n",
    "\n",
    "    for node in nodes:\n",
    "        probability += sum(node_probability(node, name))\n",
    "\n",
    "    return probability\n",
    "\n",
    "class Node:\n",
    "    def __init__(self, name, probability, childrens=[]):\n",
    "        self.name = name\n",
    "        self.probability = probability\n",
    "        self.childrens = childrens\n",
    "\n",
    "a1_h1 = Node('A1', 0.5)\n",
    "a2_h1 = Node('A2', 0.5)\n",
    "h1 = Node('H1', 0.3, [ a1_h1, a2_h1 ])\n",
    "\n",
    "a1_h2 = Node('A1', 0.7)\n",
    "a2_h2 = Node('A2', 0.3)\n",
    "h2 = Node('H2', 0.5, [ a1_h2, a2_h2 ])\n",
    "\n",
    "a1_h3 = Node('A1', 1)\n",
    "a2_h3 = Node('A2', 0)\n",
    "h3 = Node('H2', 0.2, [ a1_h3, a2_h3 ])\n",
    "\n",
    "a1_probability = probability_of_event([ h1, h2, h3 ], 'A1')\n",
    "# 0.7\n",
    "\n",
    "print(a1_probability)"
   ]
  }
 ],
 "metadata": {
  "kernelspec": {
   "display_name": "Python 3",
   "language": "python",
   "name": "python3"
  },
  "language_info": {
   "codemirror_mode": {
    "name": "ipython",
    "version": 3
   },
   "file_extension": ".py",
   "mimetype": "text/x-python",
   "name": "python",
   "nbconvert_exporter": "python",
   "pygments_lexer": "ipython3",
   "version": "3.8.0"
  },
  "orig_nbformat": 4,
  "vscode": {
   "interpreter": {
    "hash": "edb60928ae049011e12e2dc43646b5515922153b602d9d974a622a5d486bbfcc"
   }
  }
 },
 "nbformat": 4,
 "nbformat_minor": 2
}
