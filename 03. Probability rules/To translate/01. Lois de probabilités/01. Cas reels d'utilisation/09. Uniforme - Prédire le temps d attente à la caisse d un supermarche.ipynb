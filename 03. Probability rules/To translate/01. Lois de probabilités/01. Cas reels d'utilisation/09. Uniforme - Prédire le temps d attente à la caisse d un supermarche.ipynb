{
 "cells": [
  {
   "attachments": {},
   "cell_type": "markdown",
   "metadata": {},
   "source": [
    "\n",
    "# Loi uniforme\n",
    "\n",
    "Énoncé (d'après un exercice de bac)\n",
    "\n",
    "\n",
    "Dans un supermarché, le temps d'attente X à la caisse, exprimé en minutes, suit la loi uniforme sur l'intervalle [1;11]\n",
    "\n",
    "1) Déterminer la fonction de densité de probabilité f de la loi de X.\n",
    "\n",
    "2) Quelle est la probabilité que le temps d'attente soit compris entre trois et cinq minutes ?\n",
    "\n",
    "3) Quelle est la probabilité qu'un client attende plus de huit minutes à la caisse ?\n",
    "\n",
    "4) Préciser le temps d'attente moyen à la caisse.\n",
    "\n",
    "Liens : \n",
    "https://www.profexpress.com/soutien-scolaire/mathematiques/exercices-en-ligne/110<br>\n",
    "https://docs.scipy.org/doc/scipy/reference/generated/scipy.stats.uniform.html<br>\n",
    "http://mathematiques.daval.free.fr/IMG/pdf/s19_cours_loi_uniforme_tes.pdf<br>"
   ]
  },
  {
   "cell_type": "code",
   "execution_count": 1,
   "metadata": {},
   "outputs": [
    {
     "name": "stdout",
     "output_type": "stream",
     "text": [
      "Densité:  0.1\n"
     ]
    }
   ],
   "source": [
    "# 1. Déterminer la fonction de densité de probabilité f de la loi de X.\n",
    "debut = 1\n",
    "fin = 11\n",
    "\n",
    "fx = debut / (fin - debut)\n",
    "\n",
    "print(\"Densité: \", fx  )"
   ]
  },
  {
   "cell_type": "code",
   "execution_count": 2,
   "metadata": {},
   "outputs": [
    {
     "name": "stdout",
     "output_type": "stream",
     "text": [
      "Probabilité:  20.0  %\n"
     ]
    }
   ],
   "source": [
    "#  2. Quelle est la probabilité que le temps d'attente soit compris entre trois et cinq minutes ? p(3=< X =< 5)\n",
    "\n",
    "min = 3\n",
    "max = 5\n",
    "intervalle = 10\n",
    "\n",
    "probabilite = (max - min) / intervalle\n",
    "print(\"Probabilité: \", probabilite * 100, \" %\" )\n",
    "# Probabilité:  20.0  %"
   ]
  },
  {
   "cell_type": "code",
   "execution_count": 3,
   "metadata": {},
   "outputs": [
    {
     "name": "stdout",
     "output_type": "stream",
     "text": [
      "Probabilité:  30.0  %\n"
     ]
    }
   ],
   "source": [
    "#  3. Quelle est la probabilité qu'un client attende plus de huit minutes à la caisse : P(x>8)?\n",
    "min = 8\n",
    "max = 11\n",
    "intervalle = 10\n",
    "\n",
    "probabilite = (max - min) / intervalle\n",
    "print(\"Probabilité: \", probabilite * 100, \" %\" )\n",
    "# Probabilité:  30.0  %"
   ]
  },
  {
   "cell_type": "code",
   "execution_count": 4,
   "metadata": {},
   "outputs": [
    {
     "name": "stdout",
     "output_type": "stream",
     "text": [
      "Espérance:  6.0   minutes\n"
     ]
    }
   ],
   "source": [
    "# 4) Préciser le temps d'attente moyen à la caisse. a+b / 2\n",
    "\n",
    "debut = 1\n",
    "fin = 11\n",
    "\n",
    "esperance = (debut + fin) / 2\n",
    "\n",
    "print(\"Espérance: \", esperance, \"  minutes\" )"
   ]
  }
 ],
 "metadata": {
  "kernelspec": {
   "display_name": "Python 3",
   "language": "python",
   "name": "python3"
  },
  "language_info": {
   "codemirror_mode": {
    "name": "ipython",
    "version": 3
   },
   "file_extension": ".py",
   "mimetype": "text/x-python",
   "name": "python",
   "nbconvert_exporter": "python",
   "pygments_lexer": "ipython3",
   "version": "3.8.0 (tags/v3.8.0:fa919fd, Oct 14 2019, 19:37:50) [MSC v.1916 64 bit (AMD64)]"
  },
  "orig_nbformat": 4,
  "vscode": {
   "interpreter": {
    "hash": "edb60928ae049011e12e2dc43646b5515922153b602d9d974a622a5d486bbfcc"
   }
  }
 },
 "nbformat": 4,
 "nbformat_minor": 2
}
