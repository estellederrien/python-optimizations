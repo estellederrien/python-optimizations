{
 "cells": [
  {
   "attachments": {},
   "cell_type": "markdown",
   "metadata": {},
   "source": [
    "# La Loi binomiale\n",
    "\n",
    "\n",
    "Description : \n",
    "\n",
    "La distribution binomiale est une distribution de probabilité utilisée pour modéliser la probabilité qu'un certain nombre de \"succès\" se produisent au cours d'un certain nombre d'essais.\n",
    "\n",
    "Problème : \n",
    "\n",
    "Dans une urne, il y a 4 boules rouges, 6 boules vertes et 10 boules noires. \n",
    "On tire 5 fois avec remise une boule dans l'urne.\n",
    "A chauqe étape, on considère comme succès qu'une boule verte apparaisse.\n",
    "\n",
    "Les paramètres de la loi binomiale sont donc : n = 5 et p = 6/20 = 0.3\n",
    "\n",
    "On répéte les 5 tirages 100 fois. \n",
    "\n",
    "    Liens :\n",
    "    https://docs.scipy.org/doc/numpy-1.9.2/reference/generated/numpy.random.binomial.html\n",
    "Tous_les_algorithmes_-_Programmation_avec_Algobox_et_Python"
   ]
  },
  {
   "cell_type": "code",
   "execution_count": 2,
   "metadata": {},
   "outputs": [],
   "source": [
    "# Import des librairies\n",
    "import numpy as np\n",
    "import matplotlib.pyplot as plt\n",
    "import seaborn as sns\n"
   ]
  },
  {
   "cell_type": "code",
   "execution_count": 3,
   "metadata": {},
   "outputs": [
    {
     "name": "stdout",
     "output_type": "stream",
     "text": [
      "[2 1 1 2 2 2 3 1 1 3 2 3 1 1 1 0 3 3 1 2 1 1 1 1 2 2 1 0 0 3 0 1 2 3 1 0 2\n",
      " 1 3 1 2 1 1 2 2 2 1 2 2 2 1 1 2 2 3 0 2 0 0 1 0 1 1 1 0 2 2 2 3 0 1 1 2 1\n",
      " 1 2 1 2 2 0 2 0 0 2 2 2 4 1 1 3 2 1 3 0 1 1 0 2 0 1]\n"
     ]
    }
   ],
   "source": [
    "#On exécute la loi binomiale sur nos paramètres précéndents ...\n",
    "resultat = np.random.binomial(5, 0.3,100)\n",
    "\n",
    "print(resultat);\n"
   ]
  },
  {
   "cell_type": "code",
   "execution_count": 4,
   "metadata": {},
   "outputs": [],
   "source": [
    "\n",
    "#  Ce tableau veut dire : la première répétition, on a eu 2 boules vertes sur les 5 essais, \n",
    "# la seconde répétition, on a eu 1 boule verte sur les 5 essais; la 3 ème répétition, \n",
    "# on a eu 2 boules vertes sur les 5 essais, \n",
    "# le 4ème répétiton on a 3 boules vertes sur les 5 essais etc pour les 100 répétitions ...\n",
    "\n",
    "# Il est aléatoire, c'est à dire que si on relance le programme, \n",
    "# on aura pas trop les même chiffres, mais si on répéte la loi 100000 fois, \n",
    "# la loi des grands nombres fait qu'on se rapproche d'une stat globale."
   ]
  },
  {
   "cell_type": "code",
   "execution_count": 5,
   "metadata": {},
   "outputs": [
    {
     "name": "stdout",
     "output_type": "stream",
     "text": [
      "La chance d'avoir zéro boules vertes est de  17.9 %\n"
     ]
    }
   ],
   "source": [
    "# Maintenant, on va faire 1000 répétitions des 5 tirages et calculer la probabilité d'obtenir zéro boules vertes\n",
    "\n",
    "resultat  = sum(np.random.binomial(5,0.3,1000)==0)/1000.\n",
    "print(\"La chance d'avoir zéro boules vertes est de \",resultat * 100 ,\"%\");\n",
    "\n"
   ]
  },
  {
   "cell_type": "code",
   "execution_count": null,
   "metadata": {},
   "outputs": [],
   "source": []
  },
  {
   "cell_type": "code",
   "execution_count": 6,
   "metadata": {},
   "outputs": [
    {
     "name": "stdout",
     "output_type": "stream",
     "text": [
      "La chance d'avoir au moins 3 boules vertes est de  14.299999999999999 %\n"
     ]
    }
   ],
   "source": [
    "#Maintenant, on va faire 1000 répétitions des 5 tirages et \n",
    "# calculer la probabilité d'obtenir au moins 3 boules vertes\n",
    "\n",
    "resultat  = sum(np.random.binomial(5,0.3,1000) >=  3)/1000.\n",
    "print(\"La chance d'avoir au moins 3 boules vertes est de \",resultat * 100 ,\"%\");\n",
    "\n"
   ]
  },
  {
   "cell_type": "code",
   "execution_count": null,
   "metadata": {},
   "outputs": [],
   "source": []
  },
  {
   "cell_type": "code",
   "execution_count": 7,
   "metadata": {},
   "outputs": [
    {
     "name": "stdout",
     "output_type": "stream",
     "text": [
      "La chance d'avoir 5 boules vertes est de  0.3 %\n"
     ]
    }
   ],
   "source": [
    "# Maintenant, on va faire 1000 répétitions des 5 tirages et calculer la probabilité d'obtenir  5 boules vertes\n",
    "\n",
    "resultat  = sum(np.random.binomial(5,0.3,1000) ==  5)/1000.\n",
    "print(\"La chance d'avoir 5 boules vertes est de \",resultat * 100 ,\"%\");\n",
    "\n"
   ]
  },
  {
   "cell_type": "code",
   "execution_count": 8,
   "metadata": {},
   "outputs": [],
   "source": [
    "# Ce sont des probabilités, donc si on relance le prog, \n",
    "# on a des résultats légèrement différents, ce qui est normal!"
   ]
  }
 ],
 "metadata": {
  "kernelspec": {
   "display_name": "Python 3",
   "language": "python",
   "name": "python3"
  },
  "language_info": {
   "codemirror_mode": {
    "name": "ipython",
    "version": 3
   },
   "file_extension": ".py",
   "mimetype": "text/x-python",
   "name": "python",
   "nbconvert_exporter": "python",
   "pygments_lexer": "ipython3",
   "version": "3.8.0 (tags/v3.8.0:fa919fd, Oct 14 2019, 19:37:50) [MSC v.1916 64 bit (AMD64)]"
  },
  "orig_nbformat": 4,
  "vscode": {
   "interpreter": {
    "hash": "edb60928ae049011e12e2dc43646b5515922153b602d9d974a622a5d486bbfcc"
   }
  }
 },
 "nbformat": 4,
 "nbformat_minor": 2
}
