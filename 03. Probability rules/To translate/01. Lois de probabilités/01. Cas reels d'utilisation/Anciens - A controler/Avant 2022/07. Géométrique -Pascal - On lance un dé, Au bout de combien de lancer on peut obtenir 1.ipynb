{
 "cells": [
  {
   "attachments": {},
   "cell_type": "markdown",
   "metadata": {},
   "source": [
    "# Loi géométrique ou de pascal \n",
    "    \n",
    "    Python géométric law with numpy\n",
    "\n",
    "    \n",
    "    Attention ce code n'est pas sur à 100% car basé sur la function RANDOM, voir le cas numéro 8 pour un meilleur code  sur les pourcentages\n",
    "    En effet, faire des calculs sur les datas randoms est étrange ...\n",
    "\n",
    "Lien : \n",
    "    https://docs.scipy.org/doc/numpy-1.10.1/reference/generated/numpy.random.geometric.html\n"
   ]
  },
  {
   "cell_type": "code",
   "execution_count": 12,
   "metadata": {},
   "outputs": [],
   "source": [
    " # Import des librairies\n",
    "import numpy as np\n",
    "import matplotlib.pyplot as plt\n",
    "import seaborn as sns"
   ]
  },
  {
   "attachments": {},
   "cell_type": "markdown",
   "metadata": {},
   "source": [
    "Problème : \n",
    " \n",
    "Je lance un dès à 6 côtés\n",
    "\n",
    "Je le lance jusqu'à obtenir un 1.\n",
    "\n",
    "La probabilité géométrique est de p = 1/6. \n",
    "\n",
    "Nombre de lancers = 100"
   ]
  },
  {
   "cell_type": "code",
   "execution_count": 13,
   "metadata": {},
   "outputs": [
    {
     "name": "stdout",
     "output_type": "stream",
     "text": [
      "[ 5  4  3  1  7 11 14 12  3  9  3  3  7  6  4  4  3 12  1  2  4  4  7  7\n",
      " 10 34  2  2  2  6  1 10  2 25  7  3  4  7  5  9 15  5  3  3  3  2  2  3\n",
      "  1  2  2  9  2  8  9 13  2  4 14  4  4  2  5 13  1  1 23  2  1  1  5 14\n",
      "  2  3  8  8 12  4  1  7  8  3  8  3  3  2 16  5  6  7  9  7  3 10  1  2\n",
      "  8 11  6  2]\n"
     ]
    }
   ],
   "source": [
    "resultat = np.random.geometric(p=0.16, size=100)\n",
    "print(resultat);"
   ]
  },
  {
   "cell_type": "code",
   "execution_count": 14,
   "metadata": {},
   "outputs": [],
   "source": [
    "#   Explication du résultat : Dans ce tableau exemple , on a obtenu un 1 au deuxième lancer, puis au 19 ème lancer, puis au 3ème lancer etc ...\n",
    "\n",
    "# \"\"\" [ 2 19  3  2  2  1  2  1 22  3  1  6  3  1  2 11  8 28  4  7  9  3  3  5\n",
    "#  18  8  2 15  6  4  4 25  3  2  2  3  4  3  3  4  7  9  2 10  1  1  6  7\n",
    "#   5  3  1 10  3  6  1  7  7  1 13  3  2  5  2  7  3  6 10  1  6  5  1 10\n",
    "#   1  1  2  3  4 10  2  4  7  6  6  2  1  3  6  7  2  3 15  7  4 10  4  5\n",
    "#   2 10  5 23] \"\"\""
   ]
  },
  {
   "cell_type": "code",
   "execution_count": 15,
   "metadata": {},
   "outputs": [
    {
     "name": "stdout",
     "output_type": "stream",
     "text": [
      "10.0 %\n"
     ]
    }
   ],
   "source": [
    "# Essayons désormais de voir le pourcentage de chances d'obtenir un 1 dès le premier lancer, pb calculée sur 100 tentatives :\n",
    "succesImmediat =  (resultat == 1).sum() / 100.\n",
    "print(succesImmediat * 100,\"%\");"
   ]
  },
  {
   "cell_type": "code",
   "execution_count": 16,
   "metadata": {},
   "outputs": [
    {
     "name": "stdout",
     "output_type": "stream",
     "text": [
      "42.0 %\n"
     ]
    }
   ],
   "source": [
    "# Essayons désormais de voir le pourcentage de chances d'obtenir un 1 au bout de 3 lancers , pb calculée sur 100 tentatives :\n",
    "succesImmediat =  (resultat <= 3).sum() / 100.\n",
    "print(succesImmediat * 100,\"%\");\n"
   ]
  },
  {
   "attachments": {},
   "cell_type": "markdown",
   "metadata": {},
   "source": [
    "\n",
    "    AUTRES EXEMPLES :\n",
    "\n",
    "    Un ingénieur en sécurité estime que 35% de tous les accidents industriels dans son usine sont causés par le non-respect des instructions par les employés.\n",
    "    Elle décide d'examiner les rapports d'accident (sélectionnés au hasard et replacés dans la pile après lecture) jusqu'à ce qu'elle en trouve un qui montre un accident causé par le non-respect des instructions par les employés.\n",
    "    \n",
    "   1. En moyenne, combien de rapports l'ingénieur de sécurité s'attendrait-il à examiner jusqu'à ce qu'elle trouve un rapport montrant un accident causé par le non-respect des instructions par un employé? \n",
    "\n",
    "    2. Quelle est la probabilité que l'ingénieur de sécurité devra examiner au moins trois rapports jusqu'à ce qu'elle trouve un rapport montrant un accident causé par le non-respect des instructions par un employé?\n",
    "\n",
    "    Soit X =le nombre d'accidents que l'ingénieur de sécurité doit examiner jusqu'à ce qu'elle trouve un rapport \n",
    "    indiquant un accident causé par le non-respect des instructions par l'employé. \n",
    "    X prend les valeurs 1, 2, 3,…. \n",
    "    La première question vous demande de trouver la valeur attendue ou la moyenne. \n",
    "    La deuxième question vous demande de trouver P (x≥3). («Au moins» se traduit par un symbole «supérieur ou égal à»).\n",
    "  \n",
    "\n",
    "    Un instructeur estime que 15% des étudiants obtiennent un C inférieur à leur examen final. \n",
    "    Elle décide de regarder les examens finaux (sélectionnés au hasard et replacés dans la pile après lecture) jusqu'à ce qu'elle en trouve un qui affiche une note inférieure à un C. \n",
    "    Nous voulons savoir la probabilité que l'instructeur devra examiner au moins dix examens jusqu'à ce qu'elle trouve une avec une note inférieure à C. \n",
    "    Quelle est la question de probabilité énoncée mathématiquement?\n",
    "\n",
    "    P (x ≥ 10)"
   ]
  }
 ],
 "metadata": {
  "kernelspec": {
   "display_name": "Python 3",
   "language": "python",
   "name": "python3"
  },
  "language_info": {
   "codemirror_mode": {
    "name": "ipython",
    "version": 3
   },
   "file_extension": ".py",
   "mimetype": "text/x-python",
   "name": "python",
   "nbconvert_exporter": "python",
   "pygments_lexer": "ipython3",
   "version": "3.8.0 (tags/v3.8.0:fa919fd, Oct 14 2019, 19:37:50) [MSC v.1916 64 bit (AMD64)]"
  },
  "orig_nbformat": 4,
  "vscode": {
   "interpreter": {
    "hash": "edb60928ae049011e12e2dc43646b5515922153b602d9d974a622a5d486bbfcc"
   }
  }
 },
 "nbformat": 4,
 "nbformat_minor": 2
}
