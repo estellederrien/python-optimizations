{
 "cells": [
  {
   "attachments": {},
   "cell_type": "markdown",
   "metadata": {},
   "source": [
    "# Loi exponentielle\n",
    "\n",
    "Calculer l'évolution de la population future avec la loi exponentielle.\n",
    "\n",
    "Source :<br>\n",
    "\n",
    "http://www.algebralab.org/lessons/lesson.aspx?file=Algebra_ExponentsApps.xml"
   ]
  },
  {
   "cell_type": "code",
   "execution_count": 1,
   "metadata": {},
   "outputs": [],
   "source": [
    "# On charge les librairies\n",
    "\n",
    "import math\n",
    "import numpy as np\n",
    "import matplotlib.pyplot as plt"
   ]
  },
  {
   "attachments": {},
   "cell_type": "markdown",
   "metadata": {},
   "source": [
    "PROBLEME : \n",
    "\n",
    "La population d'une ville est P = 250 342e ^ 0,012 * t où t = 0 représente la population en l'an 2000.\n",
    "\n",
    "Trouvez la population de la ville en 2010.\n",
    "\n",
    "Pour trouver la population en 2010, nous devons substituer t par 10 dans notre équation . \n"
   ]
  },
  {
   "cell_type": "code",
   "execution_count": 2,
   "metadata": {},
   "outputs": [
    {
     "name": "stdout",
     "output_type": "stream",
     "text": [
      "282259.8168180841\n"
     ]
    }
   ],
   "source": [
    "population = 250342\n",
    "exp = math.exp(0.12)\n",
    "resultat = population * exp\n",
    "print(resultat)  \n",
    "# Affiche 282259.8168180841\n",
    "\n",
    "# Puisque nous avons affaire à la population d'une ville, \n",
    "# nous arrondissons normalement à un nombre entier, \n",
    "# en l'occurrence 282 260 personnes."
   ]
  },
  {
   "attachments": {},
   "cell_type": "markdown",
   "metadata": {},
   "source": [
    "Trouvez maintenant la population de la ville en 2015.\n",
    "\n",
    "Pour retrouver la population en 2015, il substituer t par 15 dans notre équation . "
   ]
  },
  {
   "cell_type": "code",
   "execution_count": 3,
   "metadata": {},
   "outputs": [
    {
     "name": "stdout",
     "output_type": "stream",
     "text": [
      "299713.7891186402\n"
     ]
    }
   ],
   "source": [
    "# P = 250,342e ^ 0.012(15) = 250,342e ^ 0.18 = 299,713.8 \n",
    "\n",
    "population = 250342\n",
    "exp = math.exp(0.18)\n",
    "resultat = population * exp\n",
    "print(resultat)  \n",
    "# Affiche 299,713.8 "
   ]
  },
  {
   "attachments": {},
   "cell_type": "markdown",
   "metadata": {},
   "source": [
    "Trouvez maintenant quand la population de la ville sera de 320 000 .\n",
    "\n",
    "Equation :\n",
    "\n",
    "320000 / 250342  = e0.012 * t\n",
    "\n",
    "ou , réecrit : \n",
    "\n",
    "ln(320000 / 250 342 ) / 0.012 = t\n",
    "\n",
    "(resultat = t)"
   ]
  },
  {
   "cell_type": "code",
   "execution_count": 4,
   "metadata": {},
   "outputs": [
    {
     "name": "stdout",
     "output_type": "stream",
     "text": [
      "20.457751065919258\n"
     ]
    }
   ],
   "source": [
    "population = 250342\n",
    "prevision = 320000\n",
    "\n",
    "resultat = math.log(prevision / 250342) / 0.012\n",
    "print(resultat)\n",
    "\n",
    "\n",
    "# 20.457751065919258\n",
    "# Dans 20.45 ans, la population va grandir à 320 000"
   ]
  },
  {
   "cell_type": "code",
   "execution_count": 5,
   "metadata": {},
   "outputs": [
    {
     "name": "stderr",
     "output_type": "stream",
     "text": [
      "C:\\Users\\secretgirl\\AppData\\Local\\Temp\\ipykernel_13852\\3819530219.py:3: RuntimeWarning: overflow encountered in exp\n",
      "  out_array = np.exp(in_array)\n"
     ]
    },
    {
     "ename": "NameError",
     "evalue": "name 'y' is not defined",
     "output_type": "error",
     "traceback": [
      "\u001b[1;31m---------------------------------------------------------------------------\u001b[0m",
      "\u001b[1;31mNameError\u001b[0m                                 Traceback (most recent call last)",
      "Cell \u001b[1;32mIn[5], line 5\u001b[0m\n\u001b[0;32m      2\u001b[0m in_array \u001b[39m=\u001b[39m np\u001b[39m.\u001b[39marange(\u001b[39m1\u001b[39m,\u001b[39m320000\u001b[39m)\n\u001b[0;32m      3\u001b[0m out_array \u001b[39m=\u001b[39m np\u001b[39m.\u001b[39mexp(in_array) \n\u001b[1;32m----> 5\u001b[0m plt\u001b[39m.\u001b[39mplot(in_array, y, color \u001b[39m=\u001b[39m \u001b[39m'\u001b[39m\u001b[39mblue\u001b[39m\u001b[39m'\u001b[39m, marker \u001b[39m=\u001b[39m \u001b[39m\"\u001b[39m\u001b[39m*\u001b[39m\u001b[39m\"\u001b[39m) \n\u001b[0;32m      7\u001b[0m plt\u001b[39m.\u001b[39mplot(x,y)\n\u001b[0;32m      8\u001b[0m plt\u001b[39m.\u001b[39mshow()\n",
      "\u001b[1;31mNameError\u001b[0m: name 'y' is not defined"
     ]
    }
   ],
   "source": [
    "# Exemple de graphique sans rapport avec le calculs précédents:\n",
    "# in_array = np.arange(1,320000)\n",
    "# out_array = np.exp(in_array) \n",
    "\n",
    "# plt.plot(in_array, y, color = 'blue', marker = \"*\") \n",
    "\n",
    "# plt.plot(x,y)\n",
    "# plt.show()"
   ]
  }
 ],
 "metadata": {
  "kernelspec": {
   "display_name": "Python 3",
   "language": "python",
   "name": "python3"
  },
  "language_info": {
   "codemirror_mode": {
    "name": "ipython",
    "version": 3
   },
   "file_extension": ".py",
   "mimetype": "text/x-python",
   "name": "python",
   "nbconvert_exporter": "python",
   "pygments_lexer": "ipython3",
   "version": "3.8.0 (tags/v3.8.0:fa919fd, Oct 14 2019, 19:37:50) [MSC v.1916 64 bit (AMD64)]"
  },
  "orig_nbformat": 4,
  "vscode": {
   "interpreter": {
    "hash": "edb60928ae049011e12e2dc43646b5515922153b602d9d974a622a5d486bbfcc"
   }
  }
 },
 "nbformat": 4,
 "nbformat_minor": 2
}
