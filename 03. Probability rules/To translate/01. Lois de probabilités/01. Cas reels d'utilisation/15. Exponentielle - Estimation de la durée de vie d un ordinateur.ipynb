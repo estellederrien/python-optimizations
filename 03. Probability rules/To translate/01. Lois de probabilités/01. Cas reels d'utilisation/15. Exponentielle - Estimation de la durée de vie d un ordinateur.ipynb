{
 "cells": [
  {
   "attachments": {},
   "cell_type": "markdown",
   "metadata": {},
   "source": [
    "# Loi Exponentielle\n",
    "\n",
    "Source du cours : EICNAM <br>\n",
    "U.E : RCP 103 <br>\n",
    "LA LOI EXPONENTIELLE / LOI CONTINUE <br>\n",
    "\n",
    "\n",
    "Soit X une variable aléatoire suivant la loi exponentielle de paramètre λ (se dit \"lambda\"), \n",
    "et a et b deux réels positis ou nuls, alors on a : \n",
    "\n",
    "P(X<=a) = 1 - ⅇ ^-λa\n",
    "-> Veut dire \" La probabilité que la variable aléatoire soies inférieure à a est égale à : 1 - exponentielle ^ -λ * a.\n",
    "\n",
    "P(X>=a) = ⅇ ^-λa\n",
    "-> Veut dire \" La probabilité que la variable aléatoire soies supérieure ou égale  à : exponentielle ^ -λ * a.\n",
    "\n",
    "P(a <= X <= b) = ⅇ ^-λa  - ⅇ ^-λb\n",
    "-> Veut dire \" La probabilité que la variable aléatoire soies comprise entre a et b est égale  à : exponentielle ^ -λ * a - exponentielle ^ -Λ * b.\n",
    "\n",
    "E(x) = 1 /λ\n",
    "-> Veut dire l'espérance de la probabilité de x est de 1 divisé par lambda  \n",
    "-> Cela permet de calculer Λ, car souvent, on nous donne une durée de vie moyenne (E(x)).\n",
    "\n",
    "\n",
    "La distribution exponentielle est la seule distribution continue qui possède la propriété sans mémoire.\n",
    "Pour tout t >= 0 et tout a >= 0 On a P X>=a(X>=a+t) = P(X>=t) \n",
    "Autrement dit, on ne tient pas pas compte de a (qui représente Le passé) \n",
    "Le passé n'influe pas sur le futur.\n",
    "\n",
    "Λ (SE DIT LAMBDA) se lit en lisant la valeur de l'ordonnée sur le schéma.\n",
    "\n",
    "Autres excellents lien : <br>\n",
    "http://www.jaicompris.com/lycee/math/probabilite/loi-exponentielle.php<br>\n",
    "http://www.jybaudot.fr/Probas/propriexpo.html"
   ]
  },
  {
   "cell_type": "code",
   "execution_count": 1,
   "metadata": {},
   "outputs": [],
   "source": [
    "# Import de la lib\n",
    "import math\n"
   ]
  },
  {
   "attachments": {},
   "cell_type": "markdown",
   "metadata": {},
   "source": [
    "La durée de vie d'un ordi portable exprimée en années est une variable aléatoire X suivant la loi exponentielle de paramètre Λ = 0.125\n",
    "La probabilité que la vie de cet ordi  dépasse 5 ans est :\n",
    "p(x > 5) = e ^ - 0.125 * 5"
   ]
  },
  {
   "cell_type": "code",
   "execution_count": 2,
   "metadata": {},
   "outputs": [
    {
     "name": "stdout",
     "output_type": "stream",
     "text": [
      "0.5352614285189903\n"
     ]
    }
   ],
   "source": [
    "pb = math.exp(- 0.125 * 5 )   \n",
    "print(pb)"
   ]
  },
  {
   "attachments": {},
   "cell_type": "markdown",
   "metadata": {},
   "source": [
    "La durée de vie d'un ordi portable exprimée en années est une variable aléatoire X suivant la loi exponentielle \n",
    "de paramètre λ = 0.125\n",
    "La probabilité que la vie de cet ordi soit inférieure à 3 ans est :\n",
    "p(x <= 3) = 1 - e ^ 0.125 * 3"
   ]
  },
  {
   "cell_type": "code",
   "execution_count": 3,
   "metadata": {},
   "outputs": [
    {
     "name": "stdout",
     "output_type": "stream",
     "text": [
      "0.31271072120902776\n"
     ]
    }
   ],
   "source": [
    "pb = 1 - math.exp(- 0.125 * 3 )   \n",
    "print(pb)"
   ]
  },
  {
   "attachments": {},
   "cell_type": "markdown",
   "metadata": {},
   "source": [
    "La durée de vie d'un ordi exprimée en années est une variable aléatoire X suivant la loi exponentielle de paramètre λ = 0.125\n",
    "\n",
    "Quelle est la pb que la durée de vie de cet ordinateur portable dépasse 5 ans sachant qu'il fonctionne déjà depuis 2 ans ? \n",
    "\n",
    "-> On ne s'occupe pas des 2 ans, car pas de mémoire\n",
    "P x<=2(X>=5) = P(X>=3) = e ^ -0.125*3 = 0.687\n"
   ]
  },
  {
   "cell_type": "code",
   "execution_count": 4,
   "metadata": {},
   "outputs": [
    {
     "name": "stdout",
     "output_type": "stream",
     "text": [
      "0.6872892787909722\n"
     ]
    }
   ],
   "source": [
    "\n",
    "\n",
    "\n",
    "pb = math.exp(- 0.125 * 3 )   \n",
    "print(pb)"
   ]
  }
 ],
 "metadata": {
  "kernelspec": {
   "display_name": "Python 3",
   "language": "python",
   "name": "python3"
  },
  "language_info": {
   "codemirror_mode": {
    "name": "ipython",
    "version": 3
   },
   "file_extension": ".py",
   "mimetype": "text/x-python",
   "name": "python",
   "nbconvert_exporter": "python",
   "pygments_lexer": "ipython3",
   "version": "3.8.0 (tags/v3.8.0:fa919fd, Oct 14 2019, 19:37:50) [MSC v.1916 64 bit (AMD64)]"
  },
  "orig_nbformat": 4,
  "vscode": {
   "interpreter": {
    "hash": "edb60928ae049011e12e2dc43646b5515922153b602d9d974a622a5d486bbfcc"
   }
  }
 },
 "nbformat": 4,
 "nbformat_minor": 2
}
