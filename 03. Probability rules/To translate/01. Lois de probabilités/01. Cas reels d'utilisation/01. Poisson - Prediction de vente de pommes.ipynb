{
 "cells": [
  {
   "attachments": {},
   "cell_type": "markdown",
   "metadata": {},
   "source": [
    "# Loi de Poisson\n",
    "\n",
    "Propriétés :\n",
    "\n",
    "- Le nombre de succès dans l'expérience peut être compté.\n",
    "- Le nombre moyen de succès qui se produit pendant un intervalle de temps (ou d'espace) spécifique est connu.\n",
    "- Chaque résultat est indépendant.\n",
    "- La probabilité qu'un succès se produise est proportionnelle à la taille de l'intervalle.\n",
    "\n",
    "paramètres :\n",
    "\n",
    " λ : On se base sur une observation, souvent une moyenne, pour trouver le paramètre de la loi, on l'appelle souvent \"Lambda\"\n",
    "\n",
    "Permet de résoudre :\\\n",
    "\" Quelle probabilité que le résultat soies exactement ... ? \"\\\n",
    "\" Quelle probabilité que le résultat soies moins que ... ?\"\\\n",
    "\" Quelle probabilité que le résultat soies  plus que ...?\"\\\n",
    "\" Quelle probabilité que le résultat soies entre valeur min et valeur max ?\"\n",
    "\n",
    "\n",
    "\n",
    "Calculer des probabilités avec la loi de poisson et scipy.\\\n",
    "k est le nombre que l'on soumets à la loi de poisson\\\n",
    "mu ( Ou souvent appelé Lambda) est le paramètre de la loi de poisson, généralement c'est une moyenne d'occurence sur une plage de temps donné.\n",
    "\n",
    "Avec Scipy : \n",
    "\n",
    "1. calculer la probabilité d'avoir EXACTEMENT un résultat-> poisson.pmf(k=5, mu=3)\n",
    "2. calculer la probabilité d'avoir MOINS d'un résultat ->  poisson.cdf(k=5, mu=3)\n",
    "3. calculer la probabilité d'avoir PLUS d'une résultat -> 1-poisson.cdf(k=5, mu=3)\n",
    "\n",
    "Avec Python, Formule brute: \n",
    "La probabilité est donnée par la formule suivante en langage Python:\n",
    "\n",
    "p=e**(-m)*m**k/fact(k)\n",
    "\n",
    "Avec:\n",
    "\n",
    "    e = 2.718281828459045\n",
    "\n",
    "    m ( ou lambda)= paramètre caractéristique: c'est en même temps la moyenne et la variance de la loi.\n",
    "\n",
    "    fact(k) = factorielle de k\n",
    "\n",
    "\n",
    "source : \n",
    "https://python.jpvweb.com/python/mesrecettespython/doku.php?id=loi_poisson\\\n",
    "https://www.statology.org/poisson-distribution-python/"
   ]
  },
  {
   "cell_type": "code",
   "execution_count": 1,
   "metadata": {},
   "outputs": [],
   "source": [
    "# On importe la lib scipy\n",
    "from scipy.stats import poisson"
   ]
  },
  {
   "attachments": {},
   "cell_type": "markdown",
   "metadata": {},
   "source": [
    "Cas \" Quelle probabilité exacte que ?\"\\\n",
    "Un magasin vend en moyenne 3 pommes par jour. Quelle est la probabilité qu'ils vendent 5 pommes un jour donné ?"
   ]
  },
  {
   "cell_type": "code",
   "execution_count": 2,
   "metadata": {},
   "outputs": [
    {
     "name": "stdout",
     "output_type": "stream",
     "text": [
      "Ma probabilité est de :  10.081881344492457 %\n"
     ]
    }
   ],
   "source": [
    "# On calcule la probabilité \"exacte\"\n",
    "resultat = poisson.pmf(k=5, mu=3)\n",
    "print(\"Ma probabilité est de : \", resultat * 100, \"%\")"
   ]
  },
  {
   "attachments": {},
   "cell_type": "markdown",
   "metadata": {},
   "source": [
    "Cas \" Quelle probabilité que le résultat soies moins que ?\" \\\n",
    "Un magasin vend en moyenne 3 pommes par jour. Quelle est la probabilité qu'ils vendent ** moins **  que 5 pommes sur un jour ?"
   ]
  },
  {
   "cell_type": "code",
   "execution_count": 3,
   "metadata": {},
   "outputs": [
    {
     "name": "stdout",
     "output_type": "stream",
     "text": [
      "Ma probabilité est de :  91.60820579686965 %\n"
     ]
    }
   ],
   "source": [
    "# On calcule la probabilité \"moins que \"\n",
    "resultat = poisson.cdf(k=5, mu=3)\n",
    "print(\"Ma probabilité est de : \", resultat * 100, \"%\")\n"
   ]
  },
  {
   "attachments": {},
   "cell_type": "markdown",
   "metadata": {},
   "source": [
    "Cas \" Quelle probabilité que le résultat soies plus que ?\" \\\n",
    "Un magasin vend en moyenne 3 pommes par jour. Quelle est la probabilité qu'ils vendent ** plus **  que 5 pommes sur un jour ?"
   ]
  },
  {
   "cell_type": "code",
   "execution_count": 4,
   "metadata": {},
   "outputs": [
    {
     "name": "stdout",
     "output_type": "stream",
     "text": [
      "Ma probabilité est de :  8.391794203130342 %\n"
     ]
    }
   ],
   "source": [
    "# On calcule la probabilité \"plus que \"\n",
    "resultat = 1-poisson.cdf(k=5, mu=3)\n",
    "print(\"Ma probabilité est de : \", resultat * 100, \"%\")\n"
   ]
  },
  {
   "attachments": {},
   "cell_type": "markdown",
   "metadata": {},
   "source": [
    "Cas \" Quelle probabilité que le résultat soies entre valeur min et valeur max ?\"\n",
    "Un magasin vend en moyenne 3 pommes par jour. Quelle est la probabilité qu'ils vendent entre 1 et 3 pommes sur un jour ?"
   ]
  },
  {
   "cell_type": "code",
   "execution_count": 5,
   "metadata": {},
   "outputs": [
    {
     "name": "stdout",
     "output_type": "stream",
     "text": [
      "Ma probabilité est de :  44.808361531077544 %\n"
     ]
    }
   ],
   "source": [
    "# ( Attention, code à quand même vérifier)\n",
    "resultat =  poisson.cdf(k=3, mu=3) - poisson.cdf(k=1, mu=3)\n",
    "print(\"Ma probabilité est de : \", resultat * 100, \"%\")"
   ]
  }
 ],
 "metadata": {
  "kernelspec": {
   "display_name": "Python 3",
   "language": "python",
   "name": "python3"
  },
  "language_info": {
   "codemirror_mode": {
    "name": "ipython",
    "version": 3
   },
   "file_extension": ".py",
   "mimetype": "text/x-python",
   "name": "python",
   "nbconvert_exporter": "python",
   "pygments_lexer": "ipython3",
   "version": "3.8.0 (tags/v3.8.0:fa919fd, Oct 14 2019, 19:37:50) [MSC v.1916 64 bit (AMD64)]"
  },
  "orig_nbformat": 4,
  "vscode": {
   "interpreter": {
    "hash": "edb60928ae049011e12e2dc43646b5515922153b602d9d974a622a5d486bbfcc"
   }
  }
 },
 "nbformat": 4,
 "nbformat_minor": 2
}
