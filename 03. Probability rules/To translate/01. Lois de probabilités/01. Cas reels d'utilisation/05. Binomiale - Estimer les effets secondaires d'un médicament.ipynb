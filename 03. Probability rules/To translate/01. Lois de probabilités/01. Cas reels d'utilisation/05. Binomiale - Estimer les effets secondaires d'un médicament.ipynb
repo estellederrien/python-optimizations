{
 "cells": [
  {
   "attachments": {},
   "cell_type": "markdown",
   "metadata": {},
   "source": [
    "# La loi Binomiale\n",
    "\n",
    "Description : \n",
    "\n",
    "La distribution binomiale est une distribution de probabilité utilisée pour modéliser la probabilité qu'un certain nombre de \"succès\" se produisent au cours d'un certain nombre d'essais.\n",
    "\n",
    "Paramètres :\n",
    "\n",
    "n = nombre d'essais \\\n",
    "p = probabilité de succès \n",
    "\n",
    "lien :\n",
    "https://scipy.github.io/devdocs/reference/generated/scipy.stats.binom.html\n",
    "\n",
    "\n",
    "Ce qu'on peut trouver : \n",
    "On peut se demander :\\\n",
    "\" Quelle probabilité que le résultat soies exactement ... ? \"\\\n",
    "\" Quelle probabilité que le résultat soies moins que ... ?\"\\\n",
    "\" Quelle probabilité que le résultat soies  plus que ...?\"\\\n",
    "\" Quelle probabilité que le résultat soies entre valeur min et valeur max ?\"\n",
    "\n",
    "L'histoire :\n",
    "\n",
    "Les professionnels de la santé utilisent la distribution binomiale pour modéliser la probabilité qu'un certain nombre de patients ressentent des effets secondaires à la suite de la prise de nouveaux médicaments.\n",
    "Par exemple, supposons que l'on sache que 5 % des adultes qui prennent un certain médicament éprouvent des effets secondaires négatifs. Nous pouvons utiliser un calculateur de distribution binomiale pour trouver la probabilité que plus d'un certain nombre de patients dans un échantillon aléatoire de 100 subissent des effets secondaires négatifs.\n",
    "\n",
    "\n",
    "\n",
    "\n",
    "\n"
   ]
  },
  {
   "cell_type": "code",
   "execution_count": 14,
   "metadata": {},
   "outputs": [],
   "source": [
    "# Import des librairies\n",
    "import numpy as np\n",
    "import matplotlib.pyplot as plt\n",
    "from scipy.stats import binom"
   ]
  },
  {
   "cell_type": "code",
   "execution_count": 15,
   "metadata": {},
   "outputs": [],
   "source": [
    "# On initialise nos datas\n",
    "n = 100 # 100 patients\n",
    "p = 0.05 # 5% de risques d'effets secondaires\n",
    "x = np.arange(0, n+1)"
   ]
  },
  {
   "cell_type": "code",
   "execution_count": 16,
   "metadata": {},
   "outputs": [],
   "source": [
    "# On instancie notre distribution\n",
    "binomial_pmf = binom.pmf(x, n, p)\n",
    "\n",
    "# print(binomial_pmf)"
   ]
  },
  {
   "cell_type": "code",
   "execution_count": 17,
   "metadata": {},
   "outputs": [
    {
     "data": {
      "image/png": "[encoded data removed]",
      "text/plain": [
       "<Figure size 640x480 with 1 Axes>"
      ]
     },
     "metadata": {},
     "output_type": "display_data"
    }
   ],
   "source": [
    "# On visualise notre distribution\n",
    "plt.plot(x, binomial_pmf, color='blue')\n",
    "plt.title(f\"Binomial Distribution (n={n}, p={p})\")\n",
    "plt.show()"
   ]
  },
  {
   "cell_type": "code",
   "execution_count": 18,
   "metadata": {},
   "outputs": [
    {
     "name": "stdout",
     "output_type": "stream",
     "text": [
      "La probabilité d'avoir plus de 10 pour cent effets secondaire est  1.1472410067484673 %\n"
     ]
    }
   ],
   "source": [
    "# La probabilité d'avoir plus de 10 pour cent effets secondaire sur l'échantillon de 100 personnes est :\n",
    "# P(X > 10 patients experience side effects) = 0.01147\n",
    "\n",
    "resultat = 1-binom.cdf(10,n,p)\n",
    "print(\"La probabilité d'avoir plus de 10 pour cent effets secondaire est \",resultat * 100 ,\"%\");\n"
   ]
  },
  {
   "cell_type": "code",
   "execution_count": 19,
   "metadata": {},
   "outputs": [
    {
     "name": "stdout",
     "output_type": "stream",
     "text": [
      "La probabilité d'avoir plus de 5 pour cent effets secondaire est  38.400087204385855 %\n"
     ]
    }
   ],
   "source": [
    "   \n",
    "   # La probabilité d'avoir plus de 5 pour cent effets secondaire sur l'échantillon de 100 personnes est :\n",
    "   # # P(X > 5 patients experience side effects) = 0.38400\n",
    "\n",
    "resultat = 1-binom.cdf(5,n,p)\n",
    "print(\"La probabilité d'avoir plus de 5 pour cent effets secondaire est \",resultat * 100 ,\"%\");"
   ]
  },
  {
   "cell_type": "code",
   "execution_count": 20,
   "metadata": {},
   "outputs": [
    {
     "name": "stdout",
     "output_type": "stream",
     "text": [
      "La probabilité d'avoir moins de 4 pour cent effets secondaire est  43.59813006857117 %\n"
     ]
    }
   ],
   "source": [
    "# La probabilité d'avoir moins de 4 pour cent effets secondaire sur l'échantillon de 100 personnes est :\n",
    "# P(X < 4 patients experience side effects) \n",
    "\n",
    "resultat = binom.cdf(4,n,p)\n",
    "print(\"La probabilité d'avoir moins de 4 pour cent effets secondaire est \",resultat * 100 ,\"%\");\n"
   ]
  },
  {
   "cell_type": "code",
   "execution_count": 21,
   "metadata": {},
   "outputs": [
    {
     "name": "stdout",
     "output_type": "stream",
     "text": [
      "La probabilité d'avoir moins de 2 pour cent effets secondaire est  11.826298118512087 %\n"
     ]
    }
   ],
   "source": [
    "# La probabilité d'avoir moins de 2 pour cent effets secondaire sur l'échantillon de 100 personnes est :\n",
    "# P(X < 2 patients experience side effects) \n",
    "\n",
    "resultat = binom.cdf(2,n,p)\n",
    "print(\"La probabilité d'avoir moins de 2 pour cent effets secondaire est \",resultat * 100 ,\"%\");\n"
   ]
  }
 ],
 "metadata": {
  "kernelspec": {
   "display_name": "Python 3",
   "language": "python",
   "name": "python3"
  },
  "language_info": {
   "codemirror_mode": {
    "name": "ipython",
    "version": 3
   },
   "file_extension": ".py",
   "mimetype": "text/x-python",
   "name": "python",
   "nbconvert_exporter": "python",
   "pygments_lexer": "ipython3",
   "version": "3.8.0"
  },
  "orig_nbformat": 4,
  "vscode": {
   "interpreter": {
    "hash": "edb60928ae049011e12e2dc43646b5515922153b602d9d974a622a5d486bbfcc"
   }
  }
 },
 "nbformat": 4,
 "nbformat_minor": 2
}
