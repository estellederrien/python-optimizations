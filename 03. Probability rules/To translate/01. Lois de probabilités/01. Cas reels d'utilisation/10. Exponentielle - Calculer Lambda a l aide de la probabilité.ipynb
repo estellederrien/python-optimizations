{
 "cells": [
  {
   "attachments": {},
   "cell_type": "markdown",
   "metadata": {},
   "source": [
    "# Loi exponentielle\n",
    "\n",
    "Source : EICNAM \n",
    "U.E : RCP 103 \n",
    "LA LOI EXPONENTIELLE / LOI CONTINUE\n",
    "\n",
    "Trouver la valeur de λ Lambda, à l'aide d'une probabilité déjà donnée'. \n",
    "\n",
    "Autre excellent lien : <br>\n",
    "http://www.jaicompris.com/lycee/math/probabilite/loi-exponentielle.php<br>\n",
    "http://www.jybaudot.fr/Probas/propriexpo.html<br>"
   ]
  },
  {
   "cell_type": "code",
   "execution_count": 1,
   "metadata": {},
   "outputs": [],
   "source": [
    "# On importe la librairie\n",
    "import math"
   ]
  },
  {
   "attachments": {},
   "cell_type": "markdown",
   "metadata": {},
   "source": [
    "** TROUVER λ GRACE AU TEXTE **\n",
    "Le temps d'attente exprimé en minutes au guichet d'une banque est une variable aléatoire T\n",
    "suivant la loi exponentielle de paramètre λ  (lambda). <br>\n",
    "On sait que la probabilité qu'un client attende moins de 8 minutes \n",
    "est égale à 0.7 (Ou de 70 %)"
   ]
  },
  {
   "attachments": {},
   "cell_type": "markdown",
   "metadata": {},
   "source": [
    "\n",
    "1. Calculer une valeur approchée à 0.0001 de λ  (lambda). \n",
    "-> ON a P(T <= 8) = 0,7 \n",
    "donc on substitue à l'aide de notre formule du fichier 13 :\n",
    " 1 - e ^-8λ = 0.7\n",
    " ce qui fait e ^-8λ = 0.3 (qui est la pb inverse) et donc \n",
    "λ = ln(0.3) / -8 = 0.1505\n"
   ]
  },
  {
   "cell_type": "code",
   "execution_count": 2,
   "metadata": {},
   "outputs": [
    {
     "name": "stdout",
     "output_type": "stream",
     "text": [
      "0.15049660054074201\n"
     ]
    }
   ],
   "source": [
    "LAMBDA = math.log(0.3) / -8\n",
    "print(LAMBDA)\n",
    "# 0.15049660054074201"
   ]
  },
  {
   "attachments": {},
   "cell_type": "markdown",
   "metadata": {},
   "source": [
    "2. Maintenant que tu as trouvé LAMBDA, calcule la probabilité qu'un client attende entre 15 et 20 minutes.\n",
    "On se sert de la formule du fichier numéro 13 .\n",
    "P(15<=T<=20) = e ^ -0.1505 * 15 - e ^ -01505 * 20 = 0.055"
   ]
  },
  {
   "cell_type": "code",
   "execution_count": 3,
   "metadata": {},
   "outputs": [
    {
     "name": "stdout",
     "output_type": "stream",
     "text": [
      "0.05532000857337062\n"
     ]
    }
   ],
   "source": [
    "probabilite =  math.exp( -0.1505 * 15 ) - math.exp( -0.1505 * 20 )\n",
    "print(probabilite)\n",
    "# 0.05532000857337062"
   ]
  }
 ],
 "metadata": {
  "kernelspec": {
   "display_name": "Python 3",
   "language": "python",
   "name": "python3"
  },
  "language_info": {
   "codemirror_mode": {
    "name": "ipython",
    "version": 3
   },
   "file_extension": ".py",
   "mimetype": "text/x-python",
   "name": "python",
   "nbconvert_exporter": "python",
   "pygments_lexer": "ipython3",
   "version": "3.8.0"
  },
  "orig_nbformat": 4,
  "vscode": {
   "interpreter": {
    "hash": "edb60928ae049011e12e2dc43646b5515922153b602d9d974a622a5d486bbfcc"
   }
  }
 },
 "nbformat": 4,
 "nbformat_minor": 2
}
