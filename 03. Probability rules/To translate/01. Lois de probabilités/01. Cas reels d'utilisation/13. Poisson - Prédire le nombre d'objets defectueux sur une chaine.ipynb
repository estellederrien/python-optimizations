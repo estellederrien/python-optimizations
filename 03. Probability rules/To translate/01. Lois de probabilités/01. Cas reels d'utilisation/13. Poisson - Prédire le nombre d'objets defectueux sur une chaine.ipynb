{
 "cells": [
  {
   "attachments": {},
   "cell_type": "markdown",
   "metadata": {},
   "source": [
    "# Loi de Poisson\n",
    "\n",
    "On se base sur une observation, souvent une moyenne, pour trouver le paramètre de la probabilite, on l'appelle souvent \"Lambda\"\n",
    "\n",
    "On peut se demander :\\\n",
    "\" Quelle probabilité exacte que ? \"\\\n",
    "\" Quelle probabilité que le résultat soies moins que ?\"\\\n",
    "\" Quelle probabilité que le résultat soies  plus que ?\"\n",
    "\n",
    "\n",
    "\n",
    "Calculer des probabilités avec la loi de poisson et scipy.\\\n",
    "k est le nombre que l'on soumets à la loi de poisson\\\n",
    "mu ( Ou souvent appelé Lambda) est le paramètre de la loi de poisson, généralement c'est une moyenne d'occurence sur une plage de temps donné.\n",
    "\n",
    "Avec Scipy : \n",
    "\n",
    "1. calculer la probabilité d'avoir EXACTEMENT un résultat-> poisson.pmf(k=5, mu=3)\n",
    "2. calculer la probabilité d'avoir MOINS d'un résultat ->  poisson.cdf(k=5, mu=3)\n",
    "3. calculer la probabilité d'avoir PLUS d'une résultat -> 1-poisson.cdf(k=5, mu=3)\n",
    "\n",
    "Sources :\n",
    "https://stattrek.com/probability-distributions/poisson.aspx\n",
    "https://docs.scipy.org/doc/scipy/reference/generated/scipy.stats.poisson.html"
   ]
  },
  {
   "cell_type": "code",
   "execution_count": 3,
   "metadata": {},
   "outputs": [],
   "source": [
    "# Import des librairies\n",
    "import numpy as np\n",
    "from scipy.stats import poisson\n",
    "%matplotlib inline\n",
    "import matplotlib.pyplot as plt"
   ]
  },
  {
   "attachments": {},
   "cell_type": "markdown",
   "metadata": {},
   "source": [
    "CAS NUMERO 1 \n",
    "\n",
    "Exemple de distribution de Poisson\n",
    "\n",
    "Le nombre moyen de logements vendus par la société Acme Realty est de 2 logements par jour. Quelle est la probabilité de vendre exactement 3 maisons demain?\n",
    "\n",
    "Solution: Il s'agit d'une expérience de Poisson dans laquelle nous savons ce qui suit:\n",
    "\n",
    "    μ = 2; puisque 2 logements sont vendus par jour, en moyenne.\n",
    "    x = 3; car nous voulons trouver la probabilité que 3 maisons soient vendues demain.\n",
    "    e = 2,71828; puisque e est une constante égale à environ 2,71828."
   ]
  },
  {
   "cell_type": "code",
   "execution_count": 4,
   "metadata": {},
   "outputs": [
    {
     "name": "stdout",
     "output_type": "stream",
     "text": [
      "proba:  18.044704431548357 %\n"
     ]
    }
   ],
   "source": [
    "\n",
    "# 1. Quelle est la probabilité qu'il y en ait ***EXACTEMENT*** 3 ventes demain\n",
    "\n",
    "ma_probabilite =  poisson.pmf(3,2)\n",
    "\n",
    "print(\"proba: \", ma_probabilite * 100 , '%')"
   ]
  },
  {
   "attachments": {},
   "cell_type": "markdown",
   "metadata": {},
   "source": [
    "CAS NUMERO 2 \n",
    "\n",
    "Le nombre moyen d'occurrences dans un intervalle de temps fixé est λ\n",
    "\n",
    "Sur une chaine de production, il y a en moyenne 8 objets défectueux par mois.\n",
    "\n",
    "donc 96 objets défectueux en moyenne sur 12 mois.\n",
    "\n",
    "NOTE : CONSERVER TOUJOURS LA MEME UNITE DE TEMPS , LA, CEST DES MOIS DONC ON NE CONVERTIT PAS EN ANNEES APRES !!\n",
    "DE même, si lambda est basé sur 12 mois, on établit la pb sur les 12 mois suivants ."
   ]
  },
  {
   "cell_type": "code",
   "execution_count": 5,
   "metadata": {},
   "outputs": [
    {
     "name": "stdout",
     "output_type": "stream",
     "text": [
      "proba:  31.337427753639773 %\n"
     ]
    }
   ],
   "source": [
    "# 1. Quelle est la probabilité qu'il y en ait ***MOINS *** de 6 défectueux le mois prochain\n",
    "# donc on ADDITIONNE LES PROBABILITES \n",
    "#  P(x < 6, 8) = P(0; 8) + P(1; 8) + P(2; 8) + P(3; 8) + P(4; 8) + P(5; 8) + P(6; 8) \n",
    "\n",
    "# On se sert de la function cumulative de SCIPI :\n",
    "ma_probabilite =  poisson.cdf(6,8)\n",
    "\n",
    "print(\"proba: \", ma_probabilite * 100 , '%')\n"
   ]
  },
  {
   "cell_type": "code",
   "execution_count": 6,
   "metadata": {},
   "outputs": [
    {
     "name": "stdout",
     "output_type": "stream",
     "text": [
      "proba:  29.128520883025814 %\n"
     ]
    }
   ],
   "source": [
    "# 2. Quelle est la probabilité qu'il y en ait moins de 50 objets defectueux dans les 12 mois suivants.\n",
    "#  P(x < 50, 96) = P(0; 96) + ....+ P(50; 96) \n",
    "ma_probabilite =  poisson.cdf(90,96)\n",
    "\n",
    "print(\"proba: \", ma_probabilite * 100 , '%')"
   ]
  },
  {
   "attachments": {},
   "cell_type": "markdown",
   "metadata": {},
   "source": [
    "CAS NUMERO 3 \n",
    "\n",
    "Exemple de Poisson cumulé\n",
    "\n",
    "Supposons que le nombre moyen de lions vus lors d'un safari d'une journée soit de 5. \n",
    "Quelle est la probabilité que les touristes voient moins de quatre lions lors du prochain safari d'une journée?\n",
    "\n",
    "Solution: Il s'agit d'une expérience de Poisson dans laquelle nous savons ce qui suit:\n",
    "\n",
    "    μ = 5; puisque 5 lions sont vus par safari, en moyenne.\n",
    "    x = 0, 1, 2 ou 3; car nous voulons trouver la probabilité que les touristes voient moins de 4 lions; c'est-à-dire que nous voulons la probabilité qu'ils voient 0, 1, 2 ou 3 lions.\n",
    "    e = 2,71828; puisque e est une constante égale à environ 2,71828.\n",
    "\n",
    "Pour résoudre ce problème, nous devons trouver la probabilité que les touristes voient 0, 1, 2 ou 3 lions. Ainsi, nous devons calculer la somme de quatre probabilités: P (0; 5) + P (1; 5) + P (2; 5) + P (3; 5). Pour calculer cette somme, nous utilisons la formule de Poisson:"
   ]
  },
  {
   "cell_type": "code",
   "execution_count": 7,
   "metadata": {},
   "outputs": [
    {
     "name": "stdout",
     "output_type": "stream",
     "text": [
      "proba:  26.50259152973615 %\n",
      "proba:  99.99309917581444 %\n",
      "proba:  [ 7  8  8  1  8  9  2  6  8  5  1  2  6  5  4  1  2  3  9  7  4 10  4  5\n",
      "  8  3 10  8  7  4  5  6  9  6  4  2  4  4  6  7  2  7  6  5  5  1  5 12\n",
      "  9  4]\n"
     ]
    }
   ],
   "source": [
    "# On se sert de la function cumulative de SCIPI :\n",
    "ma_probabilite =  poisson.cdf(3,5)\n",
    "print(\"proba: \", ma_probabilite * 100 , '%')\n",
    "# proba:  44.049328506521256 % \n",
    "\n",
    "\n",
    "# Quelle est la probabilité que les touristes voient moins de 15 lions lors du prochain safari d'une journée?\n",
    "ma_probabilite =  poisson.cdf(15,5)\n",
    "print(\"proba: \", ma_probabilite * 100 , '%')\n",
    "# proba:  99.99309917581444 % Normal, il ne peuvent pas voir plus de 15 lions alors que la moyenne est de 5 lions\n",
    "\n",
    "# Les variables random montrent qu'on ne voit évidemment jamais 15 lions, sur 50 jours différents alors que la moyenne est de 5 !'\n",
    "ma_probabilite =  poisson.rvs(5,size=50)\n",
    "print(\"proba: \", ma_probabilite )"
   ]
  }
 ],
 "metadata": {
  "kernelspec": {
   "display_name": "Python 3",
   "language": "python",
   "name": "python3"
  },
  "language_info": {
   "codemirror_mode": {
    "name": "ipython",
    "version": 3
   },
   "file_extension": ".py",
   "mimetype": "text/x-python",
   "name": "python",
   "nbconvert_exporter": "python",
   "pygments_lexer": "ipython3",
   "version": "3.8.0 (tags/v3.8.0:fa919fd, Oct 14 2019, 19:37:50) [MSC v.1916 64 bit (AMD64)]"
  },
  "orig_nbformat": 4,
  "vscode": {
   "interpreter": {
    "hash": "edb60928ae049011e12e2dc43646b5515922153b602d9d974a622a5d486bbfcc"
   }
  }
 },
 "nbformat": 4,
 "nbformat_minor": 2
}
