{
 "cells": [
  {
   "attachments": {},
   "cell_type": "markdown",
   "metadata": {},
   "source": [
    "  #  Loi exponentielle.\n",
    "\n",
    "   Source :\n",
    "   YVAN MONKA \n",
    "   https://www.youtube.com/watch?v=ZS_sW8yq-94&list=LLbfwcLDelivztPdafMQ42WQ&index=5&t=0s\n",
    "\n",
    "   STANFORD\n",
    "   http://web.stanford.edu/class/archive/cs/cs109/cs109.1192/handouts/pythonForProbability.html\n",
    "\n",
    "\tMerci à \n",
    "\thttps://stackoverflow.com/users/67579/willem-van-onsem\n",
    "\tpour la correction SCIPY \n"
   ]
  },
  {
   "attachments": {},
   "cell_type": "markdown",
   "metadata": {},
   "source": [
    "# Problème : \n",
    "\n",
    "La durée de vie, en heures, d'un composant électronique est une variable aléatoire \n",
    "qui suit une loi exponentielle de paramètre Lambda =  0.0035\n",
    "\n",
    "1. Quelle est la probabilité qu'il casse avant 100 heures ?\n",
    "\n",
    "Formule : P(X < 100) = 1 - e ** -0.0035 * 100 = 0.3 = 30%\n",
    "\n",
    "2. Quelle est sa durée moyenne de vie ?\n",
    "\n",
    "Formule : 1 \\ 0.0035 = 286 heures\n"
   ]
  },
  {
   "cell_type": "code",
   "execution_count": 11,
   "metadata": {},
   "outputs": [],
   "source": [
    "# Import des librairies\n",
    "from scipy import stats\n",
    "import math   "
   ]
  },
  {
   "cell_type": "markdown",
   "metadata": {},
   "source": []
  },
  {
   "cell_type": "code",
   "execution_count": 12,
   "metadata": {},
   "outputs": [
    {
     "name": "stdout",
     "output_type": "stream",
     "text": [
      "J'ai calculé avec un calcul primaire ma probabilité  29.531191028128656 %\n"
     ]
    }
   ],
   "source": [
    "# CALCUL PRIMAIRE AVEC LA LIB MATH\n",
    "\n",
    "lambdaCalcul = - 0.0035 * 100\n",
    "MaProbabiliteExponentielle = 1 - math.exp(lambdaCalcul)\n",
    "\n",
    "print(\"J'ai calculé avec un calcul primaire ma probabilité \",MaProbabiliteExponentielle * 100 , \"%\");"
   ]
  },
  {
   "cell_type": "code",
   "execution_count": 13,
   "metadata": {},
   "outputs": [
    {
     "name": "stdout",
     "output_type": "stream",
     "text": [
      "0.003487771412511452\n",
      "0.2953119102812866\n",
      "12.401480394103633\n"
     ]
    }
   ],
   "source": [
    "# ESSAI DE CALCUL AVEC SCIPY =\n",
    "#  This example declares B∼Exp(λ=0.0035)\n",
    "\n",
    "B = stats.expon(scale=1/0.0035)   # Merci https://stackoverflow.com/users/67579/willem-van-onsem pour le scale !\n",
    "print(B.pdf(1))       # f(1), the probability density at 1\n",
    "print(B.cdf(100))     # F(2) which is also P(B < 100) -> Voici ma probabilité\n",
    "print(B.rvs())        # Get a random sample from B\n"
   ]
  }
 ],
 "metadata": {
  "kernelspec": {
   "display_name": "Python 3",
   "language": "python",
   "name": "python3"
  },
  "language_info": {
   "codemirror_mode": {
    "name": "ipython",
    "version": 3
   },
   "file_extension": ".py",
   "mimetype": "text/x-python",
   "name": "python",
   "nbconvert_exporter": "python",
   "pygments_lexer": "ipython3",
   "version": "3.8.0 (tags/v3.8.0:fa919fd, Oct 14 2019, 19:37:50) [MSC v.1916 64 bit (AMD64)]"
  },
  "orig_nbformat": 4,
  "vscode": {
   "interpreter": {
    "hash": "edb60928ae049011e12e2dc43646b5515922153b602d9d974a622a5d486bbfcc"
   }
  }
 },
 "nbformat": 4,
 "nbformat_minor": 2
}
