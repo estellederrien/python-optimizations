{
 "cells": [
  {
   "cell_type": "code",
   "execution_count": null,
   "metadata": {},
   "outputs": [],
   "source": []
  },
  {
   "attachments": {},
   "cell_type": "markdown",
   "metadata": {},
   "source": [
    "# Loi Géométrique\n",
    "\n",
    "Description:\n",
    "La distribution géométrique est une distribution de probabilité utilisée pour modéliser la probabilité de connaître un certain nombre d'échecs avant de connaître le premier succès dans une série d'essais de Bernoulli.\n",
    "\n",
    "Paramètres:\n",
    "\n",
    "k : nombre d'échecs avant le premier succès\\\n",
    "p : probabilité de succès à chaque essai\n",
    "\n",
    "Commandes scipy :\n",
    "\n",
    "\n",
    "scipy.stats.geom.pmf(k, p, loc=0)\\\n",
    "scipy.stats.geom.cdf(k, p, loc=0)\\\n",
    "scipy.stats.geom.ppf(q, p, loc=0)\\\n",
    "scipy.stats.geom.rvs(p, loc=0, size=1)\n",
    "\n",
    "Lien :\n",
    "https://www.alphacodingskills.com/scipy/scipy-geometric-distribution.php\n",
    "\n",
    "\n"
   ]
  },
  {
   "attachments": {},
   "cell_type": "markdown",
   "metadata": {},
   "source": [
    "Exemple  : nombre de défauts\n",
    "\n",
    "Supposons que l'on sache que 5 % de tous les widgets d'une chaîne de montage sont défectueux.\n",
    "\n",
    "Nous pouvons utiliser les formules suivantes pour déterminer la probabilité d'inspecter 0, 1, 2 widgets, etc. avant qu'un inspecteur ne tombe sur un widget défectueux :\n",
    "\n",
    "P(X=0) = (1-.05)0(.05) = 0.05\n",
    "\n",
    "P(X=1) = (1-.05)1(.05) = 0.0475\n",
    "\n",
    "P(X=2) = (1-.05)2(.05) = 0.04512"
   ]
  },
  {
   "cell_type": "code",
   "execution_count": 11,
   "metadata": {},
   "outputs": [],
   "source": [
    "# On importe la lib scipy\n",
    "from scipy.stats import geom"
   ]
  },
  {
   "cell_type": "code",
   "execution_count": 12,
   "metadata": {},
   "outputs": [
    {
     "name": "stdout",
     "output_type": "stream",
     "text": [
      "Ma probabilité est de :  0.0 %\n"
     ]
    }
   ],
   "source": [
    "# On calcule la probabilité P(X=0) \n",
    "# La probabilité que le 1er objet soies défectueux\n",
    "resultat = geom.pmf(0, 0.05,loc=0)\n",
    "print(\"Ma probabilité est de : \", resultat * 100, \"%\")"
   ]
  },
  {
   "cell_type": "code",
   "execution_count": 13,
   "metadata": {},
   "outputs": [
    {
     "name": "stdout",
     "output_type": "stream",
     "text": [
      "Ma probabilité est de :  5.0 %\n"
     ]
    }
   ],
   "source": [
    "# On calcule la probabilité P(X=1) \n",
    "resultat = geom.pmf(1, 0.05,loc=0)\n",
    "# La probabilité que le 2eme objet soies défectueux\n",
    "print(\"Ma probabilité est de : \", resultat * 100, \"%\")"
   ]
  },
  {
   "cell_type": "code",
   "execution_count": 14,
   "metadata": {},
   "outputs": [
    {
     "name": "stdout",
     "output_type": "stream",
     "text": [
      "Ma probabilité est de :  4.75 %\n"
     ]
    }
   ],
   "source": [
    "# On calcule la probabilité P(X=2) \n",
    "resultat = geom.pmf(2, 0.05,loc=0)\n",
    "# La probabilité que le 3eme objet soies défectueux\n",
    "print(\"Ma probabilité est de : \", resultat * 100, \"%\")"
   ]
  },
  {
   "attachments": {},
   "cell_type": "markdown",
   "metadata": {},
   "source": []
  }
 ],
 "metadata": {
  "kernelspec": {
   "display_name": "Python 3",
   "language": "python",
   "name": "python3"
  },
  "language_info": {
   "codemirror_mode": {
    "name": "ipython",
    "version": 3
   },
   "file_extension": ".py",
   "mimetype": "text/x-python",
   "name": "python",
   "nbconvert_exporter": "python",
   "pygments_lexer": "ipython3",
   "version": "3.8.0"
  },
  "orig_nbformat": 4,
  "vscode": {
   "interpreter": {
    "hash": "edb60928ae049011e12e2dc43646b5515922153b602d9d974a622a5d486bbfcc"
   }
  }
 },
 "nbformat": 4,
 "nbformat_minor": 2
}
