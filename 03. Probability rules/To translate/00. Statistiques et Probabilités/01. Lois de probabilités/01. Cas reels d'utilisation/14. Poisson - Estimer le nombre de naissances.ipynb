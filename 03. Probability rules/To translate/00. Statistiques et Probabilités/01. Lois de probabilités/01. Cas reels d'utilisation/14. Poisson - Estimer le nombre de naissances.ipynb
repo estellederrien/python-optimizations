{
 "cells": [
  {
   "cell_type": "code",
   "execution_count": null,
   "metadata": {},
   "outputs": [],
   "source": []
  },
  {
   "attachments": {},
   "cell_type": "markdown",
   "metadata": {},
   "source": [
    "# Loi de Poisson\n",
    "\n",
    "Propriétés :\n",
    "\n",
    "- Le nombre de succès dans l'expérience peut être compté.\n",
    "- Le nombre moyen de succès qui se produit pendant un intervalle de temps (ou d'espace) spécifique est connu.\n",
    "- Chaque résultat est indépendant.\n",
    "- La probabilité qu'un succès se produise est proportionnelle à la taille de l'intervalle.\n",
    "\n",
    "paramètres :\n",
    "\n",
    " λ : On se base sur une observation, souvent une moyenne, pour trouver le paramètre de la loi, on l'appelle souvent \"Lambda\"\n",
    "\n",
    "On peut se demander :\\\n",
    "\" Quelle probabilité que le résultat soies exactement ... ? \"\\\n",
    "\" Quelle probabilité que le résultat soies moins que ... ?\"\\\n",
    "\" Quelle probabilité que le résultat soies  plus que ...?\"\\\n",
    "\" Quelle probabilité que le résultat soies entre valeur min et valeur max ?\"\n",
    "\n",
    "\n",
    "\n",
    "Calculer des probabilités avec la loi de poisson et scipy.\\\n",
    "k est le nombre que l'on soumets à la loi de poisson\\\n",
    "mu ( Ou souvent appelé Lambda) est le paramètre de la loi de poisson, généralement c'est une moyenne d'occurence sur une plage de temps donné.\n",
    "\n",
    "Avec Scipy : \n",
    "\n",
    "1. calculer la probabilité d'avoir EXACTEMENT un résultat-> poisson.pmf(k=5, mu=3)\n",
    "2. calculer la probabilité d'avoir MOINS d'un résultat ->  poisson.cdf(k=5, mu=3)\n",
    "3. calculer la probabilité d'avoir PLUS d'une résultat -> 1-poisson.cdf(k=5, mu=3)"
   ]
  },
  {
   "attachments": {},
   "cell_type": "markdown",
   "metadata": {},
   "source": [
    "L'histoire :\n",
    "Un exemple d'expérience de Poisson est le nombre de naissances par heure dans un hôpital donné. Par exemple, supposons qu'un hôpital particulier enregistre en moyenne 10 naissances par heure. Il s'agit d'une expérience de Poisson car elle possède les quatre propriétés suivantes :\n",
    "\n",
    "- Le nombre de succès dans l'expérience peut être compté : Nous pouvons compter le nombre de naissances.\n",
    "- Le nombre moyen de succès qui se produit pendant un intervalle de temps spécifique est connu , On sait qu'une moyenne de 10 naissances par heure se produit.\n",
    "- Chaque résultat est indépendant : La probabilité qu'une mère accouche pendant une heure donnée est indépendante de la probabilité qu'une autre mère accouche.\n",
    "- La probabilité qu'un succès se produise est proportionnelle à la taille de l'intervalle : plus l'intervalle de temps est long, plus la probabilité qu'une naissance se produise est élevée."
   ]
  },
  {
   "attachments": {},
   "cell_type": "markdown",
   "metadata": {},
   "source": [
    "Nous pouvons utiliser la distribution de Poisson pour répondre à des questions sur les probabilités concernant cette expérience de Poisson telles que :\n",
    "\n",
    "    Quelle est la probabilité qu'il y ait plus de 12 naissances en une heure donnée ?\n",
    "    Quelle est la probabilité qu'il y ait moins de 5 naissances dans une heure donnée ?\n",
    "    Quelle est la probabilité qu'il y ait entre 8 et 11 naissances dans une heure donnée ?"
   ]
  },
  {
   "cell_type": "code",
   "execution_count": 10,
   "metadata": {},
   "outputs": [
    {
     "name": "stdout",
     "output_type": "stream",
     "text": [
      "Ma probabilité est de :  20.84435236051254 %\n"
     ]
    }
   ],
   "source": [
    "# Quelle est la probabilité qu'il y ait plus de 12 naissances en une heure donnée ?\n",
    "\n",
    "# On importe la lib scipy\n",
    "from scipy.stats import poisson\n",
    "\n",
    "# On calcule la probabilité \"plus que \"\n",
    "resultat = 1-poisson.cdf(k=12, mu=10)\n",
    "print(\"Ma probabilité est de : \", resultat * 100, \"%\")\n"
   ]
  },
  {
   "cell_type": "code",
   "execution_count": 11,
   "metadata": {},
   "outputs": [
    {
     "name": "stdout",
     "output_type": "stream",
     "text": [
      "Ma probabilité est de :  6.708596287903188 %\n"
     ]
    }
   ],
   "source": [
    "# Quelle est la probabilité qu'il y ait moins de 5 naissances dans une heure donnée ?\n",
    "\n",
    "# On calcule la probabilité \"moins que \"\n",
    "resultat = poisson.cdf(k=5, mu=10)\n",
    "print(\"Ma probabilité est de : \", resultat * 100, \"%\")\n"
   ]
  },
  {
   "cell_type": "code",
   "execution_count": 12,
   "metadata": {},
   "outputs": [
    {
     "name": "stdout",
     "output_type": "stream",
     "text": [
      "Ma probabilité est de :  36.3956467552387 %\n"
     ]
    }
   ],
   "source": [
    "# Quelle est la probabilité qu'il y ait entre 8 et 11 naissances dans une heure donnée ?\n",
    "# On calcule la probabilité \"entre \" ( Attention, code à quand même vérifier)\n",
    "\n",
    "resultat =  poisson.cdf(k=11, mu=10) - poisson.cdf(k=8, mu=10)\n",
    "print(\"Ma probabilité est de : \", resultat * 100, \"%\")"
   ]
  }
 ],
 "metadata": {
  "kernelspec": {
   "display_name": "Python 3",
   "language": "python",
   "name": "python3"
  },
  "language_info": {
   "codemirror_mode": {
    "name": "ipython",
    "version": 3
   },
   "file_extension": ".py",
   "mimetype": "text/x-python",
   "name": "python",
   "nbconvert_exporter": "python",
   "pygments_lexer": "ipython3",
   "version": "3.8.0 (tags/v3.8.0:fa919fd, Oct 14 2019, 19:37:50) [MSC v.1916 64 bit (AMD64)]"
  },
  "orig_nbformat": 4,
  "vscode": {
   "interpreter": {
    "hash": "edb60928ae049011e12e2dc43646b5515922153b602d9d974a622a5d486bbfcc"
   }
  }
 },
 "nbformat": 4,
 "nbformat_minor": 2
}
