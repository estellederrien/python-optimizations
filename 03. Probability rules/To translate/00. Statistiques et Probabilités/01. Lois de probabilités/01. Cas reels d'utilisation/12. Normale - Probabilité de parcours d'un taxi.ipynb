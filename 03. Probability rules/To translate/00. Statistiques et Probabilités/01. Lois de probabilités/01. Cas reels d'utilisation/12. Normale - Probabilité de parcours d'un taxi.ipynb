{
 "cells": [
  {
   "attachments": {},
   "cell_type": "markdown",
   "metadata": {},
   "source": [
    "\n",
    "# Loi Normale\n",
    "\n",
    "La loi normale est une distribution de probabilité en forme de cloche.\n",
    "\n",
    "# Loi Normale\n",
    "\n",
    "La loi normale est une distribution de probabilité en forme de cloche.\n",
    "\n",
    "Source : https://www.askpython.com/python/normal-distribution\n",
    "\n",
    "On peut obtenir les probabilités suivantes sur un échantillon :\n",
    "\n",
    "1. Quelle est la pb que échantillon soies \"plus que\"\n",
    "2. Quelle est la pb que échantillon soies \"moins que\"\n",
    "3. Quelle est la pb que échantillon soies entre une valeur min et une valeur max\n",
    "\n",
    "\n",
    "Notre Problème : \n",
    "\n",
    "\"\"\"  \n",
    "Une compagnie de transport possède un parc de 200 taxis. On appelle X, la variable aléatoire qui, à un taxi choisi au hasard associe la distance journalière parcourue.\n",
    "On suppose que X suit la loi normale (90,14 au carré). (moyenne, écart type)\n",
    "Quelle est la probabilité qu'un taxi parcourt entre 70 et 100 km par jour ?\n",
    "\n",
    "\"\"\""
   ]
  },
  {
   "attachments": {},
   "cell_type": "markdown",
   "metadata": {},
   "source": [
    "Liens <br>\n",
    "https://www.maths-et-tiques.fr/telech/LoisTESL.pdf<br>\n",
    "https://stackoverflow.com/questions/12412895/calculate-probability-in-normal-distribution-given-mean-std-in-python\n",
    "https://www.askpython.com/python/normal-distribution\n"
   ]
  },
  {
   "cell_type": "code",
   "execution_count": 1,
   "metadata": {},
   "outputs": [],
   "source": [
    "\n",
    "# Import des librairies\n",
    "import scipy.stats"
   ]
  },
  {
   "cell_type": "code",
   "execution_count": 2,
   "metadata": {},
   "outputs": [
    {
     "name": "stdout",
     "output_type": "stream",
     "text": [
      "La probabilité qu'un taxi parcours entre 70 et 100kms est de :  68.59110124631886 %\n"
     ]
    }
   ],
   "source": [
    "# On fait un 'RANGE' pour obtenir l'aire sous la courbe (intégrale)\n",
    "rv = scipy.stats.norm(90,14)\n",
    "resultat = rv.cdf(100) - rv.cdf(70)\n",
    "print(\"La probabilité qu'un taxi parcours entre 70 et 100kms est de : \", resultat * 100 ,\"%\" )"
   ]
  },
  {
   "cell_type": "code",
   "execution_count": 3,
   "metadata": {},
   "outputs": [
    {
     "data": {
      "text/plain": [
       "\" import scipy.stats\\nscipy.stats.norm(loc=100, scale=12)\\n#where loc is the mean and scale is the std dev\\n#if you wish to pull out a random number from your distribution\\nscipy.stats.norm.rvs(loc=100, scale=12)\\n\\n#To find the probability that the variable has a value LESS than or equal\\n#let's say 113, you'd use CDF cumulative Density Function\\nscipy.stats.norm.cdf(113,100,12)\\nOutput: 0.86066975255037792\\n#or 86.07% probability\\n\\n#To find the probability that the variable has a value GREATER than or\\n#equal to let's say 125, you'd use SF Survival Function \\nscipy.stats.norm.sf(125,100,12)\\nOutput: 0.018610425189886332\\n#or 1.86%\\n\\n#To find the variate for which the probability is given, let's say the \\n#value which needed to provide a 98% probability, you'd use the \\n#PPF Percent Point Function\\nscipy.stats.norm.ppf(.98,100,12)\\nOutput: 124.64498692758187\\n\\n\\n\\n \""
      ]
     },
     "execution_count": 3,
     "metadata": {},
     "output_type": "execute_result"
    }
   ],
   "source": [
    "# Autres fonctionnalités de la loi normale : \n",
    "\"\"\" import scipy.stats\n",
    "scipy.stats.norm(loc=100, scale=12)\n",
    "#where loc is the mean and scale is the std dev\n",
    "#if you wish to pull out a random number from your distribution\n",
    "scipy.stats.norm.rvs(loc=100, scale=12)\n",
    "\n",
    "#To find the probability that the variable has a value LESS than or equal\n",
    "#let's say 113, you'd use CDF cumulative Density Function\n",
    "scipy.stats.norm.cdf(113,100,12)\n",
    "Output: 0.86066975255037792\n",
    "#or 86.07% probability\n",
    "\n",
    "#To find the probability that the variable has a value GREATER than or\n",
    "#equal to let's say 125, you'd use SF Survival Function \n",
    "scipy.stats.norm.sf(125,100,12)\n",
    "Output: 0.018610425189886332\n",
    "#or 1.86%\n",
    "\n",
    "#To find the variate for which the probability is given, let's say the \n",
    "#value which needed to provide a 98% probability, you'd use the \n",
    "#PPF Percent Point Function\n",
    "scipy.stats.norm.ppf(.98,100,12)\n",
    "Output: 124.64498692758187\n",
    "\n",
    "\n",
    "\n",
    " \"\"\""
   ]
  }
 ],
 "metadata": {
  "kernelspec": {
   "display_name": "Python 3",
   "language": "python",
   "name": "python3"
  },
  "language_info": {
   "codemirror_mode": {
    "name": "ipython",
    "version": 3
   },
   "file_extension": ".py",
   "mimetype": "text/x-python",
   "name": "python",
   "nbconvert_exporter": "python",
   "pygments_lexer": "ipython3",
   "version": "3.8.0"
  },
  "orig_nbformat": 4,
  "vscode": {
   "interpreter": {
    "hash": "edb60928ae049011e12e2dc43646b5515922153b602d9d974a622a5d486bbfcc"
   }
  }
 },
 "nbformat": 4,
 "nbformat_minor": 2
}
