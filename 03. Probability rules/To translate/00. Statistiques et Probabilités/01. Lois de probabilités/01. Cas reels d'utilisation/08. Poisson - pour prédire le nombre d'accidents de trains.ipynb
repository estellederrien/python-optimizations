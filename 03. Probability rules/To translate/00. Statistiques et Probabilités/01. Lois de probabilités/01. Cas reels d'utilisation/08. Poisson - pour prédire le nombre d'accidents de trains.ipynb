{
 "cells": [
  {
   "attachments": {},
   "cell_type": "markdown",
   "metadata": {},
   "source": [
    "# Loi de Poisson\n",
    "\n",
    "On se base sur une observation, souvent une moyenne, pour trouver le paramètre de la loi, on l'appelle souvent \"Lambda\"\n",
    "\n",
    "On peut se demander :\\\n",
    "\" Quelle probabilité exacte que ? \"\\\n",
    "\" Quelle probabilité que le résultat soies moins que ?\"\\\n",
    "\" Quelle probabilité que le résultat soies  plus que ?\"\n",
    "\n",
    "\n",
    "\n",
    "Calculer des probabilités avec la loi de poisson et scipy.\\\n",
    "k est le nombre que l'on soumets à la loi de poisson\\\n",
    "mu ( Ou souvent appelé Lambda) est le paramètre de la loi de poisson, généralement c'est une moyenne d'occurence sur une plage de temps donné.\n",
    "\n",
    "Avec Scipy : \n",
    "\n",
    "1. calculer la probabilité d'avoir EXACTEMENT un résultat-> poisson.pmf(k=5, mu=3)\n",
    "2. calculer la probabilité d'avoir MOINS d'un résultat ->  poisson.cdf(k=5, mu=3)\n",
    "3. calculer la probabilité d'avoir PLUS d'une résultat -> 1-poisson.cdf(k=5, mu=3)\n",
    "\n",
    "Bon liens : <br>\n",
    "https://www.statology.org/poisson-distribution-python/\n",
    "http://villemin.gerard.free.fr/aMaths/Probabil/Poisson.htm<br>\n",
    "https://www.tutorialspoint.com/python_data_science/python_poisson_distribution.htm"
   ]
  },
  {
   "cell_type": "code",
   "execution_count": 47,
   "metadata": {},
   "outputs": [],
   "source": [
    "# Import des librairies\n",
    "import numpy as np\n",
    "import matplotlib.pyplot as plt\n",
    "from scipy.stats import poisson"
   ]
  },
  {
   "cell_type": "code",
   "execution_count": 48,
   "metadata": {},
   "outputs": [
    {
     "name": "stdout",
     "output_type": "stream",
     "text": [
      "proba:  0.581630651834512 %\n"
     ]
    }
   ],
   "source": [
    "\"\"\"   \n",
    "\n",
    "CAS NUMERO 1 \n",
    "Sur ce trajet ferroviaire, nous avons constaté deux incidents par an.\n",
    "On en déduit donc qu'il y en a donc 20 en moyenne sur 10 ans.\n",
    "\n",
    "\"\"\"\n",
    "\n",
    "\n",
    "# 1. Quelle est la probabilité qu'il y en ait exactement dix en dix ans?\n",
    "\"\"\" \n",
    " lambda = quantité moyenne  = 2 par an, soit 2 x 10 = 20 en 10 ans   \n",
    "\"\"\"\n",
    "ma_probabilite = ma_probabilite = poisson.pmf(10, 20)\n",
    "ma_probabilite = ma_probabilite * 100\n",
    "print(\"proba: \", ma_probabilite, \"%\")\n"
   ]
  },
  {
   "cell_type": "code",
   "execution_count": 49,
   "metadata": {},
   "outputs": [
    {
     "name": "stdout",
     "output_type": "stream",
     "text": [
      "Ma probabilité est de :  1.0811718826652723 %\n"
     ]
    }
   ],
   "source": [
    "# 2. Quelle est la probabilité qu'il y en ait moins de  dix en dix ans?\n",
    "# On calcule la probabilité \"moins que \"\n",
    "resultat = poisson.cdf(k=10, mu=20)\n",
    "print(\"Ma probabilité est de : \", resultat * 100, \"%\")"
   ]
  },
  {
   "cell_type": "code",
   "execution_count": 50,
   "metadata": {},
   "outputs": [
    {
     "name": "stdout",
     "output_type": "stream",
     "text": [
      "Ma probabilité est de :  98.91882811733473 %\n"
     ]
    }
   ],
   "source": [
    "# 2. Quelle est la probabilité qu'il y en ait plus de  dix en dix ans?\n",
    "# On calcule la probabilité \"plus que \"\n",
    "resultat = 1-poisson.cdf(10, 20)\n",
    "print(\"Ma probabilité est de : \", resultat * 100, \"%\")"
   ]
  },
  {
   "cell_type": "code",
   "execution_count": 51,
   "metadata": {},
   "outputs": [
    {
     "data": {
      "image/png": "[encoded data removed]",
      "text/plain": [
       "<Figure size 640x480 with 1 Axes>"
      ]
     },
     "metadata": {},
     "output_type": "display_data"
    }
   ],
   "source": [
    "# EXEMPLES DE GRAPHIQUES , CEST DU RANDOM ET CHANGE A CHAQUE FOIS NORMAL CEST DE LA PROBABILITE\n",
    "poisson = np.random.poisson(10, 20)\n",
    "plt.hist(poisson)\n",
    "plt.show()\n"
   ]
  }
 ],
 "metadata": {
  "kernelspec": {
   "display_name": "Python 3",
   "language": "python",
   "name": "python3"
  },
  "language_info": {
   "codemirror_mode": {
    "name": "ipython",
    "version": 3
   },
   "file_extension": ".py",
   "mimetype": "text/x-python",
   "name": "python",
   "nbconvert_exporter": "python",
   "pygments_lexer": "ipython3",
   "version": "3.8.0"
  },
  "orig_nbformat": 4,
  "vscode": {
   "interpreter": {
    "hash": "edb60928ae049011e12e2dc43646b5515922153b602d9d974a622a5d486bbfcc"
   }
  }
 },
 "nbformat": 4,
 "nbformat_minor": 2
}
