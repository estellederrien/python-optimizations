{
 "cells": [
  {
   "attachments": {},
   "cell_type": "markdown",
   "metadata": {},
   "source": [
    "# Loi Exponentielle\n",
    "\n",
    "Description:\n",
    "\n",
    "La distribution exponentielle est utilisée pour décrire le temps jusqu'au prochain événement, par ex. échec/succès...\n",
    "\n",
    "La distribution exponentielle est une distribution de probabilité qui est utilisée pour modéliser le temps que nous devons attendre jusqu'à ce qu'un certain événement se produise.\n",
    "\n",
    "Permet de résoudre :\\\n",
    "\" Quelle probabilité que le résultat soies exactement ... ? \"\\\n",
    "\" Quelle probabilité que le résultat soies moins que ... ?\"\\\n",
    "\" Quelle probabilité que le résultat soies  plus que ...?\"\\\n",
    "\" Quelle probabilité que le résultat soies entre valeur min et valeur max ?\"\n",
    "\n",
    "Paramètres:\n",
    "\n",
    "Si une variable aléatoire X suit une distribution exponentielle, alors la fonction de densité cumulée de X peut s'écrire :\n",
    "\n",
    "F(x; λ) = 1 – e-λx\n",
    "\n",
    "où:\n",
    "\n",
    "    λ : le paramètre de taux (calculé comme λ = 1/μ)\n",
    "    e : une constante à peu près égale à 2,718\n",
    "\n"
   ]
  },
  {
   "attachments": {},
   "cell_type": "markdown",
   "metadata": {},
   "source": [
    "Exemples d'utilisation:\n",
    "\n",
    "- Durée de vie des gadgets électroniques:\n",
    "\n",
    "La distribution exponentielle trouve sa principale application dans le calcul de la fiabilité des gadgets électroniques tels qu'un ordinateur portable, une batterie, un processeur, un téléphone portable, etc. Elle aide les ingénieurs et les fabricants à connaître le temps approximatif après lequel le produit se rompra. Les ingénieurs utilisent ces données pour améliorer la qualité de leurs produits en remplaçant les composants de mauvaise qualité par ceux de qualité relativement élevée.\n",
    "\n",
    "- Temps entre les clients:\n",
    "\n",
    "Le nombre de minutes entre les clients qui entrent dans un certain magasin peut être modélisé par la distribution exponentielle.\n",
    "\n",
    "Par exemple, supposons qu'un nouveau client entre dans un magasin toutes les deux minutes, en moyenne. Après l'arrivée d'un client, calculez la probabilité qu'un nouveau client arrive en moins d'une minute.\n",
    "\n",
    "- Temps entre les appels:\n",
    "\n",
    "Le temps entre les appels des clients dans différentes entreprises peut être modélisé à l'aide d'une distribution exponentielle.\n",
    "\n",
    "Par exemple, supposons qu'une banque reçoive un nouvel appel toutes les 10 minutes, en moyenne. Après qu'un client a appelé, déterminez la probabilité qu'un nouveau client appelle dans les 10 à 15 minutes.\n",
    "\n",
    "\n",
    "- Temps entre les éruptions de geyser:\n",
    "\n",
    "Le nombre de minutes entre les éruptions pour un certain geyser peut être modélisé par la distribution exponentielle.\n",
    "\n",
    "Par exemple, supposons que le nombre moyen de minutes entre les éruptions pour un certain geyser est de 40 minutes. Si un geyser éclate, quelle est la probabilité que nous devions attendre moins de 50 minutes pour la prochaine éruption ?\n",
    "\n",
    "- Prédire l'heure à laquelle un tremblement de terre pourrait se produire:\n",
    "\n",
    "La distribution exponentielle est largement utilisée par les sismologues et les géologues pour prédire l'heure approximative à laquelle un tremblement de terre est susceptible de se produire dans une localité particulière. À cette fin, l'historique des tremblements de terre et autres calamités naturelles survenant dans une localité particulière est enregistré et surveillé. Ces données servent d'informations et sont transmises à la fonction de distribution exponentielle. La sortie donne une heure approximative à laquelle le tremblement de terre pourrait se produire. Cela aide les ingénieurs en environnement et les responsables de la gestion des catastrophes à rédiger les mesures essentielles pour éviter les pertes de vies et minimiser le taux de destruction des biens.\n",
    "\n",
    "- Achat de billets d'avion:\n",
    "\n",
    "La plupart des voyageurs ont tendance à acheter leurs billets d'avion ou de train quelques jours avant leur voyage effectif pour éviter toute agitation de dernière minute. Supposons qu'un maximum de clients ont tendance à acheter leurs billets quinze jours avant d'effectuer un voyage, alors la probabilité qu'une personne réserve son billet dix jours avant la date réelle de début du voyage peut être calculée à l'aide d'une distribution exponentielle. . Cela aide les gestionnaires de vol à maintenir à l'avance un ratio client/occupation approprié. Il aide également les responsables du marketing transport à rédiger les accords et les offres appropriés pour attirer les clients potentiels et augmenter les ventes.\n",
    "\n",
    "Liens :\n",
    "https://www.statology.org/exponential-distribution-real-life-examples/\n",
    "https://www.statology.org/exponential-distribution-python/\n"
   ]
  },
  {
   "cell_type": "code",
   "execution_count": 3,
   "metadata": {},
   "outputs": [
    {
     "data": {
      "image/png": "[encoded data removed]",
      "text/plain": [
       "<Figure size 500x500 with 1 Axes>"
      ]
     },
     "metadata": {},
     "output_type": "display_data"
    }
   ],
   "source": [
    "# Tracer une fonction exponentielle random\n",
    "from numpy import random\n",
    "import matplotlib.pyplot as plt\n",
    "import seaborn as sns\n",
    "\n",
    "sns.displot(random.exponential(size=1000),kind=\"kde\")\n",
    "\n",
    "plt.show()\n"
   ]
  },
  {
   "attachments": {},
   "cell_type": "markdown",
   "metadata": {},
   "source": [
    "Le nombre de minutes entre les éruptions pour un certain geyser peut être modélisé par la distribution exponentielle.\n",
    "\n",
    "Par exemple, supposons que le nombre moyen de minutes entre les éruptions pour un certain geyser est de 40 minutes. Si un geyser éclate, quelle est la probabilité que nous devions attendre moins de 50 minutes pour la prochaine éruption ?\n",
    "\n",
    "Pour résoudre ce problème, nous devons d'abord calculer le paramètre de taux :\n",
    "\n",
    "    λ = 1/μ\n",
    "    λ = 1/40\n",
    "    λ = 0,025\n",
    "\n",
    "Nous pouvons ajouter λ = 0,025 et x = 50 à la formule du CDF \n",
    "\n",
    "\n",
    "\n"
   ]
  },
  {
   "cell_type": "code",
   "execution_count": 4,
   "metadata": {},
   "outputs": [
    {
     "name": "stdout",
     "output_type": "stream",
     "text": [
      "Ma probabilité est de :  71.34952031398099 %\n"
     ]
    }
   ],
   "source": [
    "# Quelle est la probabilité d'attendre moins de 50 minutes avant l'éruption ?\"\n",
    "\n",
    "from scipy.stats import expon\n",
    "\n",
    "# calculer la probabilité que x soit inférieur à 50 lorsque le taux moyen est de 40\n",
    "resultat = expon.cdf(x=50, scale=40)\n",
    "print(\"Ma probabilité est de : \", resultat * 100, \"%\")\n",
    "\n",
    "# La probabilité que nous devions attendre moins de 50 minutes pour la prochaine éruption est de 0,7135.\n",
    "#  P(X ≤ 50) = 0.7135\n",
    "   "
   ]
  },
  {
   "cell_type": "code",
   "execution_count": 5,
   "metadata": {},
   "outputs": [
    {
     "name": "stdout",
     "output_type": "stream",
     "text": [
      "Ma probabilité est de :  60.653065971263345 %\n"
     ]
    }
   ],
   "source": [
    "# Quelle est la probabilité d'attendre plus de 20 minutes avant l'éruption ?\"\n",
    "\n",
    "resultat = 1-expon.cdf(x=20, scale=40)\n",
    "print(\"Ma probabilité est de : \", resultat * 100, \"%\")\n",
    "\n"
   ]
  },
  {
   "attachments": {},
   "cell_type": "markdown",
   "metadata": {},
   "source": [
    "    Glossaire des commandes expon:\n",
    "    \n",
    "    cipy.stats.expon.CDF(): It is used for the cumulative distribution function.\n",
    "    scipy.stats.expon.PDF(): It is used for the probability density function.\n",
    "    scipy.stats.expon.rvs(): To get the random variates.\n",
    "    scipy.stats.expon.stats(): It is used to get the standard deviation, mean, kurtosis, and skew.\n",
    "    scipy.stats.expon.logPDF(): It is used to get the log related to the probability density function.\n",
    "    scipy.stats.expon.logCDF(): It is used to find the log related to the cumulative distribution function.\n",
    "    scipy.stats.expon.sf(): It is used to get the values of the survival function.\n",
    "    scipy.stats.expon.isf(): It is used to get the values of the inverse survival function.\n",
    "    scipy.stats.expon.logsf(): It is used to find the log related to the survival function.\n",
    "    scipy.stats.expon.mean(): It is used to find the mean related to the normal distribution.\n",
    "    scipy.stats.expon.median(): It is used to find the median related to the normal distribution.\n",
    "    scipy.stats.expon.var(): It is used to find the variance related to the distribution.\n",
    "    scipy.stats.expon.std(): It is used to find the standard deviation related to the distribution\n",
    "\n"
   ]
  }
 ],
 "metadata": {
  "kernelspec": {
   "display_name": "Python 3",
   "language": "python",
   "name": "python3"
  },
  "language_info": {
   "codemirror_mode": {
    "name": "ipython",
    "version": 3
   },
   "file_extension": ".py",
   "mimetype": "text/x-python",
   "name": "python",
   "nbconvert_exporter": "python",
   "pygments_lexer": "ipython3",
   "version": "3.8.0"
  },
  "orig_nbformat": 4,
  "vscode": {
   "interpreter": {
    "hash": "edb60928ae049011e12e2dc43646b5515922153b602d9d974a622a5d486bbfcc"
   }
  }
 },
 "nbformat": 4,
 "nbformat_minor": 2
}
