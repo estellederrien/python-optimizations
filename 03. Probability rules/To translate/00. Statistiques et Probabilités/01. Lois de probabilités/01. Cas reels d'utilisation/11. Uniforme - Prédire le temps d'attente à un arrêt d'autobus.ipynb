{
 "cells": [
  {
   "attachments": {},
   "cell_type": "markdown",
   "metadata": {},
   "source": [
    "# Loi Uniforme\n",
    "\n",
    "Source : EICNAM / Kamel Barkaoui\n",
    "U.E : RCP 103 \n",
    "LA LOI UNIFORME / LOI CONTINUE\n",
    "\n",
    "Prédire le temps d'attente à un arrêt d'autobus.\n",
    "\n",
    "Note: Voir aussi le fichier 12 pour comparer."
   ]
  },
  {
   "cell_type": "code",
   "execution_count": null,
   "metadata": {},
   "outputs": [],
   "source": [
    "# On importe la lib\n",
    "import math"
   ]
  },
  {
   "attachments": {},
   "cell_type": "markdown",
   "metadata": {},
   "source": [
    "Dans une ville idéale, les autobus passent à  chaque arrêt exactement toutes les 20 minutes.\n",
    "On appelle X le temps d'attente en minutes d'un autobus à un arrêt.\n",
    "X est une variable aléatoire suivant une loi uniforme sur l'intervalle [0;20], on a donc :\n",
    "\n",
    "La probabilité d'attendre entre 5 et 18 minutes est de  :\n",
    "P(5 <= X <= 18) = 18-5 / 20 = 13 /20"
   ]
  },
  {
   "cell_type": "code",
   "execution_count": null,
   "metadata": {},
   "outputs": [],
   "source": [
    "min = 5\n",
    "max = 18\n",
    "intervalle = 20\n",
    "\n",
    "probabilite = (max - min) / intervalle\n",
    "print(\"Probabilité: \", probabilite * 100, \" %\" )\n",
    "# Probabilité: 65 %"
   ]
  },
  {
   "attachments": {},
   "cell_type": "markdown",
   "metadata": {},
   "source": [
    "La probabilité d'attendre plus de 8 minutes est de :\n",
    "P( X >= 12 ) = P(12 <= X <= 20) = 20 - 12 / 20 = 8 / 20"
   ]
  },
  {
   "cell_type": "code",
   "execution_count": null,
   "metadata": {},
   "outputs": [],
   "source": [
    "min = 12\n",
    "max = 20\n",
    "intervalle = 20\n",
    "\n",
    "probabilite = (max - min) / intervalle\n",
    "print(\"Probabilité: \", probabilite * 100, \" %\" )\n",
    "# Probabilité: 40 %"
   ]
  }
 ],
 "metadata": {
  "kernelspec": {
   "display_name": "Python 3",
   "language": "python",
   "name": "python3"
  },
  "language_info": {
   "name": "python",
   "version": "3.8.0 (tags/v3.8.0:fa919fd, Oct 14 2019, 19:37:50) [MSC v.1916 64 bit (AMD64)]"
  },
  "orig_nbformat": 4,
  "vscode": {
   "interpreter": {
    "hash": "edb60928ae049011e12e2dc43646b5515922153b602d9d974a622a5d486bbfcc"
   }
  }
 },
 "nbformat": 4,
 "nbformat_minor": 2
}
