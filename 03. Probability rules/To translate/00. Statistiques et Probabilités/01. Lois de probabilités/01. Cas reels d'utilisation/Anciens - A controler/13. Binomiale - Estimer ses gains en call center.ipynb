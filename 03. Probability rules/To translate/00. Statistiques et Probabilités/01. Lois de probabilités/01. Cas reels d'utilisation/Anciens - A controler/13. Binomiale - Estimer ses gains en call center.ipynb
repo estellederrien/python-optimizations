{
 "cells": [
  {
   "attachments": {},
   "cell_type": "markdown",
   "metadata": {},
   "source": [
    "# La loi Binomiale\n",
    "\n",
    "Description : \n",
    "La distribution binomiale est une distribution de probabilité utilisée pour modéliser la probabilité qu'un certain nombre de \"succès\" se produisent au cours d'un certain nombre d'essais.\n",
    "\n",
    "L'histoire : <br>\n",
    "L'employé typique d'un centre d'appels effectue en moyenne 50 appels par jour.<br>\n",
    "La probabilité d'une conversion (achat) pour chaque appel est de 4%.<br>\n",
    "Le revenu moyen de votre entreprise pour chaque conversion est de 100 euros.<br>\n",
    "Le centre d'appels que vous analysez compte 100 employés.<br>\n",
    "Chaque employé reçoit 200 Euros par jour de travail. <br>\n",
    "\n",
    "\n",
    "\n",
    "Nous pouvons considérer chaque employé comme une variable aléatoire\n",
    "<br> à distribution binomiale avec les paramètres suivants:\n",
    "\n",
    "    n = 50\n",
    "\n",
    "    p = 4% \n",
    "    \n",
    "\n",
    "\n",
    "Lien : \n",
    "https://towardsdatascience.com/fun-with-the-binomial-distribution-96a5ecabf65b"
   ]
  },
  {
   "cell_type": "code",
   "execution_count": 5,
   "metadata": {},
   "outputs": [],
   "source": [
    "# Import des librairies\n",
    "import numpy as np\n",
    "import matplotlib.pyplot as plt\n",
    "# import seaborn as sns"
   ]
  },
  {
   "cell_type": "code",
   "execution_count": 6,
   "metadata": {},
   "outputs": [],
   "source": [
    "\n",
    "# ***** Quelle est la probabilité de profit pour l'entreprise, sur une journée ? *****\n",
    "# ***** Les profits peuvent être négatifs parfois ! *****\n",
    "\n",
    "# Simulation du centre d'appels\n",
    "\n",
    "# Nombre d'employés à simuler :\n",
    "employes = 100\n",
    "\n",
    "# Salaire par employé par jour de travail, en euros \n",
    "salaire = 200\n",
    "\n",
    "# Nombre d'appels indépendants paassés par l'employé, par jour\n",
    "n = 50\n",
    "\n",
    "# Probabilité de succès (achat) pour chaque appel\n",
    "p = 0.04\n",
    "\n",
    "# Gain pour un appel gagnant, en euros\n",
    "gain = 100\n",
    "\n",
    "# On exécute la loi binomiale sur nos paramètres précédents ...\n",
    "conversions = np.random.binomial(n, p, size=employes)\n",
    "\n"
   ]
  },
  {
   "cell_type": "code",
   "execution_count": 7,
   "metadata": {},
   "outputs": [
    {
     "name": "stdout",
     "output_type": "stream",
     "text": [
      "Taux de Conversion moyen par employé : 1.94\n",
      "Standard Deviation of Conversions per Employee: 1.28\n",
      "Total des conversions: 194\n",
      "Total des gains: 19400\n",
      "Total des salaires : 20000\n",
      "Total du Profit: -600\n"
     ]
    }
   ],
   "source": [
    "# Imprimer les métriques importants de notre centre d'appels, certains jours on gagne, d'autres on perds ...\n",
    "print('Taux de Conversion moyen par employé : ' + str(round(np.mean(conversions), 2)))\n",
    "print('Standard Deviation of Conversions per Employee: ' + str(round(np.std(conversions), 2)))\n",
    "print('Total des conversions: ' + str(np.sum(conversions)))\n",
    "print('Total des gains: ' + str(np.sum(conversions)*gain))\n",
    "print('Total des salaires : ' + str(employes*salaire))\n",
    "print('Total du Profit: ' + str(np.sum(conversions) * gain - employes * salaire))"
   ]
  }
 ],
 "metadata": {
  "kernelspec": {
   "display_name": "Python 3",
   "language": "python",
   "name": "python3"
  },
  "language_info": {
   "codemirror_mode": {
    "name": "ipython",
    "version": 3
   },
   "file_extension": ".py",
   "mimetype": "text/x-python",
   "name": "python",
   "nbconvert_exporter": "python",
   "pygments_lexer": "ipython3",
   "version": "3.8.0 (tags/v3.8.0:fa919fd, Oct 14 2019, 19:37:50) [MSC v.1916 64 bit (AMD64)]"
  },
  "orig_nbformat": 4,
  "vscode": {
   "interpreter": {
    "hash": "edb60928ae049011e12e2dc43646b5515922153b602d9d974a622a5d486bbfcc"
   }
  }
 },
 "nbformat": 4,
 "nbformat_minor": 2
}
