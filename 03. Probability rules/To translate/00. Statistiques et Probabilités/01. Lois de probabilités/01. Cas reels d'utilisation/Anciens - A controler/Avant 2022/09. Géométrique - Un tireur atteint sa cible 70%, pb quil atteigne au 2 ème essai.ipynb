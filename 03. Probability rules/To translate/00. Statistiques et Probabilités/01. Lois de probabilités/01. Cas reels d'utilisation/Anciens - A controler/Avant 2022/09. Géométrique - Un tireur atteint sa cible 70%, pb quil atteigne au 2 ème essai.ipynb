{
 "cells": [
  {
   "attachments": {},
   "cell_type": "markdown",
   "metadata": {},
   "source": [
    "\n",
    "\n",
    "# Loi géométrique ou de pascal \n",
    "\n",
    "- Python géométric law with numpy\n",
    "\n",
    "https://docs.scipy.org/doc/numpy-1.10.1/reference/generated/numpy.random.geometric.html\n",
    "\n"
   ]
  },
  {
   "attachments": {},
   "cell_type": "markdown",
   "metadata": {},
   "source": [
    " Problème : \n",
    "\n",
    " Un tireur atteint sa cible 70 % du temps , \n",
    "\n",
    " Quelle est la probabilité qu'il l'atteigne au 2ème coup ?\n",
    "\n",
    " Formule P(X = x) = q  **x-1 * p\n",
    "\n"
   ]
  },
  {
   "cell_type": "code",
   "execution_count": 3,
   "metadata": {},
   "outputs": [],
   "source": [
    " # Import des librairies\n",
    "import numpy as np\n",
    "import matplotlib.pyplot as plt\n",
    "import seaborn as sns\n"
   ]
  },
  {
   "cell_type": "code",
   "execution_count": 4,
   "metadata": {},
   "outputs": [
    {
     "name": "stdout",
     "output_type": "stream",
     "text": [
      "Le pourcentage qu'il atteigne sa cible au bout du deuxième coup est de   21.9 %\n"
     ]
    }
   ],
   "source": [
    "# P(X=2) = 0.3 **1 * 0.7 = 0.21\n",
    "result = (np.random.geometric(0.7, size=1000)==2).mean()\n",
    "print(\"Le pourcentage qu'il atteigne sa cible au bout du deuxième coup est de  \",result * 100, \"%\");\n",
    "\n"
   ]
  },
  {
   "cell_type": "code",
   "execution_count": 5,
   "metadata": {},
   "outputs": [],
   "source": [
    "\n",
    "# Trouver la moyenne et l'écart type\n",
    "# M = 1/p  = 1/0.7 = 1.43\n",
    "\n",
    "# Ecart type = racine de 2 sur p au carré \n",
    "# = 0.3 / 0.7 ** 2 = 0.78"
   ]
  }
 ],
 "metadata": {
  "kernelspec": {
   "display_name": "Python 3",
   "language": "python",
   "name": "python3"
  },
  "language_info": {
   "codemirror_mode": {
    "name": "ipython",
    "version": 3
   },
   "file_extension": ".py",
   "mimetype": "text/x-python",
   "name": "python",
   "nbconvert_exporter": "python",
   "pygments_lexer": "ipython3",
   "version": "3.8.0 (tags/v3.8.0:fa919fd, Oct 14 2019, 19:37:50) [MSC v.1916 64 bit (AMD64)]"
  },
  "orig_nbformat": 4,
  "vscode": {
   "interpreter": {
    "hash": "edb60928ae049011e12e2dc43646b5515922153b602d9d974a622a5d486bbfcc"
   }
  }
 },
 "nbformat": 4,
 "nbformat_minor": 2
}
