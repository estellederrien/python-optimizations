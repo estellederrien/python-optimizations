{
 "cells": [
  {
   "attachments": {},
   "cell_type": "markdown",
   "metadata": {},
   "source": [
    "# Loi géométrique ou de pascal \n",
    "\n",
    "Liens:\n",
    "https://docs.scipy.org/doc/numpy-1.10.1/reference/generated/numpy.random.geometric.html\n",
    "\n",
    "!!!  Merci à https://stackoverflow.com/users/4238408/quang-hoang  pour l'aide !!!"
   ]
  },
  {
   "attachments": {},
   "cell_type": "markdown",
   "metadata": {},
   "source": [
    "Notre Problème : \n",
    "\n",
    "\"\"\"  \n",
    "Les produits fabriqués par une machine ont un taux de défectueux de 3%. \n",
    "\n",
    "Quelle est la probabilité que le cinquième élément soit défectueux et inspecté ?\n",
    "\n",
    "\"\"\""
   ]
  },
  {
   "cell_type": "code",
   "execution_count": 2,
   "metadata": {},
   "outputs": [],
   "source": [
    " # Import des librairies\n",
    "import numpy as np\n",
    "import matplotlib.pyplot as plt\n",
    "import seaborn as sns"
   ]
  },
  {
   "cell_type": "code",
   "execution_count": 3,
   "metadata": {},
   "outputs": [
    {
     "name": "stdout",
     "output_type": "stream",
     "text": [
      "Le pourcentage de découvrir qu'un produit est défectueux est de  7.9 %\n"
     ]
    }
   ],
   "source": [
    "result = (np.random.geometric(0.3, size=1000)==5).mean()\n",
    "print(\"Le pourcentage de découvrir qu'un produit est défectueux est de \",result * 100, \"%\");\n",
    "\n"
   ]
  }
 ],
 "metadata": {
  "kernelspec": {
   "display_name": "Python 3",
   "language": "python",
   "name": "python3"
  },
  "language_info": {
   "codemirror_mode": {
    "name": "ipython",
    "version": 3
   },
   "file_extension": ".py",
   "mimetype": "text/x-python",
   "name": "python",
   "nbconvert_exporter": "python",
   "pygments_lexer": "ipython3",
   "version": "3.8.0"
  },
  "orig_nbformat": 4,
  "vscode": {
   "interpreter": {
    "hash": "edb60928ae049011e12e2dc43646b5515922153b602d9d974a622a5d486bbfcc"
   }
  }
 },
 "nbformat": 4,
 "nbformat_minor": 2
}
