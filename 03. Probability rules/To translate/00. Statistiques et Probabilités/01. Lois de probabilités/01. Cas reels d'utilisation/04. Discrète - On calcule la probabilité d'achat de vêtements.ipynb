{
 "cells": [
  {
   "attachments": {},
   "cell_type": "markdown",
   "metadata": {},
   "source": [
    "# La Loi de probabilité discrète :\n",
    "\n",
    "On a un vecteur de % d'acheteurs et un vecteur de taille de vêtements.\n",
    "\n",
    "Lien :\n",
    "https://stackoverflow.com/questions/59582648/turning-bars-to-a-normal-distribution\n"
   ]
  },
  {
   "cell_type": "code",
   "execution_count": 3,
   "metadata": {},
   "outputs": [],
   "source": [
    "# Import des librairies\n",
    "import matplotlib.pyplot as plt\n",
    "import statistics\n",
    "import seaborn as sns"
   ]
  },
  {
   "cell_type": "code",
   "execution_count": 4,
   "metadata": {},
   "outputs": [
    {
     "name": "stdout",
     "output_type": "stream",
     "text": [
      "Moyenne du pourcentage d'acheteurs :  6.666666666666667\n",
      "ecartType du pourcentage d'acteurs:  5.814595756329394\n"
     ]
    }
   ],
   "source": [
    "# On entre nos données, elles pourraient provenir d'une BDD\n",
    "# Pourcentage d'acheteurs en %\n",
    "h =[1,1,3,5,9,13,16,16,14,10,5,4,2,1,0]\n",
    "\n",
    "# Taille de vêtements\n",
    "x =  [34,35,36,37,38,39,40,41,42,43,44,45,46,47,48]\n",
    "\n"
   ]
  },
  {
   "cell_type": "code",
   "execution_count": null,
   "metadata": {},
   "outputs": [],
   "source": [
    "# Calcul de probabilités :\n",
    "# P(X=40) La probabilité que les acheteurs achètent du 40 est de 16 %\n",
    "# P(37 <= X <= 40) La probabilité que les acheteurs achètent entre 37 et 40 est de 5+9+13+16 = 43 %\n",
    "\n",
    "# On calcule moyenne et écart type\n",
    "moyenne = statistics.mean(h)\n",
    "ecartType = statistics.stdev(h)\n",
    "\n",
    "print (\"Moyenne du pourcentage d'acheteurs : \", moyenne)\n",
    "print (\"ecartType du pourcentage d'acteurs: \", ecartType)"
   ]
  },
  {
   "cell_type": "code",
   "execution_count": 2,
   "metadata": {},
   "outputs": [
    {
     "ename": "NameError",
     "evalue": "name 'plt' is not defined",
     "output_type": "error",
     "traceback": [
      "\u001b[1;31m---------------------------------------------------------------------------\u001b[0m",
      "\u001b[1;31mNameError\u001b[0m                                 Traceback (most recent call last)",
      "Cell \u001b[1;32mIn[2], line 2\u001b[0m\n\u001b[0;32m      1\u001b[0m \u001b[38;5;66;03m# On trace le graphique en barres\u001b[39;00m\n\u001b[1;32m----> 2\u001b[0m \u001b[43mplt\u001b[49m\u001b[38;5;241m.\u001b[39mylabel(\u001b[38;5;124m'\u001b[39m\u001b[38;5;124mbuyers \u001b[39m\u001b[38;5;124m%\u001b[39m\u001b[38;5;124m \u001b[39m\u001b[38;5;124m'\u001b[39m)\n\u001b[0;32m      3\u001b[0m plt\u001b[38;5;241m.\u001b[39mxlabel(\u001b[38;5;124m'\u001b[39m\u001b[38;5;124msize\u001b[39m\u001b[38;5;124m'\u001b[39m)\n\u001b[0;32m      4\u001b[0m plt\u001b[38;5;241m.\u001b[39mbar(x, height \u001b[38;5;241m=\u001b[39m h)\n",
      "\u001b[1;31mNameError\u001b[0m: name 'plt' is not defined"
     ]
    }
   ],
   "source": [
    "# On trace le graphique en barres\n",
    "plt.ylabel('buyers % ')\n",
    "plt.xlabel('size')\n",
    "plt.bar(x, height = h)\n",
    "plt.grid(True)\n",
    "plt.show()\n",
    "\n",
    "# Ensuite, on trace la loi normale par dessus ...\n",
    "data = []\n",
    "for i in range(len(x)): data += [x[i]]*h[i] \n",
    "sns.set()\n",
    "plt.figure(figsize=(10,5),dpi=100)\n",
    "sns.distplot(data, fit=norm, kde=False)\n",
    "plt.show()\n",
    "\n",
    "\n",
    "\n",
    "# Si on transforme les barres de  l'histogramme en une fonction continue f de densité.\n",
    " # Alors,  P(37 <= X <= 40) = aire de l'intégrale sous f() entre l'Intervalle x[37,40]"
   ]
  }
 ],
 "metadata": {
  "kernelspec": {
   "display_name": "Python 3",
   "language": "python",
   "name": "python3"
  },
  "language_info": {
   "codemirror_mode": {
    "name": "ipython",
    "version": 3
   },
   "file_extension": ".py",
   "mimetype": "text/x-python",
   "name": "python",
   "nbconvert_exporter": "python",
   "pygments_lexer": "ipython3",
   "version": "3.9.2"
  },
  "orig_nbformat": 4,
  "vscode": {
   "interpreter": {
    "hash": "edb60928ae049011e12e2dc43646b5515922153b602d9d974a622a5d486bbfcc"
   }
  }
 },
 "nbformat": 4,
 "nbformat_minor": 2
}
