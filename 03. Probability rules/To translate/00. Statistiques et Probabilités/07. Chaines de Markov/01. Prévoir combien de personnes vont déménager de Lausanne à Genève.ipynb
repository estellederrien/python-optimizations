{
 "cells": [
  {
   "attachments": {},
   "cell_type": "markdown",
   "metadata": {},
   "source": [
    "\n",
    "# Chaine de markov discrète à 2 états  :\n",
    "\n",
    "On veut avoir des prévisions des déménagements, en fonction du nombre d'états dans le temps .\n",
    "\n",
    "\n",
    "Source : \n",
    "Youtube PROMATH\n",
    "\n",
    "\n",
    "https://www.youtube.com/watch?v=6Hgqs7T0_1M\n",
    "\n",
    "https://www.youtube.com/channel/UC2flwAftkypBx2gLIamxwqg/videos\n",
    "\n",
    "https://stackoverflow.com/questions/52490184/raising-a-matrix-to-the-nth-power"
   ]
  },
  {
   "cell_type": "code",
   "execution_count": 1,
   "metadata": {},
   "outputs": [],
   "source": [
    "# 0. On charge la librairie\n",
    "import numpy as np"
   ]
  },
  {
   "cell_type": "code",
   "execution_count": 2,
   "metadata": {},
   "outputs": [],
   "source": [
    "# 1. En introduction, On Définit notre fonction qui va calculer une puissance d'une matrice de transition\n",
    "def matrixMul(a, n):\n",
    "    if(n <= 1):\n",
    "        return a\n",
    "    else:\n",
    "        return np.matmul(matrixMul(a, n-1), a)"
   ]
  },
  {
   "cell_type": "code",
   "execution_count": 3,
   "metadata": {},
   "outputs": [],
   "source": [
    "# 2. On crée la ** matrice de transition ** de notre graphe markov discret, celle ci comprends la probabilité de passer d'un état à un autre.\n",
    "\"\"\" \n",
    "La probabilité  de rester à Lausanne est de  : 0.8 \n",
    "La probabilité  de déménagement  de Lausanne à Genève est de  : 0.2 \n",
    "La probabilité  de déménagement  de Genève à Lausanne: 0.1 \n",
    "La probabilité  de rester  à Genève  est de : 0.9  \n",
    "\"\"\"\n",
    "transition_matrix = [[0.8,0.2], [0.1,0.9]]"
   ]
  },
  {
   "cell_type": "code",
   "execution_count": 4,
   "metadata": {},
   "outputs": [],
   "source": [
    "# 3. On précise le nombre d'états qui va nous donner notre probabilité.\n",
    "nombre_etats = 3"
   ]
  },
  {
   "cell_type": "code",
   "execution_count": 5,
   "metadata": {},
   "outputs": [
    {
     "name": "stdout",
     "output_type": "stream",
     "text": [
      "[[0.562 0.438]\n",
      " [0.219 0.781]]\n"
     ]
    }
   ],
   "source": [
    "# 4. On calcule notre matrice à la puissance nombre_etats\n",
    "transition_matrix_power = matrixMul(transition_matrix,nombre_etats)\n",
    "\n",
    "print(transition_matrix_power )"
   ]
  },
  {
   "cell_type": "code",
   "execution_count": 6,
   "metadata": {},
   "outputs": [],
   "source": [
    "# 5. On crée le ** vecteur de probabilités de l'état initial **\n",
    "# 20% de la popuplation est sur Lausanne et 80% sur Genève, on peut aussi le mettre n personnes\n",
    "probabilite_0 = np.array([2000,8000]) "
   ]
  },
  {
   "cell_type": "code",
   "execution_count": 7,
   "metadata": {},
   "outputs": [
    {
     "name": "stdout",
     "output_type": "stream",
     "text": [
      "[2876. 7124.]\n"
     ]
    }
   ],
   "source": [
    "# 6. On calcule les probabilités de l'état du système en fonction du nombre de temps.\n",
    "\n",
    "\"\"\" \n",
    "Etat du système après une période de temps  = P1 = probabilité_0 . transition_matrix\n",
    "Etat du système après 2 période de temps  = P2 = probabilité_0 . transition_matrix ** 2\n",
    "Etat du système après 3 période de temps  = P3 = probabilité_0 . transition_matrix ** 3 -> c'est celle qu'on a choisi de calculer.\n",
    "Etat du système après n période de temps  = Pn = probabilité_0 . transition_matrix ** n\n",
    "\"\"\"\n",
    "\n",
    "c = np.dot(probabilite_0,transition_matrix_power) \n",
    "\n",
    "print(c)\n",
    "# [2876. 7124.]"
   ]
  },
  {
   "attachments": {},
   "cell_type": "markdown",
   "metadata": {},
   "source": [
    "\"\"\" \n",
    "Note additionnelle : \n",
    "\n",
    "CE CODE NE FONCTIONNE PAS, LE NP POWER NE DONNE PAS LA BONNE MATRICE DE TRANSITION ELEVEE AU CUBE CEST PAS CORRECT, je ne sais pas pourquoi  !\n",
    "transition_matrix = np.array([[0.8,0.2], \n",
    "[0.1,0.9]])\n",
    "transition_matrix_cube = np.power(transition_matrix, 3)\n",
    "print(transition_matrix_cube) \n",
    "\n",
    "\"\"\""
   ]
  }
 ],
 "metadata": {
  "kernelspec": {
   "display_name": "Python 3",
   "language": "python",
   "name": "python3"
  },
  "language_info": {
   "codemirror_mode": {
    "name": "ipython",
    "version": 3
   },
   "file_extension": ".py",
   "mimetype": "text/x-python",
   "name": "python",
   "nbconvert_exporter": "python",
   "pygments_lexer": "ipython3",
   "version": "3.8.0"
  },
  "orig_nbformat": 4,
  "vscode": {
   "interpreter": {
    "hash": "edb60928ae049011e12e2dc43646b5515922153b602d9d974a622a5d486bbfcc"
   }
  }
 },
 "nbformat": 4,
 "nbformat_minor": 2
}
