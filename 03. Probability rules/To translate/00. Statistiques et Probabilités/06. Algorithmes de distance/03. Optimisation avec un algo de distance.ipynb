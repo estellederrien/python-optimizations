{
 "cells": [
  {
   "attachments": {},
   "cell_type": "markdown",
   "metadata": {},
   "source": [
    "# Optimisation avec un algo de distance.\n",
    "\n",
    "A venir"
   ]
  },
  {
   "cell_type": "code",
   "execution_count": 2,
   "metadata": {},
   "outputs": [
    {
     "ename": "ImportError",
     "evalue": "cannot import name 'generate_unique_node' from 'networkx.utils' (c:\\Users\\secretgirl\\AppData\\Local\\Programs\\Python\\Python38\\lib\\site-packages\\networkx\\utils\\__init__.py)",
     "output_type": "error",
     "traceback": [
      "\u001b[1;31m---------------------------------------------------------------------------\u001b[0m",
      "\u001b[1;31mImportError\u001b[0m                               Traceback (most recent call last)",
      "Cell \u001b[1;32mIn[2], line 4\u001b[0m\n\u001b[0;32m      2\u001b[0m \u001b[39mimport\u001b[39;00m \u001b[39mnetworkx\u001b[39;00m \u001b[39mas\u001b[39;00m \u001b[39mnx\u001b[39;00m\n\u001b[0;32m      3\u001b[0m \u001b[39mimport\u001b[39;00m \u001b[39mmatplotlib\u001b[39;00m\u001b[39m.\u001b[39;00m\u001b[39mpyplot\u001b[39;00m \u001b[39mas\u001b[39;00m \u001b[39mplt\u001b[39;00m \n\u001b[1;32m----> 4\u001b[0m \u001b[39mimport\u001b[39;00m \u001b[39mbellmanford\u001b[39;00m \u001b[39mas\u001b[39;00m \u001b[39mbf\u001b[39;00m\n\u001b[0;32m      6\u001b[0m \u001b[39m# Write your code here\u001b[39;00m\n\u001b[0;32m      7\u001b[0m \u001b[39m# Create empty graph\u001b[39;00m\n\u001b[0;32m      8\u001b[0m G \u001b[39m=\u001b[39m nx\u001b[39m.\u001b[39mDiGraph()\n",
      "File \u001b[1;32mc:\\Users\\secretgirl\\AppData\\Local\\Programs\\Python\\Python38\\lib\\site-packages\\bellmanford\\__init__.py:1\u001b[0m\n\u001b[1;32m----> 1\u001b[0m \u001b[39mfrom\u001b[39;00m \u001b[39m.\u001b[39;00m\u001b[39mbellmanford\u001b[39;00m \u001b[39mimport\u001b[39;00m negative_edge_cycle, bellman_ford, bellman_ford_tree\n",
      "File \u001b[1;32mc:\\Users\\secretgirl\\AppData\\Local\\Programs\\Python\\Python38\\lib\\site-packages\\bellmanford\\bellmanford.py:2\u001b[0m\n\u001b[0;32m      1\u001b[0m \u001b[39mfrom\u001b[39;00m \u001b[39mcollections\u001b[39;00m \u001b[39mimport\u001b[39;00m deque\n\u001b[1;32m----> 2\u001b[0m \u001b[39mfrom\u001b[39;00m \u001b[39mnetworkx\u001b[39;00m\u001b[39m.\u001b[39;00m\u001b[39mutils\u001b[39;00m \u001b[39mimport\u001b[39;00m generate_unique_node\n\u001b[0;32m      4\u001b[0m \u001b[39mdef\u001b[39;00m \u001b[39mnegative_edge_cycle\u001b[39m(G, weight\u001b[39m=\u001b[39m\u001b[39m'\u001b[39m\u001b[39mweight\u001b[39m\u001b[39m'\u001b[39m):\n\u001b[0;32m      5\u001b[0m     \u001b[39m\"\"\"\u001b[39;00m\n\u001b[0;32m      6\u001b[0m \u001b[39m    If there is a negative edge cycle anywhere in G, returns True.\u001b[39;00m\n\u001b[0;32m      7\u001b[0m \u001b[39m    Also returns the total weight of the cycle and the nodes in the cycle.\u001b[39;00m\n\u001b[1;32m   (...)\u001b[0m\n\u001b[0;32m     47\u001b[0m \u001b[39m    removes that extra node.\u001b[39;00m\n\u001b[0;32m     48\u001b[0m \u001b[39m    \"\"\"\u001b[39;00m\n",
      "\u001b[1;31mImportError\u001b[0m: cannot import name 'generate_unique_node' from 'networkx.utils' (c:\\Users\\secretgirl\\AppData\\Local\\Programs\\Python\\Python38\\lib\\site-packages\\networkx\\utils\\__init__.py)"
     ]
    }
   ],
   "source": [
    "# 0. import des libs\n",
    "import networkx as nx\n",
    "import matplotlib.pyplot as plt \n",
    "import bellmanford as bf\n",
    "\n",
    "# Write your code here\n",
    "# Create empty graph\n",
    "G = nx.DiGraph()\n",
    "# Add nodes\n",
    "G.add_node(\"7pm\")\n",
    "G.add_node(\"8pm\")\n",
    "G.add_node(\"9pm\")\n",
    "G.add_node(\"10pm\")\n",
    "G.add_node(\"11pm\")\n",
    "G.add_node(\"12am\")\n",
    "G.add_node(\"1am\")\n",
    "G.add_node(\"2am\")\n",
    "# Add edges for 4-hour shifts\n",
    "G.add_edge(\"7pm\", \"11pm\", length=50)\n",
    "G.add_edge(\"8pm\", \"12am\", length=50)\n",
    "G.add_edge(\"9pm\", \"1am\", length=50)\n",
    "# Add edges for 3-hour shifts\n",
    "G.add_edge(\"7pm\", \"10pm\", length=40)\n",
    "G.add_edge(\"8pm\", \"11pm\", length=40)\n",
    "G.add_edge(\"9pm\", \"12am\", length=40)\n",
    "G.add_edge(\"10pm\", \"1am\", length=40)\n",
    "G.add_edge(\"11pm\", \"2am\", length=40)\n",
    "# Add edges for 2-hour shifts\n",
    "G.add_edge(\"7pm\", \"9pm\", length=30)\n",
    "G.add_edge(\"8pm\", \"10pm\", length=30)\n",
    "G.add_edge(\"9pm\", \"11pm\", length=30)\n",
    "G.add_edge(\"10pm\", \"12pm\", length=30)\n",
    "G.add_edge(\"11pm\", \"1am\", length=30)\n",
    "G.add_edge(\"12pm\", \"2am\", length=30)\n",
    "# Solve shortest path problem\n",
    "path_length, path_nodes, negative_cycle = bf.bellman_ford(G, source=\"7pm\",target=\"2am\", weight=\"length\")\n",
    "print(\"Is there a negative cycle? {0}\".format(negative_cycle))\n",
    "print(\"Shortest path length: {0}\".format(path_length))\n",
    "print(\"Shortest path: {0}\".format(path_nodes))"
   ]
  }
 ],
 "metadata": {
  "kernelspec": {
   "display_name": "Python 3",
   "language": "python",
   "name": "python3"
  },
  "language_info": {
   "codemirror_mode": {
    "name": "ipython",
    "version": 3
   },
   "file_extension": ".py",
   "mimetype": "text/x-python",
   "name": "python",
   "nbconvert_exporter": "python",
   "pygments_lexer": "ipython3",
   "version": "3.8.0"
  },
  "orig_nbformat": 4
 },
 "nbformat": 4,
 "nbformat_minor": 2
}
