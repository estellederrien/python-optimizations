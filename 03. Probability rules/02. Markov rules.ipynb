{
 "cells": [
  {
   "cell_type": "markdown",
   "id": "cf119751",
   "metadata": {},
   "source": [
    "COmin soon"
   ]
  }
 ],
 "metadata": {
  "language_info": {
   "name": "python"
  }
 },
 "nbformat": 4,
 "nbformat_minor": 5
}
