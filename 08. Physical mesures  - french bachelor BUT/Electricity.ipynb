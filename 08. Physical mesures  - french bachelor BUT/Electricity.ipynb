{
 "cells": [
  {
   "cell_type": "markdown",
   "id": "a35ee549",
   "metadata": {},
   "source": [
    "<div style=\"text-align:center\">\n",
    "<img src=\"img/electricity.png\" width=\"500\">\n",
    "</div>"
   ]
  },
  {
   "cell_type": "markdown",
   "id": "3baceb11",
   "metadata": {},
   "source": [
    "## Introduction.\n",
    "\n",
    "This notebook is my study based on the final year STL class and the first year physical measurements class in the French BUT program.\n",
    "I'm adding the formulas in Python.\n",
    "My studies are primarily based on the DUNOD books \"Physical Measurements - IUT Passport\" and the Fourier book for the final year STL.\n",
    "\n",
    "*** CREATION IN PROGRESS ***<br>\n",
    "Notebook created by GITHUB ESTELLE DERRIEN"
   ]
  },
  {
   "cell_type": "code",
   "execution_count": null,
   "id": "8db30bb4",
   "metadata": {
    "vscode": {
     "languageId": "plaintext"
    }
   },
   "outputs": [],
   "source": [
    "## Summary\n",
    "\n",
    "1. <b> Terminale STL High school basics </b>\n",
    "    - 1.1 \n",
    "    - 1.2 \n",
    "    - 1.3 \n",
    "    - 1.4 \n"
   ]
  }
 ],
 "metadata": {
  "language_info": {
   "name": "python"
  }
 },
 "nbformat": 4,
 "nbformat_minor": 5
}
