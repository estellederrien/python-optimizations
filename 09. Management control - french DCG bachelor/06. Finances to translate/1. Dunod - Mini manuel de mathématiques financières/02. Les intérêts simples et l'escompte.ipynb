{
 "cells": [
  {
   "attachments": {},
   "cell_type": "markdown",
   "metadata": {},
   "source": [
    "# Les intérêts simples et l'escompte.\n",
    "\n",
    "en python pour la finance .\n",
    "\n",
    "Quelques Formules en Python réalisées par Estelle Derrien (Huleux) ou trouvées sur Internet, basées sur le livre  Mini manuel de mathématiques financières de Dunod.\n",
    "\n",
    "Sources : \n",
    "\n",
    "1. Dunod - Mini manuel de mathématiques financières\n",
    "2. Wikibooks : https://fr.wikibooks.org/wiki/Math%C3%A9matiques_avec_Python_et_Ruby/Suites_en_Python\n",
    "3. https://fr.wikihow.com/calculer-un-int%C3%A9r%C3%AAt-simple"
   ]
  },
  {
   "cell_type": "code",
   "execution_count": 1,
   "metadata": {},
   "outputs": [
    {
     "name": "stdout",
     "output_type": "stream",
     "text": [
      "1060.0\n",
      "1060.0\n",
      "60.0\n"
     ]
    }
   ],
   "source": [
    "# -------------------------------------\n",
    "# 1. La formule des intérêts simples .\n",
    "# -------------------------------------\n",
    "\n",
    "\"\"\" INTERETS PAR ANNEES \"\"\"\n",
    "#Les intérêts simples se calculent à partir du capital initial.\n",
    "#Initialisation des variables :\n",
    "n = 2     #duree_placement\n",
    "t = 0.03  #taux_interet annuel de 3 % écrit au format décimal\n",
    "C0 = 1000 #capital placé\n",
    "\n",
    "# La somme totale gagnée à l'année n\n",
    "Cn = C0 * ( 1 + n * t)\n",
    "print(Cn) # 1060\n",
    "\n",
    "# On transforme ça en function :\n",
    "def placement_annuel(nb_annees,taux_decimal,capital_place):\n",
    "    return capital_place * (1 + nb_annees * taux_decimal)\n",
    "\n",
    "print(placement_annuel(2,0.03,1000)) # 1060\n",
    "\n",
    "# La somme des intérêts sur n années est :\n",
    "In = n * C0 * t\n",
    "print(In)\n",
    "# 60"
   ]
  },
  {
   "cell_type": "code",
   "execution_count": 2,
   "metadata": {},
   "outputs": [
    {
     "name": "stdout",
     "output_type": "stream",
     "text": [
      "252999.99999999997\n",
      "198000.0\n"
     ]
    }
   ],
   "source": [
    "\"\"\" INTERETS PAR MOIS \"\"\"\n",
    "# Initialisation des variables :\n",
    "n = 120     # duree_placement avec un taux mensuel = 10 ans * 12 mois\n",
    "t = 0.03    # taux_interet MENSUEL de 3 % écrit au format décimal\n",
    "C0 = 55000  #capital placé\n",
    "\n",
    "#La somme totale perçue au mois n\n",
    "Cn = C0 * ( 1 + n * t)\n",
    "print(Cn)\n",
    "# 252999\n",
    "\n",
    "#La somme des intérêts sur n mois est :\n",
    "In = n * C0 * t\n",
    "print(In)\n",
    "# 198 000 euros c'est énorme car c'est un taux mensuel."
   ]
  },
  {
   "cell_type": "code",
   "execution_count": 3,
   "metadata": {},
   "outputs": [
    {
     "name": "stdout",
     "output_type": "stream",
     "text": [
      "2.7777777777777777\n",
      "1041.111111111111\n",
      "1041.111111111111\n"
     ]
    }
   ],
   "source": [
    "\"\"\" INTERETS PAR JOURS \"\"\"\n",
    "#EXEMPLE 3 : Durée comptée en jours , sur une année comptable de 360 jours.\n",
    "\n",
    "#Initialisation des variables :\n",
    "j = 50     #duree_placement en jours\n",
    "t = 0.02  #taux_interet annuel de 2 % écrit au format décimal\n",
    "C0 = 1000 #capital placé\n",
    "\n",
    "# Les intérêts gagnés au bout de 50 jours sont  de (Formule du livre Dunod)\n",
    "# Ij = C0 * t * (j/360)\n",
    "\n",
    "somme = C0 * t * (j / 360)\n",
    "print(somme) # Idem livre Dunod 2.777\n",
    "\n",
    "# Exemple 4 : Durée comptée en jours(Formule du livre Dunod)\n",
    "\n",
    "\"\"\" ON réalise un placement de 1000 euros à 8% du 1ere mars au 2 septembre .\n",
    "Le nombre de jours entre ces 2 dates est de 31-1 + 30 +31 +30 + 30 +31 + 31 + 2 = 185 jours \"\"\"\n",
    "\n",
    "j = 185     #duree_placement en jours\n",
    "t = 0.08  #taux_interet annuel de 2 % écrit au format décimal\n",
    "C0 = 1000 #capital placé\n",
    "\n",
    "# Le capital au terme du placement est :\n",
    "# capital = C0 * (1 + t * (j/360))\n",
    "capital = C0 * (1 + t * (j/360))\n",
    "print(capital) # Idem livre Dunod 1041.11\n",
    "\n",
    "# On transforme ça en function :\n",
    "def placement_journalier(nb_jours,taux_decimal,capital_place):\n",
    "    return capital_place * (1 + taux_decimal * (nb_jours/360))\n",
    "\n",
    "print(placement_journalier(185,0.08,1000)) # Idem livre Dunod 1041.11"
   ]
  },
  {
   "cell_type": "code",
   "execution_count": 4,
   "metadata": {},
   "outputs": [
    {
     "name": "stdout",
     "output_type": "stream",
     "text": [
      "15437.499999999998\n",
      "518.75\n"
     ]
    }
   ],
   "source": [
    "# -------------------------------------\n",
    "# 2. La formule des versements constants .\n",
    "# -------------------------------------\n",
    "\n",
    "\"\"\" Une personne place une somme S tous les mois sur un compte au taux T pendant M mois .\n",
    "Quelle est la valeur du capital après le dernier versement ? \"\"\"\n",
    "\n",
    "\"\"\" Exemple : Une personne place une somme S de 1000 tous les mois sur un compte au taux T de 5 % pendant 15 mois .\n",
    "Quelle est la valeur du capital après le dernier versement ? \"\"\"\n",
    "\n",
    "somme = 1000\n",
    "nb_mois = 15\n",
    "taux = 0.05\n",
    "\n",
    "#Formule du livre Dunod : \n",
    "capital = somme * nb_mois * ( 1 + taux * ((nb_mois - 1 )/ 24 ))\n",
    "print(capital) # Idem livre Dunod  :  15 437,50E\n",
    "\n",
    "# On transforme ça en function :\n",
    "def versement_constant(somme,nb_mois,taux):\n",
    "    return somme * nb_mois * ( 1 + taux * ((nb_mois - 1 )/ 24 ))\n",
    "\n",
    "print(versement_constant(50,10,0.10)) # La personne qui investit 50 euros par mois sur 10 mois à 10% aura un capital de 518.75 euros à la fin des 10 mois, soit 18.75 d'intérêts\n"
   ]
  },
  {
   "cell_type": "code",
   "execution_count": 5,
   "metadata": {},
   "outputs": [
    {
     "name": "stdout",
     "output_type": "stream",
     "text": [
      "3.8181818181818183\n",
      "3.8181818181818183\n",
      "3.8181818181818183\n"
     ]
    }
   ],
   "source": [
    "# -------------------------------------\n",
    "# 3. Calculer un taux moyen .\n",
    "# -------------------------------------\n",
    "\n",
    "\"\"\" On investit à des taux différents, et on veut calculer le taux moyen de nos investissements. \"\"\"\n",
    "\n",
    "# On place 1000 E pendant 50 jours à 6 % et l'on place 2000E pendant 30 jours à 2%, quel est le taux moyen de l'ensemble de ces 2 placements?\n",
    "\n",
    "\"\"\"\n",
    "Cn sont les capitaux placés respectifs en euros\n",
    "Dn sont les durées respectifs en jours\n",
    "Tn sont les taux respectifs en décimal\n",
    "\"\"\"\n",
    "\n",
    "taux_moyen = (1000 * 50 * 0.06 + 2000 * 30 * 0.02) / (1000 * 50  + 2000 * 30 )\n",
    "print(taux_moyen * 100) # Idem Livre Dunod : 3.82%\n",
    "\n",
    "# On transforme ça en function ( Version naïve, pour tester , en fait, il faut un loop dedans assez compliqué):\n",
    "def taux_moyen(Cn,Dn,Tn):\n",
    "    return  (Cn[0] * Dn[0] * Tn[0] + Cn[1] * Dn[1] * Tn[1]) / (Cn[0] * Dn[0]  + Cn[1] * Dn[1] ) * 100\n",
    "\n",
    "Cn = [1000,2000]\n",
    "Dn = [50,30]\n",
    "Tn = [0.06,0.02]\n",
    "\n",
    "print(taux_moyen(Cn,Dn,Tn))  # Idem Livre Dunod : 3.82%\n",
    "\n",
    "# Tentative de faire le loop , pour rendre la function générique et vraiment effective : \n",
    "\n",
    "def taux_moyen(Cn,Dn,Tn):\n",
    "    \n",
    "    var1 = []\n",
    "    var2 = []\n",
    "    \n",
    "    for  idx, val in enumerate(Cn ):\n",
    "        var1.append(Cn[idx] * Dn[idx] * Tn[idx]) \n",
    "    for idx, val in enumerate(Cn):\n",
    "        var2.append(Cn[idx] * Dn[idx] ) \n",
    "\n",
    "    total1 = 0\n",
    "    total2 = 0\n",
    "\n",
    "    for x in var1:\n",
    "        total1 += x\n",
    "    for x in var2:\n",
    "        total2 += x\n",
    "\n",
    "    return (total1 / total2) * 100\n",
    "    \n",
    "  \n",
    "\n",
    "print(taux_moyen(Cn,Dn,Tn))  # Idem Livre Dunod : 3.82%   = OK la function est bonne !\n"
   ]
  },
  {
   "cell_type": "code",
   "execution_count": 6,
   "metadata": {},
   "outputs": [],
   "source": [
    "# -------------------------------------\n",
    "# 4. Calcul de l'escompte .\n",
    "# -------------------------------------"
   ]
  }
 ],
 "metadata": {
  "kernelspec": {
   "display_name": "Python 3",
   "language": "python",
   "name": "python3"
  },
  "language_info": {
   "codemirror_mode": {
    "name": "ipython",
    "version": 3
   },
   "file_extension": ".py",
   "mimetype": "text/x-python",
   "name": "python",
   "nbconvert_exporter": "python",
   "pygments_lexer": "ipython3",
   "version": "3.8.0"
  },
  "orig_nbformat": 4,
  "vscode": {
   "interpreter": {
    "hash": "edb60928ae049011e12e2dc43646b5515922153b602d9d974a622a5d486bbfcc"
   }
  }
 },
 "nbformat": 4,
 "nbformat_minor": 2
}
