{
 "cells": [
  {
   "cell_type": "markdown",
   "metadata": {},
   "source": [
    "<h1>Les différents emprunts</h1>\n",
    "\n",
    "Les investissements sont généralement financés par des emprunts, <br>qui sont ensuite remboursés par annuités ou\n",
    "mensualités.\n",
    "\n",
    "Une annuité est constituée de l'amortissement de l'emprunt (part remboursée) + l'intérêt qui est\n",
    "calculé sur la somme prêtée au cours de la période.\n",
    "\n",
    "Il existe deux modes de calcul des remboursements : l’amortissement constant (peu utilisé) et l’annuité constante\n",
    "    \n"
   ]
  },
  {
   "cell_type": "markdown",
   "metadata": {},
   "source": [
    "\n",
    "<b>1. L' Amortissement constant (annuité dégressive)</b><br>\n",
    "Amortissement = Emprunt/nombre annuité.<br>\n",
    "Intérêt = Emprunt restant à amortir x Taux d’intérêt<br>\n",
    "Annuité = Amortissement + Intérêt<br>\n",
    "Valeur net = Emprunt restant d^en début de période – Amortissement de l’année<br>"
   ]
  },
  {
   "cell_type": "markdown",
   "metadata": {},
   "source": [
    "Function qui calcule les remboursements de type Amortissement constant (annuité dégressive) :"
   ]
  },
  {
   "cell_type": "code",
   "execution_count": 4,
   "metadata": {},
   "outputs": [
    {
     "name": "stdout",
     "output_type": "stream",
     "text": [
      "20000 ! 1000.0 ! 5000.0 ! 6000.0\n",
      "15000.0 ! 750.0 ! 5000.0 ! 5750.0\n",
      "10000.0 ! 500.0 ! 5000.0 ! 5500.0\n",
      "5000.0 ! 250.0 ! 5000.0 ! 5250.0\n",
      "cout du credit : 2500.0\n",
      "None\n"
     ]
    }
   ],
   "source": [
    "# Auteur : Thierry Barry\n",
    "# Affiche le tableau de remboursement d’un emprunt dans le cas d’un amortissement constant. \n",
    "# Saisir le montant du capital emprunté, le taux d’intérêt (5 pour 5%, par exemple) \n",
    "# et la durée en année.\n",
    "# Auteur : https://workshop.numworks.com/python/thierry-barry/emprunt_amort_ct\n",
    "\n",
    "def e_amort_ct(k,i,n):\n",
    "  list1=[]\n",
    "  list2=[]\n",
    "  list3=[]\n",
    "  amort=round(k/n,2)\n",
    "  j=0\n",
    "  sint=0\n",
    "  while j<n:\n",
    "    interet=round(k*i/100,2)\n",
    "    sint=sint+interet\n",
    "    annuite=amort+interet\n",
    "    list1.append(k)\n",
    "    list2.append(interet)\n",
    "    list3.append(annuite)\n",
    "    k=round(k-amort,2)\n",
    "    j=j+1\n",
    "  for l in range(n):\n",
    "    print(list1[l],'!',list2[l],'!',amort,'!',list3[l])\n",
    "  print ('cout du credit :',sint)\n",
    "\n",
    "print(e_amort_ct(20000,5,4))"
   ]
  },
  {
   "cell_type": "markdown",
   "metadata": {},
   "source": [
    "Note de Nico : Le résultat correspond bien au cours de CTERRIER.COM"
   ]
  },
  {
   "cell_type": "markdown",
   "metadata": {},
   "source": [
    "<b>2. Les annuités constantes</b>\n",
    "Á chaque échéance l’annuité est la même."
   ]
  },
  {
   "cell_type": "code",
   "execution_count": 6,
   "metadata": {},
   "outputs": [
    {
     "name": "stdout",
     "output_type": "stream",
     "text": [
      "20000 ! 1000.0 ! 4640.24 ! 5640.24\n",
      "15359.76 ! 767.99 ! 4872.25 ! 5640.24\n",
      "10487.51 ! 524.38 ! 5115.85 ! 5640.24\n",
      "5371.66 ! 268.58 ! 5371.66 ! 5640.24\n",
      "cout du credit : 2560.95\n",
      "None\n"
     ]
    }
   ],
   "source": [
    "# Auteur : Thierry Barry\n",
    "# https://workshop.numworks.com/python/thierry-barry/emprunt_amort_ct\n",
    "# Affiche le tableau de remboursement d’un emprunt dans le cas d’une annuité constante. \n",
    "# Saisir le montant du capital emprunté, le taux d’intérêt (5 pour 5%, par exemple) \n",
    "# et la durée en année.\n",
    "\n",
    "from math import *\n",
    "def e_ann_ct(k,i,n):\n",
    "  list1=[]\n",
    "  list2=[]\n",
    "  list3=[]\n",
    "  i=i/100\n",
    "  annuite=round(k*i/(1-pow((1+i),-n)),2)\n",
    "  annuite=trunc(annuite*100)/100\n",
    "  j=0\n",
    "  sint=0\n",
    "  while j<n:\n",
    "    interet=round(k*i,2)\n",
    "    interet=trunc(interet*100)/100\n",
    "    sint=sint+interet\n",
    "    amort=annuite-interet\n",
    "    amort=trunc(amort*100)/100\n",
    "    list1.append(k)\n",
    "    list2.append(interet)\n",
    "    list3.append(amort)\n",
    "    k=round(k-amort,2)\n",
    "    k=trunc(k*100)/100\n",
    "    j=j+1\n",
    "  for l in range(n):\n",
    "    print(list1[l],'!',list2[l],'!',list3[l],'!',annuite)\n",
    "  print ('cout du credit :',sint)\n",
    "\n",
    "print(e_ann_ct(20000,5,4))"
   ]
  },
  {
   "cell_type": "code",
   "execution_count": null,
   "metadata": {},
   "outputs": [],
   "source": []
  }
 ],
 "metadata": {
  "kernelspec": {
   "display_name": "Python 3",
   "language": "python",
   "name": "python3"
  },
  "language_info": {
   "codemirror_mode": {
    "name": "ipython",
    "version": 3
   },
   "file_extension": ".py",
   "mimetype": "text/x-python",
   "name": "python",
   "nbconvert_exporter": "python",
   "pygments_lexer": "ipython3",
   "version": "3.8.5"
  }
 },
 "nbformat": 4,
 "nbformat_minor": 4
}
