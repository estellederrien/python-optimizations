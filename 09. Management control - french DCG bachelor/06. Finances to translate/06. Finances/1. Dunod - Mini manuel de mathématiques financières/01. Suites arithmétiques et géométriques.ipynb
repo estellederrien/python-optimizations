{
 "cells": [
  {
   "attachments": {},
   "cell_type": "markdown",
   "metadata": {},
   "source": [
    "# Suites arithmétiques et géométriques \n",
    "en python pour la finance \n",
    "\n",
    "Quelques Formules en Python réalisées par Estelle Derrien (Huleux) ou trouvées sur Internet, basées sur le livre  Mini manuel de mathématiques financières de Dunod.\n",
    "\n",
    "Sources : \n",
    "\n",
    "1. Dunod - Mini manuel de mathématiques financières\n",
    "2. Dunod - Méthodes mathématiques pourl'informatique pour le BTS SIO\n",
    "3. Yvan Monka - SUITES : Calculer la somme des termes d'une suite (ALGORITHME) - Tutoriel PYTHON \n",
    "4. Python au lycée - tome 2 -  http://exo7.emath.fr/cours/livre-python2.pdf \n",
    "5. https://emilypython.wordpress.com/2019/02/20/calculer-le-terme-de-rang-n-dune-suite-recurrente-avec-python/\n",
    "6. https://www.jeuxmaths.fr/cours/suites-geometriques.php"
   ]
  },
  {
   "attachments": {},
   "cell_type": "markdown",
   "metadata": {},
   "source": [
    "- PARTIE 1 : Suite arithmétique \n",
    "\n",
    "\n",
    "\n",
    "La raison d'une suite arithmétique est r.\n",
    "\n",
    "U0 est le premier terme, U1 le second ,U2 le troisième et ainsi de suite ...\n",
    "\n",
    "Définition globale:\n",
    "Un + 1 = Un + r \n",
    "\n",
    "\n",
    "Les suites arithmétiques se retrouvent lorsque il y a un ajout ou un retrait d'une même somme à la meme période .\n",
    "Loyer + 400 par mois, Retirer 100E de son compte tous les ans, intérêts simples , production augemente de 100 par jours.\n"
   ]
  },
  {
   "attachments": {},
   "cell_type": "markdown",
   "metadata": {},
   "source": [
    " -------------------------------------------------------------------------------\n",
    " 1. Calculer la valeur d' un terme d'une suite arithmétique si on connait u0 ( Le premier terme):\n",
    " Un = U0 + n * r\n",
    " -------------------------------------------------------------------------------\n",
    "\n",
    " Observons un exemple. \n",
    " \n",
    " On veut calculer le terme de rang 5 de la suite arithmétique de premier terme 1 et de raison 2. \n",
    "\n",
    " Autrement dit, on va additionner  2 à u0 , puis 2 à u1 , etc."
   ]
  },
  {
   "cell_type": "code",
   "execution_count": 9,
   "metadata": {},
   "outputs": [
    {
     "name": "stdout",
     "output_type": "stream",
     "text": [
      "11\n"
     ]
    }
   ],
   "source": [
    "u0 = 1        # on initialise u au premier terme de la suite\n",
    "n = 5         # on veut calculer le terme de rang 5\n",
    "raison = 2    # on ajoute 2 à chaque fois.\n",
    "\n",
    "# Un = U0 + n * r\n",
    "u5 = u0 + n * raison\n",
    "\n",
    "print(u5)\n",
    "# ça nous donne la valeur de 11 pour le terme de rang 5"
   ]
  },
  {
   "attachments": {},
   "cell_type": "markdown",
   "metadata": {},
   "source": [
    "Seconde solution :\n",
    "Il est possible de mettre tout ceci dans une fonction Python nommée calculerTermeRecurrence, qui va prendre trois paramètres : "
   ]
  },
  {
   "cell_type": "code",
   "execution_count": 10,
   "metadata": {},
   "outputs": [
    {
     "name": "stdout",
     "output_type": "stream",
     "text": [
      "11\n"
     ]
    }
   ],
   "source": [
    "def calculerTermeRecurrence(premierTerme,f,n):\n",
    "    u = premierTerme\n",
    "    for index in range(n):\n",
    "        u = f(u)\n",
    "    return u\n",
    "\n",
    "def double(x):\n",
    "    return 2 + x\n",
    "\n",
    "\n",
    "print(calculerTermeRecurrence(1,double,5))"
   ]
  },
  {
   "attachments": {},
   "cell_type": "markdown",
   "metadata": {},
   "source": [
    "2. Calculer la somme des termes d'une suite arithmétique :"
   ]
  },
  {
   "cell_type": "code",
   "execution_count": 11,
   "metadata": {},
   "outputs": [
    {
     "name": "stdout",
     "output_type": "stream",
     "text": [
      "9\n"
     ]
    }
   ],
   "source": [
    "def somme(n):\n",
    "    u=1\n",
    "    s=0\n",
    "    for i in range(0,n+1):\n",
    "            s=s+u\n",
    "            u=2+u\n",
    "           \n",
    "    return(s)\n",
    "\n",
    "print(somme(2)) # On itère jusqu'au terme u3 ( La boucle for commence à 0, donc ca compte 3 termes)\n",
    "# La somme est de u0+ u1 +u2 = 1 + 3 + 5 = 9\n"
   ]
  },
  {
   "attachments": {},
   "cell_type": "markdown",
   "metadata": {},
   "source": [
    "Seconde solution : \n",
    "Avec cette formule  Dunod - Mini manuel de mathématiques financières:\n",
    "\n",
    "Ma_somme = ((1er terme + dernier terme) * Nb de termes) / 2 "
   ]
  },
  {
   "cell_type": "code",
   "execution_count": 12,
   "metadata": {},
   "outputs": [
    {
     "name": "stdout",
     "output_type": "stream",
     "text": [
      "9.0\n"
     ]
    }
   ],
   "source": [
    "Ma_somme = ((1 + 5) * 3) / 2\n",
    "print(Ma_somme) #  La somme est 9"
   ]
  },
  {
   "attachments": {},
   "cell_type": "markdown",
   "metadata": {},
   "source": [
    "- PARTIE 2 : Suite géométriques \n",
    "\n",
    "La raison d'une suite géométrique est q.\n",
    "\n",
    "U0 est le premier terme, U1 le second ,U2 le troisième et ainsi de suite : Un\n",
    "\n",
    "Définition globale:\n",
    "Un + 1 = q * Un\n",
    "\n",
    "ON les retrouve quand on multiplie par un facteur constant \n",
    "Une production baisse de 2% par mois, salaire augmente de 10% par ans, l'entreprise double tous les 3 ans, les intérêts composés.\n",
    "\n",
    "Une augmentation de 10% est une multiplication par 1.1\n",
    "Une baisse de 2% signifie une multiplication par 0.98\n",
    "\n",
    "Si z est une valeur\n",
    "Une augmentation  de +t% = z * 1 + t%\n",
    "Une baisse de -t% = z * 1 - t%"
   ]
  },
  {
   "cell_type": "code",
   "execution_count": 13,
   "metadata": {},
   "outputs": [
    {
     "name": "stdout",
     "output_type": "stream",
     "text": [
      "32\n"
     ]
    }
   ],
   "source": [
    "# -------------------------------------------------------------------------------\n",
    "# 1. Calculer la valeur d'un terme d'une suite géométrique si on connait u0 ( Le premier terme):\n",
    "# Un = q^n * U0\n",
    "# -------------------------------------------------------------------------------\n",
    "\n",
    "u0 = 1       # on initialise u au premier terme de la suite\n",
    "n = 5        # on veut calculer le terme de rang 5\n",
    "q = 2   # on multiplie par 2 à chaque fois.\n",
    "\n",
    "# Un = q^n * U0 ->c'est la formule du livre Dunod Finances\n",
    "u5 = q ** n * u0\n",
    "print(u5)"
   ]
  },
  {
   "attachments": {},
   "cell_type": "markdown",
   "metadata": {},
   "source": [
    "Seconde solution :\n",
    "Il est possible de mettre tout ceci dans une fonction Python nommée calculerTermeRecurrence, qui va prendre trois paramètres : "
   ]
  },
  {
   "cell_type": "code",
   "execution_count": 14,
   "metadata": {},
   "outputs": [
    {
     "name": "stdout",
     "output_type": "stream",
     "text": [
      "32\n"
     ]
    }
   ],
   "source": [
    "def calculerTermeRecurrence(premierTerme,f,n):\n",
    "    u = premierTerme\n",
    "    for index in range(n):\n",
    "        u = f(u)\n",
    "    return u\n",
    "\n",
    "def double(x):\n",
    "    return 2 * x\n",
    "\n",
    "print(calculerTermeRecurrence(1,double,5))\n"
   ]
  },
  {
   "cell_type": "code",
   "execution_count": null,
   "metadata": {},
   "outputs": [],
   "source": [
    "# -------------------------------------------------------------------------------\n",
    "# 2. Calculer la valeur d'un terme d'une suite géométrique si on ne dispose pas du premier terme:\n",
    "# Un = q^n-k * Uk\n",
    "# -------------------------------------------------------------------------------\n",
    "\n",
    "# Exemple : Si on a une suite  de raison 5 avec u3 = 625 , alors k = 3 dans la formule précédente.\n",
    "# On peux ensuite calculer Un ...\n",
    "#  A FAIRE NON TERMINE ....\n",
    "\n",
    "\n"
   ]
  },
  {
   "cell_type": "code",
   "execution_count": null,
   "metadata": {},
   "outputs": [],
   "source": [
    "# -------------------------------------------------------------------------------\n",
    "# 3. Somme des termes d'une suite géométrique\n",
    "# Somme = (q ^ (Nombre de termes+1) - 1 / q - 1 ) * 1er terme \n",
    "# avec q qui est la raison   avec q ≠ 1 et q ≠ 0,\n",
    "# -------------------------------------------------------------------------------\n",
    "\n",
    "u0 = 1       # on initialise u au premier terme de la suite\n",
    "n = 5        # on veut calculer le terme de rang 5\n",
    "q = 2        # on multiplie par 2 à chaque fois.\n",
    "\n",
    "# Somme = (q ^ (Nombre de termes+1) - 1 / q - 1 ) * 1er terme ->c'est la formule du livre Dunod Finances\n",
    "c = q ** (n + 1)\n",
    "Somme =  (  (c - 1) / (q - 1)) * u0 \n",
    "print(Somme) # u5 32 -> somme u0 + u1 + u 2 = 63 = OK\n",
    "\n",
    "# u0 1\n",
    "# u1 2\n",
    "# u2 4 -> somme u0 + u1 + u 2 = 7\n",
    "# u3 8 -> somme u0 + u1 + u 2 + u3= 15\n",
    "# u4 16 -> somme u0 + u1 + u 2 + u3 + u4 = 31\n",
    "# u5 32 -> somme u0 + u1 + u 2 + u3 + u4 + u5 = 63\n",
    "# u6 64\n",
    "\n",
    "# -------------------------------------------------------------------------------\n",
    "# 3. Somme des termes d'une suite géométrique sans commencer par u0\n",
    "# Somme = (q ^ (Nombre de termes+1) - 1 / q - 1 ) * 1er terme \n",
    "# avec q qui est la raison   avec q ≠ 1 et q ≠ 0,\n",
    "# -------------------------------------------------------------------------------\n",
    "u3 = 15\n",
    "n = 5\n",
    "# Somme = (q ^ Nombre de termes - 1 / q - 1 ) * 1er terme\n",
    "c = q ** n \n",
    "Somme =  (  (c - 1) / (q - 1)) * u3 \n",
    "print(Somme) # u5 32 -> somme u0 + u1 + u 2 = 63 = OK"
   ]
  },
  {
   "cell_type": "markdown",
   "metadata": {},
   "source": []
  }
 ],
 "metadata": {
  "kernelspec": {
   "display_name": "Python 3",
   "language": "python",
   "name": "python3"
  },
  "language_info": {
   "codemirror_mode": {
    "name": "ipython",
    "version": 3
   },
   "file_extension": ".py",
   "mimetype": "text/x-python",
   "name": "python",
   "nbconvert_exporter": "python",
   "pygments_lexer": "ipython3",
   "version": "3.8.0"
  },
  "orig_nbformat": 4,
  "vscode": {
   "interpreter": {
    "hash": "edb60928ae049011e12e2dc43646b5515922153b602d9d974a622a5d486bbfcc"
   }
  }
 },
 "nbformat": 4,
 "nbformat_minor": 2
}
