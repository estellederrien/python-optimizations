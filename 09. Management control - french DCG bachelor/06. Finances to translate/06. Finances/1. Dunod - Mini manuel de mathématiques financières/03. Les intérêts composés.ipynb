{
 "cells": [
  {
   "attachments": {},
   "cell_type": "markdown",
   "metadata": {},
   "source": [
    "# Les intérêts composés:\n",
    "\n",
    "Sources : \n",
    "\n",
    "1. Dunod - Mini manuel de mathématiques financières\n",
    "\n",
    "Fonctions élaborées à partir des fonctions mathématiques, par Estelle derrien huleux"
   ]
  },
  {
   "attachments": {},
   "cell_type": "markdown",
   "metadata": {},
   "source": [
    "CH 1. \n",
    " A/ Les intérêts simples se calculent sur la somme placée initiale, \n",
    "mais les intérêts composés se calculent sur la somme l'année passée."
   ]
  },
  {
   "cell_type": "code",
   "execution_count": 1,
   "metadata": {},
   "outputs": [
    {
     "name": "stdout",
     "output_type": "stream",
     "text": [
      "1157.6250000000002\n",
      "1157.6250000000002\n"
     ]
    }
   ],
   "source": [
    "# Somme initiale investie\n",
    "S0 = 1000 \n",
    "# Intérêts en décimal de 5%\n",
    "i = 0.05\n",
    "# Durée en années\n",
    "n = 3 \n",
    "\n",
    "# Formule : \n",
    "# Sn = S0(1+i)**n\n",
    "# Sn est une suite géométrique de premier terme S0 et de raison (1 + i)\n",
    "\n",
    "S3 = S0 * (1+i) ** n\n",
    "print(S3)# La somme dispo au bout de 3 ans est de 1157 , 63 E soit 157,63 Eu d'intérêts\n",
    "\n",
    "# Modélisation de la function \n",
    "def valeur_acquise(somme_initiale,duree_placement,taux):\n",
    "    return somme_initiale * (1 + taux) ** duree_placement\n",
    "    \n",
    "print(valeur_acquise(1000,3,0.05)) # 1157.6250000000002 idem livre Dunod"
   ]
  },
  {
   "attachments": {},
   "cell_type": "markdown",
   "metadata": {},
   "source": [
    "B/ ReTrouver le capital initial placé en connaissant la valeur acquise du placement ,\n",
    " la durée du placement (3) et le taux de placement (0.05) :"
   ]
  },
  {
   "cell_type": "code",
   "execution_count": null,
   "metadata": {},
   "outputs": [],
   "source": [
    "valeurPlacee = S3 *(1 + i) ** -n\n",
    "print(valeurPlacee) # 1000\n",
    "\n",
    "# Modélisation de la function \n",
    "def retrouver_valeur_placee(valeur_acquise,duree_placement,taux):\n",
    "    return valeur_acquise *(1 + taux) ** -duree_placement\n",
    "\n",
    "print(retrouver_valeur_placee(1157.63,3,0.05)) #1000.0043191879927 idem livre Dunod"
   ]
  },
  {
   "attachments": {},
   "cell_type": "markdown",
   "metadata": {},
   "source": [
    "C/ Calculer la durée de temps que va mettre un investissement S0 à atteindre \n",
    "une certaine valeur Sn à un taux de i % en décimal."
   ]
  },
  {
   "cell_type": "code",
   "execution_count": null,
   "metadata": {},
   "outputs": [],
   "source": [
    "# durée = logarithme( Sn / S0 ) / logarithme(1 + i) (Formule du livre Dunod)\n",
    "\n",
    "# Exemple : En combien de temps un capital de 1000 euros peut il atteindre une valeur acquise de 1215.51 E au taux annuel de 5 % en décimal?\n",
    "\n",
    "S0 = 1000\n",
    "Sn = 1215.51\n",
    "t = 0.05\n",
    "\n",
    "import math\n",
    "duree = math.log(S0 / Sn) / math.log(1 + t)\n",
    "print(duree) # -4.000 , Dans le livre c'est 4 ans. (Pourquoi négatif ?)\n",
    "\n",
    "# Modélisation de la function + a FAIRE \n",
    "# def duree_atteinte"
   ]
  },
  {
   "cell_type": "code",
   "execution_count": null,
   "metadata": {},
   "outputs": [],
   "source": [
    "\"\"\" 2.3 VERSEMENTS CONSTANTS \"\"\"\n",
    "\n",
    "\"\"\" On place 1000 Euros pendant 15 mois en intérêts simples à 5% .\n",
    "Déterminer la valeur acquise des versements de ce compte :  \"\"\"\n",
    "\n",
    "\"\"\" capital = capital acquis en fin de durée.\n",
    "m = Nombre de mois ou l'on place le versement constant.\n",
    "t = taux en décimal\n",
    "s = somme placée chaque mois.\n",
    "\n",
    "capital = s * m * ( 1 + t * (m - 1 / 24)) \"\"\"\n",
    "\n",
    "# capital = 1000 * 15  * (1 +0.005 * (15-1/24) ) = 15 437,50 Euros // Resultat DUNOD\n",
    "\n",
    "# Modélisation de la function des versements constants.\n",
    "\n",
    "\"\"\" \n",
    "m = Nombre de mois ou l'on place le versement constant.\n",
    "t = taux en décimal\n",
    "s = somme placée chaque mois.\n",
    " \"\"\"\n",
    "def valeur_acquise_des_versements_constants(s,m,t):\n",
    "    return s * m * ( 1 + t * ((m - 1) / 24))\n",
    "\n",
    "print(valeur_acquise_des_versements_constants(1000,15,0.05)) #  idem livre Dunod\n"
   ]
  }
 ],
 "metadata": {
  "kernelspec": {
   "display_name": "Python 3",
   "language": "python",
   "name": "python3"
  },
  "language_info": {
   "codemirror_mode": {
    "name": "ipython",
    "version": 3
   },
   "file_extension": ".py",
   "mimetype": "text/x-python",
   "name": "python",
   "nbconvert_exporter": "python",
   "pygments_lexer": "ipython3",
   "version": "3.8.0"
  },
  "orig_nbformat": 4,
  "vscode": {
   "interpreter": {
    "hash": "edb60928ae049011e12e2dc43646b5515922153b602d9d974a622a5d486bbfcc"
   }
  }
 },
 "nbformat": 4,
 "nbformat_minor": 2
}
