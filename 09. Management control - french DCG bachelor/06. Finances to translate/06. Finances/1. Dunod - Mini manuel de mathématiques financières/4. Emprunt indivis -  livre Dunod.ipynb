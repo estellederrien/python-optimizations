{
 "cells": [
  {
   "cell_type": "markdown",
   "metadata": {},
   "source": [
    "<h1>L'emprunt indivis:</h1>\n",
    "\n",
    "Lorsque l'emprunteur s'adresse à un unique préteur, on parle d'emprunt Indivis.\n",
    "\n",
    "-Mode de calcul général d'un emprunt\n",
    "-Annuités de remboursements\n",
    "-Intérêts\n",
    "\n",
    "Sources : \n",
    "1. Dunod - Mini manuel de mathématiques financières\n",
    "\n",
    "Nouvelle note de Nicolas : Ce fichier est clair et les informations différent beaucoup.\n",
    "2. https://www.cterrier.com/cours/gestionfi/3aemprunt.pdf\n",
    "\n",
    "Fonctions Python élaborées à partir des fonctions mathématiques, par Nicolas Estel HULEUX , Année 2021"
   ]
  },
  {
   "cell_type": "code",
   "execution_count": 1,
   "metadata": {},
   "outputs": [],
   "source": [
    "# 1 Mode de calcul de l'emprunt\n",
    "\n",
    "# K = capital prété à la date , exemple : 10000\n",
    "# i = taux !! annuel !! de l'emprunt , exemple : 10 % \n",
    "# A = tableau contenant les remboursements par années, le dernier indice est inconnu : exemple : [4000,3000,x]\n",
    "\n",
    "#Formule : \n",
    "# K = (A1 / 1 + i) + (A2 / (1 + i)^2) + (A3 / (1+i)^3) + ... + (An / (1+i)^n)\n"
   ]
  },
  {
   "cell_type": "code",
   "execution_count": 2,
   "metadata": {},
   "outputs": [
    {
     "name": "stdout",
     "output_type": "stream",
     "text": [
      "Que voulez-vous faire ?\n",
      "1 - Calculer mes mensualités\n",
      "2 - Calculer ma capacité d'emprunt\n"
     ]
    },
    {
     "name": "stdin",
     "output_type": "stream",
     "text": [
      "Votre choix :  1\n",
      "Capital emprunté en euros :  10000\n",
      "Taux annuel en % :  10\n",
      "Durée en mois :  36\n"
     ]
    },
    {
     "name": "stdout",
     "output_type": "stream",
     "text": [
      "Votre mensualité sera de 322.67 euros\n",
      "Le montant total des intérêts versés sera de 1616.19 euros\n"
     ]
    }
   ],
   "source": [
    "\"\"\"\n",
    "Apparté Nico : Programme plus simple dont le résultat et la formule est différent de celui du livre DUNOD.\n",
    "les mensualités sont equipréparties par mois ( Amortissement constant) , mais dans le livre Dunod, les mensualités  \n",
    "sont variables.\n",
    "\n",
    "Voir le fichier PDF CHAPITRE 4 - cterrier.com pour les fonctions.\n",
    "\n",
    "Amortissement = Emprunt/nombre annuité.\n",
    "Intérêt = Emprunt restant à amortir x Taux d’intérêt\n",
    "Annuité = Amortissement + Intérêt\n",
    "Valeur net = Emprunt restant d^en début de période – Amortissement de l’année\n",
    "\n",
    "Auteur : https://mathete.net/calcul-mensualites-emprunt/\n",
    "Programme : emprunt.py\n",
    "Langage : Python 3\n",
    "Auteur : Matt\n",
    "Description : calcule la mensualité ou la capacité d'emprunt d'un prêt bancaire\n",
    "\"\"\"\n",
    "print(\"Que voulez-vous faire ?\")\n",
    "print(\"1 - Calculer mes mensualités\")\n",
    "print(\"2 - Calculer ma capacité d'emprunt\")\n",
    "choix = int(input(\"Votre choix : \"))\n",
    "if (choix == 1) :\n",
    "    C = float(input(\"Capital emprunté en euros : \"))\n",
    "    T = float(input(\"Taux annuel en % : \"))\n",
    "    N = int(input(\"Durée en mois : \"))\n",
    "    t = T / 12 # calcul du taux mensuel\n",
    "    q = 1 + t / 100 # calcul du coefficient multiplicateur associé à une hausse de t%\n",
    "    M = q**N * C * (1 - q) / (1 - q**N)\n",
    "    print(\"Votre mensualité sera de {0:.2f} euros\".format(M))\n",
    "    I = N * M - C # calcul des intérêts versés\n",
    "    print(\"Le montant total des intérêts versés sera de {0:.2f} euros\".format(I))\n",
    "elif (choix == 2) :\n",
    "    M = float(input(\"Capacité de remboursement mensuelle en euros : \"))\n",
    "    T = float(input(\"Taux annuel en % : \"))\n",
    "    N = int(input(\"Durée en mois : \"))\n",
    "    t = T / 12\n",
    "    q = 1 + t / 100\n",
    "    C = M * (1 - q**N) / (q**N * (1 - q))\n",
    "    print(\"Votre capacité d'emprunt s'élève à {0:.2f} euros\".format(C))\n",
    "    I = N * M - C\n",
    "    print(\"Le montant total des intérêts versés sera de {0:.2f} euros\".format(I))"
   ]
  },
  {
   "cell_type": "code",
   "execution_count": null,
   "metadata": {},
   "outputs": [],
   "source": []
  }
 ],
 "metadata": {
  "kernelspec": {
   "display_name": "Python 3",
   "language": "python",
   "name": "python3"
  },
  "language_info": {
   "codemirror_mode": {
    "name": "ipython",
    "version": 3
   },
   "file_extension": ".py",
   "mimetype": "text/x-python",
   "name": "python",
   "nbconvert_exporter": "python",
   "pygments_lexer": "ipython3",
   "version": "3.8.5"
  }
 },
 "nbformat": 4,
 "nbformat_minor": 4
}
