{
 "cells": [
  {
   "cell_type": "code",
   "execution_count": null,
   "metadata": {},
   "outputs": [],
   "source": [
    "\"\"\"  Capital asset pricing model (CAPM).\n",
    " Traduction: Le Modèle d'évaluation des actifs financiers\n",
    " Ce modèle va nous permettre de comprendre l'importance de la linéarité en finances .\n",
    "\n",
    " Le CPAM introduite une relation entre les risques et le taux de rendement d'un portefeuille financier.\n",
    " https://fr.wikipedia.org/wiki/Mod%C3%A8le_d%27%C3%A9valuation_des_actifs_financiers\n",
    " http://www.jybaudot.fr/Bourse/theoptf.html\n",
    "\n",
    " Le \"Capital Asset Pricing Model\" (CAPM) ou Modèle d'évaluation des actifs financiers (MEDAF) est le modèle d'évaluation le plus célèbre et \n",
    " le plus utilisé malgré le fait que sa pertinence empirique soit très discutée.\n",
    " Créé par Sharpe, Lintner et Mossin dans les années 60 et basé sur des études réalisées par Markowitz en 1952 \n",
    " (la théorie moderne du portefeuille), cet outil décrit la relation entre le risque d'un actif financier et la rentabilité espérée de cet actif.\n",
    " L'idée générale sur laquelle le modèle CAPM est basée est la suivante : les investisseurs sont rémunérés par la valeur temps de l'argent et par \n",
    " le risque. La valeur temps de l'argent est représentée par le taux sans risque, qui correspond généralement au taux de placement\n",
    " le plus faible mais le moins risqué, type livret A. Le risque est représenté par le Beta, rapport historique entre la volatilité de l'actif et celle du marché.\n",
    "\n",
    "\n",
    " Voici la formule de base du modèle (Livre):\n",
    "\n",
    "Ri = Rf + βi(Rmkt - Rf)\n",
    "\n",
    " pour interpréter la formule : https://www.abcbourse.com/apprendre/19_capm.html\n",
    "Pour un titre i, ses retours sont définis comme Ri\n",
    " et sa bêta comme βi. Le CAPM définit le\n",
    "rendement du titre par la somme du taux sans risque Rf et de la multiplication de\n",
    "son bêta avec la prime de risque. La prime de risque peut être considérée comme le marché\n",
    "les rendements excédentaires du portefeuille hors taux sans risque. \n",
    "\n",
    " La frontière efficace :\n",
    "\n",
    "Le modèle CAPM mesure la relation entre le risque et le rendement des actions pour\n",
    "chaque action du panier de portefeuille.\n",
    "Les combinaisons de portefeuilles optimaux reposent sur une\n",
    "ligne appelée la frontière efficace.\n",
    "\n",
    " Le long de la frontière efficace, il existe un point tangent qui désigne le meilleur\n",
    " portefeuille optimal disponible offrant le taux de rendement le plus élevé en échange du\n",
    " risque le plus bas possible. Ce portefeuille optimal au point tangent est connu sous le nom de\n",
    " portefeuille de marché.\n",
    " \"\"\""
   ]
  },
  {
   "cell_type": "raw",
   "metadata": {},
   "source": [
    " \"\"\"Supposons que nous soyons intéressés par la recherche de la bêta βi d'un titre. On peut régresser\n",
    "le rendement des actions de la société Ri contre les rendements du marché Rm avec une interception\n",
    "α sous la forme l'équation Ri =  α +βRm.\n",
    "Considérez l'ensemble des données sur le rendement des actions et le rendement du marché mesurées sur cinq\n",
    "périodes de temps:\n",
    "\n",
    "Time period Stock returns Market returns\n",
    "1           0.065            0.055\n",
    "2           0.0265         - 0.09\n",
    "3           -0.0593        -0.041\n",
    "4           -0.001          0.045\n",
    "5            0.0346         0.022\n",
    "\n",
    "En utilisant le module de statistiques de SciPy, nous effectuerons une régression des moindres carrés sur\n",
    "le modèle CAPM, et dériver les valeurs de α et βi en exécutant le code suivant en Python:\n",
    "\"\"\" \n",
    "\n"
   ]
  },
  {
   "cell_type": "code",
   "execution_count": 6,
   "metadata": {},
   "outputs": [
    {
     "name": "stdout",
     "output_type": "stream",
     "text": [
      "0.5077431878770808 -0.008481900352462384\n"
     ]
    }
   ],
   "source": [
    "\"\"\" Linear regression with SciPy \"\"\"\n",
    "from scipy import stats\n",
    "stock_returns = [0.065, 0.0265, -0.0593, -0.001, 0.0346]\n",
    "mkt_returns = [0.055, -0.09, -0.041, 0.045, 0.022]\n",
    "beta, alpha, r_value, p_value, std_err = stats.linregress(stock_returns, mkt_returns)\n",
    "print (beta, alpha)"
   ]
  },
  {
   "cell_type": "code",
   "execution_count": null,
   "metadata": {},
   "outputs": [],
   "source": [
    "# le beta du stock est 0.5077\n",
    "#L'équation décrivant le SML peut être écrite comme suit:\n",
    "# E(Ri) = Rf + Bi[E(Rm)-Rf]\n",
    "\n",
    "\"\"\" \n",
    "Le terme E(Rm)-Rf est la prime de risque de marché et E(Rm) est le rendement attendu\n",
    "sur le portefeuille de marché. \n",
    "\n",
    "Rf est le rendement du taux sans risque, \n",
    "E(Ri) est le rendement de l'actif i, et βi est le bêta de l'actif.\n",
    "\n",
    "Supposons que le taux sans risque soit de 5% et la prime de risque du marché de 8,5%.\n",
    "Quel est le rendement attendu du stock? \n",
    "Basé sur le CAPM, l'équité avec un bêta de 0,5077 aurait une prime de risque de 0,5077 × 8,5%, soit 4,3%. \n",
    "\n",
    "Le taux sans risques est de 5%, donc le rendement attendu des capitaux propres est de 9,3%.\n",
    "\n",
    "Si la sécurité est observée dans la même période pour avoir un rendement plus élevé\n",
    "(par exemple, 10,5%) que le rendement attendu des actions, la sécurité peut être dite\n",
    "être sous-évaluée, car l'investisseur peut s'attendre à un meilleur rendement pour le même montant\n",
    "risque.\n",
    "\n",
    "À l'inverse, si le rendement du titre devait être observé comme ayant un rendement inférieur\n",
    "(par exemple, 7%) que le rendement attendu tel qu'impliqué par le SML, la sécurité\n",
    "peut être considéré comme surévalué. L'investisseur reçoit moins de rendement pour l'hypothèse de\n",
    "même niveau de risque.\n",
    "\"\"\" \n",
    "\n"
   ]
  }
 ],
 "metadata": {
  "kernelspec": {
   "display_name": "Python 3",
   "language": "python",
   "name": "python3"
  },
  "language_info": {
   "codemirror_mode": {
    "name": "ipython",
    "version": 3
   },
   "file_extension": ".py",
   "mimetype": "text/x-python",
   "name": "python",
   "nbconvert_exporter": "python",
   "pygments_lexer": "ipython3",
   "version": "3.8.3"
  }
 },
 "nbformat": 4,
 "nbformat_minor": 4
}
