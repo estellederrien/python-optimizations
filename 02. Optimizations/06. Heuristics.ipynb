{
 "cells": [
  {
   "cell_type": "markdown",
   "metadata": {},
   "source": [
    "# Intro\n",
    "\n",
    "great link : https://www.udemy.com/course/optimization-with-metaheuristics/?srsltid=AfmBOophNvtWE-cdVXgQPATPp6q5zbxZCHxUC0_cKe8CAC_8mvyF3koO\n",
    "\n",
    "and \n",
    "\n",
    "https://www.udemy.com/course/ai-and-combinatorial-optimization-with-meta-heuristics/?couponCode=ST13MT80425G4"
   ]
  },
  {
   "cell_type": "markdown",
   "metadata": {},
   "source": [
    "# Summary\n",
    "\n",
    "- Algorithms\n",
    "    - genetic algorithm\n",
    "    - simulated annealing algorithm\n",
    "    - city swap algorithm\n",
    "- Applications\n",
    "    - Traveling salesman\n",
    "\n"
   ]
  }
 ],
 "metadata": {
  "language_info": {
   "name": "python"
  }
 },
 "nbformat": 4,
 "nbformat_minor": 2
}
