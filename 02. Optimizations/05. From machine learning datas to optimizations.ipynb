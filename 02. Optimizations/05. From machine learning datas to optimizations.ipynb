{
 "cells": [
  {
   "cell_type": "markdown",
   "id": "51bd4062",
   "metadata": {},
   "source": [
    "new file comin soon\n",
    "\n",
    "https://medium.com/suboptimally-speaking/a1-understanding-or-in-the-age-of-ml-df8b302cd140"
   ]
  }
 ],
 "metadata": {
  "language_info": {
   "name": "python"
  }
 },
 "nbformat": 4,
 "nbformat_minor": 5
}
