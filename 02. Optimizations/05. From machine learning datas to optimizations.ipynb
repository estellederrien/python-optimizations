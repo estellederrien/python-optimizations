{
 "cells": [
  {
   "cell_type": "markdown",
   "id": "51bd4062",
   "metadata": {},
   "source": [
    "new file comin soon\n",
    "\n"
   ]
  },
  {
   "cell_type": "markdown",
   "id": "56978e15",
   "metadata": {},
   "source": [
    "I will create, If I have time , examples of machine learning queries, then some applied OR on them.\n",
    "\n",
    "\n",
    "Link: https://medium.com/suboptimally-speaking/a1-understanding-or-in-the-age-of-ml-df8b302cd140"
   ]
  }
 ],
 "metadata": {
  "language_info": {
   "name": "python"
  }
 },
 "nbformat": 4,
 "nbformat_minor": 5
}
