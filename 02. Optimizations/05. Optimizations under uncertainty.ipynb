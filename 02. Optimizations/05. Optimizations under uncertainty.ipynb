{
 "cells": [
  {
   "cell_type": "markdown",
   "id": "f846c314",
   "metadata": {},
   "source": [
    "Comin' soon"
   ]
  }
 ],
 "metadata": {
  "language_info": {
   "name": "python"
  }
 },
 "nbformat": 4,
 "nbformat_minor": 5
}
