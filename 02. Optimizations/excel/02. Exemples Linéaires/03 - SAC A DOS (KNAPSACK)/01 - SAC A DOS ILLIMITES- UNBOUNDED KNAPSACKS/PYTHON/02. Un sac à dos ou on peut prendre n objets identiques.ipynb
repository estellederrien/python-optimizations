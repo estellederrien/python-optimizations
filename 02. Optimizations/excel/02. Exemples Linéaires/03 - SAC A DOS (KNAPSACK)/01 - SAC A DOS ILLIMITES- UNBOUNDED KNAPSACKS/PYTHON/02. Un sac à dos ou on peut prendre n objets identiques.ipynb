{
 "cells": [
  {
   "attachments": {},
   "cell_type": "markdown",
   "metadata": {},
   "source": [
    "# Sac à dos illimité\n",
    "\n",
    "Intérêt : Maximiser la valeur de ce que l'on transporte.\n",
    "\n",
    "Description :On peut prendre autant de fois le même objet que l'on veut, lors de l'optimisation."
   ]
  },
  {
   "cell_type": "code",
   "execution_count": 1,
   "metadata": {},
   "outputs": [
    {
     "name": "stdout",
     "output_type": "stream",
     "text": [
      "74\n"
     ]
    }
   ],
   "source": [
    "# https://www.geeksforgeeks.org/unbounded-knapsack-repetition-items-allowed/\n",
    "# Python3 program to find maximum\n",
    "# achievable value with a knapsack\n",
    "# of weight W and multiple instances allowed.\n",
    " \n",
    "# Returns the maximum value\n",
    "# with knapsack of W capacity\n",
    "def unboundedKnapsack(W, n, val, wt):\n",
    " \n",
    "    # dp[i] is going to store maximum\n",
    "    # value with knapsack capacity i.\n",
    "    dp = [0 for i in range(W + 1)]\n",
    " \n",
    "    ans = 0\n",
    " \n",
    "    # Fill dp[] using above recursive formula\n",
    "    for i in range(W + 1):\n",
    "        for j in range(n):\n",
    "            if (wt[j] <= i):\n",
    "                dp[i] = max(dp[i], dp[i - wt[j]] + val[j])\n",
    " \n",
    "    return dp[W]\n",
    " \n",
    "# Driver program\n",
    "W = 30\n",
    "val = [4, 2, 10,1,2]\n",
    "wt = [12, 1, 4,1,2]\n",
    "n = len(val)\n",
    " \n",
    "print(unboundedKnapsack(W, n, val, wt))\n",
    "\n",
    "\n",
    "# This code is contributed by Anant Agarwal."
   ]
  }
 ],
 "metadata": {
  "kernelspec": {
   "display_name": "Python 3",
   "language": "python",
   "name": "python3"
  },
  "language_info": {
   "codemirror_mode": {
    "name": "ipython",
    "version": 3
   },
   "file_extension": ".py",
   "mimetype": "text/x-python",
   "name": "python",
   "nbconvert_exporter": "python",
   "pygments_lexer": "ipython3",
   "version": "3.8.0"
  },
  "orig_nbformat": 4
 },
 "nbformat": 4,
 "nbformat_minor": 2
}
