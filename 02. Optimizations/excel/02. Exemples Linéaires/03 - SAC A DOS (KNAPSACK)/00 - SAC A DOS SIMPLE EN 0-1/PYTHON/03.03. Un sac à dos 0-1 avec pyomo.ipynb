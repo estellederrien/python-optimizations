{
 "cells": [
  {
   "attachments": {},
   "cell_type": "markdown",
   "metadata": {},
   "source": [
    "# Sac à dos 0-1 ( Knapsack)\n",
    "\n",
    "Intérêt : Maximiser la valeur de ce que l'on transporte.\n",
    "\n",
    "Description :On ne peut pendre qu'une seule fois le même objet pour maximiser la valeur du sac."
   ]
  },
  {
   "cell_type": "code",
   "execution_count": 8,
   "metadata": {},
   "outputs": [
    {
     "name": "stderr",
     "output_type": "stream",
     "text": [
      "DEPRECATED: is_relational() is deprecated in favor of\n",
      "is_expression_type(ExpressionType.RELATIONAL)  (deprecated in 6.4.3)\n",
      "(called from c:\\Users\\secretgirl\\AppData\\Local\\Programs\\Python\\Python38\\lib\\site-packages\\pyomocontrib_simplemodel\\core.py:147)\n"
     ]
    },
    {
     "name": "stdout",
     "output_type": "stream",
     "text": [
      "WARNING: Could not locate the 'glpsol' executable, which is required for\n",
      "    solver 'glpk'\n"
     ]
    },
    {
     "ename": "ApplicationError",
     "evalue": "No executable found for solver 'glpk'",
     "output_type": "error",
     "traceback": [
      "\u001b[1;31m---------------------------------------------------------------------------\u001b[0m",
      "\u001b[1;31mApplicationError\u001b[0m                          Traceback (most recent call last)",
      "Cell \u001b[1;32mIn[8], line 24\u001b[0m\n\u001b[0;32m     20\u001b[0m m \u001b[39m+\u001b[39m\u001b[39m=\u001b[39m \u001b[39msum\u001b[39m(w[i]\u001b[39m*\u001b[39mx[i] \u001b[39mfor\u001b[39;00m i \u001b[39min\u001b[39;00m items) \u001b[39m<\u001b[39m\u001b[39m=\u001b[39m limit\n\u001b[0;32m     23\u001b[0m \u001b[39m# Optimize\u001b[39;00m\n\u001b[1;32m---> 24\u001b[0m status \u001b[39m=\u001b[39m m\u001b[39m.\u001b[39;49msolve(\u001b[39m'\u001b[39;49m\u001b[39mglpk\u001b[39;49m\u001b[39m'\u001b[39;49m)\n\u001b[0;32m     26\u001b[0m \u001b[39m# Print the status of the solved LP\u001b[39;00m\n\u001b[0;32m     27\u001b[0m \u001b[39mprint\u001b[39m(\u001b[39m\"\u001b[39m\u001b[39mStatus = \u001b[39m\u001b[39m%s\u001b[39;00m\u001b[39m\"\u001b[39m \u001b[39m%\u001b[39m status\u001b[39m.\u001b[39msolver\u001b[39m.\u001b[39mtermination_condition)\n",
      "File \u001b[1;32mc:\\Users\\secretgirl\\AppData\\Local\\Programs\\Python\\Python38\\lib\\site-packages\\pyomocontrib_simplemodel\\core.py:177\u001b[0m, in \u001b[0;36mSimpleModel.solve\u001b[1;34m(self, name, *args, **kwargs)\u001b[0m\n\u001b[0;32m    159\u001b[0m \u001b[39m\"\"\"\u001b[39;00m\n\u001b[0;32m    160\u001b[0m \u001b[39mOptimize the model using the named solver.\u001b[39;00m\n\u001b[0;32m    161\u001b[0m \n\u001b[1;32m   (...)\u001b[0m\n\u001b[0;32m    174\u001b[0m \u001b[39msolver objects.\u001b[39;00m\n\u001b[0;32m    175\u001b[0m \u001b[39m\"\"\"\u001b[39;00m\n\u001b[0;32m    176\u001b[0m solver \u001b[39m=\u001b[39m SolverFactory(name)\n\u001b[1;32m--> 177\u001b[0m \u001b[39mreturn\u001b[39;00m solver\u001b[39m.\u001b[39;49msolve(\u001b[39mself\u001b[39;49m\u001b[39m.\u001b[39;49mmodel, \u001b[39m*\u001b[39;49margs, \u001b[39m*\u001b[39;49m\u001b[39m*\u001b[39;49mkwargs)\n",
      "File \u001b[1;32mc:\\Users\\secretgirl\\AppData\\Local\\Programs\\Python\\Python38\\lib\\site-packages\\pyomo\\opt\\base\\solvers.py:513\u001b[0m, in \u001b[0;36mOptSolver.solve\u001b[1;34m(self, *args, **kwds)\u001b[0m\n\u001b[0;32m    510\u001b[0m \u001b[39mdef\u001b[39;00m \u001b[39msolve\u001b[39m(\u001b[39mself\u001b[39m, \u001b[39m*\u001b[39margs, \u001b[39m*\u001b[39m\u001b[39m*\u001b[39mkwds):\n\u001b[0;32m    511\u001b[0m     \u001b[39m\"\"\" Solve the problem \"\"\"\u001b[39;00m\n\u001b[1;32m--> 513\u001b[0m     \u001b[39mself\u001b[39;49m\u001b[39m.\u001b[39;49mavailable(exception_flag\u001b[39m=\u001b[39;49m\u001b[39mTrue\u001b[39;49;00m)\n\u001b[0;32m    514\u001b[0m     \u001b[39m#\u001b[39;00m\n\u001b[0;32m    515\u001b[0m     \u001b[39m# If the inputs are models, then validate that they have been\u001b[39;00m\n\u001b[0;32m    516\u001b[0m     \u001b[39m# constructed! Collect suffix names to try and import from solution.\u001b[39;00m\n\u001b[0;32m    517\u001b[0m     \u001b[39m#\u001b[39;00m\n\u001b[0;32m    518\u001b[0m     \u001b[39mfrom\u001b[39;00m \u001b[39mpyomo\u001b[39;00m\u001b[39m.\u001b[39;00m\u001b[39mcore\u001b[39;00m\u001b[39m.\u001b[39;00m\u001b[39mbase\u001b[39;00m\u001b[39m.\u001b[39;00m\u001b[39mblock\u001b[39;00m \u001b[39mimport\u001b[39;00m _BlockData\n",
      "File \u001b[1;32mc:\\Users\\secretgirl\\AppData\\Local\\Programs\\Python\\Python38\\lib\\site-packages\\pyomo\\opt\\solver\\shellcmd.py:139\u001b[0m, in \u001b[0;36mSystemCallSolver.available\u001b[1;34m(self, exception_flag)\u001b[0m\n\u001b[0;32m    137\u001b[0m     \u001b[39mif\u001b[39;00m exception_flag:\n\u001b[0;32m    138\u001b[0m         msg \u001b[39m=\u001b[39m \u001b[39m\"\u001b[39m\u001b[39mNo executable found for solver \u001b[39m\u001b[39m'\u001b[39m\u001b[39m%s\u001b[39;00m\u001b[39m'\u001b[39m\u001b[39m\"\u001b[39m\n\u001b[1;32m--> 139\u001b[0m         \u001b[39mraise\u001b[39;00m ApplicationError(msg \u001b[39m%\u001b[39m \u001b[39mself\u001b[39m\u001b[39m.\u001b[39mname)\n\u001b[0;32m    140\u001b[0m     \u001b[39mreturn\u001b[39;00m \u001b[39mFalse\u001b[39;00m\n\u001b[0;32m    141\u001b[0m \u001b[39mreturn\u001b[39;00m \u001b[39mTrue\u001b[39;00m\n",
      "\u001b[1;31mApplicationError\u001b[0m: No executable found for solver 'glpk'"
     ]
    }
   ],
   "source": [
    "# knapsack.py\n",
    "\n",
    "from pyomo.contrib.simplemodel import *\n",
    "\n",
    "v = {'hammer':8, 'wrench':3, 'screwdriver':6, 'towel':11}\n",
    "w = {'hammer':5, 'wrench':7, 'screwdriver':4, 'towel':3}\n",
    "limit = 14\n",
    "items = list(sorted(v.keys()))\n",
    "\n",
    "# Create model\n",
    "m = SimpleModel(maximize=True)\n",
    "\n",
    "# Variables\n",
    "x = m.var('m', items, within=Binary)\n",
    "\n",
    "# Objective\n",
    "m += sum(v[i]*x[i] for i in items)\n",
    "\n",
    "# Constraint\n",
    "m += sum(w[i]*x[i] for i in items) <= limit\n",
    "\n",
    "\n",
    "# Optimize\n",
    "status = m.solve('glpk')\n",
    "\n",
    "# Print the status of the solved LP\n",
    "print(\"Status = %s\" % status.solver.termination_condition)\n",
    "\n",
    "# Print the value of the variables at the optimum\n",
    "for i in items:\n",
    "    print(\"%s = %f\" % (x[i], value(x[i])))\n",
    "\n",
    "# Print the value of the objective\n",
    "print(\"Objective = %f\" % value(m.objective()))\n"
   ]
  }
 ],
 "metadata": {
  "kernelspec": {
   "display_name": "Python 3",
   "language": "python",
   "name": "python3"
  },
  "language_info": {
   "codemirror_mode": {
    "name": "ipython",
    "version": 3
   },
   "file_extension": ".py",
   "mimetype": "text/x-python",
   "name": "python",
   "nbconvert_exporter": "python",
   "pygments_lexer": "ipython3",
   "version": "3.8.0"
  },
  "orig_nbformat": 4
 },
 "nbformat": 4,
 "nbformat_minor": 2
}
