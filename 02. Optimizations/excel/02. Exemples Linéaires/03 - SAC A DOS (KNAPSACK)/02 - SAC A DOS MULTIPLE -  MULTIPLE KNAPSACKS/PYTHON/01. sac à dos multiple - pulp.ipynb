{
 "cells": [
  {
   "attachments": {},
   "cell_type": "markdown",
   "metadata": {},
   "source": [
    "# Sac à dos multiple\n",
    "\n",
    "Intérêt : Maximiser la valeur de ce que l'on transporte.\n",
    "\n",
    "Description :On peut prendre autant de sacs que l'on veut, lors de l'optimisation.\n",
    "\n",
    "lien :http://www.inf.ufrgs.br/~svravelo/assets/slides/PLI_14.pdf"
   ]
  },
  {
   "cell_type": "code",
   "execution_count": null,
   "metadata": {},
   "outputs": [],
   "source": [
    "\n",
    "from pulp import *\n",
    "\n",
    "def multipleKnapsack(values, weights, W):\n",
    "    x = LpVariable.dicts(\"x\", [(o, i) for o in range(len(values)) for i in range(len(W))],lowBound = 0, upBound = 1, cat='Integer')↪\n",
    "    problem = LpProblem(\"MultipleKnapsack\", LpMaximize)\n",
    "    problem += lpSum(values[o] * x[o, i] for o in range(len(values)) for i in range(len(W))),\"profit\"\n",
    "    for i in range(len(W)):\n",
    "        problem += lpSum(weights[o] * x[o, i] for o in range(len(values))) <= W[i]\n",
    "    for o in range(len(W)):\n",
    "        problem += lpSum(x[o, i] for i in range(len(W))) <= 1"
   ]
  }
 ],
 "metadata": {
  "kernelspec": {
   "display_name": "Python 3",
   "language": "python",
   "name": "python3"
  },
  "language_info": {
   "name": "python",
   "version": "3.8.0"
  },
  "orig_nbformat": 4
 },
 "nbformat": 4,
 "nbformat_minor": 2
}
