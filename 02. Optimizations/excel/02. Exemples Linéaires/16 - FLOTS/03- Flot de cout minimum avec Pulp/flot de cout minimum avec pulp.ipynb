{
 "cells": [
  {
   "attachments": {},
   "cell_type": "markdown",
   "metadata": {},
   "source": [
    "# Flot de coût minimum avec Pulp\n",
    "\n",
    "Auteur : https://blog.sommer-forst.de/2013/04/06/solving-the-minimum-cost-flow-problem-4-pulp/\n",
    "\n",
    "Code à vérifier, comparer à Excel, et à traduire ..."
   ]
  },
  {
   "cell_type": "code",
   "execution_count": 5,
   "metadata": {},
   "outputs": [
    {
     "name": "stdout",
     "output_type": "stream",
     "text": [
      "Route_(1,_2) = 2.0\n",
      "Route_(1,_3) = 2.0\n",
      "Route_(2,_3) = 2.0\n",
      "Route_(2,_4) = 0.0\n",
      "Route_(3,_4) = 4.0\n",
      "Total Cost =  14.0\n"
     ]
    }
   ],
   "source": [
    "'''\n",
    "Minimum Cost Flow Problem Solver with PuLP\n",
    "Adapted from:\n",
    "https://code.google.com/p/pulp-or/wiki/ATransshipmentProblem\n",
    "The American Steel Problem for the PuLP Modeller\n",
    "Authors: Antony Phillips, Dr Stuart Mitchell   2007\n",
    " \n",
    "'''\n",
    " \n",
    "# Import PuLP modeller functions\n",
    "from pulp import *\n",
    " \n",
    "# list of nodes\n",
    "nodes = [1,2,3,4]\n",
    " \n",
    "# supply or demand of nodes\n",
    "            #NodeID : [Supply,Demand]\n",
    "nodeData = {1:[4,0],\n",
    "            2:[0,0],\n",
    "            3:[0,0],\n",
    "            4:[0,4]}\n",
    " \n",
    "# arcs list\n",
    "arcs = [ (1,2),\n",
    "         (1,3),\n",
    "         (2,3),\n",
    "         (2,4),\n",
    "         (3,4)]\n",
    " \n",
    "# arcs cost, lower bound and capacity\n",
    "            #Arc : [Cost,MinFlow,MaxFlow]\n",
    "arcData = { (1,2):[2,0,4],\n",
    "            (1,3):[2,0,2],\n",
    "            (2,3):[1,0,2],\n",
    "            (2,4):[3,0,3],\n",
    "            (3,4):[1,0,5] }\n",
    " \n",
    "# Splits the dictionaries to be more understandable\n",
    "(supply, demand) = splitDict(nodeData)\n",
    "(costs, mins, maxs) = splitDict(arcData)\n",
    " \n",
    "# Creates the boundless Variables as Integers\n",
    "vars = LpVariable.dicts(\"Route\",arcs,None,None,LpInteger)\n",
    " \n",
    "# Creates the upper and lower bounds on the variables\n",
    "for a in arcs:\n",
    "    vars[a].bounds(mins[a], maxs[a])\n",
    " \n",
    "# Creates the 'prob' variable to contain the problem data    \n",
    "prob = LpProblem(\"Minimum_Cost_Flow_Problem_Sample\",LpMinimize)\n",
    " \n",
    "# Creates the objective function\n",
    "prob += lpSum([vars[a]* costs[a] for a in arcs]), \"Total Cost of Transport\"\n",
    " \n",
    "# Creates all problem constraints - this ensures the amount going into each node is \n",
    "# at least equal to the amount leaving\n",
    "for n in nodes:\n",
    "    prob += (supply[n]+ lpSum([vars[(i,j)] for (i,j) in arcs if j == n]) >=\n",
    "             demand[n]+ lpSum([vars[(i,j)] for (i,j) in arcs if i == n])), \\\n",
    "            \"Flow Conservation in Node %s\"%n\n",
    " \n",
    "# The problem data is written to an .lp file\n",
    "prob.writeLP(\"simple_MCFP.lp\")\n",
    " \n",
    "# The problem is solved using PuLP's choice of Solver\n",
    "prob.solve()\n",
    "\n",
    "# Print the variables optimized value\n",
    "# On imprime les variables optimisées.\n",
    "for v in prob.variables():\n",
    "    print(v.name, \"=\", v.varValue)\n",
    " \n",
    "# The optimised objective function value is printed to the screen    \n",
    "print (\"Total Cost = \", value(prob.objective))"
   ]
  }
 ],
 "metadata": {
  "kernelspec": {
   "display_name": "Python 3",
   "language": "python",
   "name": "python3"
  },
  "language_info": {
   "codemirror_mode": {
    "name": "ipython",
    "version": 3
   },
   "file_extension": ".py",
   "mimetype": "text/x-python",
   "name": "python",
   "nbconvert_exporter": "python",
   "pygments_lexer": "ipython3",
   "version": "3.8.0"
  },
  "orig_nbformat": 4
 },
 "nbformat": 4,
 "nbformat_minor": 2
}
