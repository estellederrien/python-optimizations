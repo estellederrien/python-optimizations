{
 "cells": [
  {
   "attachments": {},
   "cell_type": "markdown",
   "metadata": {},
   "source": [
    " \n",
    " # Recherche opérationnelle débutant\n",
    " # Optimisation Mixe de Produits ( Products mix)\n",
    "\n",
    " Maximiser notre profit sous les contraintes de production .\n",
    "\n",
    " On vends \n",
    "\n",
    " - 1 mixeur à purée qui coute 10.5 euros.\n",
    " - 1 batteur à gateau qui coute 8.5 euros.\n",
    " - 1 Ventilateur qui coute 18.5 euros.\n",
    "\n",
    " 3 employés sont sur les chaines de travail .\n",
    "\n",
    " - Temps de travail pour le mixeur : 3h \n",
    " - Temps de travail pour le batteur : 3h\n",
    " - Temps de travail pour le ventilateur : 2h\n",
    " \n",
    " Les employés travaillent 35 h * 4 semaines par mois, soit 140h soit, pour les 3 420 heures au total\n",
    "\n",
    " Il faut produire au minimum 100 mixeurs , 10 batteurs et 10 ventilateurs par mois pour les fournisseurs.\n",
    "\n",
    "Le programme linéaire :\n",
    "\n",
    " Maximiser  :  Z = 10.5x + 8.5y + 18.5z\n",
    " Sous les contraintes : \n",
    " 1x + 1.5y + 2z <= 140\n",
    " x  >= 100 et x >= 0 \n",
    " y  >= 10  et y >= 0 \n",
    " z  >= 10  et z >= 0 "
   ]
  },
  {
   "cell_type": "code",
   "execution_count": 1,
   "metadata": {},
   "outputs": [
    {
     "name": "stdout",
     "output_type": "stream",
     "text": [
      "Problem:\n",
      "MAXIMIZE\n",
      "10.5*x + 8.5*y + 18.5*z + 0.0\n",
      "SUBJECT TO\n",
      "_C1: 3 x + 3 y + 2 z <= 420\n",
      "\n",
      "_C2: x >= 100\n",
      "\n",
      "_C3: y >= 10\n",
      "\n",
      "_C4: z >= 10\n",
      "\n",
      "VARIABLES\n",
      "x Continuous\n",
      "y Continuous\n",
      "z Continuous\n",
      "\n"
     ]
    }
   ],
   "source": [
    "# Importer la librairie Pulp sous le pseudo p\n",
    "import pulp as p \n",
    "  \n",
    "# Créer un programme linéaire de minimisation\n",
    "Lp_prob = p.LpProblem('Problem', p.LpMaximize)  \n",
    "  \n",
    "# Créer les variables du problème \n",
    "x = p.LpVariable(\"x\", lowBound = 0)   # Create a variable x >= 0 \n",
    "y = p.LpVariable(\"y\", lowBound = 0)   # Create a variable y >= 0 \n",
    "z = p.LpVariable(\"z\", lowBound = 0)   # Create a variable z >= 0 \n",
    "  \n",
    "# Ecrire la fonction objectif à maximizer qui nous donne un résultat en Euros \n",
    "Lp_prob +=  10.5 * x + 8.5 * y + 18.5 * z\n",
    "  \n",
    "# Les contraintes : \n",
    "\n",
    "# Heures de travail au mois , plus il est grand, plus le prfoit augmente, moins le temps de travail sur un objet est long, plus on en produit et le profit augmente \n",
    "Lp_prob += 3 * x + 3 * y + 2 * z <= 420\n",
    "\n",
    "# Il faut produire au minimum ce nombre d'éléments  :\n",
    "Lp_prob += x  >= 100\n",
    "Lp_prob += y  >= 10\n",
    "Lp_prob += z  >= 10\n",
    "  \n",
    "# Afficher le problème linéaire\n",
    "print(Lp_prob) \n"
   ]
  },
  {
   "cell_type": "code",
   "execution_count": 2,
   "metadata": {},
   "outputs": [
    {
     "name": "stdout",
     "output_type": "stream",
     "text": [
      "Optimal\n",
      "100.0  de Mixeurs à produire\n",
      "10.0 de  Batteurs à produire\n",
      "45.0 de Ventilateurs à produire\n",
      "1967.5 Euros de profits \n"
     ]
    }
   ],
   "source": [
    "status = Lp_prob.solve()   # Exécuter le solver\n",
    "print(p.LpStatus[status])   # Le statut de la solution\n",
    "  \n",
    "# Afficher la solution :\n",
    "print( p.value(x),\" de Mixeurs à produire\")\n",
    "print(p.value(y) , \"de  Batteurs à produire\"  )\n",
    "print(p.value(z) , \"de Ventilateurs à produire\"  )\n",
    "print(p.value(Lp_prob.objective) ,\"Euros de profits \" )"
   ]
  }
 ],
 "metadata": {
  "kernelspec": {
   "display_name": "Python 3",
   "language": "python",
   "name": "python3"
  },
  "language_info": {
   "codemirror_mode": {
    "name": "ipython",
    "version": 3
   },
   "file_extension": ".py",
   "mimetype": "text/x-python",
   "name": "python",
   "nbconvert_exporter": "python",
   "pygments_lexer": "ipython3",
   "version": "3.8.0"
  },
  "orig_nbformat": 4,
  "vscode": {
   "interpreter": {
    "hash": "edb60928ae049011e12e2dc43646b5515922153b602d9d974a622a5d486bbfcc"
   }
  }
 },
 "nbformat": 4,
 "nbformat_minor": 2
}
