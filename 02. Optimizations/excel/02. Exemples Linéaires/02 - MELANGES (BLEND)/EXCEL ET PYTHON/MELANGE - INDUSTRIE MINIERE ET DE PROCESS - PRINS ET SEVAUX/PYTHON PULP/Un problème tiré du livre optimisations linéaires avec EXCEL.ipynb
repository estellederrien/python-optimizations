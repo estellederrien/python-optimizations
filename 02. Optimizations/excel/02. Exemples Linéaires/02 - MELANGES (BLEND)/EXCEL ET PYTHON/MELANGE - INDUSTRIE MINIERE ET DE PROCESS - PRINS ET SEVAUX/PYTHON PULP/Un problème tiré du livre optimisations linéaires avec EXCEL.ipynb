{
 "cells": [
  {
   "attachments": {},
   "cell_type": "markdown",
   "metadata": {},
   "source": [
    "# Recherche opérationnelle\n",
    "# Problème de mélange \n",
    "( Blending problem (linear))"
   ]
  },
  {
   "cell_type": "code",
   "execution_count": 6,
   "metadata": {},
   "outputs": [
    {
     "data": {
      "text/plain": [
       "\" \\nIci , on va tenter de trouver le meme résultat avec pulp que le problème du SOLVEUR EXCEL suivant :\\n\\nSource : Programmation linéaire avec Excel - Eyrolles - Page 96 - Industries Minières et de process …\\n\\nAuteur : Marc Sevaux - Christian Prins \\n\\nAcheter le livre : Fnac \\n\\n# Programme pulp élaboré par Estelle HULEUX pour ensuite le rendre générique pour mon app https://www.solvgraph.com\\n\\nCe problème étant probablement tiré d'un exemple similaire en Anglais comme celui ci : #Source :https://www.lindo.com/downloads/LINGO_text/10-Blending_of_Input_Materials.pdf\\nSi on utilise exactement la même technique que LINDO, on doit trouver pareil que le résultat excel de l'exemple Excel de Marc Sevaux.\\n\\nL'histoire : \\n\\nUne entreprise a reçu une commande de 5 tonnes d'acier pour bateau ,\\n\\nIl doit avoir les caractéristiques suivantes :\\nElément chimique\\tPourcentage Minimal\\tPourcentage Maximal\\nCarbone(C)\\t        2\\t                3\\nCuivre(Cu)\\t        0.4\\t                0.6\\nManganèse(Mn)\\t    1.2\\t                1.65\\n\\n \\n\\nPour fabriquer cet acier, l'entreprise dispose de 7 matières premières :\\n\\n \\nMatière première\\t    C%\\t    Cu%\\t    Mn%\\t    Stocks disponibles (kgs)\\tCoûts(Euros/kilos)\\nAlliage de fer 1\\t    2.5\\t    0\\t    1.3\\t    4000\\t                    1.20\\nAlliage de fer 2\\t    3\\t    0\\t    0.8\\t    3000\\t                    1.50\\nAlliage de fer 3\\t    0\\t    0.3\\t    0\\t    6000\\t                    0.90\\nAlliage de cuivre 1     0\\t    90\\t    0\\t    5000\\t                    1.30\\nAlliage de cuivre 2     0\\t    96\\t    4\\t    2000\\t                    1.45\\nAlliage d'Aluminium 1   0\\t    0.4\\t    1.2\\t    3000\\t                    1.20\\nAlliage d'Aluminium 2   0\\t    0.6\\t\\t0       2500\\t                    1 \\n\\n\\n\""
      ]
     },
     "execution_count": 6,
     "metadata": {},
     "output_type": "execute_result"
    }
   ],
   "source": [
    "\"\"\" \n",
    "Ici , on va tenter de trouver le meme résultat avec pulp que le problème du SOLVEUR EXCEL suivant :\n",
    "\n",
    "Source : Programmation linéaire avec Excel - Eyrolles - Page 96 - Industries Minières et de process …\n",
    "\n",
    "Auteur : Marc Sevaux - Christian Prins \n",
    "\n",
    "Acheter le livre : Fnac \n",
    "\n",
    "# Programme pulp élaboré par Estelle HULEUX pour ensuite le rendre générique pour mon app https://www.solvgraph.com\n",
    "\n",
    "Ce problème étant probablement tiré d'un exemple similaire en Anglais comme celui ci : #Source :https://www.lindo.com/downloads/LINGO_text/10-Blending_of_Input_Materials.pdf\n",
    "Si on utilise exactement la même technique que LINDO, on doit trouver pareil que le résultat excel de l'exemple Excel de Marc Sevaux.\n",
    "\n",
    "L'histoire : \n",
    "\n",
    "Une entreprise a reçu une commande de 5 tonnes d'acier pour bateau ,\n",
    "\n",
    "Il doit avoir les caractéristiques suivantes :\n",
    "Elément chimique\tPourcentage Minimal\tPourcentage Maximal\n",
    "Carbone(C)\t        2\t                3\n",
    "Cuivre(Cu)\t        0.4\t                0.6\n",
    "Manganèse(Mn)\t    1.2\t                1.65\n",
    "\n",
    " \n",
    "\n",
    "Pour fabriquer cet acier, l'entreprise dispose de 7 matières premières :\n",
    "\n",
    " \n",
    "Matière première\t    C%\t    Cu%\t    Mn%\t    Stocks disponibles (kgs)\tCoûts(Euros/kilos)\n",
    "Alliage de fer 1\t    2.5\t    0\t    1.3\t    4000\t                    1.20\n",
    "Alliage de fer 2\t    3\t    0\t    0.8\t    3000\t                    1.50\n",
    "Alliage de fer 3\t    0\t    0.3\t    0\t    6000\t                    0.90\n",
    "Alliage de cuivre 1     0\t    90\t    0\t    5000\t                    1.30\n",
    "Alliage de cuivre 2     0\t    96\t    4\t    2000\t                    1.45\n",
    "Alliage d'Aluminium 1   0\t    0.4\t    1.2\t    3000\t                    1.20\n",
    "Alliage d'Aluminium 2   0\t    0.6\t\t0       2500\t                    1 \n",
    "\n",
    "\n",
    "\"\"\""
   ]
  },
  {
   "cell_type": "code",
   "execution_count": 7,
   "metadata": {},
   "outputs": [
    {
     "name": "stdout",
     "output_type": "stream",
     "text": [
      "Status: Optimal\n",
      "AL1 = 574.62426\n",
      "AL2 = 0.0\n",
      "CU1 = 0.0\n",
      "CU2 = 27.612723\n",
      "F1 = 4000.0\n",
      "F2 = 0.0\n",
      "F3 = 397.76302\n",
      "Total Cost of Ingredients  =  5887.57427835\n"
     ]
    }
   ],
   "source": [
    "import pulp\n",
    "from pulp import *\n",
    "\n",
    "# On veut minimiser le cout de 5 tonnes d'alliage #\n",
    "prob = LpProblem(\"Production_5_tonnes\",LpMinimize)\n",
    "\n",
    "# On crée nos variables de décisions\n",
    "# Ca veut dire qu'on doitchoisir quels sont les alliages les plus judicieux à choisir et on leur donne un nom à chacun\n",
    "# C'est le nombre de kg de l’alliage i utilisés.\n",
    "# vu que la valeur du nombre de kgs peut être décimal, on spécifie que c'est une variable de décision de type décimale en écrivant Continuous:\n",
    "F1 = LpVariable(\"F1\", lowBound = 0,cat='Continuous')\n",
    "F2 = LpVariable(\"F2\", lowBound = 0,cat='Continuous')\n",
    "F3 = LpVariable(\"F3\", lowBound = 0,cat='Continuous')\n",
    "CU1 = LpVariable(\"CU1\", lowBound = 0,cat='Continuous')\n",
    "CU2 = LpVariable(\"CU2\", lowBound = 0,cat='Continuous')\n",
    "AL1 = LpVariable(\"AL1\", lowBound = 0,cat='Continuous')\n",
    "AL2 = LpVariable(\"AL2\", lowBound = 0,cat='Continuous')\n",
    "\n",
    "# Fonction objectif / min (ci * xi) ou ci est exprimé en cout unitaire par kilo \n",
    "prob += 1.20 * F1 + 1.50 * F2 + 0.90 * F3 + 1.30 * CU1 + 1.45 * CU2 +  1.20  *  AL1  +  1  *  AL2 , \"Cout total\"\n",
    "\n",
    "#! On ne peut pas utiliser plus que le STOCK exprimé en kgs de  matières premières suivantes ( voir la colonne stock du 2 second tableau)\n",
    "prob += F1 <= 4000; \n",
    "prob += F2 <= 3000; \n",
    "prob += F3 <= 6000; \n",
    "prob += CU1 <= 5000; \n",
    "prob += CU2 <= 2000; \n",
    "prob += AL1 <= 3000; \n",
    "prob += AL2 <= 2500; \n",
    "\n",
    "\n",
    "#! -------------------- Les requirements qualité -----------------------!\n",
    "\n",
    "#! Carbon content; \n",
    "# Ici, 100 veut dire qu'on a un besoin en taux carbone mainimal de 2% de 5000 kgs  , ça fait  100 kgs ( voir aussi la doc lindo du fchier 7 de ce rep)\n",
    "# par contre, les pourcentages dans la partie gauche sont maintenus au format décimal (idem LINDO et l'exemple du fichier  3 aussi )!\n",
    "prob += 0.025 * F1 + 0.03 * F2 >= 100; \n",
    "prob += 0.025 * F1 + 0.03 * F2 <= 150; \n",
    "\n",
    "##! Cuivre content; \n",
    "prob += 0.003 * F3 + 0.90 * CU1 + 0.96 * CU2 + 0.004 * AL1 + 0.006 * AL2  >=  20; \n",
    "prob += 0.003 * F3 + 0.90 * CU1 + 0.96 * CU2 + 0.004 * AL1 + 0.006 * AL2  <=  30; \n",
    "\n",
    "##! Manganese content; Ici, 60 veut dire 1,2% de 5000 kgs est égal à 60 kgs, on trouve la même technique chez LINDO et l'exmple 3 de ce rep\n",
    "prob += 0.013 * F1 + 0.008 * F2 + 0.04 * CU2 + 0.012 * AL1   >=  60; \n",
    "prob += 0.013 * F1 + 0.008 * F2 + 0.04 * CU2 + 0.012 * AL1   <=  82.5;  \n",
    "\n",
    "\n",
    "#! Finish good requirements; \n",
    "# On doit spécifier que le total de nos variables de décisions exprimée en kgs doit être égal à 5000 kgs soit 5 tonnes absolument, c'est donc logique, pas de pourcentages ici.\n",
    "prob += F1 +  F2 +   F3 +  CU1 +  CU2 +   AL1 +  AL2 ==  5000 , \"total\"\n",
    "\n",
    "# On affiche notre résultat dans la console :\n",
    "prob.writeLP(\"monAlliage.lp\")\n",
    "prob.solve()\n",
    "print(\"Status:\", LpStatus[prob.status])\n",
    "\n",
    "for v in prob.variables():\n",
    "    print(v.name, \"=\", v.varValue)\n",
    "\n",
    "print(\"Total Cost of Ingredients  = \", value(prob.objective))"
   ]
  },
  {
   "cell_type": "code",
   "execution_count": 8,
   "metadata": {},
   "outputs": [
    {
     "data": {
      "text/plain": [
       "\" Hourra ! Le résultat est le même que dans le livre de Marc Sevaux !!\\nPulp trouve exactement pareil que EXCEL !!\\nIl ne reste plus qu'à créer le code FULL STACK dans mon app SolvGraph.com maintenant, pour rendre tout cela facile comme un jeu  !\\n\\nStatus: Optimal\\nAL1 = 574.62426\\nAL2 = 0.0\\nCU1 = 0.0\\nCU2 = 27.612723\\nF1 = 4000.0\\nF2 = 0.0\\nF3 = 397.76302\\nTotal Cost of Ingredients  =  5887.57427835 \""
      ]
     },
     "execution_count": 8,
     "metadata": {},
     "output_type": "execute_result"
    }
   ],
   "source": [
    "\"\"\" Hourra ! Le résultat est le même que dans le livre de Marc Sevaux !!\n",
    "Pulp trouve exactement pareil que EXCEL !!\n",
    "Il ne reste plus qu'à créer le code FULL STACK dans mon app SolvGraph.com maintenant, pour rendre tout cela facile comme un jeu  !\n",
    "\n",
    "Status: Optimal\n",
    "AL1 = 574.62426\n",
    "AL2 = 0.0\n",
    "CU1 = 0.0\n",
    "CU2 = 27.612723\n",
    "F1 = 4000.0\n",
    "F2 = 0.0\n",
    "F3 = 397.76302\n",
    "Total Cost of Ingredients  =  5887.57427835 \"\"\""
   ]
  }
 ],
 "metadata": {
  "kernelspec": {
   "display_name": "Python 3",
   "language": "python",
   "name": "python3"
  },
  "language_info": {
   "codemirror_mode": {
    "name": "ipython",
    "version": 3
   },
   "file_extension": ".py",
   "mimetype": "text/x-python",
   "name": "python",
   "nbconvert_exporter": "python",
   "pygments_lexer": "ipython3",
   "version": "3.8.0"
  },
  "orig_nbformat": 4,
  "vscode": {
   "interpreter": {
    "hash": "edb60928ae049011e12e2dc43646b5515922153b602d9d974a622a5d486bbfcc"
   }
  }
 },
 "nbformat": 4,
 "nbformat_minor": 2
}
