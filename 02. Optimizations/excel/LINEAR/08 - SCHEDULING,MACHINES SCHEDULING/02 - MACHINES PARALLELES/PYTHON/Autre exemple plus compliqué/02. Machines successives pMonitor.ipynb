{
 "cells": [
  {
   "cell_type": "code",
   "execution_count": 6,
   "metadata": {},
   "outputs": [
    {
     "data": {
      "text/html": [
       "<img src=\"1.png\" width=\"400\" height=\"200\"/>"
      ],
      "text/plain": [
       "<IPython.core.display.Image object>"
      ]
     },
     "execution_count": 6,
     "metadata": {},
     "output_type": "execute_result"
    }
   ],
   "source": [
    "# COPYRIGHT  : https://apmonitor.com/me575/index.php/Main/ScheduleOptimization\n",
    "\n",
    "\"\"\" \n",
    "Objectif : Minimiser le délai pour la production de 5 produits sur 2 machines. \n",
    "\n",
    "Chaque produit nécessite un temps de traitement différent pour chaque étape.\n",
    "\n",
    "Il existe 5 produits qui nécessitent 2 étapes de traitement sur des machines distinctes. \n",
    "\n",
    "Les deux machines (machine Y et machine Z) fonctionnent l'une après l'autre. \n",
    "\n",
    "Un produit doit d'abord passer par la machine Y et ensuite par la machine Z. \n",
    "\n",
    "Les deux machines peuvent fonctionner simultanément, mais chaque machine ne peut pas travailler sur plus \n",
    "\n",
    "d'un produit à la fois. \n",
    "\n",
    "L'usine doit minimiser le temps de production de tous les produits donnés. \n",
    "\n",
    "Cela revient à minimiser le temps d'inactivité de la machine Z.\n",
    "\n",
    "\n",
    " \"\"\"\n",
    "from IPython.display import Image\n",
    "Image(url= \"1.png\", width=400, height=200)\n",
    "\n",
    "# Ci - dessous, on voit que contruire Le produit P0 mets 10 minutes sur la machine Y \n",
    "# puis 20 minutes sur la machine Z.\n"
   ]
  },
  {
   "cell_type": "code",
   "execution_count": 7,
   "metadata": {},
   "outputs": [
    {
     "name": "stdout",
     "output_type": "stream",
     "text": [
      "     T0  T1  T2  T3  T4  makespan\n",
      "97    4   0   1   3   2       121\n",
      "108   4   2   0   1   3       121\n",
      "2     0   1   3   2   4       123\n",
      "3     0   1   3   4   2       123\n",
      "106   4   1   3   0   2       123\n",
      "107   4   1   3   2   0       123\n",
      "10    0   2   4   1   3       125\n",
      "19    0   4   1   3   2       125\n",
      "66    2   4   0   1   3       128\n",
      "48    2   0   1   3   4       128\n"
     ]
    }
   ],
   "source": [
    "# Option 1 : Une recherche exhaustive\n",
    "\n",
    "# Il y a n! permutations pour une liste de production de longueur n. \n",
    "# Pour ce problème spécifique avec 5 produits, il y a 5!=120 combinaisons. \n",
    "# Une recherche exhaustive calcule le makepan (temps total) pour toutes les combinaisons possibles.\n",
    "\n",
    "from itertools import permutations\n",
    "import pandas as pd\n",
    "\n",
    "Y = {0: 10, 1: 20, 2: 15, 3: 40, 4: 8}\n",
    "Z = {0: 20, 1: 30, 2: 10, 3: 25, 4: 18}\n",
    "\n",
    "products = Y.keys()\n",
    "np = len(products)\n",
    "pm = [] # list of permutations\n",
    "tm = [] # list of makespan time\n",
    "for order in permutations(products):\n",
    "    # append permutation to the pm list\n",
    "    pm.append(order)\n",
    "    # lookup time for each step\n",
    "    ty = [0]*(np+1); tz = [0]*(np+1)\n",
    "    for i in range(np):\n",
    "        ty[i] = Y[order[i]]\n",
    "        tz[i+1] = Z[order[i]]\n",
    "    # calculate makespan time\n",
    "    t = 0\n",
    "    for i in range(np+1):\n",
    "        t += max(ty[i],tz[i])\n",
    "    tm.append(t)\n",
    "\n",
    "# convert to Pandas DataFrame for sorting\n",
    "r = pd.DataFrame(pm,columns=['T0','T1','T2','T3','T4'])\n",
    "r['makespan'] = tm\n",
    "r.sort_values('makespan',inplace=True)\n",
    "print(r.head(10))\n",
    "\n",
    "#Les 10 meilleurs horaires montrent qu'il existe deux meilleurs horaires candidats, chacun avec un intervalle de 121.\n"
   ]
  },
  {
   "cell_type": "code",
   "execution_count": null,
   "metadata": {},
   "outputs": [],
   "source": [
    "# Dans le tableau précédent, Sur la ligne 1, le 4 veut dire 'P4' , puis 'P0' , puis 'P1',  puis 'P3', puis 'P2'\n",
    "# en fait c'est l'ordre de production des produits, afin de réduire la durée finale d'exécution ( makespan).\n",
    "# On ne comprends pas de suite car on ne retrouve pas la lettre P"
   ]
  },
  {
   "cell_type": "code",
   "execution_count": null,
   "metadata": {},
   "outputs": [],
   "source": [
    "# Bien qu'une recherche exhaustive soit rapide pour ce problème, \n",
    "# il devient impossible de calculer toutes les combinaisons pour des horaires plus complexes. \n",
    "# Les méthodes heuristiques ou d'optimisation sont utilisées lorsque la recherche exhaustive \n",
    "# est trop exigeante en termes de calcul."
   ]
  },
  {
   "cell_type": "code",
   "execution_count": 8,
   "metadata": {},
   "outputs": [
    {
     "data": {
      "text/html": [
       "<img src=\"2.png\" width=\"400\" height=\"200\"/>"
      ],
      "text/plain": [
       "<IPython.core.display.Image object>"
      ]
     },
     "execution_count": 8,
     "metadata": {},
     "output_type": "execute_result"
    }
   ],
   "source": [
    "# Option 2 : Utiliser l'algorithme'\"Johnson Rule\"\n",
    "# https://en.wikipedia.org/wiki/Johnson%27s_rule\n",
    "\n",
    "\"\"\" La technique nécessite plusieurs conditions préalables :\n",
    "\n",
    "    Le temps pour chaque tâche doit être constant.\n",
    "    Les temps de travail doivent être mutuellement exclusifs de la séquence de travail.\n",
    "    Tous les travaux doivent être traités dans le premier centre de travail avant de passer par le deuxième centre de travail.\n",
    "    Tous les emplois sont également prioritaires.\n",
    "\n",
    "La règle de Johnson est la suivante :\n",
    "\n",
    "    Dressez la liste des emplois et de leurs temps à chaque centre de travail.\n",
    "    Sélectionnez le travail avec le temps d'activité le plus court. Si ce temps d'activité est pour le premier poste de travail, planifiez d'abord le travail. Si ce temps d'activité est pour le deuxième poste de travail, planifiez le travail en dernier. Rompre les liens arbitrairement.\n",
    "    Éliminer le travail le plus court de toute considération ultérieure.\n",
    "    Répétez les étapes 2 et 3, en travaillant vers le centre de la planification des tâches jusqu'à ce que toutes les tâches aient été planifiées. \"\"\"\n",
    "\n",
    "\n",
    "# Semblable à l'optimisation du sac à dos, \n",
    "# il existe une solution heuristique spécifique au problème et qui permet d'obtenir \n",
    "# des résultats optimaux sous certaines hypothèses restrictives. \n",
    "# La règle de Johnson est une méthode de planification des travaux dans deux postes de travail avec un temps \n",
    "# de travail constant. Les temps de travail ne sont pas affectés par la séquence et les produits sont traités \n",
    "# sur la première machine avant de passer à la deuxième machine. La règle de Johnson sélectionne le produit avec \n",
    "# le temps d'activité le plus court et l'affecte à être traité en premier si le temps le plus court est pour \n",
    "# la machine Y. Si le temps le plus court est pour la machine Z, il affecte le produit à la fin de la liste. \n",
    "# Le temps le plus court suivant est sélectionné et attribué comme deuxième ou avant-dernier produit \n",
    "# si ceux-ci ont été sélectionnés précédemment. Le processus est répété jusqu'à ce que tous les produits \n",
    "# soient commandés.\n",
    "\n",
    "# Le temps le plus bas est P4 et il est attribué en premier car le temps le plus bas est pour la machine Y.\n",
    "# Ensuite, le temps le plus bas suivant est P2 et il est affecté en dernier \n",
    "# car le temps le plus bas est pour la machine Z.\n",
    "\n",
    "# La commande est P4, P0, P1, P3, P2 avec un retard total de 26 sur la machine Z \n",
    "# et un temps total de fabrication de 121 pour terminer tout le traitement. \n",
    "# Il s'agit de la même ligne que la première ligne de la liste de recherche exhaustive triée.\n",
    "\n",
    "Image(url= \"2.png\", width=400, height=200)\n"
   ]
  },
  {
   "cell_type": "code",
   "execution_count": null,
   "metadata": {},
   "outputs": [],
   "source": [
    "# Option 3 : Programmation en nombres entiers\n",
    "# Les mêmes heuristiques ne fonctionnent pas s'il y a des changements dans les hypothèses qui \n",
    "# invalideraient la règle de Johnson. Cela peut se produire si le problème change \n",
    "# ou s'il existe une priorité pour la finition d'un produit par rapport à un autre.\n",
    "#  Il peut également y avoir des contraintes supplémentaires, une troisième étape de traitement pourrait \n",
    "#  être introduite. Une approche plus flexible consiste à résoudre le problème avec la programmation \n",
    "#  linéaire entière (ILP). Des variables, des équations et un objectif sont créés pour tenir dans \n",
    "#  un formulaire standard qu'un optimiseur peut résoudre.\n",
    "\n",
    "\n",
    "\n"
   ]
  }
 ],
 "metadata": {
  "kernelspec": {
   "display_name": "Python 3.8.5 64-bit",
   "language": "python",
   "name": "python3"
  },
  "language_info": {
   "codemirror_mode": {
    "name": "ipython",
    "version": 3
   },
   "file_extension": ".py",
   "mimetype": "text/x-python",
   "name": "python",
   "nbconvert_exporter": "python",
   "pygments_lexer": "ipython3",
   "version": "3.8.5"
  },
  "orig_nbformat": 4,
  "vscode": {
   "interpreter": {
    "hash": "6bd0648e655c19027e4f56e697a7cd4ab7921013b5d2695c8854e14fd1f5ba73"
   }
  }
 },
 "nbformat": 4,
 "nbformat_minor": 2
}
