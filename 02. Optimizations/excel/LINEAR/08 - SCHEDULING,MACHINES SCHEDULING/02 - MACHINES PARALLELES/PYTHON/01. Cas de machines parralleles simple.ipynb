{
 "cells": [
  {
   "attachments": {},
   "cell_type": "markdown",
   "metadata": {},
   "source": [
    "# Production allocation \n",
    "# Machines paralleles\n",
    "On dispatche nos produits à construire sur des machines qui réalisent un produit identique\n",
    "sous contrainte de temps différent par machines.\n",
    "\n",
    "<img src=\"01.Production allocation.jpg\" alt=\"Alternative text\" />"
   ]
  },
  {
   "cell_type": "code",
   "execution_count": 7,
   "metadata": {},
   "outputs": [
    {
     "name": "stdout",
     "output_type": "stream",
     "text": [
      "Problem:\n",
      "MAXIMIZE\n",
      "4*x + 3*y + 6*z + 0\n",
      "SUBJECT TO\n",
      "_C1: 2 x + 3 y + 2 z = 440\n",
      "\n",
      "_C2: 4 x + 3 z = 470\n",
      "\n",
      "_C3: 2 x + 5 y = 430\n",
      "\n",
      "VARIABLES\n",
      "0 <= x Integer\n",
      "0 <= y Integer\n",
      "0 <= z Integer\n",
      "\n",
      "Infeasible\n",
      "70.357143  de produits 1 à produire\n",
      "57.857143 de produits 2 à produire\n",
      "62.857143 de produits 3 à produire\n",
      "832.142859 Euros de profits \n"
     ]
    }
   ],
   "source": [
    "# Importer la librairie Pulp sous le pseudo p\n",
    "import pulp as p \n",
    "  \n",
    "# Créer un programme linéaire de maximisation\n",
    "Lp_prob = p.LpProblem('Problem', p.LpMaximize)  \n",
    "  \n",
    "# Créer les variables du problème en nombres entiers vu que c'est des objets\n",
    "x = p.LpVariable(\"x\", lowBound = 0, cat='Integer')   # Create a variable x >= 0 \n",
    "y = p.LpVariable(\"y\", lowBound = 0, cat='Integer')   # Create a variable y >= 0 \n",
    "z = p.LpVariable(\"z\", lowBound = 0, cat='Integer')   # Create a variable z >= 0 \n",
    "  \n",
    "# Ecrire la fonction objectif à maximizer qui nous donne un résultat en Euros \n",
    "Lp_prob +=  4 * x + 3 * y + 6 * z\n",
    "  \n",
    "# Les contraintes : \n",
    "\n",
    "# Machine 1\n",
    "Lp_prob += 2 * x + 3 * y + 2 * z == 440\n",
    "# Machine 2\n",
    "Lp_prob += 4 * x + 0 * y + 3 * z == 470\n",
    "# Machine 3\n",
    "Lp_prob += 2 * x + 5 * y + 0 * z == 430\n",
    "\n",
    "# FACULTATIF : Il faut produire au minimum ce nombre d'éléments  :\n",
    "# Lp_prob += x  >= 100\n",
    "# Lp_prob += y  >= 10\n",
    "# Lp_prob += z  >= 10\n",
    "  \n",
    "# Afficher le problème\n",
    "print(Lp_prob) \n",
    "  \n",
    "status = Lp_prob.solve()   # Exécuter le solver\n",
    "print(p.LpStatus[status])   # Le statut de la solution\n",
    "  \n",
    "# Afficher la solution :\n",
    "print( p.value(x),\" de produits 1 à produire\")\n",
    "print(p.value(y) , \"de produits 2 à produire\"  )\n",
    "print(p.value(z) , \"de produits 3 à produire\"  )\n",
    "print(p.value(Lp_prob.objective) ,\"Euros de profits \" )\n",
    "\n",
    "\n",
    "# Il nous dit infeasible parce que en nombres entiers, \n",
    "# il ne peut trouver un résultat exact, on peut reppasser en\n",
    "# nombres variables continues pour ne pas avoir d'erreur ou \n",
    "# changer une des contraintes machine en \"inférieur à\"  \n"
   ]
  }
 ],
 "metadata": {
  "kernelspec": {
   "display_name": "Python 3",
   "language": "python",
   "name": "python3"
  },
  "language_info": {
   "codemirror_mode": {
    "name": "ipython",
    "version": 3
   },
   "file_extension": ".py",
   "mimetype": "text/x-python",
   "name": "python",
   "nbconvert_exporter": "python",
   "pygments_lexer": "ipython3",
   "version": "3.8.0"
  },
  "orig_nbformat": 4,
  "vscode": {
   "interpreter": {
    "hash": "edb60928ae049011e12e2dc43646b5515922153b602d9d974a622a5d486bbfcc"
   }
  }
 },
 "nbformat": 4,
 "nbformat_minor": 2
}
