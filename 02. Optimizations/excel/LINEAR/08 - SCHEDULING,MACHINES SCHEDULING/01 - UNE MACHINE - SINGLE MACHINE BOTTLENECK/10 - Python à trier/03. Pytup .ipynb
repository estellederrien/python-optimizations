{
 "cells": [
  {
   "cell_type": "code",
   "execution_count": 8,
   "metadata": {},
   "outputs": [],
   "source": [
    "# Source : https://pchtsp.github.io/pytups/pulp.html\n",
    "\n",
    "import pulp as pl\n",
    "import pytups as pt\n",
    "\n",
    "# Get input data\n",
    "duration = {1: 8, 2: 12, 3: 6, 4: 13, 5: 2, 6: 12, 7: 15, 8: 20, 9: 16, 10: 16, 11: 10, 12: 14, 13: 17, 14: 3, 15: 20, 16: 19, 17: 13, 18: 6, 19: 18, 20: 11}\n",
    "priority = {1: 4, 2: 5, 3: 6, 4: 8, 5: 4, 6: 2, 7: 5, 8: 6, 9: 1, 10: 8, 11: 8, 12: 4, 13: 4, 14: 8, 15: 9, 16: 11, 17: 6, 18: 10, 19: 6, 20: 9}\n",
    "duedate = {1: 52, 2: 80, 3: 133, 4: 150, 5: 53, 6: 133, 7: 113, 8: 107, 9: 75, 10: 133, 11: 77, 12: 126, 13: 117, 14: 72, 15: 111, 16: 111, 17: 117, 18: 69, 19: 115, 20: 68}\n",
    "\n",
    "\n",
    "\n",
    "\n",
    "\n"
   ]
  },
  {
   "cell_type": "code",
   "execution_count": 9,
   "metadata": {},
   "outputs": [
    {
     "ename": "AttributeError",
     "evalue": "'TupList' object has no attribute 'filter_list'",
     "output_type": "error",
     "traceback": [
      "\u001b[1;31m---------------------------------------------------------------------------\u001b[0m",
      "\u001b[1;31mAttributeError\u001b[0m                            Traceback (most recent call last)",
      "\u001b[1;32mc:\\www\\python-data-science2\\01. Recherche opérationnelle (Operations research - Management science)\\Linéaire\\08 - ORDONNANCEMENT ATELIER (SCHEDULING,MACHINES SCHEDULING)\\01 - UNE MACHINE - SINGLE MACHINE BOTTLENECK\\03 - Python à trier\\03. Pytup .ipynb Cellule 2\u001b[0m in \u001b[0;36m<cell line: 10>\u001b[1;34m()\u001b[0m\n\u001b[0;32m      <a href='vscode-notebook-cell:/c%3A/www/python-data-science2/01.%20Recherche%20op%C3%A9rationnelle%20%28Operations%20research%20-%20Management%20science%29/Lin%C3%A9aire/08%20-%20ORDONNANCEMENT%20ATELIER%20%28SCHEDULING%2CMACHINES%20SCHEDULING%29/01%20-%20UNE%20MACHINE%20-%20SINGLE%20MACHINE%20BOTTLENECK/03%20-%20Python%20%C3%A0%20trier/03.%20Pytup%20.ipynb#W1sZmlsZQ%3D%3D?line=6'>7</a>\u001b[0m jk_all \u001b[39m=\u001b[39m pt\u001b[39m.\u001b[39mTupList((t, p) \u001b[39mfor\u001b[39;00m t \u001b[39min\u001b[39;00m tasks \u001b[39mfor\u001b[39;00m p \u001b[39min\u001b[39;00m periods)\n\u001b[0;32m      <a href='vscode-notebook-cell:/c%3A/www/python-data-science2/01.%20Recherche%20op%C3%A9rationnelle%20%28Operations%20research%20-%20Management%20science%29/Lin%C3%A9aire/08%20-%20ORDONNANCEMENT%20ATELIER%20%28SCHEDULING%2CMACHINES%20SCHEDULING%29/01%20-%20UNE%20MACHINE%20-%20SINGLE%20MACHINE%20BOTTLENECK/03%20-%20Python%20%C3%A0%20trier/03.%20Pytup%20.ipynb#W1sZmlsZQ%3D%3D?line=8'>9</a>\u001b[0m \u001b[39m# we filter the starts that are too late to be possible:\u001b[39;00m\n\u001b[1;32m---> <a href='vscode-notebook-cell:/c%3A/www/python-data-science2/01.%20Recherche%20op%C3%A9rationnelle%20%28Operations%20research%20-%20Management%20science%29/Lin%C3%A9aire/08%20-%20ORDONNANCEMENT%20ATELIER%20%28SCHEDULING%2CMACHINES%20SCHEDULING%29/01%20-%20UNE%20MACHINE%20-%20SINGLE%20MACHINE%20BOTTLENECK/03%20-%20Python%20%C3%A0%20trier/03.%20Pytup%20.ipynb#W1sZmlsZQ%3D%3D?line=9'>10</a>\u001b[0m JK \u001b[39m=\u001b[39m jk_all\u001b[39m.\u001b[39;49mfilter_list(\u001b[39mlambda\u001b[39;00m x: x[\u001b[39m1\u001b[39m] \u001b[39m+\u001b[39m duration[x[\u001b[39m0\u001b[39m]] \u001b[39m<\u001b[39m\u001b[39m=\u001b[39m C_max)\n\u001b[0;32m     <a href='vscode-notebook-cell:/c%3A/www/python-data-science2/01.%20Recherche%20op%C3%A9rationnelle%20%28Operations%20research%20-%20Management%20science%29/Lin%C3%A9aire/08%20-%20ORDONNANCEMENT%20ATELIER%20%28SCHEDULING%2CMACHINES%20SCHEDULING%29/01%20-%20UNE%20MACHINE%20-%20SINGLE%20MACHINE%20BOTTLENECK/03%20-%20Python%20%C3%A0%20trier/03.%20Pytup%20.ipynb#W1sZmlsZQ%3D%3D?line=11'>12</a>\u001b[0m \u001b[39m# we create a set of tasks that can start at time period k\u001b[39;00m\n\u001b[0;32m     <a href='vscode-notebook-cell:/c%3A/www/python-data-science2/01.%20Recherche%20op%C3%A9rationnelle%20%28Operations%20research%20-%20Management%20science%29/Lin%C3%A9aire/08%20-%20ORDONNANCEMENT%20ATELIER%20%28SCHEDULING%2CMACHINES%20SCHEDULING%29/01%20-%20UNE%20MACHINE%20-%20SINGLE%20MACHINE%20BOTTLENECK/03%20-%20Python%20%C3%A0%20trier/03.%20Pytup%20.ipynb#W1sZmlsZQ%3D%3D?line=12'>13</a>\u001b[0m K_j \u001b[39m=\u001b[39m JK\u001b[39m.\u001b[39mto_dict(result_col\u001b[39m=\u001b[39m\u001b[39m1\u001b[39m)\n",
      "\u001b[1;31mAttributeError\u001b[0m: 'TupList' object has no attribute 'filter_list'"
     ]
    }
   ],
   "source": [
    "# Get intermediate paramters, sets.\n",
    "C_max = sum(duration.values())\n",
    "periods = range(C_max)\n",
    "tasks = duration.keys()\n",
    "\n",
    "# all legal combinations of task-period assignment\n",
    "jk_all = pt.TupList((t, p) for t in tasks for p in periods)\n",
    "\n",
    "# we filter the starts that are too late to be possible:\n",
    "JK = jk_all.filter_list_f(lambda x: x[1] + duration[x[0]] <= C_max)\n",
    "\n",
    "# we create a set of tasks that can start at time period k\n",
    "K_j = JK.to_dict(result_col=1)\n",
    "\n",
    "# all combinations (t, p, p2) such that I start a task j \n",
    "# in time period k and is active in period k2\n",
    "jkk2 = pt.TupList((j, k, k2) for j, k in JK \n",
    "\t\t\t\t  for k2 in range(k, k + duration[j]))\n",
    "\n",
    "# given a period k2, what starts affect make it unavailable:\n",
    "JK_k2 = jkk2.to_dict(result_col=[0, 1])\n",
    "\n",
    "# given a start (j, k), what periods k2 are made unavailable:\n",
    "K2_jk = jkk2.to_dict(result_col=2)\n",
    "\n",
    "# for each possible start: how late will the task be\n",
    "t_jk = {(j, k): max(duration[j] + k -1 - duedate[j], 0) * \n",
    "\t\t\t\tpriority[j] for j, k in JK}\n",
    "\n",
    "\n",
    "\n"
   ]
  },
  {
   "cell_type": "code",
   "execution_count": null,
   "metadata": {},
   "outputs": [
    {
     "ename": "NameError",
     "evalue": "name 'JK' is not defined",
     "output_type": "error",
     "traceback": [
      "\u001b[1;31m---------------------------------------------------------------------------\u001b[0m",
      "\u001b[1;31mNameError\u001b[0m                                 Traceback (most recent call last)",
      "\u001b[1;32mc:\\www\\python-data-science2\\01. Recherche opérationnelle (Operations research - Management science)\\Linéaire\\08 - ORDONNANCEMENT ATELIER (SCHEDULING,MACHINES SCHEDULING)\\01 - UNE MACHINE - SINGLE MACHINE BOTTLENECK\\03 - Python à trier\\03. Pytup .ipynb Cellule 3\u001b[0m in \u001b[0;36m<cell line: 3>\u001b[1;34m()\u001b[0m\n\u001b[0;32m      <a href='vscode-notebook-cell:/c%3A/www/python-data-science2/01.%20Recherche%20op%C3%A9rationnelle%20%28Operations%20research%20-%20Management%20science%29/Lin%C3%A9aire/08%20-%20ORDONNANCEMENT%20ATELIER%20%28SCHEDULING%2CMACHINES%20SCHEDULING%29/01%20-%20UNE%20MACHINE%20-%20SINGLE%20MACHINE%20BOTTLENECK/03%20-%20Python%20%C3%A0%20trier/03.%20Pytup%20.ipynb#W2sZmlsZQ%3D%3D?line=0'>1</a>\u001b[0m \u001b[39m# model construction with PuLP\u001b[39;00m\n\u001b[0;32m      <a href='vscode-notebook-cell:/c%3A/www/python-data-science2/01.%20Recherche%20op%C3%A9rationnelle%20%28Operations%20research%20-%20Management%20science%29/Lin%C3%A9aire/08%20-%20ORDONNANCEMENT%20ATELIER%20%28SCHEDULING%2CMACHINES%20SCHEDULING%29/01%20-%20UNE%20MACHINE%20-%20SINGLE%20MACHINE%20BOTTLENECK/03%20-%20Python%20%C3%A0%20trier/03.%20Pytup%20.ipynb#W2sZmlsZQ%3D%3D?line=1'>2</a>\u001b[0m model \u001b[39m=\u001b[39m pl\u001b[39m.\u001b[39mLpProblem(\u001b[39m\"\u001b[39m\u001b[39mScheduling\u001b[39m\u001b[39m\"\u001b[39m, pl\u001b[39m.\u001b[39mLpMinimize)\n\u001b[1;32m----> <a href='vscode-notebook-cell:/c%3A/www/python-data-science2/01.%20Recherche%20op%C3%A9rationnelle%20%28Operations%20research%20-%20Management%20science%29/Lin%C3%A9aire/08%20-%20ORDONNANCEMENT%20ATELIER%20%28SCHEDULING%2CMACHINES%20SCHEDULING%29/01%20-%20UNE%20MACHINE%20-%20SINGLE%20MACHINE%20BOTTLENECK/03%20-%20Python%20%C3%A0%20trier/03.%20Pytup%20.ipynb#W2sZmlsZQ%3D%3D?line=2'>3</a>\u001b[0m X \u001b[39m=\u001b[39m pl\u001b[39m.\u001b[39mLpVariable\u001b[39m.\u001b[39mdicts(name\u001b[39m=\u001b[39m\u001b[39m'\u001b[39m\u001b[39mstart\u001b[39m\u001b[39m'\u001b[39m, indexs\u001b[39m=\u001b[39mJK,\n\u001b[0;32m      <a href='vscode-notebook-cell:/c%3A/www/python-data-science2/01.%20Recherche%20op%C3%A9rationnelle%20%28Operations%20research%20-%20Management%20science%29/Lin%C3%A9aire/08%20-%20ORDONNANCEMENT%20ATELIER%20%28SCHEDULING%2CMACHINES%20SCHEDULING%29/01%20-%20UNE%20MACHINE%20-%20SINGLE%20MACHINE%20BOTTLENECK/03%20-%20Python%20%C3%A0%20trier/03.%20Pytup%20.ipynb#W2sZmlsZQ%3D%3D?line=3'>4</a>\u001b[0m                             lowBound\u001b[39m=\u001b[39m\u001b[39m0\u001b[39m, upBound\u001b[39m=\u001b[39m\u001b[39m1\u001b[39m, cat\u001b[39m=\u001b[39mpl\u001b[39m.\u001b[39mLpInteger)\n\u001b[0;32m      <a href='vscode-notebook-cell:/c%3A/www/python-data-science2/01.%20Recherche%20op%C3%A9rationnelle%20%28Operations%20research%20-%20Management%20science%29/Lin%C3%A9aire/08%20-%20ORDONNANCEMENT%20ATELIER%20%28SCHEDULING%2CMACHINES%20SCHEDULING%29/01%20-%20UNE%20MACHINE%20-%20SINGLE%20MACHINE%20BOTTLENECK/03%20-%20Python%20%C3%A0%20trier/03.%20Pytup%20.ipynb#W2sZmlsZQ%3D%3D?line=5'>6</a>\u001b[0m \u001b[39m# objective function:\u001b[39;00m\n\u001b[0;32m      <a href='vscode-notebook-cell:/c%3A/www/python-data-science2/01.%20Recherche%20op%C3%A9rationnelle%20%28Operations%20research%20-%20Management%20science%29/Lin%C3%A9aire/08%20-%20ORDONNANCEMENT%20ATELIER%20%28SCHEDULING%2CMACHINES%20SCHEDULING%29/01%20-%20UNE%20MACHINE%20-%20SINGLE%20MACHINE%20BOTTLENECK/03%20-%20Python%20%C3%A0%20trier/03.%20Pytup%20.ipynb#W2sZmlsZQ%3D%3D?line=6'>7</a>\u001b[0m model \u001b[39m+\u001b[39m\u001b[39m=\u001b[39m pl\u001b[39m.\u001b[39mlpSum(X[j, k] \u001b[39m*\u001b[39m t_jk[j, k] \u001b[39mfor\u001b[39;00m j, k \u001b[39min\u001b[39;00m JK)\n",
      "\u001b[1;31mNameError\u001b[0m: name 'JK' is not defined"
     ]
    }
   ],
   "source": [
    "# model construction with PuLP\n",
    "model = pl.LpProblem(\"Scheduling\", pl.LpMinimize)\n",
    "X = pl.LpVariable.dicts(name='start', indexs=JK,\n",
    "                            lowBound=0, upBound=1, cat=pl.LpInteger)\n",
    "\n",
    "# objective function:\n",
    "model += pl.lpSum(X[j, k] * t_jk[j, k] for j, k in JK)\n",
    "\n",
    "# one and only one start per task\n",
    "for j in tasks:\n",
    "    model += pl.lpSum(X[j, k] for k in K_j[j]) == 1\n",
    "\n",
    "# only one task is active at any moment:\n",
    "for k2 in periods:\n",
    "    model += pl.lpSum(X[j, k] for j, k in JK_k2[k2]) == 1\n",
    "\n",
    "# solve model:\n",
    "solver = pl.PULP_CBC_CMD(msg=True)\n",
    "# solver = pl.CPLEX_CMD(msg=True)\n",
    "model.solve(solver)\n",
    "\n",
    "\n",
    "\n",
    "# get tasks starts\n",
    "starts_out = pt.SuperDict(X).vapply(pl.value).clean().keys_l()\n",
    "\n",
    "solution = [-1 for p in periods]\n",
    "for j, k in starts_out:\n",
    "    for p2 in K2_jk[j, k]:\n",
    "        solution[p2] = j\n",
    "\n",
    "print('solution is \\n{}'.format(solution))\n",
    "\n",
    "\n",
    "\n",
    "# verify that all periods are filled:\n",
    "# counting if there is any with a minus -1\n",
    "pt.TupList(solution).filter_list_f(lambda v: v == -1)\n",
    "\n",
    "# verify that each task t appears exactly duration[t] times\n",
    "task_count = pt.SuperDict().fill_with_default(keys=duration.keys())\n",
    "for period, task in enumerate(solution):\n",
    "    task_count[task] += 1\n",
    "task_count.apply(lambda k, v: duration[k] - v).clean()"
   ]
  }
 ],
 "metadata": {
  "kernelspec": {
   "display_name": "Python 3.8.5 64-bit",
   "language": "python",
   "name": "python3"
  },
  "language_info": {
   "codemirror_mode": {
    "name": "ipython",
    "version": 3
   },
   "file_extension": ".py",
   "mimetype": "text/x-python",
   "name": "python",
   "nbconvert_exporter": "python",
   "pygments_lexer": "ipython3",
   "version": "3.8.5"
  },
  "orig_nbformat": 4,
  "vscode": {
   "interpreter": {
    "hash": "6bd0648e655c19027e4f56e697a7cd4ab7921013b5d2695c8854e14fd1f5ba73"
   }
  }
 },
 "nbformat": 4,
 "nbformat_minor": 2
}
