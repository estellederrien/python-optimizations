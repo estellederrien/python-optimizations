{
 "cells": [
  {
   "attachments": {},
   "cell_type": "markdown",
   "metadata": {},
   "source": [
    "# Un problème d'affectation linéaire\n",
    "\n",
    "Réduire le cout global en affectant les employés à des emplois."
   ]
  },
  {
   "attachments": {},
   "cell_type": "markdown",
   "metadata": {},
   "source": [
    "Le solveur affecte les employés aux tâches de façon à minimiser notre coût global, il prends en compte le coût individuel de chaque employé.\n",
    "Ce code trouve les mêmes résultat que le solveur Excel."
   ]
  },
  {
   "cell_type": "code",
   "execution_count": 1,
   "metadata": {},
   "outputs": [
    {
     "name": "stdout",
     "output_type": "stream",
     "text": [
      "defaultdict(<function __makeDict.<locals>.<lambda> at 0x0000028A1B6A1430>, {'Pierre': defaultdict(<function __makeDict.<locals>.<lambda> at 0x0000028A1AFCF790>, {'Plomberie': 40, 'Carrelage': 47, 'Electricité': 80}), 'Paul': defaultdict(<function __makeDict.<locals>.<lambda> at 0x0000028A1AFCFA60>, {'Plomberie': 72, 'Carrelage': 36, 'Electricité': 58}), 'Jacques': defaultdict(<function __makeDict.<locals>.<lambda> at 0x0000028A1B5F2C10>, {'Plomberie': 24, 'Carrelage': 61, 'Electricité': 71})})\n"
     ]
    }
   ],
   "source": [
    "# On importe PUlp\n",
    "from pulp import *\n",
    "\n",
    "workers=[\"Pierre\",\"Paul\",\"Jacques\"]\n",
    "jobs=[\"Plomberie\",\"Carrelage\",\"Electricité\"]\n",
    "\n",
    "# Matrice des côuts\n",
    "costs=[[40,47,80],\n",
    "      [72,36,58],\n",
    "      [24,61,71]]\n",
    "\n",
    "prob = LpProblem(\"Assignment_Problem\", LpMinimize) \n",
    "\n",
    "# On crée un dictionnaire avec les datas des coûts\n",
    "costs= makeDict([workers, jobs], costs, 0)\n",
    "\n",
    "print(costs)"
   ]
  },
  {
   "cell_type": "code",
   "execution_count": 2,
   "metadata": {},
   "outputs": [
    {
     "name": "stdout",
     "output_type": "stream",
     "text": [
      "[('Pierre', 'Plomberie'), ('Pierre', 'Carrelage'), ('Pierre', 'Electricité'), ('Paul', 'Plomberie'), ('Paul', 'Carrelage'), ('Paul', 'Electricité'), ('Jacques', 'Plomberie'), ('Jacques', 'Carrelage'), ('Jacques', 'Electricité')]\n"
     ]
    }
   ],
   "source": [
    "# Creates a list of tuples containing all the possible assignments\n",
    "# On crée une list de tuples qui contient toutes les affectations en français\n",
    "assign = [(w, j) for w in workers for j in jobs]\n",
    "\n",
    "print(assign)"
   ]
  },
  {
   "cell_type": "code",
   "execution_count": 3,
   "metadata": {},
   "outputs": [
    {
     "name": "stdout",
     "output_type": "stream",
     "text": [
      "{'Pierre': {'Plomberie': Assign_Pierre_Plomberie, 'Carrelage': Assign_Pierre_Carrelage, 'Electricité': Assign_Pierre_Electricité}, 'Paul': {'Plomberie': Assign_Paul_Plomberie, 'Carrelage': Assign_Paul_Carrelage, 'Electricité': Assign_Paul_Electricité}, 'Jacques': {'Plomberie': Assign_Jacques_Plomberie, 'Carrelage': Assign_Jacques_Carrelage, 'Electricité': Assign_Jacques_Electricité}}\n"
     ]
    }
   ],
   "source": [
    "# A dictionary called 'Vars' is created to contain the referenced variables\n",
    "# un dicitonnaire appelé vars est créé pour contenir toutes les variables référencées\n",
    "vars = LpVariable.dicts(\"Assign\", (workers, jobs), 0, None, LpBinary)\n",
    "\n",
    "print(vars)"
   ]
  },
  {
   "cell_type": "code",
   "execution_count": 4,
   "metadata": {},
   "outputs": [
    {
     "name": "stdout",
     "output_type": "stream",
     "text": [
      "Assign_Jacques_Carrelage = 0.0\n",
      "Assign_Jacques_Electricité = 0.0\n",
      "Assign_Jacques_Plomberie = 1.0\n",
      "Assign_Paul_Carrelage = 0.0\n",
      "Assign_Paul_Electricité = 1.0\n",
      "Assign_Paul_Plomberie = 0.0\n",
      "Assign_Pierre_Carrelage = 1.0\n",
      "Assign_Pierre_Electricité = 0.0\n",
      "Assign_Pierre_Plomberie = 0.0\n",
      "Value of Objective Function =  129.0\n"
     ]
    }
   ],
   "source": [
    "# The objective function is added to 'prob' first\n",
    "# On ajoute la fonction objectif en premier à notre problème linéaire.\n",
    "prob += (\n",
    "    lpSum([vars[w][j] * costs[w][j] for (w, j) in assign]),\n",
    "    \"Sum_of_Assignment_Costs\",\n",
    ")\n",
    "\n",
    "# There are row constraints. Each job can be assigned to only one employee.\n",
    "# Il y a des contraintes de type ligne, chaque emploi ne peut être assigné qu'à un seul employé.\n",
    "for j in jobs:\n",
    "    prob+= lpSum(vars[w][j] for w in workers) == 1\n",
    "\n",
    "# There are column constraints. Each employee can be assigned to only one job.\n",
    "# Il y a des contraintes de type colonne, chaque employé ne peut être assigné qu'à un seul emploi - Note, on peut mettre 2 si il peut faire 2 emplois.\n",
    "for w in workers:\n",
    "    prob+= lpSum(vars[w][j] for j in jobs) == 1\n",
    "\n",
    "# The problem is solved using PuLP's choice of Solver\n",
    "# On résouds le problème.\n",
    "prob.solve()\n",
    "\n",
    "# Print the variables optimized value\n",
    "# On imprime les variables optimisées.\n",
    "for v in prob.variables():\n",
    "    print(v.name, \"=\", v.varValue)\n",
    "    \n",
    "# The optimised objective function value is printed to the screen\n",
    "# On imprime le total de notre fonction objectif, qui est le coût minimisé.\n",
    "# en fait, le solveur affecte les employés aux tâches de façon à minimiser notre coût global\n",
    "print(\"Value of Objective Function = \", value(prob.objective))\n",
    "\n",
    "\n"
   ]
  }
 ],
 "metadata": {
  "kernelspec": {
   "display_name": "Python 3",
   "language": "python",
   "name": "python3"
  },
  "language_info": {
   "codemirror_mode": {
    "name": "ipython",
    "version": 3
   },
   "file_extension": ".py",
   "mimetype": "text/x-python",
   "name": "python",
   "nbconvert_exporter": "python",
   "pygments_lexer": "ipython3",
   "version": "3.8.0"
  },
  "orig_nbformat": 4
 },
 "nbformat": 4,
 "nbformat_minor": 2
}
