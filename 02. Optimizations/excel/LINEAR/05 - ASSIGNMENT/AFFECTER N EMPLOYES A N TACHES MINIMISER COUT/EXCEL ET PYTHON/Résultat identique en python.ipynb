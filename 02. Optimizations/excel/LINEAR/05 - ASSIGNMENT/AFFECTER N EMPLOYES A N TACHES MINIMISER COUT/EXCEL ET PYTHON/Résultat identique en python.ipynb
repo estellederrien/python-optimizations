{
 "cells": [
  {
   "cell_type": "code",
   "execution_count": 2,
   "metadata": {},
   "outputs": [
    {
     "name": "stdout",
     "output_type": "stream",
     "text": [
      "Assign_1_1 = 0.0\n",
      "Assign_1_2 = 1.0\n",
      "Assign_1_3 = 0.0\n",
      "Assign_2_1 = 0.0\n",
      "Assign_2_2 = 0.0\n",
      "Assign_2_3 = 1.0\n",
      "Assign_3_1 = 1.0\n",
      "Assign_3_2 = 0.0\n",
      "Assign_3_3 = 0.0\n",
      "Value of Objective Function =  129.0\n"
     ]
    }
   ],
   "source": [
    "# # Import all classes of PuLP module\n",
    "from pulp import *\n",
    "\n",
    "workers=[1,2,3]\n",
    "jobs=[1,2,3]\n",
    "\n",
    "# Cost Matrix\n",
    "costs=[[40,47,80],\n",
    "      [72,36,58],\n",
    "      [24,61,71]]\n",
    "\n",
    "prob = LpProblem(\"Assignment Problem\", LpMinimize) \n",
    "\n",
    "# The cost data is made into a dictionary\n",
    "costs= makeDict([workers, jobs], costs, 0)\n",
    "\n",
    "# Creates a list of tuples containing all the possible assignments\n",
    "assign = [(w, j) for w in workers for j in jobs]\n",
    "\n",
    "# A dictionary called 'Vars' is created to contain the referenced variables\n",
    "vars = LpVariable.dicts(\"Assign\", (workers, jobs), 0, None, LpBinary)\n",
    "\n",
    "# The objective function is added to 'prob' first\n",
    "prob += (\n",
    "    lpSum([vars[w][j] * costs[w][j] for (w, j) in assign]),\n",
    "    \"Sum_of_Assignment_Costs\",\n",
    ")\n",
    "\n",
    "# There are row constraints. Each job can be assigned to only one employee.\n",
    "for j in jobs:\n",
    "    prob+= lpSum(vars[w][j] for w in workers) == 1\n",
    "\n",
    "# There are column constraints. Each employee can be assigned to only one job.\n",
    "for w in workers:\n",
    "    prob+= lpSum(vars[w][j] for j in jobs) == 1\n",
    "\n",
    "# The problem is solved using PuLP's choice of Solver\n",
    "prob.solve()\n",
    "\n",
    "# Print the variables optimized value\n",
    "for v in prob.variables():\n",
    "    print(v.name, \"=\", v.varValue)\n",
    "    \n",
    "# The optimised objective function value is printed to the screen\n",
    "print(\"Value of Objective Function = \", value(prob.objective))\n",
    "\n",
    "\n"
   ]
  }
 ],
 "metadata": {
  "kernelspec": {
   "display_name": "Python 3",
   "language": "python",
   "name": "python3"
  },
  "language_info": {
   "codemirror_mode": {
    "name": "ipython",
    "version": 3
   },
   "file_extension": ".py",
   "mimetype": "text/x-python",
   "name": "python",
   "nbconvert_exporter": "python",
   "pygments_lexer": "ipython3",
   "version": "3.8.0"
  },
  "orig_nbformat": 4
 },
 "nbformat": 4,
 "nbformat_minor": 2
}
