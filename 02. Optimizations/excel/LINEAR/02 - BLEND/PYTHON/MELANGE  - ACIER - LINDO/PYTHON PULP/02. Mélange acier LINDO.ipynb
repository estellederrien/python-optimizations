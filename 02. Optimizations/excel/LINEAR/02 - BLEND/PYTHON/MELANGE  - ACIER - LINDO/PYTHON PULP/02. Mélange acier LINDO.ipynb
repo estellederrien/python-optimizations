{
 "cells": [
  {
   "attachments": {},
   "cell_type": "markdown",
   "metadata": {},
   "source": [
    "## Recherche opérationnelle\n",
    "# problème de mélange linéaire( Linear Blending problem )\n",
    "\n",
    "Source :https://www.lindo.com/downloads/LINGO_text/10-Blending_of_Input_Materials.pdf\n",
    "\n",
    " Programme pulp créé par Estelle HULEUX\n",
    " Intérêt : On a des contraintes en pourcentages, et on sait désormais comment gérer cela.\n",
    " Pulp trouve pareil que Lindo ! Donc, le programme linéaire gère bien les pourcentages\n",
    " dans le fichier num 8 on va comparer avec un programme EXCEL et voir si on trouve pareil!\n"
   ]
  },
  {
   "cell_type": "code",
   "execution_count": 2,
   "metadata": {},
   "outputs": [
    {
     "name": "stdout",
     "output_type": "stream",
     "text": [
      "Status: Optimal\n",
      "A1 = 14.238863\n",
      "A2 = 0.0\n",
      "A3 = 0.0\n",
      "CB = 0.0\n",
      "F1 = 0.0\n",
      "F2 = 22.062052\n",
      "P1 = 1474.2641\n",
      "P2 = 60.0\n",
      "S1 = 200.0\n",
      "S2 = 29.434959\n",
      "S3 = 200.0\n",
      "Total Cost of Ingredients  =  59.556293652\n"
     ]
    }
   ],
   "source": [
    "import pulp\n",
    "from pulp import *\n",
    "\n",
    "# On veut minimiser le cout de 2000 pounds d'alliage # 1 tonne signifie 2000 pounds en Angleterre.\n",
    "prob = LpProblem(\"Production_1_tonne\",LpMinimize)\n",
    "\n",
    "# ON crée nos variables de décisions\n",
    "# Ca veut dire qu'on doitchoisir quels sont les alliages les plus judicieux à choisir et on leur donne un nom à chacun\n",
    "# C'est le nombre de kg de l’alliage i utilisés.\n",
    "# vu que la valeur du nombre de kgs peut être décimal, on spécifie que c'est une variable de décision de type décimale en écrivant Continuous:\n",
    "P1 = LpVariable(\"P1\", lowBound = 0,cat='Continuous')\n",
    "P2 = LpVariable(\"P2\", lowBound = 0,cat='Continuous')\n",
    "F1 = LpVariable(\"F1\", lowBound = 0,cat='Continuous')\n",
    "F2 = LpVariable(\"F2\", lowBound = 0,cat='Continuous')\n",
    "A1 = LpVariable(\"A1\", lowBound = 0,cat='Continuous')\n",
    "A2 = LpVariable(\"A2\", lowBound = 0,cat='Continuous')\n",
    "A3 = LpVariable(\"A3\", lowBound = 0,cat='Continuous')\n",
    "CB = LpVariable(\"CB\", lowBound = 0,cat='Continuous')\n",
    "S1 = LpVariable(\"S1\", lowBound = 0,cat='Continuous')\n",
    "S2 = LpVariable(\"S2\", lowBound = 0,cat='Continuous')\n",
    "S3 = LpVariable(\"S3\", lowBound = 0,cat='Continuous')\n",
    "\n",
    "# fonction objectif / min (ci * xi) ou xi est exprimé en cout par pounds et ci est exprimé en dollars\n",
    "prob += 0.03 * P1 + 0.0645 * P2 + 0.065 * F1 + 0.061 * F2 + 0.1 * A1 +  0.13  *  A2  +  0.119  *  A3  +  0.08  *  CB  +  0.021  *  S1  +  0.02  *  S2  +  0.0195 * S3, \"Cout total \"\n",
    "\n",
    "#! On ne peut pas utiliser plus que le STOCK de   matières premières suivantes ( voir le tableau du doc lindo)\n",
    "prob += CB <= 20; \n",
    "prob += S1 <= 200; \n",
    "prob += S2 <= 200; \n",
    "prob += S3 <= 200; \n",
    "\n",
    "#! -------------------- Les requirements qualité -----------------------!\n",
    "#! Carbon content; Ici, 60 veut dire qu'on a besoin de 3% de 2000 pounds , ça fait  60 ( voir le tableau du doc lindo)\n",
    "prob += 0.04 * P1 + 0.15 * CB + 0.004 * S1 + 0.001 * S2 + 0.001 * S3 >= 60; \n",
    "prob += 0.04 * P1 + 0.15 * CB + 0.004 * S1 + 0.001 * S2 + 0.001 * S3 <= 70; \n",
    "##! Chrome content; \n",
    "prob += 0.1 * P2 + 0.2 * A2 + 0.08 * A3 >=  6; \n",
    "prob += 0.1 * P2 + 0.2 * A2 + 0.08 * A3 <=  9; \n",
    "##! Manganese content; \n",
    "prob += 0.009 * P1 + 0.045 * P2 + 0.6 * A1 + 0.09 * A2 + 0.33 * A3 + 0.009 * S1 + 0.003 * S2 + 0.003 * S3 >= 27; \n",
    "prob += 0.009 * P1 + 0.045 * P2 + 0.6 * A1 + 0.09 * A2 + 0.33 * A3 + 0.009 * S1 + 0.003 * S2 + 0.003 * S3 <= 33; \n",
    "#! Silicon content; \n",
    "prob +=0.0225 * P1 + 0.15 * P2 + 0.45 * F1 + 0.42 * F2 + 0.18 * A1 + 0.3 * A2 + 0.25 * A3 + 0.3 * CB >=  54; \n",
    "prob += 0.0225 * P1 + 0.15 * P2 + 0.45 * F1 + 0.42 * F2 + 0.18 * A1 + 0.3 * A2 + 0.25 * A3 + 0.3 * CB <=  60; \n",
    "\n",
    "\n",
    "#! Finish good requirements; \n",
    "# On doit spécifier que le total de nos variables de décisions exprimée en pounds doit être égal à 2000 POUNDS soit 1 tonne absolument, c'est donc logique, pas de pourcentages ici.\n",
    "prob += P1 +  P2 +  F1 +   F2 +  A1 +  A2 +   A3 +  CB + S1 + S2 + S3 ==  2000 , \"total\"\n",
    "\n",
    "\n",
    "prob.writeLP(\"monAlliage.lp\")\n",
    "prob.solve()\n",
    "print(\"Status:\", LpStatus[prob.status])\n",
    "\n",
    "for v in prob.variables():\n",
    "    print(v.name, \"=\", v.varValue)\n",
    "\n",
    "print(\"Total Cost of Ingredients  = \", value(prob.objective))\n"
   ]
  }
 ],
 "metadata": {
  "kernelspec": {
   "display_name": "Python 3",
   "language": "python",
   "name": "python3"
  },
  "language_info": {
   "codemirror_mode": {
    "name": "ipython",
    "version": 3
   },
   "file_extension": ".py",
   "mimetype": "text/x-python",
   "name": "python",
   "nbconvert_exporter": "python",
   "pygments_lexer": "ipython3",
   "version": "3.8.0"
  },
  "orig_nbformat": 4,
  "vscode": {
   "interpreter": {
    "hash": "edb60928ae049011e12e2dc43646b5515922153b602d9d974a622a5d486bbfcc"
   }
  }
 },
 "nbformat": 4,
 "nbformat_minor": 2
}
