{
 "cells": [
  {
   "attachments": {},
   "cell_type": "markdown",
   "metadata": {},
   "source": [
    " # Recherche opérationnelle \n",
    " # Optimisation de mélange (Blending problem)\n",
    "\n",
    "Problème de paté avec des contraintes qualité protéine et gras .\n",
    "\n",
    "Version avec des vecteurs \n",
    "\n",
    "https://www.coin-or.org/PuLP/CaseStudies/a_blending_problem.html\n",
    "\n",
    "SOLUTION OK OK OK\n",
    "\n",
    "On veut remplir une boite de conserve de paté pour chat de 100 grammes sous contrainte de protéines max, gras max, fibres min et sel min exprimées en pourcentages !"
   ]
  },
  {
   "cell_type": "code",
   "execution_count": 1,
   "metadata": {},
   "outputs": [
    {
     "name": "stdout",
     "output_type": "stream",
     "text": [
      "Status: Optimal\n",
      "Ingr_POULET = 33.333333\n",
      "Ingr_VIANDE = 66.666667\n",
      "Cout total des ingrédients par boite de conserve de 100g =  0.966666665\n"
     ]
    }
   ],
   "source": [
    "import pulp\n",
    "from pulp import *\n",
    "\n",
    "# Liste des ingrédients\n",
    "Ingredients = ['POULET', 'VIANDE']\n",
    "\n",
    "# cout d'un ingrédient par gramme en euros\n",
    "costs = {\n",
    "            'POULET': 0.013, \n",
    "            'VIANDE': 0.008\n",
    "        }\n",
    "\n",
    "# Proportion de protéines pour 100 grammes\n",
    "proteinPercent = {\n",
    "                    'POULET': 0.100, \n",
    "                    'VIANDE': 0.200\n",
    "                 }\n",
    "\n",
    "\n",
    "fatPercent = {\n",
    "                'POULET': 0.080, \n",
    "                'VIANDE': 0.100\n",
    "              }\n",
    "\n",
    "\n",
    "fibresPercent = {\n",
    "                'POULET': 0.001, \n",
    "                'VIANDE': 0.005\n",
    "              }\n",
    "\n",
    "\n",
    "saltPercent = {\n",
    "                'POULET': 0.002, \n",
    "                'VIANDE': 0.005\n",
    "              }\n",
    "\n",
    "# On veut minimiser nos couts\n",
    "prob = LpProblem(\"The_Whiskas_Problem\", LpMinimize)\n",
    "\n",
    "# On se sert du dictionnaire Ingredients pour créer nos variables\n",
    "ingredient_vars = LpVariable.dicts(\"Ingr\",Ingredients,0)\n",
    "\n",
    "# Notre function objectif s'exprime en euros ou en dollars\n",
    "prob += lpSum([costs[i]*ingredient_vars[i] for i in Ingredients]), \"Cout total des ingrédients par boite de conserve de 100g\"\n",
    "\n",
    "# La production totale est de 100 g\n",
    "prob += lpSum([ingredient_vars[i] for i in Ingredients]) == 100 ,\"PercentagesSum\"\n",
    "\n",
    "# Nos contraintes de qualité pour pas créer un paté de mauvaise qualité ...\n",
    "prob += lpSum([proteinPercent[i]    * ingredient_vars[i] for i in Ingredients]) >= 8.0, \"ProteinRequirement\"\n",
    "prob += lpSum([fatPercent[i]        * ingredient_vars[i] for i in Ingredients]) >= 6.0, \"FatRequirement\"\n",
    "prob += lpSum([fibresPercent[i]     * ingredient_vars[i] for i in Ingredients]) <= 2.0, \"fibresRequirement\"\n",
    "prob += lpSum([saltPercent[i]       * ingredient_vars[i] for i in Ingredients]) <= 0.4, \"saltRequirement\"\n",
    "\n",
    "# POSSIBILITE Utilisation minimale en g par element\n",
    "# for p in Ingredients:\n",
    "#    prob += ingredient_vars[p] >= 10, f\"min  for product {p}\"\n",
    "\n",
    "\n",
    "prob.writeLP(\"WhiskasModel2.lp\")\n",
    "prob.solve()\n",
    "# le statut du lp\n",
    "print (\"Status:\", LpStatus[prob.status])\n",
    "\n",
    "# Chauqe variable de décision est affichée avec son nom et sa valeur trouvée par l'algo\n",
    "for v in prob.variables():\n",
    "    print (v.name, \"=\", v.varValue)\n",
    "\n",
    "# Le résultat de la fonction objectif :\n",
    "print (\"Cout total des ingrédients par boite de conserve de 100g = \", value(prob.objective))\n"
   ]
  },
  {
   "attachments": {},
   "cell_type": "markdown",
   "metadata": {},
   "source": [
    "La solution est identique à celle de S. Mitchell, l'inventeur du solveur Pulp"
   ]
  }
 ],
 "metadata": {
  "kernelspec": {
   "display_name": "Python 3",
   "language": "python",
   "name": "python3"
  },
  "language_info": {
   "codemirror_mode": {
    "name": "ipython",
    "version": 3
   },
   "file_extension": ".py",
   "mimetype": "text/x-python",
   "name": "python",
   "nbconvert_exporter": "python",
   "pygments_lexer": "ipython3",
   "version": "3.8.0"
  },
  "orig_nbformat": 4,
  "vscode": {
   "interpreter": {
    "hash": "edb60928ae049011e12e2dc43646b5515922153b602d9d974a622a5d486bbfcc"
   }
  }
 },
 "nbformat": 4,
 "nbformat_minor": 2
}
