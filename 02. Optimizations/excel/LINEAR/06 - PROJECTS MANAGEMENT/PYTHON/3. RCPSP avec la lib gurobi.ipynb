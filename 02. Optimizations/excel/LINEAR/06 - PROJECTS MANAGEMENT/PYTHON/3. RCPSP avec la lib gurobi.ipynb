{
 "cells": [
  {
   "attachments": {},
   "cell_type": "markdown",
   "metadata": {},
   "source": [
    "# Minimiser le temps de réalisation d'un projet"
   ]
  },
  {
   "cell_type": "code",
   "execution_count": 1,
   "metadata": {},
   "outputs": [
    {
     "ename": "ModuleNotFoundError",
     "evalue": "No module named 'gurobipy'",
     "output_type": "error",
     "traceback": [
      "\u001b[1;31m---------------------------------------------------------------------------\u001b[0m",
      "\u001b[1;31mModuleNotFoundError\u001b[0m                       Traceback (most recent call last)",
      "Cell \u001b[1;32mIn[1], line 3\u001b[0m\n\u001b[0;32m      1\u001b[0m \u001b[39m# Author : https://github.com/Zzzly0322\u001b[39;00m\n\u001b[1;32m----> 3\u001b[0m \u001b[39mfrom\u001b[39;00m \u001b[39mgurobipy\u001b[39;00m \u001b[39mimport\u001b[39;00m \u001b[39m*\u001b[39m\n\u001b[0;32m      4\u001b[0m \u001b[39mimport\u001b[39;00m \u001b[39mdata_read_RCPSP\u001b[39;00m\n\u001b[0;32m      5\u001b[0m \u001b[39m# file=\"./data/j30.sm/j304_7.sm\"\u001b[39;00m\n",
      "\u001b[1;31mModuleNotFoundError\u001b[0m: No module named 'gurobipy'"
     ]
    }
   ],
   "source": [
    "# Author : https://github.com/Zzzly0322\n",
    "\n",
    "from gurobipy import *\n",
    "import data_read_RCPSP\n",
    "\n",
    "# file=\"./data/j30.sm/j304_7.sm\"\n",
    "def Gurobi_RSPSP_J30(file):\n",
    "    # Get the initial data from the file as follow\n",
    "    # number_job\n",
    "    # job_num_successors\n",
    "    # job_successors\n",
    "    # job_predecessors\n",
    "    # job_duration\n",
    "    # job_resource\n",
    "    # resource_capacity\n",
    "    number_job,job_num_successors, job_successors,job_predecessors,job_duration,job_resource,resource_capacity=data_read_RCPSP.dataRead(file)\n",
    "\n",
    "    # Set the upper bound Completion Time of the project\n",
    "    # we set T=100 when you solve the J30 problem\n",
    "    T=100\n",
    "\n",
    "    # Initial the gurobi model\n",
    "    m = Model()\n",
    "    #add variables xjt note that j activity start at time t\n",
    "    x = m.addVars(number_job,T,vtype=GRB.BINARY, name='e')\n",
    "\n",
    "    # Set the obj which means the minmize the Completion Time\n",
    "    obj=0\n",
    "    for t in range(T):\n",
    "        obj+=x[number_job-1,t]*t\n",
    "    # t_dict={(i,j):j\n",
    "    #    for i in range(number_job) for j in range(T)\n",
    "    # }\n",
    "    m.setObjective(obj,GRB.MINIMIZE)\n",
    "\n",
    "    # Constraint only can be done once\n",
    "    m.addConstrs(x.sum(i,'*') == 1 for i in range(number_job))\n",
    "\n",
    "    # Timing constraint\n",
    "    for i in range(number_job):\n",
    "        if len(job_predecessors[i]) !=0:\n",
    "            for j in job_predecessors[i]:\n",
    "                sum_ti=0\n",
    "                sum_tj=0\n",
    "                for t0 in range(T):\n",
    "                    sum_ti+=x[i,t0]*t0\n",
    "                for t1 in range(T):\n",
    "                    sum_tj+=x[j-1,t1]*(t1+job_duration[j-1])\n",
    "                m.addConstr(sum_ti>=sum_tj)\n",
    "    # Resource constraint\n",
    "    number_resource=4\n",
    "    for k in range(number_resource):\n",
    "        for t3 in range(50):\n",
    "            use_resource=0\n",
    "            for j in range(number_job):\n",
    "\n",
    "                use_resource+=sum(x[j,tt] for tt in range(t3,t3+job_duration[j]))*job_resource[j][k]\n",
    "            m.addConstr(resource_capacity[k]-use_resource>=0)\n",
    "\n",
    "    m.write('lnear_model.lp')\n",
    "    m.optimize()\n",
    "\n",
    "\n",
    "    # Get the solution\n",
    "    output_dict={}\n",
    "    for v in m.getVars():\n",
    "        if v.x!=0:\n",
    "            print('%s %g' % (v.varName, v.x))\n",
    "            a=eval(v.varName[1:])\n",
    "            output_dict[a[0]]=a[1]\n",
    "\n",
    "\n",
    "    start=list(output_dict.values())\n",
    "    finish=[]\n",
    "    count=0\n",
    "    for start1 in output_dict.values():\n",
    "        finish.append(start1+job_duration[count])\n",
    "        count+=1\n",
    "\n",
    "    # print('Obj: %g' % m.objVal)\n",
    "    print('start',start)\n",
    "    print(\"finish\",finish)\n",
    "    return start,finish"
   ]
  },
  {
   "attachments": {},
   "cell_type": "markdown",
   "metadata": {},
   "source": []
  }
 ],
 "metadata": {
  "kernelspec": {
   "display_name": "Python 3",
   "language": "python",
   "name": "python3"
  },
  "language_info": {
   "codemirror_mode": {
    "name": "ipython",
    "version": 3
   },
   "file_extension": ".py",
   "mimetype": "text/x-python",
   "name": "python",
   "nbconvert_exporter": "python",
   "pygments_lexer": "ipython3",
   "version": "3.8.0"
  },
  "orig_nbformat": 4
 },
 "nbformat": 4,
 "nbformat_minor": 2
}
