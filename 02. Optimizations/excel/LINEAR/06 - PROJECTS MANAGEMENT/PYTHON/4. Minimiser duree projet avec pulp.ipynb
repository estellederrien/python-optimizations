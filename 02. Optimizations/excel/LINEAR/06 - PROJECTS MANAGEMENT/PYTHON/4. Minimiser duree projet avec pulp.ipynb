{
 "cells": [
  {
   "attachments": {},
   "cell_type": "markdown",
   "metadata": {},
   "source": [
    "# Minimiser durée d'un projet \n",
    "\n",
    "Example de https://pchtsp.github.io/pytups/pulp.html"
   ]
  },
  {
   "cell_type": "code",
   "execution_count": 8,
   "metadata": {},
   "outputs": [
    {
     "name": "stdout",
     "output_type": "stream",
     "text": [
      "solution is \n",
      "[2, 2, 2, 2, 2, 2, 2, 2, 2, 2, 2, 2, 5, 5, 11, 11, 11, 11, 11, 11, 11, 11, 11, 11, 14, 14, 14, 1, 1, 1, 1, 1, 1, 1, 1, 18, 18, 18, 18, 18, 18, 20, 20, 20, 20, 20, 20, 20, 20, 20, 20, 20, 15, 15, 15, 15, 15, 15, 15, 15, 15, 15, 15, 15, 15, 15, 15, 15, 15, 15, 15, 15, 16, 16, 16, 16, 16, 16, 16, 16, 16, 16, 16, 16, 16, 16, 16, 16, 16, 16, 16, 7, 7, 7, 7, 7, 7, 7, 7, 7, 7, 7, 7, 7, 7, 7, 17, 17, 17, 17, 17, 17, 17, 17, 17, 17, 17, 17, 17, 10, 10, 10, 10, 10, 10, 10, 10, 10, 10, 10, 10, 10, 10, 10, 10, 3, 3, 3, 3, 3, 3, 4, 4, 4, 4, 4, 4, 4, 4, 4, 4, 4, 4, 4, 19, 19, 19, 19, 19, 19, 19, 19, 19, 19, 19, 19, 19, 19, 19, 19, 19, 19, 8, 8, 8, 8, 8, 8, 8, 8, 8, 8, 8, 8, 8, 8, 8, 8, 8, 8, 8, 8, 12, 12, 12, 12, 12, 12, 12, 12, 12, 12, 12, 12, 12, 12, 13, 13, 13, 13, 13, 13, 13, 13, 13, 13, 13, 13, 13, 13, 13, 13, 13, 6, 6, 6, 6, 6, 6, 6, 6, 6, 6, 6, 6, 9, 9, 9, 9, 9, 9, 9, 9, 9, 9, 9, 9, 9, 9, 9, 9]\n"
     ]
    }
   ],
   "source": [
    "import pulp as pl\n",
    "import pytups as pt\n",
    "\n",
    "# Get input data\n",
    "duration = {1: 8, 2: 12, 3: 6, 4: 13, 5: 2, 6: 12, 7: 15, 8: 20, 9: 16, 10: 16, 11: 10, 12: 14, 13: 17, 14: 3, 15: 20, 16: 19, 17: 13, 18: 6, 19: 18, 20: 11}\n",
    "priority = {1: 4, 2: 5, 3: 6, 4: 8, 5: 4, 6: 2, 7: 5, 8: 6, 9: 1, 10: 8, 11: 8, 12: 4, 13: 4, 14: 8, 15: 9, 16: 11, 17: 6, 18: 10, 19: 6, 20: 9}\n",
    "duedate = {1: 52, 2: 80, 3: 133, 4: 150, 5: 53, 6: 133, 7: 113, 8: 107, 9: 75, 10: 133, 11: 77, 12: 126, 13: 117, 14: 72, 15: 111, 16: 111, 17: 117, 18: 69, 19: 115, 20: 68}\n",
    "\n",
    "\n",
    "\n",
    "# Get intermediate paramters, sets.\n",
    "C_max = sum(duration.values())\n",
    "periods = range(C_max)\n",
    "tasks = duration.keys()\n",
    "\n",
    "# all legal combinations of task-period assignment\n",
    "jk_all = pt.TupList((t, p) for t in tasks for p in periods)\n",
    "\n",
    "# we filter the starts that are too late to be possible:\n",
    "JK = jk_all.vfilter(lambda x: x[1] + duration[x[0]] <= C_max)\n",
    "\n",
    "# we create a set of tasks that can start at time period k\n",
    "K_j = JK.to_dict(result_col=1)\n",
    "\n",
    "# all combinations (t, p, p2) such that I start a task j \n",
    "# in time period k and is active in period k2\n",
    "jkk2 = pt.TupList((j, k, k2) for j, k in JK \n",
    "\t\t\t\t  for k2 in range(k, k + duration[j]))\n",
    "\n",
    "# given a period k2, what starts affect make it unavailable:\n",
    "JK_k2 = jkk2.to_dict(result_col=[0, 1])\n",
    "\n",
    "# given a start (j, k), what periods k2 are made unavailable:\n",
    "K2_jk = jkk2.to_dict(result_col=2)\n",
    "\n",
    "# for each possible start: how late will the task be\n",
    "t_jk = {(j, k): max(duration[j] + k -1 - duedate[j], 0) * \n",
    "\t\t\t\tpriority[j] for j, k in JK}\n",
    "\n",
    "\n",
    "\n",
    "# model construction with PuLP\n",
    "model = pl.LpProblem(\"Scheduling\", pl.LpMinimize)\n",
    "X = pl.LpVariable.dicts(name='start', indexs=JK,\n",
    "                            lowBound=0, upBound=1, cat=pl.LpInteger)\n",
    "\n",
    "# objective function:\n",
    "model += pl.lpSum(X[j, k] * t_jk[j, k] for j, k in JK)\n",
    "\n",
    "# one and only one start per task\n",
    "for j in tasks:\n",
    "    model += pl.lpSum(X[j, k] for k in K_j[j]) == 1\n",
    "\n",
    "# only one task is active at any moment:\n",
    "for k2 in periods:\n",
    "    model += pl.lpSum(X[j, k] for j, k in JK_k2[k2]) == 1\n",
    "\n",
    "# solve model:\n",
    "solver = pl.PULP_CBC_CMD(msg=True)\n",
    "# solver = pl.CPLEX_CMD(msg=True)\n",
    "model.solve(solver)\n",
    "\n",
    "\n",
    "\n",
    "# get tasks starts\n",
    "starts_out = pt.SuperDict(X).vapply(pl.value).clean().keys_l()\n",
    "\n",
    "solution = [-1 for p in periods]\n",
    "for j, k in starts_out:\n",
    "    for p2 in K2_jk[j, k]:\n",
    "        solution[p2] = j\n",
    "\n",
    "print('solution is \\n{}'.format(solution))\n",
    "\n",
    "\n",
    "\n",
    "# verify that all periods are filled:\n",
    "# counting if there is any with a minus -1\n",
    "pt.TupList(solution).vfilter(lambda v: v == -1)\n",
    "\n",
    "# verify that each task t appears exactly duration[t] times\n",
    "task_count = pt.SuperDict().fill_with_default(keys=duration.keys())\n",
    "for period, task in enumerate(solution):\n",
    "    task_count[task] += 1\n",
    "#task_count.apply(lambda k, v: duration[k] - v).clean()\n",
    "\n"
   ]
  }
 ],
 "metadata": {
  "kernelspec": {
   "display_name": "Python 3",
   "language": "python",
   "name": "python3"
  },
  "language_info": {
   "codemirror_mode": {
    "name": "ipython",
    "version": 3
   },
   "file_extension": ".py",
   "mimetype": "text/x-python",
   "name": "python",
   "nbconvert_exporter": "python",
   "pygments_lexer": "ipython3",
   "version": "3.8.0"
  },
  "orig_nbformat": 4
 },
 "nbformat": 4,
 "nbformat_minor": 2
}
