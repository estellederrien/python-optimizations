{
 "cells": [
  {
   "attachments": {},
   "cell_type": "markdown",
   "metadata": {},
   "source": [
    "# Minimiser le temps de réalisation d'un projet"
   ]
  },
  {
   "cell_type": "code",
   "execution_count": 3,
   "metadata": {},
   "outputs": [
    {
     "name": "stdout",
     "output_type": "stream",
     "text": [
      "Schedule: \n",
      "Job 0: begins at t=0 and finishes at t=0\n",
      "Job 1: begins at t=0 and finishes at t=3\n",
      "Job 2: begins at t=0 and finishes at t=2\n",
      "Job 3: begins at t=6 and finishes at t=11\n",
      "Job 4: begins at t=3 and finishes at t=7\n",
      "Job 5: begins at t=3 and finishes at t=5\n",
      "Job 6: begins at t=11 and finishes at t=14\n",
      "Job 7: begins at t=7 and finishes at t=11\n",
      "Job 8: begins at t=14 and finishes at t=16\n",
      "Job 9: begins at t=17 and finishes at t=21\n",
      "Job 10: begins at t=11 and finishes at t=17\n",
      "Job 11: begins at t=21 and finishes at t=21\n",
      "Makespan = 21.0\n"
     ]
    }
   ],
   "source": [
    "''' Auteur : https://docs.python-mip.com/en/latest/examples.html\n",
    "\n",
    "https://buildmedia.readthedocs.org/media/pdf/python-mip/latest/python-mip.pdf\n",
    "\n",
    "\n",
    "Le but de cette optimisation est de minimiser le temps de réalisation d'un projet, \n",
    "tout en connaissant la durée de chaque tâches et leurs successeurs et prédécesseurs successifs, \n",
    "et sous contrainte du montant des ressources nécessaires à chaque tâche\n",
    "\n",
    "Les ressources nécessaires ne sont pas présente dans le premier problème du stade du livrae optimisations avec excel de eyrolle, il \n",
    "y a donc ici une difficulté complémentaire.\n",
    "\n",
    "\n",
    "Ordonnancement de projet à ressources limitées\n",
    "\n",
    "Le problème d'ordonnancement de projet à contraintes de ressources (RCPSP) est un problème d'optimisation combinatoire qui consiste à trouver un ordonnancement réalisable pour un ensemble de n\n",
    "\n",
    "emplois soumis à des contraintes de ressources et de préséance. Chaque travail a un temps de traitement, un ensemble de travaux successeurs et une quantité requise de ressources différentes. Les ressources peuvent être rares mais sont renouvelables à chaque période. Les contraintes de priorité entre les travaux signifient qu'aucun travail ne peut démarrer avant que tous ses prédécesseurs ne soient terminés. Les jobs doivent être planifiés de manière non préemptive, c'est-à-dire qu'une fois démarrés, leur traitement ne peut pas être interrompu.\n",
    "\n",
    "Le RCPSP dispose des données d'entrée suivantes :\n",
    "\n",
    "J       : ensemble de tâches\n",
    "R       : ensemble de ressources renouvelables\n",
    "S       : ensemble de précédences entre les emplois (i,j)∈J×J\n",
    "T       : horizon de planification : ensemble des délais de traitement possibles pour les travaux\n",
    "pj      : temps de traitement du travail j\n",
    "u(j,r)  : quantité de ressource r requis pour le traitement de la tâche j\n",
    "cr      : capacité de ressource renouvelable r\n",
    "\n",
    "En plus des travaux qui appartiennent au projet, l'ensemble J\n",
    "contient les jobs 0 et n+1, qui sont des jobs fictifs qui représentent respectivement le début et la fin de la planification. Le temps de traitement des travaux fictifs est toujours nul et ces travaux ne consomment pas de ressources.\n",
    "\n",
    "\n",
    "'''\n",
    "\n",
    "from itertools import product\n",
    "from mip import Model, xsum, BINARY\n",
    "\n",
    "n = 10  # note there will be exactly 12 jobs (n=10 jobs plus the two 'dummy' ones)\n",
    "\n",
    "p = [0, 3, 2, 5, 4, 2, 3, 4, 2, 4, 6, 0] # Durée de chque tâche\n",
    "\n",
    "u = [[0, 0], [5, 1], [0, 4], [1, 4], [1, 3], [3, 2], [3, 1], [2, 4],\n",
    "     [4, 0], [5, 2], [2, 5], [0, 0]] # quantité de ressource r requise pour le traitement de la tâche j\n",
    "\n",
    "c = [6, 8] # capacité de ressource renouvelable r (?)\n",
    "\n",
    "S = [[0, 1], [0, 2], [0, 3], [1, 4], [1, 5], [2, 9], [2, 10], [3, 8], [4, 6],\n",
    "     [4, 7], [5, 9], [5, 10], [6, 8], [6, 9], [7, 8], [8, 11], [9, 11], [10, 11]] # successeurs des nodes [node, successeur]\n",
    "\n",
    "(R, J, T) = (range(len(c)), range(len(p)), range(sum(p)))\n",
    "\n",
    "model = Model()\n",
    "\n",
    "x = [[model.add_var(name=\"x({},{})\".format(j, t), var_type=BINARY) for t in T] for j in J]\n",
    "\n",
    "model.objective = xsum(t * x[n + 1][t] for t in T)\n",
    "\n",
    "for j in J:\n",
    "    model += xsum(x[j][t] for t in T) == 1\n",
    "\n",
    "for (r, t) in product(R, T):\n",
    "    model += (\n",
    "        xsum(u[j][r] * x[j][t2] for j in J for t2 in range(max(0, t - p[j] + 1), t + 1))\n",
    "        <= c[r])\n",
    "\n",
    "for (j, s) in S:\n",
    "    model += xsum(t * x[s][t] - t * x[j][t] for t in T) >= p[j]\n",
    "\n",
    "model.optimize()\n",
    "\n",
    "print(\"Schedule: \")\n",
    "for (j, t) in product(J, T):\n",
    "    if x[j][t].x >= 0.99:\n",
    "        print(\"Job {}: begins at t={} and finishes at t={}\".format(j, t, t+p[j]))\n",
    "print(\"Makespan = {}\".format(model.objective_value))"
   ]
  }
 ],
 "metadata": {
  "kernelspec": {
   "display_name": "Python 3",
   "language": "python",
   "name": "python3"
  },
  "language_info": {
   "codemirror_mode": {
    "name": "ipython",
    "version": 3
   },
   "file_extension": ".py",
   "mimetype": "text/x-python",
   "name": "python",
   "nbconvert_exporter": "python",
   "pygments_lexer": "ipython3",
   "version": "3.8.0"
  },
  "orig_nbformat": 4
 },
 "nbformat": 4,
 "nbformat_minor": 2
}
