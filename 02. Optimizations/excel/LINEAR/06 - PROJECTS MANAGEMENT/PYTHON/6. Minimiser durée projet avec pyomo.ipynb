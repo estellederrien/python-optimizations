{
 "cells": [
  {
   "attachments": {},
   "cell_type": "markdown",
   "metadata": {},
   "source": [
    "\n",
    "https://or.stackexchange.com/questions/9907/optimal-to-do-list-scheduling-in-python-using-pyomo\n",
    "\n",
    "J'essaie de planifier de manière optimale une série de tâches avec des durées fixes entre 9h et 17h dans la journée (je suppose un peu comme un problème de sac à dos contraint ou un problème de planification de travail). J'ai divisé la journée en incréments de 15 minutes et j'ai supposé que ma fenêtre de travail était de 8 heures (incréments de 32 x 15 minutes). Dans les colonnes de la matrice de sortie se trouvent les tâches dans l'ordre de la tâche 1 à la tâche 4. Si une cellule est 1, cela signifie que la tâche a été planifiée pour cet intervalle particulier.\n",
    "\n",
    "Mon code résout en quelque sorte le problème, mais il ne traite pas une tâche comme ayant une durée fixe. Ainsi, dans mon exemple, la tâche 4 s'exécute pendant 3 heures, alors qu'en réalité elle ne devrait pas s'exécuter du tout car il n'y a pas assez de temps pour intégrer les 4 heures complètes.\n",
    "\n",
    "J'ai toute une gamme de contraintes supplémentaires que j'aimerais introduire (par exemple, les priorités des tâches, la fixation de certaines tâches à des moments précis, etc.), mais pour l'instant, je voulais rester simple. J'aimerais également recevoir des suggestions ou un exemple de code pour encore mieux aborder ce problème (d'autres options en dehors de la programmation linéaire sont également les bienvenues).\n",
    "\n"
   ]
  },
  {
   "cell_type": "code",
   "execution_count": 3,
   "metadata": {},
   "outputs": [
    {
     "name": "stdout",
     "output_type": "stream",
     "text": [
      "WARNING: Could not locate the 'glpsol' executable, which is required for\n",
      "    solver 'glpk'\n"
     ]
    },
    {
     "ename": "ApplicationError",
     "evalue": "No executable found for solver 'glpk'",
     "output_type": "error",
     "traceback": [
      "\u001b[1;31m---------------------------------------------------------------------------\u001b[0m",
      "\u001b[1;31mApplicationError\u001b[0m                          Traceback (most recent call last)",
      "Cell \u001b[1;32mIn[3], line 43\u001b[0m\n\u001b[0;32m     39\u001b[0m     model\u001b[39m.\u001b[39mcolumn_constraint\u001b[39m.\u001b[39madd(\u001b[39msum\u001b[39m( model\u001b[39m.\u001b[39mx[n,m] \u001b[39m*\u001b[39m \u001b[39m0.25\u001b[39m \u001b[39mfor\u001b[39;00m n \u001b[39min\u001b[39;00m model\u001b[39m.\u001b[39mIntervals ) \u001b[39m<\u001b[39m\u001b[39m=\u001b[39m durations[m])\n\u001b[0;32m     41\u001b[0m \u001b[39m# Solve the model\u001b[39;00m\n\u001b[0;32m     42\u001b[0m \u001b[39m# solver = SolverFactory('glpk')\u001b[39;00m\n\u001b[1;32m---> 43\u001b[0m results \u001b[39m=\u001b[39m solver\u001b[39m.\u001b[39;49msolve(model)\n\u001b[0;32m     45\u001b[0m \u001b[39m# Post processing\u001b[39;00m\n\u001b[0;32m     46\u001b[0m outputMatrix \u001b[39m=\u001b[39m [[value(model\u001b[39m.\u001b[39mx[Intervals,Tasks]) \u001b[39mfor\u001b[39;00m Tasks \u001b[39min\u001b[39;00m model\u001b[39m.\u001b[39mTasks] \u001b[39mfor\u001b[39;00m Intervals \u001b[39min\u001b[39;00m model\u001b[39m.\u001b[39mIntervals]\n",
      "File \u001b[1;32mc:\\Users\\secretgirl\\AppData\\Local\\Programs\\Python\\Python38\\lib\\site-packages\\pyomo\\opt\\base\\solvers.py:513\u001b[0m, in \u001b[0;36mOptSolver.solve\u001b[1;34m(self, *args, **kwds)\u001b[0m\n\u001b[0;32m    510\u001b[0m \u001b[39mdef\u001b[39;00m \u001b[39msolve\u001b[39m(\u001b[39mself\u001b[39m, \u001b[39m*\u001b[39margs, \u001b[39m*\u001b[39m\u001b[39m*\u001b[39mkwds):\n\u001b[0;32m    511\u001b[0m     \u001b[39m\"\"\" Solve the problem \"\"\"\u001b[39;00m\n\u001b[1;32m--> 513\u001b[0m     \u001b[39mself\u001b[39;49m\u001b[39m.\u001b[39;49mavailable(exception_flag\u001b[39m=\u001b[39;49m\u001b[39mTrue\u001b[39;49;00m)\n\u001b[0;32m    514\u001b[0m     \u001b[39m#\u001b[39;00m\n\u001b[0;32m    515\u001b[0m     \u001b[39m# If the inputs are models, then validate that they have been\u001b[39;00m\n\u001b[0;32m    516\u001b[0m     \u001b[39m# constructed! Collect suffix names to try and import from solution.\u001b[39;00m\n\u001b[0;32m    517\u001b[0m     \u001b[39m#\u001b[39;00m\n\u001b[0;32m    518\u001b[0m     \u001b[39mfrom\u001b[39;00m \u001b[39mpyomo\u001b[39;00m\u001b[39m.\u001b[39;00m\u001b[39mcore\u001b[39;00m\u001b[39m.\u001b[39;00m\u001b[39mbase\u001b[39;00m\u001b[39m.\u001b[39;00m\u001b[39mblock\u001b[39;00m \u001b[39mimport\u001b[39;00m _BlockData\n",
      "File \u001b[1;32mc:\\Users\\secretgirl\\AppData\\Local\\Programs\\Python\\Python38\\lib\\site-packages\\pyomo\\opt\\solver\\shellcmd.py:139\u001b[0m, in \u001b[0;36mSystemCallSolver.available\u001b[1;34m(self, exception_flag)\u001b[0m\n\u001b[0;32m    137\u001b[0m     \u001b[39mif\u001b[39;00m exception_flag:\n\u001b[0;32m    138\u001b[0m         msg \u001b[39m=\u001b[39m \u001b[39m\"\u001b[39m\u001b[39mNo executable found for solver \u001b[39m\u001b[39m'\u001b[39m\u001b[39m%s\u001b[39;00m\u001b[39m'\u001b[39m\u001b[39m\"\u001b[39m\n\u001b[1;32m--> 139\u001b[0m         \u001b[39mraise\u001b[39;00m ApplicationError(msg \u001b[39m%\u001b[39m \u001b[39mself\u001b[39m\u001b[39m.\u001b[39mname)\n\u001b[0;32m    140\u001b[0m     \u001b[39mreturn\u001b[39;00m \u001b[39mFalse\u001b[39;00m\n\u001b[0;32m    141\u001b[0m \u001b[39mreturn\u001b[39;00m \u001b[39mTrue\u001b[39;00m\n",
      "\u001b[1;31mApplicationError\u001b[0m: No executable found for solver 'glpk'"
     ]
    }
   ],
   "source": [
    "from pyomo.environ import *\n",
    "\n",
    "# Inputs\n",
    "task_list      = ['Task 1', 'Task 2', 'Task 3', 'Task 4']\n",
    "durations = [2,1,2,4]\n",
    "\n",
    "Intervals = 32\n",
    "Tasks = len(durations)\n",
    "\n",
    "# Construct model variables\n",
    "model = ConcreteModel()\n",
    "model.Intervals = range(Intervals)\n",
    "model.Tasks = range(Tasks)\n",
    "model.flag = Var( model.Intervals, model.Tasks, within=Integers)\n",
    "model.x = Var( model.Intervals, model.Tasks, within=Binary )\n",
    "\n",
    "# Set objective\n",
    "model.obj = Objective(expr = sum(model.x[n,m] * 0.25 for n in model.Intervals for m in model.Tasks ), sense = maximize )\n",
    "\n",
    "# Set constraints\n",
    "model.row_constraint = ConstraintList()\n",
    "for n in model.Intervals:\n",
    "    model.row_constraint.add(sum( model.x[n,m] * 0.25 for m in model.Tasks) <= 0.25)\n",
    "\n",
    "model.column_constraint = ConstraintList()\n",
    "for m in model.Tasks:\n",
    "    model.column_constraint.add(sum( model.x[n,m] * 0.25 for n in model.Intervals ) <= durations[m])\n",
    "\n",
    "model.flag_making = ConstraintList()\n",
    "for m in model.Tasks:\n",
    "    for n in model.Intervals:\n",
    "        if n == 0:\n",
    "           model.flag_making.add(model.x[n,m] - 0 == model.flag[n,m]) \n",
    "        elif n == Intervals-1:\n",
    "            model.flag_making.add(0 - model.x[n,m] == model.flag[n,m])\n",
    "        else:\n",
    "            model.flag_making.add(model.x[n,m] - model.x[n-1,m] == model.flag[n,m])\n",
    "for m in model.Tasks:\n",
    "    model.column_constraint.add(sum( model.x[n,m] * 0.25 for n in model.Intervals ) <= durations[m])\n",
    "\n",
    "# Solve the model\n",
    "solver = SolverFactory('glpk')\n",
    "results = solver.solve(model)\n",
    "\n",
    "# Post processing\n",
    "outputMatrix = [[value(model.x[Intervals,Tasks]) for Tasks in model.Tasks] for Intervals in model.Intervals]\n",
    "df = pd.DataFrame(outputMatrix, columns = task_list)\n",
    "\n",
    "print(\"\\nObjective Value:\")\n",
    "print(model.obj())\n",
    "\n",
    "df"
   ]
  }
 ],
 "metadata": {
  "kernelspec": {
   "display_name": "Python 3",
   "language": "python",
   "name": "python3"
  },
  "language_info": {
   "codemirror_mode": {
    "name": "ipython",
    "version": 3
   },
   "file_extension": ".py",
   "mimetype": "text/x-python",
   "name": "python",
   "nbconvert_exporter": "python",
   "pygments_lexer": "ipython3",
   "version": "3.8.0"
  },
  "orig_nbformat": 4
 },
 "nbformat": 4,
 "nbformat_minor": 2
}
