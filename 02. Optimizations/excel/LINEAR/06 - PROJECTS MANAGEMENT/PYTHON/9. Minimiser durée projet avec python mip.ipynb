{
 "cells": [
  {
   "attachments": {},
   "cell_type": "markdown",
   "metadata": {},
   "source": [
    "# Minimiser la durée de projet\n",
    "\n",
    "https://github.com/coin-or/python-mip/blob/9f999d6549d722b26e1bec8447d36c8342f3fec2/examples/rcpsp.py"
   ]
  },
  {
   "cell_type": "code",
   "execution_count": 1,
   "metadata": {},
   "outputs": [],
   "source": [
    "\"\"\"Resource Constrained Project Scheduling Problem solver\"\"\"\n",
    "\n",
    "from itertools import product\n",
    "from mip import Model, xsum, BINARY\n",
    "\n",
    "p = [0, 3, 2, 5, 4, 2, 3, 4, 2, 4, 6, 0]\n",
    "\n",
    "u = [[0, 0], [5, 1], [0, 4], [1, 4], [1, 3], [3, 2], [3, 1], [2, 4], [4, 0],\n",
    "     [5, 2], [2, 5], [0, 0]]\n",
    "\n",
    "c = [6, 8]\n",
    "\n",
    "S = [[0, 1], [0, 2], [0, 3], [1, 4], [1, 5], [2, 9], [2, 10], [3, 8], [4, 6],\n",
    "     [4, 7], [5, 9], [5, 10], [6, 8], [6, 9], [7, 8], [8, 11], [9, 11],\n",
    "     [10, 11]]\n",
    "\n",
    "(R, J, T) = (range(len(c)), range(len(p)), range(sum(p)))\n",
    "\n",
    "model = Model()\n",
    "\n",
    "x = [[model.add_var(name='x({},{})'.format(j, t), var_type=BINARY)\n",
    "      for t in T] for j in J]\n",
    "\n",
    "model.objective = xsum(x[len(J)-1][t] * t for t in T)\n",
    "\n",
    "for j in J:\n",
    "    model += xsum(x[j][t] for t in T) == 1\n",
    "\n",
    "for (r, t) in product(R, T):\n",
    "    model += xsum(u[j][r] * x[j][t2] for j in J\n",
    "                  for t2 in range(max(0, t - p[j] + 1), t + 1)) <= c[r]\n",
    "\n",
    "for (j, s) in S:\n",
    "    model += xsum(t * x[s][t] - t * x[j][t] for t in T) >= p[j]\n",
    "\n",
    "model.optimize()\n",
    "\n",
    "print('Schedule: ')\n",
    "for (j, t) in product(J, T):\n",
    "    if x[j][t].x >= 0.99:\n",
    "        print('({},{})'.format(j, t))\n",
    "print('Makespan = {}'.format(model.objective_value))\n",
    "\n",
    "\n",
    "# sanity tests\n",
    "from mip import OptimizationStatus\n",
    "assert model.status == OptimizationStatus.OPTIMAL\n",
    "assert round(model.objective_value) == 21"
   ]
  }
 ],
 "metadata": {
  "kernelspec": {
   "display_name": "Python 3",
   "language": "python",
   "name": "python3"
  },
  "language_info": {
   "codemirror_mode": {
    "name": "ipython",
    "version": 3
   },
   "file_extension": ".py",
   "mimetype": "text/x-python",
   "name": "python",
   "nbconvert_exporter": "python",
   "pygments_lexer": "ipython3",
   "version": "3.8.0"
  },
  "orig_nbformat": 4
 },
 "nbformat": 4,
 "nbformat_minor": 2
}
