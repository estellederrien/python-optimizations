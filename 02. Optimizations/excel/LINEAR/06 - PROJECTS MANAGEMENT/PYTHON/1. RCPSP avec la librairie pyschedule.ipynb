{
 "cells": [
  {
   "attachments": {},
   "cell_type": "markdown",
   "metadata": {},
   "source": [
    "# Minimiser le temps de réalisation d'un projet"
   ]
  },
  {
   "cell_type": "code",
   "execution_count": 2,
   "metadata": {},
   "outputs": [
    {
     "ename": "ImportError",
     "evalue": "cannot import name 'clock' from 'time' (unknown location)",
     "output_type": "error",
     "traceback": [
      "\u001b[1;31m---------------------------------------------------------------------------\u001b[0m",
      "\u001b[1;31mImportError\u001b[0m                               Traceback (most recent call last)",
      "Cell \u001b[1;32mIn[2], line 1\u001b[0m\n\u001b[1;32m----> 1\u001b[0m \u001b[39mfrom\u001b[39;00m \u001b[39mpyschedule\u001b[39;00m \u001b[39mimport\u001b[39;00m Scenario, solvers, plotters, alt\n\u001b[0;32m      3\u001b[0m \u001b[39m# the planning horizon has 10 periods\u001b[39;00m\n\u001b[0;32m      4\u001b[0m S \u001b[39m=\u001b[39m Scenario(\u001b[39m'\u001b[39m\u001b[39mhousehold\u001b[39m\u001b[39m'\u001b[39m,horizon\u001b[39m=\u001b[39m\u001b[39m10\u001b[39m)\n",
      "File \u001b[1;32mc:\\Users\\secretgirl\\AppData\\Local\\Programs\\Python\\Python38\\lib\\site-packages\\pyschedule\\__init__.py:25\u001b[0m\n\u001b[0;32m      2\u001b[0m \u001b[39m'''\u001b[39;00m\n\u001b[0;32m      3\u001b[0m \u001b[39mCopyright 2015 Tim Nonner\u001b[39;00m\n\u001b[0;32m      4\u001b[0m \n\u001b[1;32m   (...)\u001b[0m\n\u001b[0;32m     20\u001b[0m \u001b[39munder the License.\u001b[39;00m\n\u001b[0;32m     21\u001b[0m \u001b[39m'''\u001b[39;00m\n\u001b[0;32m     24\u001b[0m \u001b[39mfrom\u001b[39;00m \u001b[39m.\u001b[39;00m\u001b[39mpyschedule\u001b[39;00m \u001b[39mimport\u001b[39;00m \u001b[39m*\u001b[39m\n\u001b[1;32m---> 25\u001b[0m \u001b[39mfrom\u001b[39;00m \u001b[39m.\u001b[39;00m \u001b[39mimport\u001b[39;00m solvers\n\u001b[0;32m     26\u001b[0m \u001b[39mfrom\u001b[39;00m \u001b[39m.\u001b[39;00m \u001b[39mimport\u001b[39;00m plotters\n\u001b[0;32m     27\u001b[0m __all__ \u001b[39m=\u001b[39m [\u001b[39m'\u001b[39m\u001b[39mScenario\u001b[39m\u001b[39m'\u001b[39m,\u001b[39m'\u001b[39m\u001b[39msolvers\u001b[39m\u001b[39m'\u001b[39m,\u001b[39m'\u001b[39m\u001b[39mplotters\u001b[39m\u001b[39m'\u001b[39m]\n",
      "File \u001b[1;32mc:\\Users\\secretgirl\\AppData\\Local\\Programs\\Python\\Python38\\lib\\site-packages\\pyschedule\\solvers\\__init__.py:31\u001b[0m\n\u001b[0;32m      2\u001b[0m \u001b[39m'''\u001b[39;00m\n\u001b[0;32m      3\u001b[0m \u001b[39mCopyright 2015 Tim Nonner\u001b[39;00m\n\u001b[0;32m      4\u001b[0m \n\u001b[1;32m   (...)\u001b[0m\n\u001b[0;32m     20\u001b[0m \u001b[39munder the License.\u001b[39;00m\n\u001b[0;32m     21\u001b[0m \u001b[39m'''\u001b[39;00m\n\u001b[0;32m     23\u001b[0m \u001b[39m\"\"\"\u001b[39;00m\n\u001b[0;32m     24\u001b[0m \u001b[39mThis module contains solvers that accept the pyschedule scenario format\u001b[39;00m\n\u001b[0;32m     25\u001b[0m \u001b[39mas input. Each solver should correspond to a class which offers the\u001b[39;00m\n\u001b[1;32m   (...)\u001b[0m\n\u001b[0;32m     28\u001b[0m \u001b[39mshould be directly written to the passed scenario\u001b[39;00m\n\u001b[0;32m     29\u001b[0m \u001b[39m\"\"\"\u001b[39;00m\n\u001b[1;32m---> 31\u001b[0m \u001b[39mfrom\u001b[39;00m \u001b[39m.\u001b[39;00m \u001b[39mimport\u001b[39;00m mip\n\u001b[0;32m     32\u001b[0m \u001b[39mfrom\u001b[39;00m \u001b[39m.\u001b[39;00m \u001b[39mimport\u001b[39;00m mip_bigm\n\u001b[0;32m     33\u001b[0m \u001b[39mfrom\u001b[39;00m \u001b[39m.\u001b[39;00m \u001b[39mimport\u001b[39;00m cpoptimizer\n",
      "File \u001b[1;32mc:\\Users\\secretgirl\\AppData\\Local\\Programs\\Python\\Python38\\lib\\site-packages\\pyschedule\\solvers\\mip.py:27\u001b[0m\n\u001b[0;32m      4\u001b[0m \u001b[39mimport\u001b[39;00m \u001b[39mcopy\u001b[39;00m\n\u001b[0;32m      6\u001b[0m \u001b[39m'''\u001b[39;00m\n\u001b[0;32m      7\u001b[0m \u001b[39mCopyright 2015 Tim Nonner\u001b[39;00m\n\u001b[0;32m      8\u001b[0m \n\u001b[1;32m   (...)\u001b[0m\n\u001b[0;32m     24\u001b[0m \u001b[39munder the License.\u001b[39;00m\n\u001b[0;32m     25\u001b[0m \u001b[39m'''\u001b[39;00m\n\u001b[1;32m---> 27\u001b[0m \u001b[39mfrom\u001b[39;00m \u001b[39m.\u001b[39;00m\u001b[39mmip_pulp\u001b[39;00m \u001b[39mimport\u001b[39;00m MIP\n\u001b[0;32m     28\u001b[0m \u001b[39mimport\u001b[39;00m \u001b[39mcollections\u001b[39;00m\n\u001b[0;32m     30\u001b[0m \u001b[39mdef\u001b[39;00m \u001b[39m_get_groups\u001b[39m(scenario,elements):\n",
      "File \u001b[1;32mc:\\Users\\secretgirl\\AppData\\Local\\Programs\\Python\\Python38\\lib\\site-packages\\pyschedule\\solvers\\mip_pulp.py:34\u001b[0m\n\u001b[0;32m     31\u001b[0m \u001b[39mimport\u001b[39;00m \u001b[39mpulp\u001b[39;00m \u001b[39mas\u001b[39;00m \u001b[39mpl\u001b[39;00m\n\u001b[0;32m     32\u001b[0m \u001b[39mimport\u001b[39;00m \u001b[39mtime\u001b[39;00m\n\u001b[1;32m---> 34\u001b[0m \u001b[39mfrom\u001b[39;00m \u001b[39mpyschedule\u001b[39;00m\u001b[39m.\u001b[39;00m\u001b[39msolvers\u001b[39;00m\u001b[39m.\u001b[39;00m\u001b[39mpulp_scip\u001b[39;00m \u001b[39mimport\u001b[39;00m SCIP_CMD\n\u001b[0;32m     36\u001b[0m \u001b[39mclass\u001b[39;00m \u001b[39mMIP\u001b[39;00m(\u001b[39mobject\u001b[39m):\n\u001b[0;32m     37\u001b[0m \t\u001b[39m\"\"\"\u001b[39;00m\n\u001b[0;32m     38\u001b[0m \u001b[39m\tInterface to pulp mip solver\u001b[39;00m\n\u001b[0;32m     39\u001b[0m \u001b[39m\t\"\"\"\u001b[39;00m\n",
      "File \u001b[1;32mc:\\Users\\secretgirl\\AppData\\Local\\Programs\\Python\\Python38\\lib\\site-packages\\pyschedule\\solvers\\pulp_scip.py:2\u001b[0m\n\u001b[0;32m      1\u001b[0m \u001b[39mimport\u001b[39;00m \u001b[39mos\u001b[39;00m\n\u001b[1;32m----> 2\u001b[0m \u001b[39mfrom\u001b[39;00m \u001b[39mtime\u001b[39;00m \u001b[39mimport\u001b[39;00m clock\n\u001b[0;32m      3\u001b[0m \u001b[39mimport\u001b[39;00m \u001b[39mre\u001b[39;00m\n\u001b[0;32m      4\u001b[0m \u001b[39mimport\u001b[39;00m \u001b[39msubprocess\u001b[39;00m\n",
      "\u001b[1;31mImportError\u001b[0m: cannot import name 'clock' from 'time' (unknown location)"
     ]
    }
   ],
   "source": [
    "# https://github.com/timnon/pyschedule\n",
    "# https://fr.wikipedia.org/wiki/Probl%C3%A8me_de_gestion_de_projet_%C3%A0_contraintes_de_ressources\n",
    "# Uniquement compatible avec python < 3.6 avant mais il a récemment commité le changement\n",
    "\n",
    "\n",
    "''' remplacer dans le fichier pulp_scip car c'est plus à jour: \n",
    "import os\n",
    "from time import perf_counter\n",
    "import re\n",
    "import subprocess\n",
    "import pulp\n",
    "import pulp.apis\n",
    "\n",
    "class SCIP_CMD(pulp.apis.LpSolver_CMD):\n",
    "    def __init__(self, path = None, keepFiles = 0, mip = 1,\n",
    "            msg = 0, options = [], time_limit = None, ratio_gap = None):\n",
    "        pulp.apis.LpSolver_CMD.__init__(self, path, keepFiles, mip, msg, options)\n",
    "        self.time_limit = time_limit\n",
    "        self.ratio_gap = ratio_gap\n",
    " '''\n",
    "\n",
    "\n",
    "from pyschedule import Scenario, solvers, plotters, alt\n",
    "\n",
    "# the planning horizon has 10 periods\n",
    "S = Scenario('household',horizon=10)\n",
    "\n",
    "# two resources: Alice and Bob\n",
    "Alice, Bob = S.Resource('Alice'), S.Resource('Bob')\n",
    "\n",
    "# three tasks: cook, wash, and clean\n",
    "cook = S.Task('cook',length=1,delay_cost=1)\n",
    "wash = S.Task('wash',length=2,delay_cost=1)\n",
    "clean = S.Task('clean',length=3,delay_cost=2)\n",
    "\n",
    "# every task can be done either by Alice or Bob\n",
    "cook += Alice | Bob\n",
    "wash += Alice | Bob\n",
    "clean += Alice | Bob\n",
    "\n",
    "# compute and print a schedule\n",
    "solvers.mip.solve(S,msg=1)\n",
    "print(S.solution())\n",
    "\n",
    "plotters.matplotlib.plot(S,img_filename='pics/household.png')"
   ]
  },
  {
   "attachments": {},
   "cell_type": "markdown",
   "metadata": {},
   "source": []
  }
 ],
 "metadata": {
  "kernelspec": {
   "display_name": "Python 3",
   "language": "python",
   "name": "python3"
  },
  "language_info": {
   "codemirror_mode": {
    "name": "ipython",
    "version": 3
   },
   "file_extension": ".py",
   "mimetype": "text/x-python",
   "name": "python",
   "nbconvert_exporter": "python",
   "pygments_lexer": "ipython3",
   "version": "3.8.0"
  },
  "orig_nbformat": 4
 },
 "nbformat": 4,
 "nbformat_minor": 2
}
