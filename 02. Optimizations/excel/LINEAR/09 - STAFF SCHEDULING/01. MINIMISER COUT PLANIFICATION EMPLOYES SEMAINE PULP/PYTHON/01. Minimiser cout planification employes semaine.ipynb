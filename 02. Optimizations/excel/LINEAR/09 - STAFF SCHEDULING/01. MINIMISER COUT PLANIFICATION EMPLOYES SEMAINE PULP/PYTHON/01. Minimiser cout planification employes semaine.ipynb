{
 "cells": [
  {
   "cell_type": "code",
   "execution_count": 14,
   "metadata": {},
   "outputs": [
    {
     "data": {
      "text/html": [
       "<img src=\"lineaire28.webp\" width=\"800\" height=\"300\"/>"
      ],
      "text/plain": [
       "<IPython.core.display.Image object>"
      ]
     },
     "execution_count": 14,
     "metadata": {},
     "output_type": "execute_result"
    }
   ],
   "source": [
    "# Source : https://complex-systems-ai.com/programmation-lineaire/lp-forme-primale-exercices-solutions/\n",
    "\n",
    "# Le BIM optimise la construction, la rénovation et la maintenance de bâtiments. \n",
    "\n",
    "# Parmi les éléments à optimiser il y a les ouvriers. \n",
    "\n",
    "# En général, il existe 4 types d’ouvriers en fonction de leur week-end. \n",
    "\n",
    "# Le salaire des ouvriers dépendent de ces journées de congés :\n",
    "\n",
    "# import image module\n",
    "from IPython.display import Image\n",
    "  \n",
    "# get the image\n",
    "Image(url=\"lineaire28.webp\", width=800, height=300)\n",
    "\n"
   ]
  },
  {
   "cell_type": "code",
   "execution_count": 15,
   "metadata": {},
   "outputs": [
    {
     "data": {
      "text/html": [
       "<img src=\"lineaire29.webp\" width=\"800\" height=\"200\"/>"
      ],
      "text/plain": [
       "<IPython.core.display.Image object>"
      ]
     },
     "execution_count": 15,
     "metadata": {},
     "output_type": "execute_result"
    }
   ],
   "source": [
    "\n",
    "# Les demandes quotidiennes en ouvriers sont les suivantes :\n",
    "\n",
    "# get the image\n",
    "Image(url=\"lineaire29.webp\", width=800, height=200)\n",
    "\n",
    "# Combien de personnes de chaque catégorie doit-on faire travailler de façon à satisfaire \n",
    "\n",
    "# la demande et à minimiser le coût du personnel ? \n",
    "\n",
    "# Donner la forme canonique du problème et résoudre à l’aide du Solver Excel."
   ]
  },
  {
   "cell_type": "code",
   "execution_count": 18,
   "metadata": {},
   "outputs": [
    {
     "name": "stdout",
     "output_type": "stream",
     "text": [
      "Status: Optimal\n",
      "X1 = 13.0\n",
      "X2 = 12.0\n",
      "X3 = 7.0\n",
      "X4 = 11.0\n",
      "223200.0\n"
     ]
    }
   ],
   "source": [
    "# Importer la librairie Pulp \n",
    "import pulp \n",
    "  \n",
    "# Créer un programme linéaire de MINIMISATION\n",
    "model = pulp.LpProblem(\"Minimiser\", pulp.LpMinimize)\n",
    "  \n",
    "# Créer les variables du problème \n",
    "X1 = pulp.LpVariable('X1', lowBound=0, cat='Integer')\n",
    "X2 = pulp.LpVariable('X2', lowBound=0, cat='Integer')\n",
    "X3 = pulp.LpVariable('X3', lowBound=0, cat='Integer')\n",
    "X4 = pulp.LpVariable('X4', lowBound=0, cat='Integer')\n",
    "  \n",
    "# Function économique objectif\n",
    "model += 5200 * X1 + 4800 * X2 + 5200 * X3 + 5600 * X4, \"PAYE\"\n",
    "\n",
    "# Contraintes\n",
    "\n",
    "model += X1  >= 0\n",
    "model += X2  >= 0\n",
    "model += X3  >= 0\n",
    "model += X4  >= 0\n",
    "model += 1 * X1 + 1 * X2 + 0 * X3 + 0 * X4 >= 25\n",
    "model += 1 * X1 + 1 * X2 + 1 * X3 + 0 * X4 >= 18\n",
    "model += 1 * X1 + 1 * X2 + 1 * X3 + 1 * X4 >= 41\n",
    "model += 1 * X1 + 1 * X2 + 1 * X3 + 1 * X4 >= 41\n",
    "model += 0 * X1 + 1 * X2 + 1 * X3 + 1 * X4 >= 30\n",
    "model += 0 * X1 + 0 * X2 + 1 * X3 + 1 * X4 >= 18\n",
    "model += 1 * X1 + 0 * X2 + 0 * X3 + 1 * X4 >= 24\n",
    "\n",
    "  \n",
    "# Résoudre le problème\n",
    "model.solve()\n",
    "pulp.LpStatus[model.status]\n",
    "\n",
    "# On imprime les résultats \n",
    "\n",
    "print(\"Status:\", pulp.LpStatus[model.status])\n",
    "for v in model.variables():\n",
    "    print(v.name, \"=\", v.varValue)\n",
    "\n",
    "\n",
    "\n",
    "# Print our objective function value\n",
    "print (pulp.value(model.objective))\n"
   ]
  }
 ],
 "metadata": {
  "kernelspec": {
   "display_name": "Python 3.8.5 64-bit",
   "language": "python",
   "name": "python3"
  },
  "language_info": {
   "codemirror_mode": {
    "name": "ipython",
    "version": 3
   },
   "file_extension": ".py",
   "mimetype": "text/x-python",
   "name": "python",
   "nbconvert_exporter": "python",
   "pygments_lexer": "ipython3",
   "version": "3.8.5"
  },
  "orig_nbformat": 4,
  "vscode": {
   "interpreter": {
    "hash": "6bd0648e655c19027e4f56e697a7cd4ab7921013b5d2695c8854e14fd1f5ba73"
   }
  }
 },
 "nbformat": 4,
 "nbformat_minor": 2
}
