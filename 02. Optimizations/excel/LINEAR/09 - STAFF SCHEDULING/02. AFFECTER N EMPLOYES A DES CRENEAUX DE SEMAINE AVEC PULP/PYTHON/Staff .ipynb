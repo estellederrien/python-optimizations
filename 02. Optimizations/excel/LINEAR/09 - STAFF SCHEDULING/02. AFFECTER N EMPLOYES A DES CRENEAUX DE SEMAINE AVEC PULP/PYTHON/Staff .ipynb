{
 "cells": [
  {
   "cell_type": "code",
   "execution_count": 2,
   "metadata": {},
   "outputs": [
    {
     "name": "stdout",
     "output_type": "stream",
     "text": [
      "Status: Optimal\n",
      "Shift1 = 30.0\n",
      "Shift2 = 140.0\n",
      "Shift3 = 60.0\n",
      "Shift4 = 25.0\n",
      "Shift5 = 0.0\n",
      "Shift6 = 40.0\n",
      "Total number of nurses =  295.0\n"
     ]
    }
   ],
   "source": [
    "# Solving a staffing linear programming problem with PuLP in Python '''\n",
    "import pulp\n",
    "\n",
    "prob = pulp.LpProblem(\"Nurse_Staffing\", pulp.LpMinimize)\n",
    "\n",
    "# Variables to represent the number of nurses working each shift\n",
    "shift1=pulp.LpVariable(\"Shift1\",0,None,pulp.LpInteger)\n",
    "shift2=pulp.LpVariable(\"Shift2\",0,None,pulp.LpInteger)\n",
    "shift3=pulp.LpVariable(\"Shift3\",0,None,pulp.LpInteger)\n",
    "shift4=pulp.LpVariable(\"Shift4\",0,None,pulp.LpInteger)\n",
    "shift5=pulp.LpVariable(\"Shift5\",0,None,pulp.LpInteger)\n",
    "shift6=pulp.LpVariable(\"Shift6\",0,None,pulp.LpInteger)\n",
    "\n",
    "# The objective function is added to 'prob' first\n",
    "prob += shift1 + shift2 + shift3 + shift4 + shift5 + shift6, \"Total Nurses\"\n",
    "\n",
    "# The six constraints to ensure there are enough nurses for each time period\n",
    "prob += shift6 + shift1 >=  70, \"MimimumNurses06amTo10am\"\n",
    "prob += shift1 + shift2 >= 170, \"MimimumNurses10amTo2pm\"\n",
    "prob += shift2 + shift3 >= 200, \"MimimumNurses02pmTo6pm\"\n",
    "prob += shift3 + shift4 >=  85, \"MimimumNurses06pmTo10pm\"\n",
    "prob += shift4 + shift5 >=  25, \"MimimumNurses10pmTo2am\"\n",
    "prob += shift5 + shift6 >=  40, \"MimimumNurses02amTo06am\"\n",
    "\n",
    "# Solve the problem using PuLP's choice of Solver\n",
    "prob.solve()\n",
    "\n",
    "# The status of the solution is printed to the screen\n",
    "print(\"Status:\", pulp.LpStatus[prob.status])\n",
    "\n",
    "# Each of the variables is printed with it's resolved optimum value\n",
    "for v in prob.variables():\n",
    "    print(v.name, \"=\", v.varValue)\n",
    "\n",
    "# The optimized objective function value is printed to the screen\n",
    "print(\"Total number of nurses = \", pulp.value(prob.objective))    \n"
   ]
  }
 ],
 "metadata": {
  "kernelspec": {
   "display_name": "Python 3",
   "language": "python",
   "name": "python3"
  },
  "language_info": {
   "codemirror_mode": {
    "name": "ipython",
    "version": 3
   },
   "file_extension": ".py",
   "mimetype": "text/x-python",
   "name": "python",
   "nbconvert_exporter": "python",
   "pygments_lexer": "ipython3",
   "version": "3.8.0"
  },
  "orig_nbformat": 4,
  "vscode": {
   "interpreter": {
    "hash": "edb60928ae049011e12e2dc43646b5515922153b602d9d974a622a5d486bbfcc"
   }
  }
 },
 "nbformat": 4,
 "nbformat_minor": 2
}
