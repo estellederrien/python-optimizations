{
 "cells": [
  {
   "attachments": {},
   "cell_type": "markdown",
   "metadata": {},
   "source": [
    "# Production planifiée avec Python Pulp\n",
    "# Multi périodes\n",
    "\n",
    "Avec des loops dans le code du solveur à la place du code en dur\n",
    "NOTE : Cette version utilise des boucles FOR à la place du premier exemple ou les vars de décision sont écrites en dur ! ELLE TROUVE LE MEME RESULTAT\n",
    " Ce code fonctionne et retrouve le même résultat que http://www.columbia.edu/itc/sipa/U6033/client_edit/lectures/lec4.pdf sur le problème nuMéro 10\n",
    "\n",
    " Source 1 : \n",
    "\n",
    "Taiwan University  : 2022 https://www.coursera.org/learn/operations-research-modeling/lecture/vW447/2-8-simple-lp-formulation-production-and-inventory\n",
    "\n",
    "Source 2 :  https://machinelearninggeek.com/\n",
    "solvingmulti-period-production-scheduling-problem-in-python-using-pulp/\n",
    "\n",
    "Source 3 : http://www.columbia.edu/itc/sipa/U6033/client_edit/lectures/lec4.pdf\n",
    "\n",
    "Source 4 : https://linuxtut.com/en/0d2a01c66230e0dc6fe9/"
   ]
  },
  {
   "attachments": {},
   "cell_type": "markdown",
   "metadata": {},
   "source": [
    "Histoire : \n",
    "Quand on veut faire des décisions, On veut se soucier de ce qui se passe dans le futur.\n",
    "Ici, on parle de problèmes Multi Périodes ( Dates multiples)\n",
    "\n",
    "Le plus souvent, les produits que l'on fait sont stockés et vendus plus tard.\n",
    "parfois, le prix futur varie, la production est plus moins chère, ou la capacité par jour n'est pas suffisante...\n",
    "\n",
    "Donc la décision de production doit être prise en onjonction avec la décision de l'inventaire.\n",
    "\n",
    "Si on prends un exmple sur 4 jours différents, on a donc \n",
    "- la quantité à produire du fait de la demandee par jour\n",
    "- le côut de production par jour ( par exemple si c'est le dimanche , c'est plus cher de produire)\n",
    "- le coût de l'entretien des stocks est de 1 euro par jour par unité de produit vendu donc si on garde un produit 3 jours, le cout sera de 3 euros \"\"\"\n",
    "\n",
    "\n",
    "\"\"\" HISTOIRE COMPLETE DE TAIWAN UNIVERSITY: \n",
    "LE MANAGER DIT QUON VA VENDRE 100 , 150, 200 et 170 les jours 1 ,2 , 3 et 4 de la prochine semaine.\n",
    "LES COUTS DE PROD VARIENT EN FONCTION DES JOURS : 9e 12e 10e ET 12e les jours 1 ,2 , 3 et 4 de la prochine semaine.\n",
    "LE COUT DE STOCKAGE EST DE 1 E PAR OBJET STOCKE DONC SI ON LE GARDE 4 JOURS CA FAIT 4 EUROS DE COUT \n",
    "QUEL EST LE MEILLEUR PLAN DE PRODUCTION POUR MINIMISER LES COUTS ET NE PAS AVOIR TROP DE STOCKS ?\n",
    "\n",
    "\"\"\"\n",
    "\n",
    "<img src=\"images/01. Formulation du L.P.png\"></img>"
   ]
  },
  {
   "cell_type": "code",
   "execution_count": 4,
   "metadata": {},
   "outputs": [
    {
     "name": "stdout",
     "output_type": "stream",
     "text": [
      "quater_prod__0 = 250.0\n",
      "quater_prod__1 = 0.0\n",
      "quater_prod__2 = 370.0\n",
      "quater_prod__3 = 0.0\n",
      "quater_stock__0 = 150.0\n",
      "quater_stock__1 = 0.0\n",
      "quater_stock__2 = 170.0\n",
      "quater_stock__3 = 0.0\n",
      "Value of Objective Function =  6270.0\n"
     ]
    }
   ],
   "source": [
    "# Importer PULP\n",
    "from pulp import *\n",
    "\n",
    "# 1. On veut minimiser Les coûts de production, et d'inventaire.\n",
    "model = LpProblem(\"Minimiser le cout\",LpMinimize)\n",
    "\n",
    "# ON définit les couts de production et de stockage pour les jours 1 2 3 ET 4 ; Dans quaters, c'est le nombre de jours SOIT 4. Define production cost, inventory cost, and demande.\n",
    "# Définir les couts de production par période, le cout de l'inventaire, et la demandee reportée par le service commercial\n",
    "quaters = list(range(4))\n",
    "cout_production=[9,12,10,12]\n",
    "cout_stockage=[1,1,1,1]\n",
    "demande=[100,150,200,170]\n",
    "\n",
    "\n",
    "# 2. Définir les variables de décision : Production et Stock - Define Decision Variables: Production and Inventory\n",
    "x = LpVariable.dicts('quater_prod_', quaters,lowBound=0, cat='Continuous')\n",
    "y = LpVariable.dicts('quater_stock_', quaters,lowBound=0, cat='Continuous')\n",
    "\n",
    "\n",
    "# 3. Définir l'objectif , On veut minimiser les coûts de production + de stockage comme dans le problème de université taiwan\n",
    "model += lpSum([cout_production[i]*x[i] for i in quaters]) + lpSum([cout_stockage[i]*y[i] for i in quaters])\n",
    "\n",
    "# Définir les contraintes\n",
    "# Constrainte de capacité de production (Production-capacity constraints)\n",
    "for i in quaters:\n",
    "    model.addConstraint(x[i]<=3000)\n",
    "\n",
    "# Contrainte de balance de stocks ( Inventory-balance constraints)\n",
    "model.addConstraint(x[0] - y[0] == demande[0]) # (Month 1)\n",
    "\n",
    "for i in quaters[1:]:\n",
    "    model.addConstraint(x[i] - y[i] + y[i-1] == demande[i]) # par (jour 2, 3, 4) \n",
    "\n",
    "#ON résouds avec le solveur pulp ou un autre entre parenthèses\n",
    "model.solve()\n",
    "\n",
    "# On imprime les solutions\n",
    "for v in model.variables():\n",
    "    print(v.name, \"=\", v.varValue)\n",
    "    \n",
    "# The optimised objective function value is printed to the screen\n",
    "print(\"Value of Objective Function = \", value(model.objective))\n",
    "\n"
   ]
  },
  {
   "cell_type": "code",
   "execution_count": 5,
   "metadata": {},
   "outputs": [
    {
     "name": "stdout",
     "output_type": "stream",
     "text": [
      "Les contraintes sont contenues dans <class 'collections.OrderedDict'>\n",
      "constraint _C1 à la valeur de : -2750.0 et une quantité inutilisée de: 2750.0\n",
      "constraint _C2 à la valeur de : -3000.0 et une quantité inutilisée de: 3000.0\n",
      "constraint _C3 à la valeur de : -2630.0 et une quantité inutilisée de: 2630.0\n",
      "constraint _C4 à la valeur de : -3000.0 et une quantité inutilisée de: 3000.0\n",
      "constraint _C5 à la valeur de : 0.0 et une quantité inutilisée de: -0.0\n",
      "constraint _C6 à la valeur de : 0.0 et une quantité inutilisée de: -0.0\n",
      "constraint _C7 à la valeur de : 0.0 et une quantité inutilisée de: -0.0\n",
      "constraint _C8 à la valeur de : 0.0 et une quantité inutilisée de: -0.0\n"
     ]
    }
   ],
   "source": [
    "# Autre option pour afficher le slack (QUANTITE INUTILISEE): \n",
    "\n",
    "constraints = model.constraints\n",
    "print(f'Les contraintes sont contenues dans {type(constraints)}')\n",
    "\n",
    "for name in constraints.keys():\n",
    "    value = constraints.get(name).value()\n",
    "    slack = constraints.get(name).slack\n",
    "    print(f'constraint {name} à la valeur de : {value} et une quantité inutilisée de: {slack}')"
   ]
  }
 ],
 "metadata": {
  "kernelspec": {
   "display_name": "Python 3",
   "language": "python",
   "name": "python3"
  },
  "language_info": {
   "codemirror_mode": {
    "name": "ipython",
    "version": 3
   },
   "file_extension": ".py",
   "mimetype": "text/x-python",
   "name": "python",
   "nbconvert_exporter": "python",
   "pygments_lexer": "ipython3",
   "version": "3.8.0"
  },
  "orig_nbformat": 4
 },
 "nbformat": 4,
 "nbformat_minor": 2
}
