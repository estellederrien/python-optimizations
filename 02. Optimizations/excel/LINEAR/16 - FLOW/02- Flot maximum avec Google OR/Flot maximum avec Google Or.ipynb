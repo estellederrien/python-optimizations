{
 "cells": [
  {
   "attachments": {},
   "cell_type": "markdown",
   "metadata": {},
   "source": [
    "# Calculer un flot maximum avec Google Or\n",
    "\n",
    "Auteur : https://frknklcsln.medium.com/a-maximum-flow-problem-solution-with-python-34dc3137a3b0\n",
    "\n",
    "<img src=\"img/1 mXWtn3zCrnYQ71J2RSTCIw.webp\"></img>"
   ]
  },
  {
   "cell_type": "code",
   "execution_count": 3,
   "metadata": {},
   "outputs": [
    {
     "name": "stdout",
     "output_type": "stream",
     "text": [
      "Max flow: 10\n",
      "------------------------\n",
      "  Arc    Flow / Capacity\n",
      "0 -> 1     3  /   6\n",
      "0 -> 2     7  /   7\n",
      "1 -> 3     3  /   3\n",
      "2 -> 3     3  /   5\n",
      "2 -> 4     4  /   4\n",
      "3 -> 5     4  /   4\n",
      "3 -> 6     2  /   2\n",
      "4 -> 5     4  /   5\n",
      "5 -> 6     8  /   8\n"
     ]
    }
   ],
   "source": [
    "from ortools.graph import pywrapgraph\n",
    "\n",
    "\n",
    "def main():\n",
    "    start_nodes = [0, 0, 1,2, 2, 3,3,4,5] \n",
    "    end_nodes =   [1, 2, 3,3, 4, 5,6,5,6]  \n",
    "    capacities =  [6, 7, 3, 5, 4, 4,2,5,8] \n",
    "\n",
    "    max_flow = pywrapgraph.SimpleMaxFlow()\n",
    "    for i in range(0, len(start_nodes)):\n",
    "        max_flow.AddArcWithCapacity(start_nodes[i], end_nodes[i], capacities[i])\n",
    "    \n",
    "    #find the optimal max flow value\n",
    "    if max_flow.Solve(0, 6) == max_flow.OPTIMAL:\n",
    "        print('Max flow:', max_flow.OptimalFlow())\n",
    "        print('------------------------')\n",
    "        print('  Arc    Flow / Capacity')\n",
    "        for i in range(max_flow.NumArcs()):\n",
    "            print('%1s -> %1s   %3s  / %3s' % (\n",
    "            max_flow.Tail(i),\n",
    "            max_flow.Head(i),\n",
    "            max_flow.Flow(i),\n",
    "            max_flow.Capacity(i)))\n",
    "    else:\n",
    "        print('There was an issue with the max flow input.')\n",
    "\n",
    "\n",
    "if __name__ == '__main__':\n",
    "    main()"
   ]
  }
 ],
 "metadata": {
  "kernelspec": {
   "display_name": "Python 3",
   "language": "python",
   "name": "python3"
  },
  "language_info": {
   "name": "python",
   "version": "3.8.0"
  },
  "orig_nbformat": 4
 },
 "nbformat": 4,
 "nbformat_minor": 2
}
