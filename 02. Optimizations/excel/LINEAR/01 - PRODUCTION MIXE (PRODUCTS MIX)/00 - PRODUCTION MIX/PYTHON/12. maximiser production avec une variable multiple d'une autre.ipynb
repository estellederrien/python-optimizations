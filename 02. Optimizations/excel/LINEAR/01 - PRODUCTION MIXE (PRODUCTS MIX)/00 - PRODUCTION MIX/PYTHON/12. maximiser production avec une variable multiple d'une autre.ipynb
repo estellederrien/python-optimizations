{
 "cells": [
  {
   "attachments": {},
   "cell_type": "markdown",
   "metadata": {},
   "source": [
    "# Recherche opérationnelle \n",
    "# Optimisation Mixe de Produits ( Products mix)\n",
    "\n",
    "J'ai une usine de fabrication de jouets en bois.\n",
    "\n",
    "Je dois construire des camions de pompier, des hélicoptères et des ambulances en bois.\n",
    "\n",
    "\n",
    "\n",
    "2 employés, qui travaillent 1 h , 2H, 3H pour respectifs objets pour un maximum de 100H/semaine.\n",
    "\n",
    "******Pour un camion de pompier produit, je dois produire 2 ambulances."
   ]
  },
  {
   "cell_type": "code",
   "execution_count": 1,
   "metadata": {},
   "outputs": [
    {
     "name": "stdout",
     "output_type": "stream",
     "text": [
      "Status: Optimal\n",
      "x1 = 20.0\n",
      "x2 = 40.0\n",
      "x3 = 0.0\n"
     ]
    }
   ],
   "source": [
    "import pulp\n",
    "from pulp import *\n",
    " \n",
    "# On déclare les variables \n",
    "x1 = LpVariable(\"x1\", 0, 1000)   \n",
    "x2 = LpVariable(\"x2\", 0, 1000) \n",
    "x3 = LpVariable(\"x3\", 0, 1000) \n",
    "\n",
    "\n",
    "# ON dit que c'est un problème de maximisation , car on veut maximiser nos profits.\n",
    "prob = LpProblem(\"problem\", LpMaximize)\n",
    "\n",
    "\n",
    "# On définit la fonction économique à maximiser : 3$ * par le nb de soldats de bois produits, et 2$ * par le nb de trains produits .\n",
    "prob += 3*x1 + 2*x2 + 4*x3 \n",
    " \n",
    "# Ensuite, On définit les contraintes.\n",
    "\n",
    "# Heures de travail max\n",
    "prob += 1*x1 + 2*x2 + 3*x3 <= 100 \n",
    "\n",
    "# On oblige Pulp que pour 1 camion produit (x1) il doit produire 2 hélicos (x2)\n",
    "# Autrement dit,on produit toujours 2 * plus de camion que d'hélicos\n",
    "# Dans le résulat, on voit que forcer un multiple fonctionne\n",
    "prob += x1 * 2 == x2 \n",
    "\n",
    " \n",
    "# solve the problem\n",
    "prob.solve()\n",
    " \n",
    "# On imprime les résultats \n",
    "\n",
    "print(\"Status:\", LpStatus[prob.status])\n",
    "for v in prob.variables():\n",
    "    print(v.name, \"=\", v.varValue)"
   ]
  }
 ],
 "metadata": {
  "kernelspec": {
   "display_name": "Python 3",
   "language": "python",
   "name": "python3"
  },
  "language_info": {
   "codemirror_mode": {
    "name": "ipython",
    "version": 3
   },
   "file_extension": ".py",
   "mimetype": "text/x-python",
   "name": "python",
   "nbconvert_exporter": "python",
   "pygments_lexer": "ipython3",
   "version": "3.8.0"
  },
  "orig_nbformat": 4,
  "vscode": {
   "interpreter": {
    "hash": "edb60928ae049011e12e2dc43646b5515922153b602d9d974a622a5d486bbfcc"
   }
  }
 },
 "nbformat": 4,
 "nbformat_minor": 2
}
