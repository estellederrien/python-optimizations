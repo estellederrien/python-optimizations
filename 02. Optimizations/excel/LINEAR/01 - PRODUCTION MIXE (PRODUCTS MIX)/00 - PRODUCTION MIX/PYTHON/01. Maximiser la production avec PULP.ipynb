{
 "cells": [
  {
   "attachments": {},
   "cell_type": "markdown",
   "metadata": {},
   "source": [
    "\n",
    " # Recherche opérationnelle débutant\n",
    " # Optimisation Mixe de Produits ( Products mix)\n",
    "\n",
    "\n",
    " Maximiser le profit \n",
    " Nous consultons un constructeur de voitures de boutique qui produit des voitures de luxe.\n",
    "\n",
    " Ils fonctionnent sur des cycles d'un mois (30 jours), nous avons un cycle pour montrer que nous pouvons apporter de la valeur.\n",
    "\n",
    " Il y a un robot, 2 ingénieurs et un dessinateur dans l'usine. Le détaillant a des vacances, il ne lui reste donc que 21 jours.\n",
    "\n",
    " Les 2 voitures ont besoin de temps différent avec chaque ressource:\n",
    " Temps du robot: voiture A - 3 jours; Voiture B - 4 jours.\n",
    " Temps ingénieur: voiture A - 5 jours; Voiture B - 6 jours.\n",
    " Temps Detailer: Voiture A - 1,5 jours; Voiture B - 3 jours.\n",
    "\n",
    " La voiture A génère un bénéfice de 30 000 €, tandis que la voiture B offre un bénéfice de 45 000 €.\n",
    " Actuellement, ils produisent 4 voitures par mois, pour un bénéfice de 300 000 €. \n",
    " \n",
    " Pas mal du tout, mais nous pensons que nous pouvons faire mieux pour eux.\n",
    "\n",
    " Lien  :  http://benalexkeen.com/linear-programming-with-python-and-pulp-part-3/\n",
    "\n",
    " Modélisation\n",
    " Maximise la fonction économique :\n",
    "\n",
    " Profit=30,000A+45,000B\n",
    "\n",
    " Contraintes :\n",
    "\n",
    " A≥0\n",
    " B≥0\n",
    " 3A+4B≤30\n",
    " 5A+6B≤60\n",
    " 1.5A+3B≤21"
   ]
  },
  {
   "cell_type": "code",
   "execution_count": 1,
   "metadata": {},
   "outputs": [
    {
     "name": "stdout",
     "output_type": "stream",
     "text": [
      "Production of Car A = 2.0\n",
      "Production of Car B = 6.0\n",
      "330000.0\n"
     ]
    },
    {
     "name": "stderr",
     "output_type": "stream",
     "text": [
      "c:\\Users\\secretgirl\\AppData\\Local\\Programs\\Python\\Python38\\lib\\site-packages\\pulp\\pulp.py:1195: UserWarning: Spaces are not permitted in the name. Converted to '_'\n",
      "  warnings.warn(\"Spaces are not permitted in the name. Converted to '_'\")\n"
     ]
    }
   ],
   "source": [
    "# Importer la librairie Pulp \n",
    "import pulp \n",
    "  \n",
    "# Créer un programme linéaire de maximisation\n",
    "model = pulp.LpProblem(\"Maximiser_le_profit\", pulp.LpMaximize)\n",
    "  \n",
    "# Créer les variables du problème \n",
    "A = pulp.LpVariable('A', lowBound=0, cat='Integer')\n",
    "B = pulp.LpVariable('B', lowBound=0, cat='Integer')\n",
    "  \n",
    "# Function économique objectif\n",
    "model += 30000 * A + 45000 * B, \"Profit\"\n",
    "\n",
    "# Contraintes\n",
    "model += 3 * A + 4 * B <= 30\n",
    "model += 5 * A + 6 * B <= 60\n",
    "model += 1.5 * A + 3 * B <= 21\n",
    "  \n",
    "# Résoudre le problème\n",
    "model.solve()\n",
    "pulp.LpStatus[model.status]\n",
    "\n",
    "# Print our decision variable values\n",
    "print (\"Production of Car A = {}\".format(A.varValue))\n",
    "print (\"Production of Car B = {}\".format(B.varValue))\n",
    "  \n",
    "# Print our objective function value\n",
    "print (pulp.value(model.objective))\n",
    "\n",
    "# LES SOLUTIONS pour Maximiser la fonction économique sont A = 2.0 et B = 6.0\n"
   ]
  }
 ],
 "metadata": {
  "kernelspec": {
   "display_name": "Python 3",
   "language": "python",
   "name": "python3"
  },
  "language_info": {
   "codemirror_mode": {
    "name": "ipython",
    "version": 3
   },
   "file_extension": ".py",
   "mimetype": "text/x-python",
   "name": "python",
   "nbconvert_exporter": "python",
   "pygments_lexer": "ipython3",
   "version": "3.8.0"
  },
  "orig_nbformat": 4,
  "vscode": {
   "interpreter": {
    "hash": "edb60928ae049011e12e2dc43646b5515922153b602d9d974a622a5d486bbfcc"
   }
  }
 },
 "nbformat": 4,
 "nbformat_minor": 2
}
