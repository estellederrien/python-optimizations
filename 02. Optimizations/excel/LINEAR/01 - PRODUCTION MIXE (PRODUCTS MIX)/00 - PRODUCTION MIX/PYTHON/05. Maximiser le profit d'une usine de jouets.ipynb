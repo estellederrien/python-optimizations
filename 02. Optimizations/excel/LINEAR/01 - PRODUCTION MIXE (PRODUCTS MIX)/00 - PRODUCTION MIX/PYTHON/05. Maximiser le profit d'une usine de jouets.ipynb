{
 "cells": [
  {
   "attachments": {},
   "cell_type": "markdown",
   "metadata": {},
   "source": [
    "\n",
    " # Recherche opérationnelle débutant\n",
    " # Optimisation Mixe de Produits ( Products mix)\n",
    " \n",
    "Usine de jouets\n",
    "\n",
    "Une entreprise manufacture quatre jouets qui lui apportent des profits de 8,12,14 et 16 euros respectivement. \n",
    "Pour se faire, elle utilise 3 matières premières Plastique,Bois et Acier dont elle dispose en stock 42,17,24 kgs. \n",
    "Les ressources consommées pour fabriquer une unité de chacun de ces produits sont données dans le tableau ci-dessous. \n",
    "L’entreprise souhaite maximiser son profit.\n",
    "\n",
    "Notons xi la quantité cherchée du produit i.\n",
    "\n",
    " \n"
   ]
  },
  {
   "cell_type": "code",
   "execution_count": 3,
   "metadata": {},
   "outputs": [
    {
     "data": {
      "text/plain": [
       "'\\n\\n\\n                automobile    cycle1      cycle2        dragon     nounours    poupee      arc                                stock  \\nPlastique           2           4           5           7           1           4           2                                  142\\n\\nBois                1           1           2           2           1           5           1                                  117\\n\\nAcier               1           2           3           3           2           2           5                                  124\\n\\nbénéfice            8           12          14          16          9           13          12\\n\\n\\n\\n'"
      ]
     },
     "execution_count": 3,
     "metadata": {},
     "output_type": "execute_result"
    }
   ],
   "source": [
    "\"\"\"\n",
    "\n",
    "\n",
    "                automobile    cycle1      cycle2        dragon     nounours    poupee      arc                                stock  \n",
    "Plastique           2           4           5           7           1           4           2                                  142\n",
    "\n",
    "Bois                1           1           2           2           1           5           1                                  117\n",
    "\n",
    "Acier               1           2           3           3           2           2           5                                  124\n",
    "\n",
    "bénéfice            8           12          14          16          9           13          12\n",
    "\n",
    "\n",
    "\n",
    "\"\"\""
   ]
  },
  {
   "attachments": {},
   "cell_type": "markdown",
   "metadata": {},
   "source": [
    "A partir de maintenant, on utilise des loops pour créer les variables de décision avec Python Pulp."
   ]
  },
  {
   "cell_type": "code",
   "execution_count": 4,
   "metadata": {},
   "outputs": [
    {
     "name": "stdout",
     "output_type": "stream",
     "text": [
      "Status: Optimal\n",
      "produits__arc = 2.0\n",
      "produits__automobile = 39.333333\n",
      "produits__cycle1 = 2.0\n",
      "produits__cycle2 = 2.0\n",
      "produits__dragon = 2.0\n",
      "produits__nounours = 27.333333\n",
      "produits__poupee = 2.0\n",
      "TotalProfit 586.6666620000001\n"
     ]
    }
   ],
   "source": [
    "# Import the PuLP lib\n",
    "from pulp import *\n",
    "\n",
    "# Créer le type de problème\n",
    "prob = LpProblem (\"MaximiserProfit\", LpMaximize)\n",
    "\n",
    "# La liste de nos produits\n",
    "produits = [\"automobile\", \"cycle1\",\"cycle2\",\"dragon\",\"nounours\",\"poupee\",\"arc\"]\n",
    "\n",
    "# Les bénéfices en EUROS par produits\n",
    "benefices = {\"automobile\": 8, \"cycle1\": 12, \"cycle2\": 14,\"dragon\": 3,\"nounours\":6,\"poupee\":13,\"arc\":12}\n",
    "\n",
    "# Emplois (en kgs)\n",
    "plastique = {\"automobile\": 2, \"cycle1\": 4, \"cycle2\": 5,\"dragon\": 3,\"nounours\":1,\"poupee\":4,\"arc\":2}\n",
    "bois      = {\"automobile\": 1, \"cycle1\": 1, \"cycle2\": 2,\"dragon\": 2,\"nounours\":1,\"poupee\":5,\"arc\":1}\n",
    "acier     = {\"automobile\": 1, \"cycle1\": 2, \"cycle2\": 3,\"dragon\": 3,\"nounours\":2,\"poupee\":2,\"arc\":5}\n",
    "\n",
    "\n",
    "# Les noms de nos ressources\n",
    "ressources = {\"plastique\", \"bois\", \"acier\"}\n",
    "\n",
    "# Les stocks de nos ressources en KG\n",
    "stocks = {\"plastique\": 142, \"bois \": 117, \"acier\": 124}\n",
    "\n",
    "# Problem variables \n",
    "x = LpVariable.dicts(\"produits \", produits , 0)\n",
    "\n",
    "# Maximiser la quantité de produits et profit.\n",
    "prob += lpSum([benefices[i] * x[i] for i in produits ]), \"MaximiserBenefice\"\n",
    "\n",
    "# On respecte notre production sous contrainte de stocks\n",
    "prob += lpSum([plastique[i] * x[i] for i in  produits]) <= 142 ,\"MaxPlastique\"\n",
    "prob += lpSum([bois[i]      * x[i] for i in  produits]) <= 117 ,\"MaxBois\"\n",
    "prob += lpSum([acier[i]     * x[i] for i in  produits]) <= 124 ,\"MaxAcier\"\n",
    "\n",
    "# Production minimale par produits pour les clients : 2 unités\n",
    "for p in produits:\n",
    "   prob += x[p] >= 2, f\"min production units for product {p}\"\n",
    "\n",
    "# On écrit aussi le probleme dans un fichier\n",
    "prob.writeLP ( \"JouetsModel.lp\")\n",
    "\n",
    "# On utilise le solver pulp\n",
    "prob.solve()\n",
    "\n",
    "# On affiche le sstatu de la solution\n",
    "print (\"Status:\", LpStatus [prob.status])\n",
    "\n",
    "# Afficher l'optimium de chaques variables produits qui s'exprime en unité construites\n",
    "for v in prob.variables ():\n",
    "    print (v.name, \"=\", v.varValue)\n",
    "\n",
    "\n",
    "# Le résultat de la fonctioj objectif est ici :\n",
    "print (\"TotalProfit\", value (prob.objective))\n"
   ]
  },
  {
   "cell_type": "code",
   "execution_count": null,
   "metadata": {},
   "outputs": [],
   "source": [
    "# Note annexe : \n",
    "# ne fonctionne pas ( A revoir , ce serait bien car plus rapide)\n",
    "emplois  = {\n",
    "            0:    [2.0, 4.0, 5.0, 7.0 , 1.0, 4.0, 2.0],\n",
    "            1:    [1.0, 1.0, 2.0, 2.0 , 1.0, 5.0, 1.0],\n",
    "            2:    [1.0, 2.0, 3.0, 3.0 , 2.0, 2.0, 5.0]\n",
    "            }"
   ]
  }
 ],
 "metadata": {
  "kernelspec": {
   "display_name": "Python 3",
   "language": "python",
   "name": "python3"
  },
  "language_info": {
   "codemirror_mode": {
    "name": "ipython",
    "version": 3
   },
   "file_extension": ".py",
   "mimetype": "text/x-python",
   "name": "python",
   "nbconvert_exporter": "python",
   "pygments_lexer": "ipython3",
   "version": "3.8.0 (tags/v3.8.0:fa919fd, Oct 14 2019, 19:37:50) [MSC v.1916 64 bit (AMD64)]"
  },
  "orig_nbformat": 4,
  "vscode": {
   "interpreter": {
    "hash": "edb60928ae049011e12e2dc43646b5515922153b602d9d974a622a5d486bbfcc"
   }
  }
 },
 "nbformat": 4,
 "nbformat_minor": 2
}
