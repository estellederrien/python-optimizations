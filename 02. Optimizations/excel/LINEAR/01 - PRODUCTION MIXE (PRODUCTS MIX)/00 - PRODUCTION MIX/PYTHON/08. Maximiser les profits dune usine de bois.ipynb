{
 "cells": [
  {
   "attachments": {},
   "cell_type": "markdown",
   "metadata": {},
   "source": [
    " # Recherche opérationnelle débutant\n",
    " # Optimisation Mixe de Produits ( Products mix)\n",
    " \n",
    "Disons que vous voulez maximiser les profits en vendant des soldats de bois (notés x1) \n",
    "et des trains de bois (notés x2) étant donné que la marge est de 3 $ pour un soldat et de 2 $ pour un train, \n",
    "vous voulez maximiser les bénéfices. \n",
    "\n",
    "De plus, vous avez les contraintes suivantes par semaine:\n",
    "\n",
    "* un soldat a besoin de 2 heures de travail de finition. \n",
    "* un train nécessite 1 heure de travail de finition. \n",
    "* Vous avez seulement 100 heures de travail de finition disponibles par semaine\n",
    "* un soldat a besoin d'une heure de travail de charpenterie. \n",
    "* Pareil pour un train. \n",
    "* Vous avez seulement 80 heures de travail de menuiserie disponibles par semaine\n",
    "* La demande de soldats n'est de pas plus de 40 par semaine\n",
    "\n",
    "Les contraintes peuvent être transformées en équations:\n",
    "\n",
    "  - 2*x1 + x2 <= 100\n",
    "  - x1 + x2 <= 80\n",
    "  - x1 <=40\n",
    "  \n",
    "et bien sûr, x1> = 0 et x2 = 0 sinon il n'y a rien à optimiser.\n",
    "\n",
    "Source :\n",
    "https://thomas-cokelaer.info/blog/2012/11/solving-a-linear-programming-problem-with-python-pulp/"
   ]
  },
  {
   "cell_type": "code",
   "execution_count": 2,
   "metadata": {},
   "outputs": [
    {
     "name": "stdout",
     "output_type": "stream",
     "text": [
      "Status: Optimal\n",
      "x1 = 20.0\n",
      "x2 = 60.0\n"
     ]
    },
    {
     "data": {
      "text/plain": [
       "\" il faut construire 20 soldats de bois et 60 trains de bois par semaine pour gagner le plus d'argent possible !\\nStatus: Optimal\\nx1 = 20.0\\nx2 = 60.0 \\n\""
      ]
     },
     "execution_count": 2,
     "metadata": {},
     "output_type": "execute_result"
    }
   ],
   "source": [
    "import pulp\n",
    "from pulp import *\n",
    " \n",
    "# On déclare les variables , x1 c'est le soldat, x2, c'est le train.\n",
    "x1 = LpVariable(\"x1\", 0, 40)   # 0<= x1 <= 40  car la demande de soldat est inférieure à 40 par semaine .\n",
    "x2 = LpVariable(\"x2\", 0, 1000) # 0<= x2 <= 1000 La demande est inférieure à 1000\n",
    " \n",
    "# ON dit que c'est un problème de maximisation , car on veut maximiser nos profits.\n",
    "prob = LpProblem(\"problem\", LpMaximize)\n",
    "\n",
    "\n",
    "# On définit la fonction économique à maximiser : 3$ * par le nb de soldats de bois produits, et 2$ * par le nb de trains produits .\n",
    "prob += 3*x1+2*x2\n",
    " \n",
    "# Ensuite, On définit les contraintes.\n",
    "\n",
    "# 2h de travail pour le train + 1 h pour le soldat doitêtre inférieur à 100 heures de travail par semaine.\n",
    "prob += 2*x1+x2 <= 100 \n",
    "\n",
    "# 1 heure de menuiserie + 1 h de menuiserie de soldat doit être inférieur à 80 heures de travail par semaine.\n",
    "prob += x1+x2 <= 80\n",
    " \n",
    "# solve the problem\n",
    "prob.solve()\n",
    " \n",
    "# On imprime les résultats x1 = 20, x2 = 60\n",
    "\n",
    "print(\"Status:\", LpStatus[prob.status])\n",
    "for v in prob.variables():\n",
    "    print(v.name, \"=\", v.varValue)\n",
    "\n"
   ]
  },
  {
   "attachments": {},
   "cell_type": "markdown",
   "metadata": {},
   "source": [
    "il faut construire 20 soldats de bois et 60 trains de bois par semaine pour gagner le plus d'argent possible !\n",
    "Status: Optimal\n",
    "x1 = 20.0\n",
    "x2 = 60.0 "
   ]
  }
 ],
 "metadata": {
  "kernelspec": {
   "display_name": "Python 3",
   "language": "python",
   "name": "python3"
  },
  "language_info": {
   "codemirror_mode": {
    "name": "ipython",
    "version": 3
   },
   "file_extension": ".py",
   "mimetype": "text/x-python",
   "name": "python",
   "nbconvert_exporter": "python",
   "pygments_lexer": "ipython3",
   "version": "3.8.0"
  },
  "orig_nbformat": 4,
  "vscode": {
   "interpreter": {
    "hash": "edb60928ae049011e12e2dc43646b5515922153b602d9d974a622a5d486bbfcc"
   }
  }
 },
 "nbformat": 4,
 "nbformat_minor": 2
}
