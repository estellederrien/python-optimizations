{
 "cells": [
  {
   "attachments": {},
   "cell_type": "markdown",
   "metadata": {},
   "source": [
    "\n",
    "# Recherche opérationnelle \n",
    "# Optimisation Mixe de Produits ( Products mix)\n",
    "\n",
    "Lien : http://people.brunel.ac.uk/~mastjjb/jeb/or/morelp.html\n",
    "\n",
    "Linear programming example 1994 UG exam\n",
    "\n",
    "A company is involved in the production of two items (X and Y). The resources need to produce X and Y are twofold, namely machine time for automatic processing and craftsman time for hand finishing. The table below gives the number of minutes required for each item:\n",
    "\n",
    "         Machine time Craftsman time\n",
    "         \n",
    "Item \n",
    "- X   13           20\n",
    "\n",
    "- Y   19           29\n",
    "\n",
    "The company has 40 hours of machine time available in the next working week but only 35 hours of craftsman time. Machine time is costed at £10 per hour worked and craftsman time is costed at £2 per hour worked. Both machine and craftsman idle times incur no costs. The revenue received for each item produced (all production is sold) is £20 for X and £30 for Y. The company has a specific contract to produce 10 items of X per week for a particular customer.\n",
    "\n",
    "    Formulate the problem of deciding how much to produce per week as a linear program.\n",
    "    Solve this linear program graphically.\n",
    "\n",
    "Solution\n",
    "\n",
    "Let\n",
    "\n",
    "    x be the number of items of X\n",
    "    y be the number of items of Y\n",
    "\n",
    "then the LP is:\n",
    "\n",
    "maximise\n",
    "\n",
    "    20x + 30y - 10(machine time worked) - 2(craftsman time worked)\n",
    "\n",
    "subject to:\n",
    "\n",
    "    13x + 19y <= 40(60) machine time\n",
    "    20x + 29y <= 35(60) craftsman time\n",
    "    x >= 10 contract\n",
    "    x,y >= 0\n",
    "\n",
    "so that the objective function becomes\n",
    "\n",
    "maximise\n",
    "\n",
    "    20x + 30y - 10(13x + 19y)/60 - 2(20x + 29y)/60\n",
    "\n",
    "i.e. maximise\n",
    "\n",
    "    17.1667x + 25.8667y\n",
    "\n",
    "subject to:\n",
    "\n",
    "    13x + 19y <= 2400\n",
    "    20x + 29y <= 2100\n",
    "    x >= 10\n",
    "    x,y >= 0\n",
    "\n",
    "It is plain from the diagram below that the maximum occurs at the intersection of x=10 and 20x + 29y <= 2100\n",
    "\n",
    "Solving simultaneously, rather than by reading values off the graph, we have that x=10 and y=65.52 with the value of the objective function being £1866.5"
   ]
  },
  {
   "cell_type": "code",
   "execution_count": 2,
   "metadata": {},
   "outputs": [
    {
     "name": "stdout",
     "output_type": "stream",
     "text": [
      "Status: Optimal\n",
      "x = 10.0\n",
      "y = 65.517241\n",
      "1866.3793005333332\n"
     ]
    }
   ],
   "source": [
    "\n",
    "import pulp \n",
    "\n",
    " \n",
    "# Créer les variables du problème \n",
    "x = pulp.LpVariable(\"x\", lowBound = 0, cat='Continuous')   \n",
    "y = pulp.LpVariable(\"y\", lowBound = 0, cat='Continuous')   \n",
    "  \n",
    "# Créer un programme linéaire de minimisation\n",
    "prob = pulp.LpProblem(\"problem\", pulp.LpMaximize)\n",
    "\n",
    "# écrire la fonction objectif à maximiser\n",
    "\n",
    "prob += 20 * x + 30 * y - 10 * (13 * x + 19 * y)/60 - 2 * (20 * x + 29 * y)/60, \"Profit\"\n",
    " \n",
    "# Ensuite, On définit les contraintes.\n",
    "prob +=  13 * x + 19 * y <= 40 * 60 \n",
    "prob +=  20 * x + 29 * y <= 35 * 60 \n",
    "prob +=  x >= 10 \n",
    "prob +=  x >= 0\n",
    "prob +=  y >= 0\n",
    "\n",
    "# On résouds le problème linéaire\n",
    "prob.solve()\n",
    " \n",
    "# On imprime les résultats \n",
    "\n",
    "print(\"Status:\", pulp.LpStatus[prob.status])\n",
    "for v in prob.variables():\n",
    "    print(v.name, \"=\", v.varValue)\n",
    "\n",
    "pulp.LpStatus[prob.status]\n",
    "\n",
    "# Print our objective function value\n",
    "print (pulp.value(prob.objective))\n",
    "\n",
    "\n"
   ]
  }
 ],
 "metadata": {
  "kernelspec": {
   "display_name": "Python 3",
   "language": "python",
   "name": "python3"
  },
  "language_info": {
   "codemirror_mode": {
    "name": "ipython",
    "version": 3
   },
   "file_extension": ".py",
   "mimetype": "text/x-python",
   "name": "python",
   "nbconvert_exporter": "python",
   "pygments_lexer": "ipython3",
   "version": "3.8.0"
  },
  "orig_nbformat": 4,
  "vscode": {
   "interpreter": {
    "hash": "edb60928ae049011e12e2dc43646b5515922153b602d9d974a622a5d486bbfcc"
   }
  }
 },
 "nbformat": 4,
 "nbformat_minor": 2
}
