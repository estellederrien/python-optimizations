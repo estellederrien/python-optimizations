{
 "cells": [
  {
   "attachments": {},
   "cell_type": "markdown",
   "metadata": {},
   "source": [
    "\n",
    " # Recherche opérationnelle débutant\n",
    " # Optimisation Mixe de Produits ( Products mix)\n",
    " \n",
    " Un fabriquant d’outillage de fraisage fabrique deux types de fraises : A et B. \n",
    " \n",
    "- Les fraises de type A se vendent 300 l’unité, et se fabrique à avec 1 unité d’acier,\n",
    "  2 unités de carbure amovible et 1 unité de diamant synthétique. \n",
    "- Les fraises de type B se vendent 200 l’unité, et se fabrique à avec 2 unité d’acier, \n",
    "  1 unités de carbure amovible et 1 unité de diamant synthétique. \n",
    "\n",
    " Les stocks sont de 50 unités d’acier, 50 unités de carbure et 20 unités de diamant. \n",
    "\n",
    " Le fabriquant souhaite construire au moins 5 fraises de type A et 5 fraises de type B. \n",
    " \n",
    " Le coût d’entretien de l’usine est de 2500.\n",
    "\n",
    "  Comment le fabriquant doit-il répartir sa production pour maximiser son profit, est-ce rentable ?\n",
    "\n",
    "\n",
    "     Fonction objectif : z = 300A+200B-2500\n",
    "     Contraintes :\n",
    "         A+2B  ≤ 5\n",
    "         2A+B ≤ 5\n",
    "         A+B ≤ 2\n",
    "         A  ≥ 5\n",
    "         B  ≥ 5\n"
   ]
  },
  {
   "cell_type": "code",
   "execution_count": 1,
   "metadata": {},
   "outputs": [
    {
     "name": "stdout",
     "output_type": "stream",
     "text": [
      "Production of  A = 15.0\n",
      "Production of  B = 5.0\n",
      "3000.0\n"
     ]
    },
    {
     "name": "stderr",
     "output_type": "stream",
     "text": [
      "c:\\Users\\secretgirl\\AppData\\Local\\Programs\\Python\\Python38\\lib\\site-packages\\pulp\\pulp.py:1195: UserWarning: Spaces are not permitted in the name. Converted to '_'\n",
      "  warnings.warn(\"Spaces are not permitted in the name. Converted to '_'\")\n"
     ]
    }
   ],
   "source": [
    "# Importer la librairie Pulp \n",
    "import pulp \n",
    "  \n",
    "# Créer un programme linéaire de maximisation\n",
    "model = pulp.LpProblem(\"Maximiser_le_profit\", pulp.LpMaximize)\n",
    "  \n",
    "# Créer les variables du problème \n",
    "A = pulp.LpVariable('A', lowBound=0, cat='Integer')\n",
    "B = pulp.LpVariable('B', lowBound=0, cat='Integer')\n",
    "  \n",
    "# Function économique objectif\n",
    "model += 300 * A + 200 * B - 2500, \"Profit\"\n",
    "\n",
    "# Contraintes\n",
    "model += 1 * A + 2 * B <= 50\n",
    "model += 2 * A + 1 * B <= 50\n",
    "model += 1 * A + 1 * B <= 20\n",
    "model += 1 * A  >= 5\n",
    "model += 1 * B >= 5\n",
    "  \n",
    "# Résoudre le problème\n",
    "model.solve()\n",
    "pulp.LpStatus[model.status]\n",
    "\n",
    "# Print our decision variable values\n",
    "print (\"Production of  A = {}\".format(A.varValue))\n",
    "print (\"Production of  B = {}\".format(B.varValue))\n",
    "  \n",
    "# Print our objective function value\n",
    "print (pulp.value(model.objective))"
   ]
  }
 ],
 "metadata": {
  "kernelspec": {
   "display_name": "Python 3",
   "language": "python",
   "name": "python3"
  },
  "language_info": {
   "codemirror_mode": {
    "name": "ipython",
    "version": 3
   },
   "file_extension": ".py",
   "mimetype": "text/x-python",
   "name": "python",
   "nbconvert_exporter": "python",
   "pygments_lexer": "ipython3",
   "version": "3.8.0"
  },
  "orig_nbformat": 4,
  "vscode": {
   "interpreter": {
    "hash": "edb60928ae049011e12e2dc43646b5515922153b602d9d974a622a5d486bbfcc"
   }
  }
 },
 "nbformat": 4,
 "nbformat_minor": 2
}
