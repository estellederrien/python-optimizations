{
 "cells": [
  {
   "attachments": {},
   "cell_type": "markdown",
   "metadata": {},
   "source": [
    "\n",
    " # Recherche opérationnelle débutant\n",
    " # Optimisation Mixe de Produits ( Products mix)\n",
    "\n",
    "Usine de meubles \n",
    "Origine du problème : Université de Rennes 1 et INRIA Rennes Bretagne-Atlantique\n",
    "\n",
    "Une entreprise manufacture quatre produits qui lui apportent des profits de 7,9,18 et 17 euros respectivement. \n",
    "\n",
    "Pour se faire, elle utilise les trois ressources A,B,C dont elle dispose en stock 42,17,24 unités. \n",
    "Les ressources consommées pour fabriquer une unité de chacun de ces produits sont données dans le tableau ci-dessous. \n",
    "\n",
    "L’entreprise souhaite maximiser son profit.\n",
    "\n",
    "Notons xi la quantité cherchée du produit i.\n",
    "\n"
   ]
  },
  {
   "cell_type": "code",
   "execution_count": 1,
   "metadata": {},
   "outputs": [],
   "source": [
    "#                 produit 1   produit 2   produit 3   produit 4      stock  \n",
    "# ressource A         2           4           5           7           42\n",
    "\n",
    "# ressource B         1           1           2           2           17\n",
    "\n",
    "# ressource C         1           2           3           3           24\n",
    "\n",
    "# bénéfice            7           9           18          17"
   ]
  },
  {
   "attachments": {},
   "cell_type": "markdown",
   "metadata": {},
   "source": [
    "Voici le PL :\n",
    "\n",
    "Maximiser\n",
    "z=7x1+9x2+18x3+17x4\n",
    "\n",
    "s. c.\n",
    "2x1+4x2+5x3+7x4≤42\n",
    "x1+x2+2x3+2x4≤17\n",
    "x1+2x2+3x3+3x4≤24\n",
    "x1,x2,x3,x4≥0"
   ]
  },
  {
   "cell_type": "code",
   "execution_count": 2,
   "metadata": {},
   "outputs": [
    {
     "name": "stdout",
     "output_type": "stream",
     "text": [
      "Status: Optimal\n",
      "produits__produit_1 = 3.0\n",
      "produits__produit_2 = 0.0\n",
      "produits__produit_3 = 7.0\n",
      "produits__produit_4 = 0.0\n",
      "TotalProfit 147.0\n"
     ]
    }
   ],
   "source": [
    "# Import the PuLP lib\n",
    "from pulp import *\n",
    "\n",
    "# Create the problem variable\n",
    "prob = LpProblem (\"MaximiserProfit\", LpMaximize)\n",
    "\n",
    "# Problem Data\n",
    "\n",
    "#une liste: La liste de nos prduits\n",
    "produits = [\"produit_1\", \"produit_2\",\"produit_3\",\"produit_4\"]\n",
    "\n",
    "#un dictionnaire : Les bénéfices en EUROS par produits\n",
    "benefices = {\"produit_1\": 7, \"produit_2\": 9, \"produit_3\": 18,\"produit_4\": 17}\n",
    "\n",
    "# Les ressources dépensées par produits\n",
    "ressource_a =  {\"produit_1\": 2.0, \"produit_2\": 4.0, \"produit_3\": 5.0,\"produit_4\": 7.0}\n",
    "ressource_b = {\"produit_1\": 1.0, \"produit_2\": 1.0, \"produit_3\": 2.0,\"produit_4\": 2.0}\n",
    "ressource_c = {\"produit_1\": 1.0, \"produit_2\": 2.0, \"produit_3\": 3.0,\"produit_4\": 3.0}\n",
    "\n",
    "# Les noms de nos ressources\n",
    "ressources = {\"ressource_a\", \"ressource_b\", \"ressource_c\"}\n",
    "\n",
    "# Les stocks de nos ressources\n",
    "stocks = {\"ressource_a\": 42, \"ressource_b\": 17, \"ressource_c\": 24}\n",
    "\n",
    "\n",
    "# Problem variables \n",
    "x = LpVariable.dicts(\"produits \", produits , 0)\n",
    "\n",
    "# Maximiser la quantité de produits et profit.\n",
    "prob += lpSum([benefices[i] * x[i] for i in produits ]), \"MaximiserBenefice\"\n",
    "\n",
    "# On respecte notre production sous contrainte de stocks\n",
    "\n",
    "prob += lpSum([ressource_a[i] * x[i] for i in produits]) <= stocks[\"ressource_a\"], \"ct1\"\n",
    "\n",
    "prob += lpSum([ressource_b[i] * x[i] for i in produits]) <= stocks[\"ressource_b\"], \"ct2\"\n",
    "\n",
    "prob += lpSum([ressource_c[i] * x[i] for i in produits]) <= stocks[\"ressource_c\"], \"ct3\"\n",
    "\n",
    "\n",
    "# On écrit aussi le problem dans un fichier\n",
    "prob.writeLP ( \"MeublesModel.lp\")\n",
    "\n",
    "# On utilise le solver pulp\n",
    "prob.solve()\n",
    "\n",
    "# On affiche le sstatu de la solution\n",
    "print (\"Status:\", LpStatus [prob.status])\n",
    "\n",
    "# Afficher l'optimium de chaques variables produits qui s'exprime en unité construites\n",
    "for v in prob.variables ():\n",
    "    print (v.name, \"=\", v.varValue)\n",
    "\n",
    "\n",
    "# Le résultat de la fonctioj objectif est ici :\n",
    "print (\"TotalProfit\", value (prob.objective))\n",
    "\n"
   ]
  },
  {
   "attachments": {},
   "cell_type": "markdown",
   "metadata": {},
   "source": [
    "Le résultat est ok et conforme au polycopié de l'université de Rennes ."
   ]
  }
 ],
 "metadata": {
  "kernelspec": {
   "display_name": "Python 3",
   "language": "python",
   "name": "python3"
  },
  "language_info": {
   "codemirror_mode": {
    "name": "ipython",
    "version": 3
   },
   "file_extension": ".py",
   "mimetype": "text/x-python",
   "name": "python",
   "nbconvert_exporter": "python",
   "pygments_lexer": "ipython3",
   "version": "3.8.0"
  },
  "orig_nbformat": 4,
  "vscode": {
   "interpreter": {
    "hash": "edb60928ae049011e12e2dc43646b5515922153b602d9d974a622a5d486bbfcc"
   }
  }
 },
 "nbformat": 4,
 "nbformat_minor": 2
}
