{
 "cells": [
  {
   "attachments": {},
   "cell_type": "markdown",
   "metadata": {},
   "source": [
    " # Recherche opérationnelle débutant\n",
    " # Optimisation Mixe de Produits ( Products mix)\n",
    "\n",
    "  Voici les ressources employées pour produire une voiture identique\n",
    "        Main d'oeuvre  materiel  pollution\n",
    "usine x  2 heures           5         15\n",
    "usine y  3 heures           6         10\n",
    "usine z  4 heures           5         9\n",
    "usine k  3 heures           2         7\n",
    "\n",
    "On doit produire au minimum 100 voitures à l'usine z selon le directeur.\n",
    "On a 3300 heures de travail disponible au total, et 4000 unités de matériel disponible.\n",
    "On a le droit a 12000 unités de pollution.\n",
    "Au final, on veut maximiser le nombre de voitures produites ."
   ]
  },
  {
   "cell_type": "code",
   "execution_count": null,
   "metadata": {},
   "outputs": [],
   "source": [
    "# Importer la librairie Pulp sous le pseudo p\n",
    "import pulp as p \n",
    "  \n",
    "# Créer un programme linéaire de minimisation\n",
    "Lp_prob = p.LpProblem('Problem', p.LpMaximize)  \n",
    "  \n",
    "# Créer les variables du problème \n",
    "x = p.LpVariable(\"x\", lowBound = 0)   # Create a variable x >= 0 \n",
    "y = p.LpVariable(\"y\", lowBound = 0)   # Create a variable y >= 0 \n",
    "z = p.LpVariable(\"z\", lowBound = 0)   # Create a variable z >= 0 \n",
    "k = p.LpVariable(\"k\", lowBound = 0)   # Create a variable k >= 0 \n",
    "  \n",
    "# Ecrire la fonction objectif à maximizer qui nous donne un résultat en nombre de voitures produites par usines .\n",
    "Lp_prob +=  x + y + z + k \n",
    "  \n",
    "# Les contraintes : \n",
    "\n",
    "# L'usine z doit produire au minimum  100 voitures \n",
    "Lp_prob +=  z >= 100\n",
    "\n",
    "\n",
    "# Le nombre total d\"heure travaillé est au maximum de 3300 heures, plus le nombre est petit, mieux c'est.\n",
    "Lp_prob +=  2 * x + 3 * y + 4 * z + 3 * k <= 3300\n",
    "\n",
    "# Il y  a 4000 unités de matériel disponible au maximum\n",
    "Lp_prob +=  5 * x + 6 * y + 5 * z + 2 * k <= 4000\n",
    "\n",
    "# On a le droit à 12 000 unités de pollution maximum, plus le nombre est petit , mieux c'est.\n",
    "Lp_prob +=  15 * x + 10 * y + 9 * z + 7 * k <= 12000\n",
    "\n",
    "\n",
    "  \n",
    "# Afficher le problème\n",
    "print(Lp_prob) \n",
    "  \n",
    "status = Lp_prob.solve()   # Exécuter le solver\n",
    "print(p.LpStatus[status])   # Le statut de la solution\n",
    "  "
   ]
  },
  {
   "cell_type": "code",
   "execution_count": null,
   "metadata": {},
   "outputs": [],
   "source": [
    "# Afficher la solution :\n",
    "print( p.value(x),\" Voitures produites dans l'usine x\")\n",
    "print(p.value(y) , \" Voitures produites dans l'usine y\"  )\n",
    "print(p.value(z) , \" Voitures produites dans l'usine z\"  )\n",
    "print(p.value(k) , \" Voitures produites dans l'usine k\" )\n",
    "print(p.value(Lp_prob.objective) ,\" est le Nombre total optimisé de voitures produites pour 3300 heures de travail\" )"
   ]
  }
 ],
 "metadata": {
  "kernelspec": {
   "display_name": "Python 3",
   "language": "python",
   "name": "python3"
  },
  "language_info": {
   "name": "python",
   "version": "3.8.0 (tags/v3.8.0:fa919fd, Oct 14 2019, 19:37:50) [MSC v.1916 64 bit (AMD64)]"
  },
  "orig_nbformat": 4,
  "vscode": {
   "interpreter": {
    "hash": "edb60928ae049011e12e2dc43646b5515922153b602d9d974a622a5d486bbfcc"
   }
  }
 },
 "nbformat": 4,
 "nbformat_minor": 2
}
