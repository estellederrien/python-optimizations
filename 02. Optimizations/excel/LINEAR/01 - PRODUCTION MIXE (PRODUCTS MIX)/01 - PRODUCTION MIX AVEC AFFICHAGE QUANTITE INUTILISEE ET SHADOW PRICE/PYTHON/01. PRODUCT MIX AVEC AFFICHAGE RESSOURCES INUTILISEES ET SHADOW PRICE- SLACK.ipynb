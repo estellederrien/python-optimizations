{
 "cells": [
  {
   "attachments": {},
   "cell_type": "markdown",
   "metadata": {},
   "source": [
    "\n",
    "\n",
    "# Recherche opérationnelle \n",
    "# Optimisation Mixe de Produits ( Products mix)\n",
    "\n",
    "Ici , on veut afficher le relachement (slack) et le shadow price à l'aide de Python Pulp !\n",
    "\n",
    "SUPPLY CHAIN ANALYTICS IN PYTHON :\n",
    "\n",
    "SIGNIFICATION DE SLACK (RELACHEMENT):\n",
    "La quantité d'une ressource qui n'est pas utilisée.\n",
    "The amount of a resource that is unused.\n",
    "\n",
    "SIGNIFICATION DE SHADOW PRICE :\n",
    "Un prix fictif d'une contrainte de ressource dans la programmation linéaire \n",
    "est généralement défini comme le prix maximum qui devrait être payé pour obtenir une unité supplémentaire de ressource.\n",
    "\n",
    "A shadow price of a resource constraint in linear programming is \n",
    "usually defined as the maximum price which should be paid to obtain an additional unit of re- source\n",
    "\n",
    "\n",
    "\n",
    "Histoire : \n",
    "\n",
    "Vous planifiez quels cupcakes une boulangerie devrait faire. La boulangerie peut faire soit :\n",
    "\n",
    "    cupcake de taille normale : profit = 5 $\n",
    "    un cupcake géant deux fois plus grand : bénéfice = 10 $\n",
    "\n",
    "Il y a 2 contraintes sur les heures de four (30) et les heures de travail (65). \n",
    "Ce scénario a été modélisé dans PuLP pour vous et une solution a été trouvée. \n",
    "Le statut du modèle, les valeurs des variables de décision, la valeur objective \n",
    "(c'est-à-dire le profit), les prix fictifs et le relâchement des contraintes ont été imprimés dans le shell.\n",
    "\n",
    "L'exemple de script est une copie de ce code. Vous ajusterez les contraintes pour voir comment la solution optimale change. \n",
    "\n",
    "\n"
   ]
  },
  {
   "cell_type": "code",
   "execution_count": 1,
   "metadata": {},
   "outputs": [
    {
     "name": "stdout",
     "output_type": "stream",
     "text": [
      "Model Status: Optimal\n",
      "Jumbo_production = 0.0\n",
      "Regular_production = 60.0\n",
      "Objective = $ 300.0\n",
      "[{'name': '_C1', 'shadow price': 10.0, 'slack': -0.0}, {'name': '_C2', 'shadow price': -0.0, 'slack': 5.0}]\n"
     ]
    },
    {
     "name": "stderr",
     "output_type": "stream",
     "text": [
      "c:\\Users\\secretgirl\\AppData\\Local\\Programs\\Python\\Python38\\lib\\site-packages\\pulp\\pulp.py:1195: UserWarning: Spaces are not permitted in the name. Converted to '_'\n",
      "  warnings.warn(\"Spaces are not permitted in the name. Converted to '_'\")\n"
     ]
    }
   ],
   "source": [
    "\n",
    "import pulp\n",
    "# import panda as pd\n",
    "\n",
    "# Define Constraints, Solve, Print Status, Variables, Objective\n",
    "model = pulp.LpProblem(\"Maximize_Bakery_Profits\", pulp.LpMaximize)\n",
    "\n",
    "R = pulp.LpVariable('Regular_production', lowBound=0, cat='Continuous')\n",
    "J = pulp.LpVariable('Jumbo_production', lowBound=0, cat='Continuous')\n",
    "\n",
    "model += 5 * R + 10 * J, \"Profit\"\n",
    "\n",
    "# Adjust the constraint\n",
    "# heures de four\n",
    "model += 0.5 * R + 1 * J <= 30 \n",
    "# heures de travail\n",
    "model += 1 * R + 2.5 * J <= 65\n",
    "\n",
    "# Solve Model, Print Status, Variables, Objective, Shadow and Slack\n",
    "model.solve()\n",
    "\n",
    "print(\"Model Status: {}\".format(pulp.LpStatus[model.status]))\n",
    "\n",
    "for v in model.variables():\n",
    "    print(v.name, \"=\", v.varValue)\n",
    "\n",
    "print(\"Objective = $\", pulp.value(model.objective))\n",
    "\n",
    "o = [{'name':name, 'shadow price':c.pi, 'slack': c.slack} for name, c in model.constraints.items()]\n",
    "print(o)\n"
   ]
  }
 ],
 "metadata": {
  "kernelspec": {
   "display_name": "Python 3",
   "language": "python",
   "name": "python3"
  },
  "language_info": {
   "codemirror_mode": {
    "name": "ipython",
    "version": 3
   },
   "file_extension": ".py",
   "mimetype": "text/x-python",
   "name": "python",
   "nbconvert_exporter": "python",
   "pygments_lexer": "ipython3",
   "version": "3.8.0"
  },
  "orig_nbformat": 4,
  "vscode": {
   "interpreter": {
    "hash": "edb60928ae049011e12e2dc43646b5515922153b602d9d974a622a5d486bbfcc"
   }
  }
 },
 "nbformat": 4,
 "nbformat_minor": 2
}
