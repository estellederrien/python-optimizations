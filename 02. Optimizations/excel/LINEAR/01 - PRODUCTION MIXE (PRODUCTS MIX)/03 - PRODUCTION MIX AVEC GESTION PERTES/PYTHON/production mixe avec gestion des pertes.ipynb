{
 "cells": [
  {
   "cell_type": "code",
   "execution_count": 1,
   "metadata": {},
   "outputs": [
    {
     "data": {
      "text/html": [
       "<img src=\"lineaire30.webp\" width=\"800\" height=\"300\"/>"
      ],
      "text/plain": [
       "<IPython.core.display.Image object>"
      ]
     },
     "execution_count": 1,
     "metadata": {},
     "output_type": "execute_result"
    }
   ],
   "source": [
    "\"\"\" \n",
    "SOURCE : https://complex-systems-ai.com/programmation-lineaire/lp-forme-primale-exercices-solutions/\n",
    "\n",
    "Une entreprise fabrique trois types de piles : sèches de type 1 (PS1), sèches de type 2 (PS2) et à combustible (PC).\n",
    "\n",
    " Le processus de fabrication comporte trois étapes : l’assemblage, un test de qualité, un traitement d’isolation. \n",
    " \n",
    " Seules les piles satisfaisant le test de qualité sont soumises au traitement d’isolation. \n",
    " \n",
    " Les piles qui ratent le test de qualité sont mises au rebut. \n",
    " \n",
    " Au cours du mois prochain, l’entreprise disposera en temps-machine de 9000 heures pour l’assemblage, \n",
    " \n",
    " de 1200 heures pour les tests de qualité et de 8500 heures pour le traitement d’isolation. \n",
    "\n",
    "Le tableau suivant résume les informations pertinentes du procédé de fabrication : \"\"\"\n",
    "\n",
    "# import image module\n",
    "from IPython.display import Image\n",
    "  \n",
    "# get the image\n",
    "Image(url=\"lineaire30.webp\", width=800, height=300)\n",
    "\n",
    "\n",
    "\n",
    "\n"
   ]
  },
  {
   "cell_type": "code",
   "execution_count": 35,
   "metadata": {},
   "outputs": [],
   "source": [
    "# Quel est le nombre optimal de piles de chaque type à fabriquer le mois prochain \n",
    "# si l’entreprise est assurée de vendre toute sa production ?"
   ]
  },
  {
   "cell_type": "code",
   "execution_count": 36,
   "metadata": {},
   "outputs": [
    {
     "data": {
      "text/html": [
       "<img src=\"https://raw.githubusercontent.com/estellederrien/python-data-science/master/33.%20Recherche%20op%C3%A9rationnelle%20-%20refondation/Lin%C3%A9aire/01%20-%20PRODUCTION%20MIXE%20(PRODUCTS%20MIX%2C%20ALLOCATIONS)/PRODUCTION%20MIX%20AVEC%20GESTION%20PERTES/lineaire59.webp\" width=\"800\" height=\"300\"/>"
      ],
      "text/plain": [
       "<IPython.core.display.Image object>"
      ]
     },
     "execution_count": 36,
     "metadata": {},
     "output_type": "execute_result"
    }
   ],
   "source": [
    "\"\"\" Correction\n",
    "\n",
    "Posons X1, X2, X3 les trois variables représentant le nombre de piles valides de chaque types et X4, X5, X6 les trois variables représentant le nombre de piles non valides de chaque types.\n",
    "\n",
    "Le programme linéaire sous forme canonique est le suivant : \"\"\"\n",
    "\n",
    "# get the image\n",
    "Image(url=\"lineaire59.webp\", width=800, height=300)\n",
    "\n"
   ]
  },
  {
   "cell_type": "code",
   "execution_count": 37,
   "metadata": {},
   "outputs": [
    {
     "name": "stdout",
     "output_type": "stream",
     "text": [
      "Status: Optimal\n",
      "X1 = 302900.0\n",
      "X2 = 0.0\n",
      "X3 = 829400.0\n",
      "X4 = 9087.0\n",
      "X5 = 0.0\n",
      "X6 = 16588.0\n",
      "1242781.8\n"
     ]
    }
   ],
   "source": [
    "# Importer la librairie Pulp \n",
    "import pulp \n",
    "  \n",
    "# Créer un programme linéaire de MAXIMISATION\n",
    "model = pulp.LpProblem(\"Maximiser\", pulp.LpMaximize)\n",
    "  \n",
    "# Créer les variables du problème \n",
    "X1 = pulp.LpVariable('X1', lowBound=0, cat='Integer')\n",
    "X2 = pulp.LpVariable('X2', lowBound=0, cat='Integer')\n",
    "X3 = pulp.LpVariable('X3', lowBound=0, cat='Integer')\n",
    "X4 = pulp.LpVariable('X4', lowBound=0, cat='Integer')\n",
    "X5 = pulp.LpVariable('X5', lowBound=0, cat='Integer')\n",
    "X6 = pulp.LpVariable('X6', lowBound=0, cat='Integer')\n",
    "  \n",
    "# Function économique objectif\n",
    "model += 1.15 * X1 + 1 * X2 + 1.1 * X3 - 0.6 * X4 - 0.55 * X5 - 0.75 * X6, \"PROFIT\"\n",
    "\n",
    "# Contraintes\n",
    "model += 33 * X1 + 25 * X2 + 24 * X3 + 33 * X4 + 25 * X5 + 24 * X6 <= 32400000 # 9000 H CONVERTI EN SECONDES ON REDUIT TOUT A LA MEME UNITE\n",
    "model += 3 * X1 + 4.5 * X2 + 4 * X3 + 3 * X4 + 4.5 * X5 + 4 * X6 <= 4320000 # 1200 H CONVERTI EN SECONDES\n",
    "model += 33 * X1 + 25 * X2 + 24 * X3 + 33 * X4 + 25 * X5 + 24 * X6 <= 30600000\n",
    "model += -0.03 * X1 + 0 * X2 + 0 * X3 + 1 * X4 + 0 * X5 + 0 * X6 == 0\n",
    "model += 0 * X1 - 0.01 * X2 + 0 * X3 + 0 * X4 + 1 * X5 + 0 * X6 == 0\n",
    "model += 0 * X1 + 0 * X2 - 0.02 * X3 + 0 * X4 + 0 * X5 + 1* X6 == 0\n",
    "\n",
    "# Positivité des variables de décision\n",
    "model += X1  >= 0\n",
    "model += X2  >= 0\n",
    "model += X3  >= 0\n",
    "model += X4  >= 0\n",
    "model += X5  >= 0\n",
    "model += X6  >= 0\n",
    "\n",
    "  \n",
    "# Résoudre le problème\n",
    "model.solve()\n",
    "pulp.LpStatus[model.status]\n",
    "\n",
    "# On imprime les résultats \n",
    "\n",
    "print(\"Status:\", pulp.LpStatus[model.status])\n",
    "for v in model.variables():\n",
    "    print(v.name, \"=\", v.varValue)\n",
    "\n",
    "\n",
    "\n",
    "# Print our objective function value\n",
    "print (pulp.value(model.objective))\n"
   ]
  },
  {
   "cell_type": "code",
   "execution_count": 38,
   "metadata": {},
   "outputs": [
    {
     "data": {
      "text/html": [
       "<img src=\"https://raw.githubusercontent.com/estellederrien/python-data-science/master/33.%20Recherche%20op%C3%A9rationnelle%20-%20refondation/Lin%C3%A9aire/01%20-%20PRODUCTION%20MIXE%20(PRODUCTS%20MIX%2C%20ALLOCATIONS)/PRODUCTION%20MIX%20AVEC%20GESTION%20PERTES/lineaire60.webp\" width=\"800\" height=\"300\"/>"
      ],
      "text/plain": [
       "<IPython.core.display.Image object>"
      ]
     },
     "execution_count": 38,
     "metadata": {},
     "output_type": "execute_result"
    }
   ],
   "source": [
    "\"\"\" Ce qui donne comme solution (419417.476, 0, 741176.471) \n",
    "pour les piles valides et pour fonction objectif Z=1278957,05. \n",
    "La solution ne donnant pas de résultat en nombre entier, \n",
    "il est possible de tronquer la partie flottante (attention, ce ne sera plus une solution optimale !). \"\"\"\n",
    "\n",
    "Image(url=\"lineaire60.webp\", width=800, height=300)"
   ]
  }
 ],
 "metadata": {
  "kernelspec": {
   "display_name": "Python 3.8.5 64-bit",
   "language": "python",
   "name": "python3"
  },
  "language_info": {
   "codemirror_mode": {
    "name": "ipython",
    "version": 3
   },
   "file_extension": ".py",
   "mimetype": "text/x-python",
   "name": "python",
   "nbconvert_exporter": "python",
   "pygments_lexer": "ipython3",
   "version": "3.8.5"
  },
  "orig_nbformat": 4,
  "vscode": {
   "interpreter": {
    "hash": "6bd0648e655c19027e4f56e697a7cd4ab7921013b5d2695c8854e14fd1f5ba73"
   }
  }
 },
 "nbformat": 4,
 "nbformat_minor": 2
}
