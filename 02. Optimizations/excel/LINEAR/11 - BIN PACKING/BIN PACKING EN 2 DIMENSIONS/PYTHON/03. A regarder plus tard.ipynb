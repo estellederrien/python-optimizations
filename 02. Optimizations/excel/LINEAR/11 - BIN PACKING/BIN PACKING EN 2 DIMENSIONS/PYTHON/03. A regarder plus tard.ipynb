{
 "cells": [
  {
   "attachments": {},
   "cell_type": "markdown",
   "metadata": {},
   "source": [
    "\n",
    "https://stackoverflow.com/questions/43982864/allocating-production-jobs-for-films-for-multiple-film-manufacturing-machines-wi\n",
    "I am trying to solve a problem which is somewhat similar to the bin packing problem. In this problem I have to assign jobs to film manufacturing machines where the machines have different film widths. All the machines must have the same amount of useage. Each roll has a specific width. Multiple jobs can be completed by the machine was long as the sum of all the job widths are less than the machine film width.\n",
    "\n",
    "I have modeled it as a bin packing problem. Because I needed to make sure that all the machines have the same number of rolls I have the bins as a 2-d array where each type has multiple bins. In my formuation c is the capacity of the machine, x is a binary variable which specifies if a bin is being used, y is a binary variable which specifies if a roll is assigned to a bin. The overall objective is to minimize the waste generated. "
   ]
  },
  {
   "cell_type": "code",
   "execution_count": null,
   "metadata": {},
   "outputs": [],
   "source": [
    "from pulp import *\n",
    "prob = LpProblem(\"Production Problem\",LpMinimize)\n",
    "capacity = [1350, 2100]\n",
    "rolls = [970, 1050, 970, 1100, 1050, 500, 500, 500, 1050, 1350,1200, 370, 370]\n",
    "\n",
    "I = range(2) # machine film width\n",
    "J = range(10) # bins for each machine film width \n",
    "K = range(len(rolls)) # number of rolls in total \n",
    "\n",
    "# variable to determine wether a particular bin is used\n",
    "x = LpVariable.dicts(name = \"Bin\", indexs = ((i,j) for i in I for j in J), lowBound = 0, upBound = 1, cat = 'Integer')\n",
    "# variable to determine if roll is assigned to a particular bin \n",
    "y = LpVariable.dicts(name = \"RollBin\", indexs = ((i,j, k) for i in I for j in J for k in K), lowBound = 0, upBound = 1, cat = 'Integer')\n",
    "w = LpVariable(name = 'wastage', lowBound=0)\n",
    "for j in J:\n",
    "    for i in I:\n",
    "        firstPart = capacity[i] * x[(i,j)]\n",
    "        secondPart = lpSum(rolls[k] * y[(i,j,k)] for k in K)\n",
    "        w += firstPart - secondPart\n",
    "prob+=w\n",
    "#prob += lpSum(capacity[i] * x[(i,j)] - lpSum(rolls[k]*y[(i,j,k)] for k in K) for i in I for j in J)\n",
    "\n",
    "for k in K:\n",
    "    prob += lpSum([y[(i,j,k)] for i in I for j in J]) == 1\n",
    "\n",
    "for k in K:\n",
    "    prob += lpSum([rolls[k] * y[(i,j,k)] for i in I for j in J]) <= lpSum([capacity[i] * x[(i,j)] for i in I for j in J])\n",
    "\n",
    "for i in I[:-1]:\n",
    "    for j in J:\n",
    "        prob += x[i,j] == x[i+1,j]\n",
    "\n",
    "status = prob.solve()\n",
    "print(prob)\n",
    "for v in prob.variables():\n",
    "    if v.varValue > 0:\n",
    "        print(v.name, \"=\", v.varValue)\n",
    "print(value(prob.objective))\n",
    "print(LpStatus[status])"
   ]
  }
 ],
 "metadata": {
  "language_info": {
   "name": "python"
  },
  "orig_nbformat": 4
 },
 "nbformat": 4,
 "nbformat_minor": 2
}
