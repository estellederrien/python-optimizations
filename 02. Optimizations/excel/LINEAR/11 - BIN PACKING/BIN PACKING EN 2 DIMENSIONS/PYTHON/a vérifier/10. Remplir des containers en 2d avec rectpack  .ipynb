{
 "cells": [
  {
   "attachments": {},
   "cell_type": "markdown",
   "metadata": {},
   "source": [
    "\"\"\" \n",
    "IL plante !\n",
    "\n",
    "Utiliser la lib rectpack, pour optimiser le remplissage de containers en 2d\n",
    "\n",
    "Lien : https://github.com/secnot/rectpack\n",
    "\n",
    "Actuellement :raise IndexError(\"Index out of range\")\n",
    "\n",
    "\"\"\"\n"
   ]
  },
  {
   "cell_type": "code",
   "execution_count": 8,
   "metadata": {},
   "outputs": [
    {
     "ename": "IndexError",
     "evalue": "Index out of range",
     "output_type": "error",
     "traceback": [
      "\u001b[1;31m---------------------------------------------------------------------------\u001b[0m",
      "\u001b[1;31mIndexError\u001b[0m                                Traceback (most recent call last)",
      "Cell \u001b[1;32mIn[8], line 32\u001b[0m\n\u001b[0;32m     29\u001b[0m nrect \u001b[39m=\u001b[39m \u001b[39mlen\u001b[39m(packer[\u001b[39m0\u001b[39m])\n\u001b[0;32m     31\u001b[0m \u001b[39m# Second bin first rectangle\u001b[39;00m\n\u001b[1;32m---> 32\u001b[0m rect \u001b[39m=\u001b[39m packer[\u001b[39m1\u001b[39;49m][\u001b[39m0\u001b[39m]\n\u001b[0;32m     34\u001b[0m \u001b[39m# rect is a Rectangle object\u001b[39;00m\n\u001b[0;32m     35\u001b[0m x \u001b[39m=\u001b[39m rect\u001b[39m.\u001b[39mx \u001b[39m# rectangle bottom-left x coordinate\u001b[39;00m\n",
      "File \u001b[1;32mc:\\Users\\secretgirl\\AppData\\Local\\Programs\\Python\\Python38\\lib\\site-packages\\rectpack\\packer.py:220\u001b[0m, in \u001b[0;36mPackerOnline.__getitem__\u001b[1;34m(self, key)\u001b[0m\n\u001b[0;32m    217\u001b[0m     key \u001b[39m+\u001b[39m\u001b[39m=\u001b[39m size\n\u001b[0;32m    219\u001b[0m \u001b[39mif\u001b[39;00m \u001b[39mnot\u001b[39;00m \u001b[39m0\u001b[39m \u001b[39m<\u001b[39m\u001b[39m=\u001b[39m key \u001b[39m<\u001b[39m size:\n\u001b[1;32m--> 220\u001b[0m     \u001b[39mraise\u001b[39;00m \u001b[39mIndexError\u001b[39;00m(\u001b[39m\"\u001b[39m\u001b[39mIndex out of range\u001b[39m\u001b[39m\"\u001b[39m)\n\u001b[0;32m    222\u001b[0m \u001b[39mif\u001b[39;00m key \u001b[39m<\u001b[39m \u001b[39mlen\u001b[39m(\u001b[39mself\u001b[39m\u001b[39m.\u001b[39m_closed_bins):\n\u001b[0;32m    223\u001b[0m     \u001b[39mreturn\u001b[39;00m \u001b[39mself\u001b[39m\u001b[39m.\u001b[39m_closed_bins[key]\n",
      "\u001b[1;31mIndexError\u001b[0m: Index out of range"
     ]
    }
   ],
   "source": [
    "from rectpack import newPacker\n",
    "\n",
    "rectangles = [(100, 30), (40, 60), (30, 30),(70, 70), (100, 50), (30, 30)]\n",
    "bins = [(300, 450), (80, 40), (200, 150)]\n",
    "\n",
    "packer = newPacker()\n",
    "\n",
    "# Add the rectangles to packing queue\n",
    "for r in rectangles:\n",
    "\tpacker.add_rect(*r)\n",
    "\n",
    "# Add the bins where the rectangles will be placed\n",
    "for b in bins:\n",
    "\tpacker.add_bin(*b)\n",
    "\n",
    "# Start packing\n",
    "packer.pack()\n",
    "\n",
    "# Obtain number of bins used for packing\n",
    "nbins = len(packer)\n",
    "\n",
    "# Index first bin\n",
    "abin = packer[0]\n",
    "\n",
    "# Bin dimmensions (bins can be reordered during packing)\n",
    "width, height = abin.width, abin.height\n",
    "\n",
    "# Number of rectangles packed into first bin\n",
    "nrect = len(packer[0])\n",
    "\n",
    "# Second bin first rectangle\n",
    "rect = packer[1][0]\n",
    "\n",
    "# rect is a Rectangle object\n",
    "x = rect.x # rectangle bottom-left x coordinate\n",
    "y = rect.y # rectangle bottom-left y coordinate\n",
    "w = rect.width\n",
    "h = rect.height"
   ]
  }
 ],
 "metadata": {
  "kernelspec": {
   "display_name": "Python 3",
   "language": "python",
   "name": "python3"
  },
  "language_info": {
   "codemirror_mode": {
    "name": "ipython",
    "version": 3
   },
   "file_extension": ".py",
   "mimetype": "text/x-python",
   "name": "python",
   "nbconvert_exporter": "python",
   "pygments_lexer": "ipython3",
   "version": "3.8.0 (tags/v3.8.0:fa919fd, Oct 14 2019, 19:37:50) [MSC v.1916 64 bit (AMD64)]"
  },
  "orig_nbformat": 4,
  "vscode": {
   "interpreter": {
    "hash": "edb60928ae049011e12e2dc43646b5515922153b602d9d974a622a5d486bbfcc"
   }
  }
 },
 "nbformat": 4,
 "nbformat_minor": 2
}
