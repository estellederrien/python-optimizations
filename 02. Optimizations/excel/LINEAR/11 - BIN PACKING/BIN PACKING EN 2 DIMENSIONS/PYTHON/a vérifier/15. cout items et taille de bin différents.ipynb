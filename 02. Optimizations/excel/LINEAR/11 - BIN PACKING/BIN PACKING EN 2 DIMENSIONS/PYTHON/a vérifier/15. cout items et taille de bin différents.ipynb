{
 "cells": [
  {
   "attachments": {},
   "cell_type": "markdown",
   "metadata": {},
   "source": [
    "# Source : \n",
    " https://stackoverflow.com/questions/42450533/bin-packing-python-query-with-variable-bin-cost-and-sizes\n",
    "\n",
    " https://www.py4u.net/discuss/203834"
   ]
  },
  {
   "cell_type": "code",
   "execution_count": 2,
   "metadata": {},
   "outputs": [
    {
     "name": "stdout",
     "output_type": "stream",
     "text": [
      "Bins used: 2.0\n",
      "Item a is packed in bin 0.\n",
      "Item b is packed in bin 0.\n",
      "Item c is packed in bin 2.\n"
     ]
    }
   ],
   "source": [
    "\n",
    "\n",
    "from pulp import *\n",
    "\n",
    "items = [(\"a\", 5), (\"b\", 6), (\"c\", 7)]\n",
    "\n",
    "itemCount = len(items)\n",
    "maxBins = 3\n",
    "binCapacity = [11, 15, 10]\n",
    "binCost = [10, 30, 20]\n",
    "\n",
    "y = pulp.LpVariable.dicts('BinUsed', range(maxBins), lowBound = 0, upBound = 1,  cat='Integer')\n",
    "possible_ItemInBin = [(itemTuple[0], binNum) for itemTuple in items for binNum in range(maxBins)]\n",
    "x = pulp.LpVariable.dicts('itemInBin', possible_ItemInBin, lowBound = 0, upBound = 1,  cat='Integer')\n",
    "\n",
    "# Model formulation\n",
    "prob = LpProblem(\"Bin Packing Problem\", LpMinimize)\n",
    "\n",
    "# Objective\n",
    "prob += lpSum([binCost[i] * y[i] for i in range(maxBins)])\n",
    "\n",
    "# Constraints\n",
    "for j in items:\n",
    "    prob += lpSum([x[(j[0], i)] for i in range(maxBins)]) == 1\n",
    "for i in range(maxBins):\n",
    "    prob += lpSum([items[j][1] * x[(items[j][0], i)] for j in range(itemCount)]) <= binCapacity[i]*y[i]\n",
    "prob.solve()\n",
    "\n",
    "print(\"Bins used: \" + str(sum(([y[i].value() for i in range(maxBins)]))))\n",
    "for i in x.keys():\n",
    "    if x[i].value() == 1:\n",
    "        print(\"Item {} is packed in bin {}.\".format(*i))"
   ]
  }
 ],
 "metadata": {
  "kernelspec": {
   "display_name": "Python 3",
   "language": "python",
   "name": "python3"
  },
  "language_info": {
   "codemirror_mode": {
    "name": "ipython",
    "version": 3
   },
   "file_extension": ".py",
   "mimetype": "text/x-python",
   "name": "python",
   "nbconvert_exporter": "python",
   "pygments_lexer": "ipython3",
   "version": "3.8.0 (tags/v3.8.0:fa919fd, Oct 14 2019, 19:37:50) [MSC v.1916 64 bit (AMD64)]"
  },
  "orig_nbformat": 4,
  "vscode": {
   "interpreter": {
    "hash": "edb60928ae049011e12e2dc43646b5515922153b602d9d974a622a5d486bbfcc"
   }
  }
 },
 "nbformat": 4,
 "nbformat_minor": 2
}
