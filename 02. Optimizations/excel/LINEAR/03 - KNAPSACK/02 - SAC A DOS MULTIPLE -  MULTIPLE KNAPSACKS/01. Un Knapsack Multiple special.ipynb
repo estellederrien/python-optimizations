{
 "cells": [
  {
   "attachments": {},
   "cell_type": "markdown",
   "metadata": {},
   "source": [
    "# Sacs à dos multiple (Spécial)\n",
    "\n",
    "Objectif : Grouper des objets de la même longueur dans le moins de sacs possibles\n",
    "\n",
    "Lien : https://stackoverflow.com/questions/73111293/how-to-apply-a-binary-constraint-on-a-binary-variable-in-pulp"
   ]
  },
  {
   "cell_type": "code",
   "execution_count": 3,
   "metadata": {},
   "outputs": [
    {
     "name": "stdout",
     "output_type": "stream",
     "text": [
      "is_bin_used_0 1.0\n",
      "is_bin_used_1 1.0\n",
      "is_item_in_bin_(0,_1) 1.0\n",
      "is_item_in_bin_(1,_1) 1.0\n",
      "is_item_in_bin_(2,_0) 1.0\n",
      "is_item_in_bin_(3,_0) 1.0\n"
     ]
    }
   ],
   "source": [
    "import pulp\n",
    "from itertools import product\n",
    "import pandas as pd\n",
    "\n",
    "# DataFrame of item, weight, and length\n",
    "df_updated = pd.DataFrame([['item1', 10, 'A'], ['item2', 15, 'A'], ['item3',15, 'B'], ['item4',15, 'C']], columns = ['itemname', 'weight', 'length'])\n",
    "\n",
    "# Max bin to use\n",
    "max_bins = 2\n",
    "\n",
    "# Max weightage per bin\n",
    "max_weight = 30\n",
    "\n",
    "problem = pulp.LpProblem(\"Grouping_lengths\", pulp.LpMinimize)\n",
    "\n",
    "# Variable to check, if we are using the bin or not\n",
    "bin_used = pulp.LpVariable.dicts('is_bin_used', range(max_bins), cat='Binary')\n",
    "\n",
    "# Possible combinations to put the item in the bin\n",
    "possible_item_in_bin = [(item_index, bin_num) for item_index, bin_num in product(df_updated.index, range(max_bins))]\n",
    "item_in_bin = pulp.LpVariable.dicts('is_item_in_bin', possible_item_in_bin, cat = 'Binary')\n",
    "\n",
    "# Only one item in each bin\n",
    "for item_index in df_updated.index:\n",
    "    problem += pulp.lpSum([item_in_bin[item_index, bin_index] for bin_index in range(max_bins)]) == 1, f\"Ensure that item {item_index} is only in one bin\"\n",
    "\n",
    "# Sum of quantity grouped in each bin must be less than max weight\n",
    "for bin_index in range(max_bins):\n",
    "    problem += pulp.lpSum(\n",
    "            [item_in_bin[item_index, bin_index] * df_updated.loc[item_index, 'weight'] for item_index in df_updated.index]\n",
    "        ) <= max_weight* bin_used[bin_index], f\"Sum of items in bin {bin_index} should not exceed max weight {max_weight}\"\n",
    "\n",
    "\n",
    " # Length Constraints\n",
    "lengths = list(df_updated.length.unique())\n",
    "for length in lengths:\n",
    "    items_n = df_updated.index[df_updated['length'] == length].tolist()  # get items with given length\n",
    "    if len(items_n) > 1:  # skip items with unique length\n",
    "        for bin in range(max_bins - 1):  # for each bin except the last one because the last can be deduced\n",
    "            for item in range(1, len(items_n)):  # set other item assignment equal to the first one.\n",
    "                problem += item_in_bin[0, bin] == item_in_bin[item, bin]\n",
    "\n",
    "# Objective function to minimize bins used\n",
    "problem += pulp.lpSum(bin_used[bin_index] for bin_index in range(max_bins)), \"Objective: Minimize Bins Used\"\n",
    "\n",
    "problem.solve(pulp.PULP_CBC_CMD(msg = False))\n",
    "\n",
    "for val in problem.variables():\n",
    "    if val.varValue == 1:\n",
    "        print(val.name, val.varValue)"
   ]
  }
 ],
 "metadata": {
  "kernelspec": {
   "display_name": "Python 3",
   "language": "python",
   "name": "python3"
  },
  "language_info": {
   "codemirror_mode": {
    "name": "ipython",
    "version": 3
   },
   "file_extension": ".py",
   "mimetype": "text/x-python",
   "name": "python",
   "nbconvert_exporter": "python",
   "pygments_lexer": "ipython3",
   "version": "3.8.0"
  },
  "orig_nbformat": 4
 },
 "nbformat": 4,
 "nbformat_minor": 2
}
