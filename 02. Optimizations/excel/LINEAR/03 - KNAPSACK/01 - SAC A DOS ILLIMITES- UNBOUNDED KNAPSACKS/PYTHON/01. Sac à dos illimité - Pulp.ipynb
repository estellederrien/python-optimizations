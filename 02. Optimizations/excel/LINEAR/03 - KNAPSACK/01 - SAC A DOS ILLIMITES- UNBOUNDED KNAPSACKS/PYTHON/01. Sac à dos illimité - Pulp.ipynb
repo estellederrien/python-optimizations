{
 "cells": [
  {
   "attachments": {},
   "cell_type": "markdown",
   "metadata": {},
   "source": [
    "# Sac à dos illimité\n",
    "\n",
    "Intérêt : Maximiser la valeur de ce que l'on transporte.\n",
    "\n",
    "Description :On peut prendre autant de fois le même objet que l'on veut, lors de l'optimisation.\n",
    "\n",
    "source https://stackoverflow.com/questions/55193756/select-the-same-item-several-times-in-the-knapsack-problem-pulp"
   ]
  },
  {
   "attachments": {},
   "cell_type": "markdown",
   "metadata": {},
   "source": [
    "Une armée a une budget de 1000, quels objets choisir ?\n",
    "\n",
    "------\n",
    "You need to make two very small changes to your code. Firstly you need to remove the upper \n",
    "bound you have set on your x variables. At the moments you have binary variables x[i] which can be only one or zero.\n",
    "\n",
    "Secondly you need to add in the constraints which effectively set a custom upper \n",
    "bound for each of the items. Working code and resulting solution below \n",
    "- as you can see multiple wrenches (the highest v/w ratio) \n",
    "are chosen, with a single hammer to fill up the small amount of space left. \n",
    "\n"
   ]
  },
  {
   "cell_type": "code",
   "execution_count": 4,
   "metadata": {},
   "outputs": [
    {
     "name": "stdout",
     "output_type": "stream",
     "text": [
      "Status = Optimal\n",
      "x_hammer = 1.000000\n",
      "x_screwdriver = 0.000000\n",
      "x_towel = 0.000000\n",
      "x_wrench = 47.000000\n",
      "Objective = 476.000000\n",
      "Total weight = 1000.000000\n"
     ]
    }
   ],
   "source": [
    "\n",
    "from pulp import *\n",
    "v = {'hammer':6, 'wrench':10, 'screwdriver':8, 'towel':40}\n",
    "w = {'hammer':13, 'wrench':21, 'screwdriver':17, 'towel':100}\n",
    "q = {'hammer':1000, 'wrench':400, 'screwdriver':500, 'towel':150}\n",
    "limit = 1000\n",
    "items = list(sorted(v.keys()))\n",
    "\n",
    "# Create model\n",
    "m = LpProblem(\"Knapsack\", LpMaximize)\n",
    "\n",
    "# Variables\n",
    "x = LpVariable.dicts('x', items, lowBound=0, cat=LpInteger)\n",
    "\n",
    "# Objective\n",
    "m += sum(v[i]*x[i] for i in items)\n",
    "\n",
    "# Constraint\n",
    "m += sum(w[i]*x[i] for i in items) <= limit\n",
    "\n",
    "# Quantity of each constraint:\n",
    "for i in items:\n",
    "    m += x[i] <= q[i]\n",
    "\n",
    "\n",
    "# Optimize\n",
    "m.solve()\n",
    "\n",
    "# Print the status of the solved LP\n",
    "print(\"Status = %s\" % LpStatus[m.status])\n",
    "\n",
    "# Print the value of the variables at the optimum\n",
    "for i in items:\n",
    "    print(\"%s = %f\" % (x[i].name, x[i].varValue))\n",
    "\n",
    "# Print the value of the objective\n",
    "print(\"Objective = %f\" % value(m.objective))\n",
    "print(\"Total weight = %f\" % sum([x[i].varValue*w[i] for i in items]))"
   ]
  }
 ],
 "metadata": {
  "kernelspec": {
   "display_name": "Python 3",
   "language": "python",
   "name": "python3"
  },
  "language_info": {
   "codemirror_mode": {
    "name": "ipython",
    "version": 3
   },
   "file_extension": ".py",
   "mimetype": "text/x-python",
   "name": "python",
   "nbconvert_exporter": "python",
   "pygments_lexer": "ipython3",
   "version": "3.8.0"
  },
  "orig_nbformat": 4
 },
 "nbformat": 4,
 "nbformat_minor": 2
}
