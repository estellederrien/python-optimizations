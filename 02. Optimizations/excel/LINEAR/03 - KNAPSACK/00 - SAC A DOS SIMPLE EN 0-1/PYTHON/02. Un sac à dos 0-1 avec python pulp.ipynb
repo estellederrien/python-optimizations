{
 "cells": [
  {
   "attachments": {},
   "cell_type": "markdown",
   "metadata": {},
   "source": [
    "# Sac à dos 0-1 ( Knapsack)\n",
    "\n",
    "Intérêt : Maximiser la valeur de ce que l'on transporte.\n",
    "\n",
    "Description :On ne peut pendre qu'une seule fois le même objet pour maximiser la valeur du sac."
   ]
  },
  {
   "cell_type": "code",
   "execution_count": 2,
   "metadata": {},
   "outputs": [
    {
     "name": "stdout",
     "output_type": "stream",
     "text": [
      "Solved in 0.13293242454528809 seconds.\n",
      "Status: Optimal\n",
      "item_0 = 0.0\n",
      "item_1 = 1.0\n",
      "item_10 = 1.0\n",
      "item_11 = 1.0\n",
      "item_2 = 0.0\n",
      "item_3 = 0.0\n",
      "item_4 = 1.0\n",
      "item_5 = 1.0\n",
      "item_6 = 1.0\n",
      "item_7 = 1.0\n",
      "item_8 = 0.0\n",
      "item_9 = 0.0\n",
      "Total profit =  290.0\n",
      "Used items:\n",
      "1 (30, 6)\n",
      "4 (10, 2)\n",
      "5 (40, 5)\n",
      "6 (100, 7)\n",
      "7 (60, 9)\n",
      "10 (30, 1)\n",
      "11 (20, 2)\n",
      "Profit: 290 - Used capacity: 32 (/ 32)\n"
     ]
    },
    {
     "name": "stderr",
     "output_type": "stream",
     "text": [
      "c:\\Users\\secretgirl\\AppData\\Local\\Programs\\Python\\Python38\\lib\\site-packages\\pulp\\pulp.py:1195: UserWarning: Spaces are not permitted in the name. Converted to '_'\n",
      "  warnings.warn(\"Spaces are not permitted in the name. Converted to '_'\")\n"
     ]
    }
   ],
   "source": [
    "# Example of use of the Pulp libray for 15-382\n",
    "# Modeling and solution of a simple knapsack problem\n",
    "# Gianni A. Di Caro \n",
    "#\n",
    "from pulp import *\n",
    "import time\n",
    "\n",
    "# https://pythonhosted.org/PuLP/pulp.html\n",
    "\n",
    "#\n",
    "# A list of tuples of items (value, weight)\n",
    "#\n",
    "items = [(20,5), (30,6), (10,7), (90,32), (10,2), (40,5), (100,7), (60,9), (70,12), (50,11), (30,1), (20,2)]\n",
    "\n",
    "# number of items\n",
    "itemCount = len(items)\n",
    "\n",
    "# Knapsack max weight capacity\n",
    "binCapacity = 32\n",
    "\n",
    "\n",
    "# Decision variables (array), x[i] gets 1 when item i is included in the solution\n",
    "x = pulp.LpVariable.dicts('item', range(itemCount),\n",
    "                            lowBound = 0,\n",
    "                            upBound = 1,\n",
    "                            cat = 'Integer')\n",
    "\n",
    "# Initialize the problem and specify the type\n",
    "problem = LpProblem(\"Knapsack Problem\", LpMaximize)\n",
    "\n",
    "# Add the objective function\n",
    "problem += lpSum([ x[i] * (items[i])[0] for i in range(itemCount) ]), \"Objective: Maximize profit\"\n",
    "\n",
    "# Capacity constraint: the sum of the weights must be less than the capacity\n",
    "problem += lpSum([ x[i] * (items[i])[1] for i in range(itemCount) ]) <= binCapacity, \"Constraint: Max capacity\"\n",
    "\n",
    "#print problem.constraints\n",
    "\n",
    "# Write the model to disk, not necessary\n",
    "problem.writeLP(\"Knapsack.lp\")\n",
    "\n",
    "# Solve the optimization problem\n",
    "start_time = time.time()\n",
    "problem.solve()\n",
    "print(\"Solved in %s seconds.\" % (time.time() - start_time))\n",
    "\n",
    "# Was the problem solved to optimality?\n",
    "print(\"Status:\", LpStatus[problem.status])\n",
    "\n",
    "# Each of the variables is printed with it's resolved optimum value\n",
    "for v in problem.variables():\n",
    "    print(v.name, \"=\", v.varValue)\n",
    "\n",
    "# The optimised objective function value is printed to the screen\n",
    "print(\"Total profit = \", value(problem.objective))\n",
    "\n",
    "# Some more info about the solution (only variables / items that are selected)\n",
    "used_cap = 0.0\n",
    "print (\"Used items:\")\n",
    "for i in range(itemCount):\n",
    "    if x[i].value() == 1:\n",
    "        print (i, items[i])\n",
    "        used_cap += items[i][1]\n",
    "print (\"Profit: %d - Used capacity: %d (/ %d)\" % (value(problem.objective), used_cap, binCapacity))\n",
    "\n"
   ]
  }
 ],
 "metadata": {
  "kernelspec": {
   "display_name": "Python 3",
   "language": "python",
   "name": "python3"
  },
  "language_info": {
   "codemirror_mode": {
    "name": "ipython",
    "version": 3
   },
   "file_extension": ".py",
   "mimetype": "text/x-python",
   "name": "python",
   "nbconvert_exporter": "python",
   "pygments_lexer": "ipython3",
   "version": "3.8.0"
  },
  "orig_nbformat": 4
 },
 "nbformat": 4,
 "nbformat_minor": 2
}
