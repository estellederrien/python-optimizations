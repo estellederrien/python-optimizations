{
 "cells": [
  {
   "attachments": {},
   "cell_type": "markdown",
   "metadata": {},
   "source": [
    "# Sac à dos 0-1 ( Knapsack)\n",
    "\n",
    "Intérêt : Maximiser la valeur de ce que l'on transporte.\n",
    "\n",
    "Description :On ne peut pendre qu'une seule fois le même objet pour maximiser la valeur du sac."
   ]
  },
  {
   "cell_type": "code",
   "execution_count": 2,
   "metadata": {},
   "outputs": [
    {
     "name": "stdout",
     "output_type": "stream",
     "text": [
      "Status = Optimal\n",
      "x_hammer = 1.000000\n",
      "x_screwdriver = 1.000000\n",
      "x_towel = 1.000000\n",
      "x_wrench = 0.000000\n",
      "Objective = 25.000000\n"
     ]
    }
   ],
   "source": [
    "# knapsack-pulp.py\n",
    "\n",
    "from pulp import *\n",
    "\n",
    "v = {'hammer':8, 'wrench':3, 'screwdriver':6, 'towel':11}\n",
    "w = {'hammer':5, 'wrench':7, 'screwdriver':4, 'towel':3}\n",
    "limit = 14\n",
    "items = list(sorted(v.keys()))\n",
    "\n",
    "# Create model\n",
    "m = LpProblem(\"Knapsack\", LpMaximize)\n",
    "\n",
    "# Variables\n",
    "x = LpVariable.dicts('x', items, lowBound=0, upBound=1, cat=LpInteger)\n",
    "\n",
    "# Objective\n",
    "m += sum(v[i]*x[i] for i in items)\n",
    "\n",
    "# Constraint\n",
    "m += sum(w[i]*x[i] for i in items) <= limit\n",
    "\n",
    "# Optimize\n",
    "m.solve()\n",
    "\n",
    "# Print the status of the solved LP\n",
    "print(\"Status = %s\" % LpStatus[m.status])\n",
    "\n",
    "# Print the value of the variables at the optimum\n",
    "for i in items:\n",
    "    print(\"%s = %f\" % (x[i].name, x[i].varValue))\n",
    "\n",
    "# Print the value of the objective\n",
    "print(\"Objective = %f\" % value(m.objective))\n"
   ]
  }
 ],
 "metadata": {
  "kernelspec": {
   "display_name": "Python 3",
   "language": "python",
   "name": "python3"
  },
  "language_info": {
   "codemirror_mode": {
    "name": "ipython",
    "version": 3
   },
   "file_extension": ".py",
   "mimetype": "text/x-python",
   "name": "python",
   "nbconvert_exporter": "python",
   "pygments_lexer": "ipython3",
   "version": "3.8.0"
  },
  "orig_nbformat": 4
 },
 "nbformat": 4,
 "nbformat_minor": 2
}
