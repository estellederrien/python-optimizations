{
 "cells": [
  {
   "cell_type": "code",
   "execution_count": null,
   "metadata": {},
   "outputs": [],
   "source": [
    "import pulp as op\n",
    "\n",
    "#============================================================================#\n",
    "#Ensure to credit the original developer:\n",
    "#Platform: https://github.com/ktafakkori\n",
    "#Repository: Combinatorial-Optimization-in-Python\n",
    "#Developer: © Keivan Tafakkori \n",
    "#Year: 2022\n",
    "#Month: August\n",
    "#Day: 30\n",
    "#Source: https://github.com/ktafakkori/Combinatorial-Optimization-in-Python\n",
    "#============================================================================#\n",
    "\n",
    "def model(J,w,W,p,dispmodel=\"y\",solve=\"y\", dispresult=\"y\"):\n",
    "    m = op.LpProblem(\"KnapsackProblem\", op.LpMaximize)\n",
    "    x = {j: op.LpVariable(f\"x{j}\", 0,1, op.LpBinary) for j in J}\n",
    "    objs = {0: sum(p[j]*x[j] for j in J)} \n",
    "    cons = {0: {0: (sum(w[j]*x[j] for j in J) <= W, \"eq1\")}}\n",
    "    m += objs[0]\n",
    "    for keys1 in cons: \n",
    "        for keys2 in cons[keys1]: m += cons[keys1][keys2]\n",
    "        if dispmodel==\"y\":\n",
    "            print(\"Model --- \\n\",m)\n",
    "        if solve == \"y\":\n",
    "            result = m.solve(op.PULP_CBC_CMD(timeLimit=None))\n",
    "            print(\"Status --- \\n\", op.LpStatus[result])\n",
    "            if dispresult == \"y\" and op.LpStatus[result] =='Optimal':\n",
    "                print(\"Objective --- \\n\", op.value(m.objective))\n",
    "                print(\"Decision --- \\n\", [(variables.name,variables.varValue) for variables in m.variables() if variables.varValue!=0])\n",
    "                print(\"Slack --- \\n\", [(name,constraint.slack) for name, constraint in m.constraints.items() if constraint.slack!=0])\n",
    "    return m\n",
    "\n",
    "J = range(7) #Set of the items\n",
    "w = [40,50,30,10,10,40,30] #Weight of the items\n",
    "W = 100 #Capacity of the knapsack\n",
    "p = [40,60,10,10,3 ,20,60] #Value of the items\n",
    "\n",
    "m = model(J,w,W,p) #Model and sovle the problem"
   ]
  }
 ],
 "metadata": {
  "language_info": {
   "name": "python"
  },
  "orig_nbformat": 4
 },
 "nbformat": 4,
 "nbformat_minor": 2
}
