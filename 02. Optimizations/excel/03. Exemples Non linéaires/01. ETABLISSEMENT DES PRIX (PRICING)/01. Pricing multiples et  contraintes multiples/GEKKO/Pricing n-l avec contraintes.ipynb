{
 "cells": [
  {
   "cell_type": "code",
   "execution_count": 7,
   "metadata": {},
   "outputs": [
    {
     "data": {
      "text/html": [
       "<img src=\"lin.jpg\" width=\"300\" height=\"300\"/>"
      ],
      "text/plain": [
       "<IPython.core.display.Image object>"
      ]
     },
     "execution_count": 7,
     "metadata": {},
     "output_type": "execute_result"
    }
   ],
   "source": [
    "\"\"\" Problème original non linéaire dérivé de Bernard_W_._Taylor_Introduction_to_Management_Science_11th_2013\n",
    "\n",
    "On vends 2 types de tshirts\n",
    "On a 3 contraintes différents.\n",
    "Plus le prix est cher, moins il y a de ventes, \n",
    "et on veut prendre ce fait en compte dans notre fonction objectif de maximisation de profit !\n",
    "\n",
    "\n",
    "            Tissu  Tempsdécoupe Tempsfinition\n",
    "Tshirt 1 :  2       3.6         7.2\n",
    "Tshirt 2 :  2.7     2.9         8.5\n",
    "\n",
    "Contraintes:\n",
    "Tissus:\t6000\n",
    "Temps de découpe:\t8500\n",
    "Temps de finition:\t15000\n",
    "\n",
    "Le service commercial a déterminé que la relation linéaire entre le prix et le volume de vente\n",
    "est respectivement de : \n",
    "x1 = 1500 - 24.6p1\n",
    "x2 = 2700 - 63.8p2\n",
    "ou p1 est le prix de tshirt 1 et p2 est le prix de tshirt 2.\n",
    "\n",
    "Exemple de relation linéaire de ce type, on voit que plus le prix augmente, moins le volume de vente est élevé, ce qui est normal : \n",
    " \"\"\"\n",
    "from IPython.display import Image\n",
    "Image(url=\"lin.jpg\", width=300, height=300)\n",
    "\n",
    "\n"
   ]
  },
  {
   "cell_type": "code",
   "execution_count": 8,
   "metadata": {},
   "outputs": [
    {
     "data": {
      "text/html": [
       "<img src=\"nonlin.jpg\" width=\"300\" height=\"300\"/>"
      ],
      "text/plain": [
       "<IPython.core.display.Image object>"
      ]
     },
     "execution_count": 8,
     "metadata": {},
     "output_type": "execute_result"
    }
   ],
   "source": [
    "# Ensuite, le but a être de substituer x1 et x2 dans notre fonction objectif  :\n",
    "# Notre fonction objectif Z est de maximiser le profit , elle est habituelle dans les solveurs.\n",
    "# (p1 - 12) x1 + (p2 - 9) x2\n",
    "# p1 est le prix, 12 est le cout unitaire de production du t shirt 1, x1 est à substituer par ce qu'on a vu plus haut...\n",
    "# Et ainsi de suite...\n",
    "\n",
    "# Vu que cela provoque des élevations au carré, elle aura donc un aspect en courbe de ce type ( Ne pas regarder les valeurs): \n",
    "Image(url=\"nonlin.jpg\", width=300, height=300)"
   ]
  },
  {
   "cell_type": "code",
   "execution_count": 9,
   "metadata": {},
   "outputs": [
    {
     "name": "stdout",
     "output_type": "stream",
     "text": [
      " ----------------------------------------------------------------\n",
      " APMonitor, Version 1.0.0\n",
      " APMonitor Optimization Suite\n",
      " ----------------------------------------------------------------\n",
      " \n",
      " \n",
      " --------- APM Model Size ------------\n",
      " Each time step contains\n",
      "   Objects      :  0\n",
      "   Constants    :  0\n",
      "   Variables    :  7\n",
      "   Intermediates:  0\n",
      "   Connections  :  0\n",
      "   Equations    :  6\n",
      "   Residuals    :  6\n",
      " \n",
      " Number of state variables:    7\n",
      " Number of total equations: -  5\n",
      " Number of slack variables: -  3\n",
      " ---------------------------------------\n",
      " Degrees of freedom       :    -1\n",
      " \n",
      " * Warning: DOF <= 0\n",
      " **********************************************\n",
      " Steady State Optimization with Interior Point Solver\n",
      " **********************************************\n",
      "  \n",
      "  \n",
      " Info: Exact Hessian\n",
      "\n",
      "******************************************************************************\n",
      "This program contains Ipopt, a library for large-scale nonlinear optimization.\n",
      " Ipopt is released as open source code under the Eclipse Public License (EPL).\n",
      "         For more information visit http://projects.coin-or.org/Ipopt\n",
      "******************************************************************************\n",
      "\n",
      "This is Ipopt version 3.10.2, running with linear solver mumps.\n",
      "\n",
      "Number of nonzeros in equality constraint Jacobian...:       13\n",
      "Number of nonzeros in inequality constraint Jacobian.:        0\n",
      "Number of nonzeros in Lagrangian Hessian.............:        2\n",
      "\n",
      "Total number of variables............................:        7\n",
      "                     variables with only lower bounds:        3\n",
      "                variables with lower and upper bounds:        0\n",
      "                     variables with only upper bounds:        0\n",
      "Total number of equality constraints.................:        5\n",
      "Total number of inequality constraints...............:        0\n",
      "        inequality constraints with only lower bounds:        0\n",
      "   inequality constraints with lower and upper bounds:        0\n",
      "        inequality constraints with only upper bounds:        0\n",
      "\n",
      "iter    objective    inf_pr   inf_du lg(mu)  ||d||  lg(rg) alpha_du alpha_pr  ls\n",
      "   0 0.0000000e+000 1.50e+004 2.45e+000   0.0 0.00e+000    -  0.00e+000 0.00e+000   0\n",
      "   1 3.9050458e-001 1.50e+004 2.82e+000   0.0 2.38e+003    -  5.83e-006 1.45e-005h  1\n",
      "   2 2.4242303e+005 2.16e-012 6.01e+002  -1.5 2.95e+003    -  1.65e-005 1.00e+000h  1\n",
      "   3 4.9549171e+004 4.55e-013 1.14e+002  -0.3 1.20e+003    -  6.44e-003 1.00e+000f  1\n",
      "   4 -3.2011605e+004 9.09e-013 5.69e-001   0.9 1.44e+003    -  7.44e-001 1.00e+000f  1\n",
      "   5 -3.2091174e+004 1.73e-012 5.00e-001  -5.8 1.51e+002    -  3.19e-002 1.00e+000f  1\n",
      "   6 -3.2459234e+004 1.14e-012 8.42e-004  -0.6 1.47e+003    -  7.88e-001 1.00e+000f  1\n",
      "   7 -3.2459234e+004 1.14e-012 7.94e-007  -6.9 6.04e-001    -  9.90e-001 1.00e+000f  1\n",
      "   8 -3.2459234e+004 4.55e-013 2.02e-009  -8.9 6.41e-005    -  9.97e-001 1.00e+000h  1\n",
      "   9 -3.2459234e+004 2.05e-012 2.75e-011  -5.6 7.06e-006    -  1.00e+000 1.00e+000h  1\n",
      "iter    objective    inf_pr   inf_du lg(mu)  ||d||  lg(rg) alpha_du alpha_pr  ls\n",
      "  10 -3.2459234e+004 2.73e-012 9.09e-013  -7.0 6.83e-006    -  1.00e+000 1.00e+000h  1\n",
      "\n",
      "Number of Iterations....: 10\n",
      "\n",
      "                                   (scaled)                 (unscaled)\n",
      "Objective...............: -3.2459234379539725e+004  -3.2459234379539725e+004\n",
      "Dual infeasibility......:  9.0909090909096235e-013   9.0909090909096235e-013\n",
      "Constraint violation....:  2.7284841053187847e-012   2.7284841053187847e-012\n",
      "Complementarity.........:  9.0909102067444505e-008   9.0909102067444505e-008\n",
      "Overall NLP error.......:  9.0909102067444505e-008   9.0909102067444505e-008\n",
      "\n",
      "\n",
      "Number of objective function evaluations             = 11\n",
      "Number of objective gradient evaluations             = 11\n",
      "Number of equality constraint evaluations            = 11\n",
      "Number of inequality constraint evaluations          = 0\n",
      "Number of equality constraint Jacobian evaluations   = 11\n",
      "Number of inequality constraint Jacobian evaluations = 0\n",
      "Number of Lagrangian Hessian evaluations             = 10\n",
      "Total CPU secs in IPOPT (w/o function evaluations)   =      0.028\n",
      "Total CPU secs in NLP function evaluations           =      0.003\n",
      "\n",
      "EXIT: Optimal Solution Found.\n",
      "\n",
      " The solution was found.\n",
      "\n",
      " The final value of the objective function is  -32459.234379539725\n",
      " \n",
      " ---------------------------------------------------\n",
      " Solver         :  IPOPT (v3.12)\n",
      " Solution time  :  0.0421 sec\n",
      " Objective      :  -32459.234379539725\n",
      " Successful solution\n",
      " ---------------------------------------------------\n",
      " \n",
      "\n",
      "Results\n",
      "x1: [36.487804878]\n",
      "x2: [25.659874608]\n",
      "Objective: -32459.23438\n"
     ]
    },
    {
     "data": {
      "text/plain": [
       "\" Le résultat n'est pas exactement le même que Excel, mais pas loin du tout, je \\ncherche pourquoi ce n'est pas exactement pareil.\\nLe solveur nous dit que le prix du t shirt 1 DOIT être fixé à 34.50 euros \\net que le t shirt 2 doit être fixé à 23.31 euros pour\\nmaximiser notre profit qui sera de 32 012.15 euros . \""
      ]
     },
     "execution_count": 9,
     "metadata": {},
     "output_type": "execute_result"
    }
   ],
   "source": [
    "# Maintenant, on va résoudre ce problème avec le solveur Gekko, plutôt qu'avec le solveur excel : \n",
    "\n",
    "from gekko import GEKKO\n",
    "\n",
    "m = GEKKO(remote=False) # Initialize gekko\n",
    "\n",
    "#The example problem that you referenced uses the default IPOPT solver. To get a binary or integer solution, switch to the APOPT solver.\n",
    "# m.options.SOLVER = 1\n",
    "\n",
    "# Les variables de décision sont les prix des t shirts 1 et 2 qui vont permettre de maximiser la fonction profit.\n",
    "p1 = m.Var()\n",
    "p2 = m.Var()\n",
    "\n",
    "# x1 et x2 vont contenir les equations de la demande \n",
    "x1 = m.Var()\n",
    "x2 = m.Var()\n",
    "\n",
    "# On récupère les équations linéaire de la demande auprès du service commercial puis on les entre dans notre NLP.\n",
    "# Equation des relations prix volume linéaire donnés par le service commercial, \n",
    "# c'est ensuite substitué dans la fonction objectif ci dessous et aussi dans les contraintes !\n",
    "m.Equation(x1 == 1500 - 24.6 * p1)\n",
    "m.Equation(x2 == 2700 - 63.8 * p2)\n",
    "\n",
    "# Equations des contraintes\n",
    "m.Equation(2 * x1 + 2.7 * x2 <= 6000)\n",
    "m.Equation(3.6 * x1 + 2.9 * x2 <= 8500)\n",
    "m.Equation(7.2 * x1 + 8.5 * x2 <= 15000)\n",
    "\n",
    "# La fonction objectif non linéaire : (p1 - 12) x1 + (p2 - 9) x2\n",
    "m.Maximize(((p1 - 12) * x1) + ((p2 - 9) * x2))\n",
    "\n",
    "m.options.IMODE = 3 # Steady state optimization\n",
    "\n",
    "m.solve() # Solve\n",
    "\n",
    "print('Results')\n",
    "print('x1: ' + str(p1.value))\n",
    "print('x2: ' + str(p2.value))\n",
    "print('Objective: ' + str(m.options.objfcnval))\n",
    "\n",
    "\n",
    "\"\"\" Le résultat n'est pas exactement le même que Excel, mais pas loin du tout, je \n",
    "cherche pourquoi ce n'est pas exactement pareil.\n",
    "Le solveur nous dit que le prix du t shirt 1 DOIT être fixé à 34.50 euros \n",
    "et que le t shirt 2 doit être fixé à 23.31 euros pour\n",
    "maximiser notre profit qui sera de 32 012.15 euros . \"\"\"\n",
    "\n",
    "# x1: [34.503032444]\n",
    "# x2: [23.317106469]\n",
    "# Objective: -32012.156777\n",
    "\n",
    "\n"
   ]
  }
 ],
 "metadata": {
  "kernelspec": {
   "display_name": "Python 3",
   "language": "python",
   "name": "python3"
  },
  "language_info": {
   "codemirror_mode": {
    "name": "ipython",
    "version": 3
   },
   "file_extension": ".py",
   "mimetype": "text/x-python",
   "name": "python",
   "nbconvert_exporter": "python",
   "pygments_lexer": "ipython3",
   "version": "3.8.0"
  },
  "orig_nbformat": 4,
  "vscode": {
   "interpreter": {
    "hash": "edb60928ae049011e12e2dc43646b5515922153b602d9d974a622a5d486bbfcc"
   }
  }
 },
 "nbformat": 4,
 "nbformat_minor": 2
}
