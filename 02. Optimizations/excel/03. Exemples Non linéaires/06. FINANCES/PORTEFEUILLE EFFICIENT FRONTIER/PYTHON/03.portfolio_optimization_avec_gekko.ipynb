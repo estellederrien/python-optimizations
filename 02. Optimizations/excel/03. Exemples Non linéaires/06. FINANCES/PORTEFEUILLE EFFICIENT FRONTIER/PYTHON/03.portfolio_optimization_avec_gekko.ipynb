{
 "cells": [
  {
   "cell_type": "code",
   "execution_count": null,
   "metadata": {},
   "outputs": [],
   "source": [
    "# Source : https://stackoverflow.com/questions/66622330/is-it-possible-to-use-gekko-to-do-portfolio-optimisation\n",
    "# Author : John Hedengren"
   ]
  },
  {
   "cell_type": "code",
   "execution_count": 1,
   "metadata": {},
   "outputs": [
    {
     "name": "stdout",
     "output_type": "stream",
     "text": [
      "A\n",
      "[[3. 6. 1.]\n",
      " [8. 4. 3.]\n",
      " [2. 2. 2.]]\n",
      "b\n",
      "[30. 44. 35.]\n",
      " ----------------------------------------------------------------\n",
      " APMonitor, Version 1.0.0\n",
      " APMonitor Optimization Suite\n",
      " ----------------------------------------------------------------\n",
      " \n",
      " \n",
      " --------- APM Model Size ------------\n",
      " Each time step contains\n",
      "   Objects      :  2\n",
      "   Constants    :  0\n",
      "   Variables    :  8\n",
      "   Intermediates:  1\n",
      "   Connections  :  7\n",
      "   Equations    :  6\n",
      "   Residuals    :  5\n",
      " \n",
      " Number of state variables:    8\n",
      " Number of total equations: -  8\n",
      " Number of slack variables: -  1\n",
      " ---------------------------------------\n",
      " Degrees of freedom       :    -1\n",
      " \n",
      " * Warning: DOF <= 0\n",
      " ----------------------------------------------\n",
      " Steady State Optimization with APOPT Solver\n",
      " ----------------------------------------------\n",
      " \n",
      " Iter    Objective  Convergence\n",
      "    0 -1.17589E+00  9.70000E+01\n",
      "    1 -1.75141E+00  2.22045E-16\n",
      "    2 -1.87018E+00  1.11022E-16\n",
      "    3 -1.87018E+00  1.11022E-16\n",
      " Successful solution\n",
      " \n",
      " ---------------------------------------------------\n",
      " Solver         :  APOPT (v1.0)\n",
      " Solution time  :  0.020799999999999992 sec\n",
      " Objective      :  -1.8701837904996719\n",
      " Successful solution\n",
      " ---------------------------------------------------\n",
      " \n",
      "\n",
      "Asset  1 0.32545144256\n",
      "Asset  2 0.0\n",
      "Asset  3 5.0\n",
      "Objective: 1.8701837905\n"
     ]
    }
   ],
   "source": [
    "from gekko import GEKKO\n",
    "m = GEKKO(remote=False)\n",
    "x = m.Array(m.Var,3,value=1,lb=0,ub=5)\n",
    "# asset price\n",
    "p = [5,10,6.2]\n",
    "# expected return on the asset\n",
    "Rp = [0.1,0.05,0.3]\n",
    "# risk free rate of return\n",
    "Rf = [0.01,0.02,0.01]\n",
    "# standard deviation of returns of the asset\n",
    "sigma = [0.1,0.2,0.15]\n",
    "\n",
    "# linear inequality constraint Ax<b\n",
    "A = [[3, 6, 1], [8, 4, 3], [2, 2, 2]]\n",
    "b = [30, 44, 35]\n",
    "m.axb(A,b,x=x,etype='<')\n",
    "\n",
    "# total budget\n",
    "m.Equation(m.sum(x)<100)\n",
    "\n",
    "# total assets purchased\n",
    "ta = m.Intermediate(m.sum(x))\n",
    "\n",
    "# maximize mean Sharpe ratio of portfolio\n",
    "m.Maximize(m.sum([x[i]*(Rp[i]-Rf[i])/sigma[i] for i in range(3)])/ta)\n",
    "\n",
    "m.options.solver = 1\n",
    "m.solve(disp=True)\n",
    "for i in range(3):\n",
    "    print ('Asset ',i+1,x[i].value[0])\n",
    "print ('Objective: ' + str(-m.options.objfcnval))"
   ]
  }
 ],
 "metadata": {
  "kernelspec": {
   "display_name": "Python 3",
   "language": "python",
   "name": "python3"
  },
  "language_info": {
   "codemirror_mode": {
    "name": "ipython",
    "version": 3
   },
   "file_extension": ".py",
   "mimetype": "text/x-python",
   "name": "python",
   "nbconvert_exporter": "python",
   "pygments_lexer": "ipython3",
   "version": "3.8.0"
  },
  "orig_nbformat": 4
 },
 "nbformat": 4,
 "nbformat_minor": 2
}
