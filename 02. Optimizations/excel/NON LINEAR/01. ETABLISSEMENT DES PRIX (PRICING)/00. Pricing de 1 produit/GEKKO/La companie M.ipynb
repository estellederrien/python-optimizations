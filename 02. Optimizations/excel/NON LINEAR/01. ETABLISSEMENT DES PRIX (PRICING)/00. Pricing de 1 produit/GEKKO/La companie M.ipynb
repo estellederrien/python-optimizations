{
 "cells": [
  {
   "attachments": {},
   "cell_type": "markdown",
   "metadata": {},
   "source": [
    "\n",
    "# Pricing non linéaire avec le solveur Gekko\n",
    "# \"Pricing \" non linéaire d'un seul objet\n",
    "\n",
    "Code Python Gekko élaboré par Estelle Derrien Huleux.\n",
    "Version brute sans initialisation des variables en début de code.\n",
    "\n",
    "# Histoire : \n",
    "\n",
    "La société M fabrique et vend un certain produit. \n",
    "L'entreprise veut pour déterminer le prix qui maximise son profit de ce produit. \n",
    "\n",
    "Le coût unitaire de production et de commercialisation du produit est de 50 euros. \n",
    "\n",
    "Madison facturera certainement au moins 50 Euros pour le produit pour s'assurer qu'il génère des bénéfices, et donc s'assurer du seuil de rentabilité ( Break even en Anglais). \n",
    "\n",
    "Cependant, il existe un marché très concurrentiel pour ce produit, de sorte que la demande de Madison chute fortement lorsqu'elle augmente son prix. \n",
    "\n",
    "Comment l'entreprise doit-elle fixer le prix de ce produit pour s'assurer un profit maximal\n",
    "?\n",
    "\n",
    "- Source:  Wayne_L._Winston_S._Christian_Albright_Practical_Management_Science livre / Optimisations non linéaires.\n",
    "\n"
   ]
  },
  {
   "attachments": {},
   "cell_type": "markdown",
   "metadata": {},
   "source": [
    "On va résoudre ce problème avec le solveur Gekko, plutôt qu'avec le solveur excel,\n",
    "On importe donc Gekko. "
   ]
  },
  {
   "cell_type": "code",
   "execution_count": 1,
   "metadata": {},
   "outputs": [],
   "source": [
    "from gekko import GEKKO\n",
    "\n",
    "m = GEKKO(remote=False) # Initialize gekko\n",
    "\n",
    "#The example problem that you referenced uses the default IPOPT solver. To get a binary or integer solution, switch to the APOPT solver.\n",
    "m.options.SOLVER = 1"
   ]
  },
  {
   "attachments": {},
   "cell_type": "markdown",
   "metadata": {},
   "source": [
    "ETAPE 1 : On crée La variable de décision qui va contenir le prix à affecter au produit.\n",
    "C'est le solveur Gekko qui va la calculer.\n",
    "Si il y avait 2 objets, on ajouterait aussi les variables p2, p3, etc..."
   ]
  },
  {
   "cell_type": "code",
   "execution_count": 2,
   "metadata": {},
   "outputs": [],
   "source": [
    "p1 = m.Var(integer=False)"
   ]
  },
  {
   "attachments": {},
   "cell_type": "markdown",
   "metadata": {},
   "source": [
    "Etape 2 , on crée la variable qui va contenir l'équation linéaire de la demande , fournie par le service commercial.\n",
    "Là, pareil, si il y a plusieurs objets, forcément, leurs équations linéaires de la demande seraient différentes, donc on les ajoute aussi."
   ]
  },
  {
   "cell_type": "code",
   "execution_count": 3,
   "metadata": {},
   "outputs": [],
   "source": [
    "# x1  va contenir l'equation de la demande \n",
    "x1 = m.Var(integer=False)"
   ]
  },
  {
   "attachments": {},
   "cell_type": "markdown",
   "metadata": {},
   "source": [
    "Etape 3 , on crée l'équation linéaire de la demande.\n",
    "\n",
    "L'équation de la demande représente la relation linéaire entre le prix et la demande.\n",
    "Plus le prix est cher, moins les ventes sont grandes.\n",
    "\n",
    "Il est également possible de la modéliser par une equation non linéaire d'élasticité de la demande, qui peut être plus réaliste, mais ici, on ne le fait pas.\n",
    "\n",
    "Evidemment, si il y a plusieurs produits, on a plusieurs équations linéaires de la demande dédiées à chaque produits, et qui sont différentes, puisque les clients achètent plus ou moins en fonction de leurs gout pour chaque produits.\n",
    "\n",
    "Il suffit que le service commercial nous donne une valeur de vente  ( Par exemple 320) pour un prix fixé à 20 euros et une valeur de vente ( par exemple 250, vu que c'est plus cher, on vend moins) pour un prix fixé à 30 euros pour qu'on obtienne cette équation linéaire de la demande, qui est une droite dans un plan (x,y).\n",
    "Ca ressemble à ca ( Ne pas regarder les valeurs) : <br>\n",
    "<img src  = \"lin.jpg\"></img>\n",
    "\n",
    "On l'appelle x1 et on l'insère ici : "
   ]
  },
  {
   "cell_type": "code",
   "execution_count": 4,
   "metadata": {},
   "outputs": [
    {
     "data": {
      "text/plain": [
       "<gekko.gekko.EquationObj at 0x17df5c5e520>"
      ]
     },
     "execution_count": 4,
     "metadata": {},
     "output_type": "execute_result"
    }
   ],
   "source": [
    "m.Equation(x1 == 1100 - 10 * p1)\n",
    "\n",
    "\n",
    "# Si on avait 2 objets , on créerait la seconde equation ainsi : m.Equation(x2 == 2700 - 63.8 * p2)"
   ]
  },
  {
   "attachments": {},
   "cell_type": "markdown",
   "metadata": {},
   "source": [
    "Etape 4, on crée les contraintes .\n",
    "\n",
    "Dans ce problème il n'y a pas de contraintes, du style Stock de laine maximum etc ... Mais \n",
    "si on avait du entrer les contraintes, on l'aurait fait là :"
   ]
  },
  {
   "cell_type": "code",
   "execution_count": 5,
   "metadata": {},
   "outputs": [],
   "source": [
    "# Equations des contraintes\n",
    "# m.Equation(2 * x1 + 2.7 * x2 <= 6000)\n",
    "# m.Equation(3.6 * x1 + 2.9 * x2 <= 8500)\n",
    "# m.Equation(7.2 * x1 + 8.5 * x2 <= 15000)"
   ]
  },
  {
   "attachments": {},
   "cell_type": "markdown",
   "metadata": {},
   "source": [
    "Etape 5 : On crée la fonction objectif non linéaire qui va nous donner le prix à affecter à notre objet afin d'obtenir le\n",
    "meilleur bénéfice."
   ]
  },
  {
   "cell_type": "code",
   "execution_count": 6,
   "metadata": {},
   "outputs": [],
   "source": [
    "# La fonction objectif non linéaire permet de maximiser notre profit \n",
    "# On retrouve l'équation de la demande, ce que provoque une élevation au carré de p1, et cela devient donc non linéaire.\n",
    "# p1 - 50 est le profit réalisé (Prix de objet - coût de objet), x1 est l'insertion de l'équation linéaire de la demande.\n",
    "m.Maximize((p1 - 50) * x1) \n",
    "\n",
    "# si il y avait eu plusieurs objets, on les additionne comme ça : \n",
    "# (p1 - 12) x1 + (p2 - 9) x2\n",
    "# m.Maximize(((p1 - 12) * x1) + ((p2 - 9) * x2))"
   ]
  },
  {
   "attachments": {},
   "cell_type": "markdown",
   "metadata": {},
   "source": [
    "Etape finale : Impression de la solution \n",
    "\n",
    "Note : Dans le livre, Excel trouve 93.31 euros de prix optimal pour un profit de 9326 euros, j'essaye de voir quel paramètre il faut changer car ici, le solveur trouve 80 euros de prix optimal pour un profit de 9000. Dans le livre, ils utilisent l'elasticité en tant qu'équation de la demande, je me demande si c'est dû à ca ou à autre chose.. je vais essayer aussi avec d'autres solveurs en Python pour voir...\n",
    "\n",
    "<img src = \"resultat.jpg\"></img>\n",
    "\n",
    "\n",
    "je pense que la différence est due au fait que j'utilise la function linéaire de la demande et que dans le livre, ils utilisent la fonction d'élasticité de la demande. Le problème est que je ne sais pas encore créer avec python l'équation d'élasticité de la demande, il faut analyser et la créer. Une fois ceci fait, on pourra confirmer ou pas que la différence de résultat provient de cela.\n",
    "\n",
    "<img src = \"difference.jpg\"></img>\n"
   ]
  },
  {
   "cell_type": "code",
   "execution_count": 7,
   "metadata": {},
   "outputs": [
    {
     "name": "stdout",
     "output_type": "stream",
     "text": [
      " ----------------------------------------------------------------\n",
      " APMonitor, Version 1.0.0\n",
      " APMonitor Optimization Suite\n",
      " ----------------------------------------------------------------\n",
      " \n",
      " \n",
      " --------- APM Model Size ------------\n",
      " Each time step contains\n",
      "   Objects      :  0\n",
      "   Constants    :  0\n",
      "   Variables    :  2\n",
      "   Intermediates:  0\n",
      "   Connections  :  0\n",
      "   Equations    :  2\n",
      "   Residuals    :  2\n",
      " \n",
      " Number of state variables:    2\n",
      " Number of total equations: -  1\n",
      " Number of slack variables: -  0\n",
      " ---------------------------------------\n",
      " Degrees of freedom       :    1\n",
      " \n",
      " ----------------------------------------------\n",
      " Steady State Optimization with APOPT Solver\n",
      " ----------------------------------------------\n",
      " \n",
      " Iter    Objective  Convergence\n",
      "    0  2.46593E+03  1.37500E+02\n",
      "    1  5.37118E+07  1.31839E-16\n",
      "    2 -9.00000E+03  3.55271E-15\n",
      "    3 -9.00000E+03  8.88178E-16\n",
      "    4 -9.00000E+03  8.88178E-16\n",
      " Successful solution\n",
      " \n",
      " ---------------------------------------------------\n",
      " Solver         :  APOPT (v1.0)\n",
      " Solution time  :  0.04089999999999999 sec\n",
      " Objective      :  -8999.999999999998\n",
      " Successful solution\n",
      " ---------------------------------------------------\n",
      " \n",
      "\n",
      "Solution\n",
      "x1: [80.0]\n",
      "Objectif: -9000.0\n"
     ]
    }
   ],
   "source": [
    "m.options.IMODE = 3 # Steady state optimization\n",
    "\n",
    "m.solve() # Solve\n",
    "\n",
    "print('Solution')\n",
    "print('x1: ' + str(p1.value))\n",
    "# print('x2: ' + str(p2.value))<\n",
    "print('Objectif: ' + str(m.options.objfcnval))"
   ]
  },
  {
   "attachments": {},
   "cell_type": "markdown",
   "metadata": {},
   "source": [
    "Problème résolu !\n",
    "\n",
    "Merci à John Hedengren qui m'a répondu sur stack overflow et qui est vraiment un crack\n",
    "C'est donc confirmé qu'il fallait utiliser la fonction d'élasticité de la demande en lieu et place de la fonction linéaire !\n",
    "\n",
    "https://stackoverflow.com/questions/75653054/pyomo-and-gekko-pricing-values-differs-from-excel\n",
    "\n",
    "Voici donc son code ou il a modélisé la fonction d'élasticité de la demande."
   ]
  },
  {
   "cell_type": "code",
   "execution_count": 8,
   "metadata": {},
   "outputs": [
    {
     "name": "stdout",
     "output_type": "stream",
     "text": [
      "apm 185.228.230.182_gk_model1 <br><pre> ----------------------------------------------------------------\n",
      " APMonitor, Version 1.0.1\n",
      " APMonitor Optimization Suite\n",
      " ----------------------------------------------------------------\n",
      " \n",
      " \n",
      " Warning: there is insufficient data in CSV file 185.228.230.182_gk_model1.csv\n",
      " \n",
      " --------- APM Model Size ------------\n",
      " Each time step contains\n",
      "   Objects      :            0\n",
      "   Constants    :            0\n",
      "   Variables    :            2\n",
      "   Intermediates:            0\n",
      "   Connections  :            0\n",
      "   Equations    :            2\n",
      "   Residuals    :            2\n",
      " \n",
      " Number of state variables:              2\n",
      " Number of total equations: -            1\n",
      " Number of slack variables: -            0\n",
      " ---------------------------------------\n",
      " Degrees of freedom       :              1\n",
      " \n",
      " **********************************************\n",
      " Steady State Optimization with Interior Point Solver\n",
      " **********************************************\n",
      "  \n",
      "  \n",
      " Info: Exact Hessian\n",
      "\n",
      "******************************************************************************\n",
      "This program contains Ipopt, a library for large-scale nonlinear optimization.\n",
      " Ipopt is released as open source code under the Eclipse Public License (EPL).\n",
      "         For more information visit http://projects.coin-or.org/Ipopt\n",
      "******************************************************************************\n",
      "\n",
      "This is Ipopt version 3.12.10, running with linear solver ma57.\n",
      "\n",
      "Number of nonzeros in equality constraint Jacobian...:        2\n",
      "Number of nonzeros in inequality constraint Jacobian.:        0\n",
      "Number of nonzeros in Lagrangian Hessian.............:        2\n",
      "\n",
      "Total number of variables............................:        2\n",
      "                     variables with only lower bounds:        2\n",
      "                variables with lower and upper bounds:        0\n",
      "                     variables with only upper bounds:        0\n",
      "Total number of equality constraints.................:        1\n",
      "Total number of inequality constraints...............:        0\n",
      "        inequality constraints with only lower bounds:        0\n",
      "   inequality constraints with lower and upper bounds:        0\n",
      "        inequality constraints with only upper bounds:        0\n",
      "\n",
      "iter    objective    inf_pr   inf_du lg(mu)  ||d||  lg(rg) alpha_du alpha_pr  ls\n",
      "   0 -5.0499948e+01 7.09e+02 1.45e+00   0.0 0.00e+00    -  0.00e+00 0.00e+00   0\n",
      "   1 -2.3828000e+03 2.78e+02 4.50e+01  -6.1 2.01e+01    -  2.40e-02 1.00e+00f  1\n",
      "   2 -8.4314550e+03 1.92e+01 6.98e+01   1.7 1.67e+02    -  1.45e-01 1.00e+00f  1\n",
      "   3 -8.9903126e+03 7.98e+00 1.18e+01   0.4 4.18e+01    -  9.96e-01 1.00e+00f  1\n",
      "   4 -9.2356547e+03 2.53e+00 4.48e-01  -1.6 2.25e+01    -  1.00e+00 1.00e+00f  1\n",
      "   5 -9.3398639e+03 9.43e-02 7.93e-03  -2.9 2.85e+00    -  1.00e+00 1.00e+00f  1\n",
      "   6 -9.3439409e+03 1.24e-04 8.57e-06  -4.4 9.69e-02    -  9.95e-01 1.00e+00f  1\n",
      "   7 -9.3439463e+03 2.11e-10 1.36e-10 -10.2 1.25e-04    -  1.00e+00 1.00e+00h  1\n",
      "\n",
      "Number of Iterations....: 7\n",
      "\n",
      "                                   (scaled)                 (unscaled)\n",
      "Objective...............:  -9.3439463093293234e+03   -9.3439463093293234e+03\n",
      "Dual infeasibility......:   1.3551476144225908e-10    1.3551476144225908e-10\n",
      "Constraint violation....:   2.1057644516986329e-10    2.1057644516986329e-10\n",
      "Complementarity.........:   1.0860988358898133e-08    1.0860988358898133e-08\n",
      "Overall NLP error.......:   1.0860988358898133e-08    1.0860988358898133e-08\n",
      "\n",
      "\n",
      "Number of objective function evaluations             = 8\n",
      "Number of objective gradient evaluations             = 8\n",
      "Number of equality constraint evaluations            = 8\n",
      "Number of inequality constraint evaluations          = 0\n",
      "Number of equality constraint Jacobian evaluations   = 8\n",
      "Number of inequality constraint Jacobian evaluations = 0\n",
      "Number of Lagrangian Hessian evaluations             = 7\n",
      "Total CPU secs in IPOPT (w/o function evaluations)   =      0.002\n",
      "Total CPU secs in NLP function evaluations           =      0.000\n",
      "\n",
      "EXIT: Optimal Solution Found.\n",
      " \n",
      " The solution was found.\n",
      " \n",
      " The final value of the objective function is   -9343.94630932932     \n",
      " \n",
      " ---------------------------------------------------\n",
      " Solver         :  IPOPT (v3.12)\n",
      " Solution time  :   9.799999999813735E-003 sec\n",
      " Objective      :   -9343.94630932932     \n",
      " Successful solution\n",
      " ---------------------------------------------------\n",
      " \n",
      "Solution\n",
      "Price: 93.33\n",
      "Profit: 9343.95\n"
     ]
    },
    {
     "data": {
      "image/png": "[encoded data removed]",
      "text/plain": [
       "<Figure size 640x480 with 1 Axes>"
      ]
     },
     "metadata": {},
     "output_type": "display_data"
    }
   ],
   "source": [
    "from gekko import GEKKO\n",
    "m = GEKKO()\n",
    "\n",
    "p = m.Var(lb=50)  # price\n",
    "d = m.Var(lb=100) # demand\n",
    "m.Equation(d == 3.777178e6*p**(-2.154))\n",
    "m.Maximize((p-50)*d)\n",
    "\n",
    "m.solve()\n",
    "print('Solution')\n",
    "price = p.value[0]\n",
    "obj = -m.options.objfcnval\n",
    "print(f'Price: {price:0.2f}')\n",
    "print(f'Profit: {obj:0.2f}')\n",
    "\n",
    "# view profit versus price solution\n",
    "import numpy as np\n",
    "import matplotlib.pyplot as plt\n",
    "px = np.linspace(55,110)\n",
    "dx = 3.777178e6*px**(-2.154)\n",
    "profit = (px-50)*dx\n",
    "plt.plot(px,profit)\n",
    "plt.plot(price,obj,'o',markersize=10,color='orange')\n",
    "plt.grid(); plt.xlabel('Price'); plt.ylabel('Profit')\n",
    "plt.show()"
   ]
  },
  {
   "attachments": {},
   "cell_type": "markdown",
   "metadata": {},
   "source": [
    "Le résultat est exactement le même que celui d'Excel, ne reste plus qu'au servce commercial de fournir une équation d'élasticité de la demande, pour obtenir un Pricing qui colle au plus proche \n",
    "du nécessaire !\n"
   ]
  }
 ],
 "metadata": {
  "kernelspec": {
   "display_name": "Python 3",
   "language": "python",
   "name": "python3"
  },
  "language_info": {
   "codemirror_mode": {
    "name": "ipython",
    "version": 3
   },
   "file_extension": ".py",
   "mimetype": "text/x-python",
   "name": "python",
   "nbconvert_exporter": "python",
   "pygments_lexer": "ipython3",
   "version": "3.8.0"
  },
  "orig_nbformat": 4,
  "vscode": {
   "interpreter": {
    "hash": "edb60928ae049011e12e2dc43646b5515922153b602d9d974a622a5d486bbfcc"
   }
  }
 },
 "nbformat": 4,
 "nbformat_minor": 2
}
