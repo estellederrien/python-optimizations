{
 "cells": [
  {
   "attachments": {},
   "cell_type": "markdown",
   "metadata": {},
   "source": [
    "# Pricing non linéaire avec le solveur Pyomo\n",
    "# \"Pricing \" non linéaire d'un seul objet\n",
    "\n",
    "Dnas l'exercice avec le solver GEKKO, on ne trouve pas pareil que dans le résultat Excel, qui lui arrive à mieux optimiser.\n",
    "essayons de voir si Pyomo se rapporche plus du résultat du solveur Excel."
   ]
  },
  {
   "cell_type": "code",
   "execution_count": 32,
   "metadata": {},
   "outputs": [
    {
     "name": "stdout",
     "output_type": "stream",
     "text": [
      "item= 80.00000000002473\n",
      "objective= 9000.0\n",
      "\n",
      "Problem: \n",
      "- Lower bound: -inf\n",
      "  Upper bound: inf\n",
      "  Number of objectives: 1\n",
      "  Number of constraints: 0\n",
      "  Number of variables: 1\n",
      "  Sense: unknown\n",
      "Solver: \n",
      "- Status: ok\n",
      "  Message: Ipopt 3.11.1\\x3a Optimal Solution Found\n",
      "  Termination condition: optimal\n",
      "  Id: 0\n",
      "  Error rc: 0\n",
      "  Time: 0.10571432113647461\n",
      "Solution: \n",
      "- number of solutions: 0\n",
      "  number of solutions displayed: 0\n",
      "\n"
     ]
    }
   ],
   "source": [
    "import pyomo.environ as pyo\n",
    "import sys\n",
    "\n",
    "\n",
    "# On configure le chemin du solveur non linéaire sous windows.\n",
    "solvername='ipopt'\n",
    "solverpath_folder='C:\\\\ipopt' #does not need to be directly on c drive\n",
    "solverpath_exe='C:\\\\ipopt\\\\bin\\\\ipopt' #does not need to be directly on c drive\n",
    "sys.path.append(solverpath_folder)\n",
    "\n",
    "\n",
    "# On crée un modèle Pyomo\n",
    "model = pyo.ConcreteModel()\n",
    "\n",
    "# On crée une variable simple Pyomo\n",
    "model.item = pyo.Var(within=pyo.PositiveReals, bounds=(0, 100000), initialize=1)\n",
    "\n",
    "# On crée notre objectif\n",
    "model.OBJ = pyo.Objective(expr = ((model.item - 50) * (1100 - 10 * model.item)), sense=pyo.maximize)\n",
    "\n",
    "\n",
    "# On résouds\n",
    "results = pyo.SolverFactory(solvername,executable=solverpath_exe).solve(model)\n",
    "\n",
    "# On affiche les résultats.\n",
    "print(\"item=\", pyo.value(model.item))\n",
    "print(\"objective=\", pyo.value(model.OBJ))\n",
    "print(results)\n",
    "# model.pprint()\n",
    "\n",
    "\n"
   ]
  },
  {
   "attachments": {},
   "cell_type": "markdown",
   "metadata": {},
   "source": [
    "Il trouve pareil que Gekko !\n",
    "item= 80.00000000002473\n",
    "objective= 9000.0\n",
    "\n",
    "ALors que Excel trouve un meilleur résultat!"
   ]
  }
 ],
 "metadata": {
  "kernelspec": {
   "display_name": "Python 3",
   "language": "python",
   "name": "python3"
  },
  "language_info": {
   "codemirror_mode": {
    "name": "ipython",
    "version": 3
   },
   "file_extension": ".py",
   "mimetype": "text/x-python",
   "name": "python",
   "nbconvert_exporter": "python",
   "pygments_lexer": "ipython3",
   "version": "3.8.0"
  },
  "orig_nbformat": 4
 },
 "nbformat": 4,
 "nbformat_minor": 2
}
