{
 "cells": [
  {
   "attachments": {},
   "cell_type": "markdown",
   "metadata": {},
   "source": [
    "# Contraintes non linéaires avec CPLEX\n",
    "\n",
    "Lien : \n",
    "https://stackoverflow.com/questions/52569451/non-linear-constraints-cplex"
   ]
  },
  {
   "cell_type": "code",
   "execution_count": 1,
   "metadata": {},
   "outputs": [
    {
     "name": "stdout",
     "output_type": "stream",
     "text": [
      "0\n",
      "2.0\n",
      "0\n",
      "3.0\n",
      "0\n"
     ]
    }
   ],
   "source": [
    "from docplex.mp.model import Model\n",
    "\n",
    "\n",
    "mdl = Model(name='example')\n",
    "\n",
    "z1=2\n",
    "z2=3\n",
    "\n",
    "\n",
    "mdl.x1 = mdl.continuous_var(0,10,name='x1')\n",
    "mdl.x2 = mdl.continuous_var(0,10,name='x2')\n",
    "mdl.x3 = mdl.continuous_var(0,10,name='x3')\n",
    "mdl.x4 = mdl.continuous_var(0,10,name='x4')\n",
    "mdl.x5 = mdl.continuous_var(0,10,name='x5')\n",
    "\n",
    "\n",
    "mdl.add_constraint(mdl.x2+mdl.x3==z1*(1-mdl.x1), 'A')\n",
    "mdl.add_constraint(mdl.x4+mdl.x5==z2*(1-mdl.x1), 'B')\n",
    "\n",
    "mdl.solve()\n",
    "\n",
    "print(mdl.x1.solution_value);\n",
    "print(mdl.x2.solution_value);\n",
    "print(mdl.x3.solution_value);\n",
    "print(mdl.x4.solution_value);\n",
    "print(mdl.x5.solution_value);"
   ]
  }
 ],
 "metadata": {
  "kernelspec": {
   "display_name": "Python 3",
   "language": "python",
   "name": "python3"
  },
  "language_info": {
   "codemirror_mode": {
    "name": "ipython",
    "version": 3
   },
   "file_extension": ".py",
   "mimetype": "text/x-python",
   "name": "python",
   "nbconvert_exporter": "python",
   "pygments_lexer": "ipython3",
   "version": "3.8.0"
  },
  "orig_nbformat": 4
 },
 "nbformat": 4,
 "nbformat_minor": 2
}
