{
 "cells": [
  {
   "attachments": {},
   "cell_type": "markdown",
   "metadata": {},
   "source": [
    "# Optimisation non linéaire\n",
    "## Produits mix de 3 objets.\n",
    "\n",
    "Description : Plus le nombre d'objets est grand, moins le prix d'un objet est cher.\n",
    "Note : Les fonctions de décroissance du prix ne sont pas logiques en vie réelle, voir\n",
    "le fichier 02 de ce dépot.\n",
    "\n",
    "Histoire : \n",
    "\n",
    "J'ai 1 machine qui produit 3 pièces. La machine peut travailler 1000 heures au maximum. \n",
    "\n",
    "Le prix de vente des pièces A,B et C diminue avec la quantité produite.\n",
    "\n",
    "Le prix de vente de la pièce A est 81-qA/20 ( Le prix décroit si on produit beaucoup)\n",
    "\n",
    "Le prix de vente de la pièce B est 90-qB/10 ( Le prix décroit si on produit beaucoup)\n",
    "\n",
    "Le prix de vente de la pièce C est 85-qC/10 ( Le prix décroit si on produit beaucoup)\n",
    "\n",
    "Combien de pièces produire afin de maximiser mon profit ?\n",
    "\n",
    "* Lien similaire : \n",
    "https://www.emse.fr/~beaune/solveur/expnl.html"
   ]
  },
  {
   "cell_type": "code",
   "execution_count": 1,
   "metadata": {},
   "outputs": [],
   "source": [
    "# On importe Gekko\n",
    "from gekko import GEKKO\n",
    "\n",
    "m = GEKKO(remote=False) # Initialize gekko\n",
    "\n",
    "#The example problem that you referenced uses the default IPOPT solver. To get a binary or integer solution, switch to the APOPT solver.\n",
    "m.options.SOLVER = 1"
   ]
  },
  {
   "cell_type": "code",
   "execution_count": 2,
   "metadata": {},
   "outputs": [],
   "source": [
    "# On crée les variables de décision , ce sera notre nombre de pièces à réaliser, vu qu'on ne \n",
    "# peut pas avoir 1/2 objet, on dit que ce sont des variables entières.\n",
    "\n",
    "A = m.Var(value=1,lb=0,ub=10000,integer=True)\n",
    "B = m.Var(value=1,lb=0,ub=10000,integer=True)\n",
    "C = m.Var(value=1,lb=0,ub=10000,integer=True)\n",
    "\n",
    "# contraintes\n",
    "m.Equation( A + B + C <= 1000) # La machine un peut travailler 1000 heures maximum\n",
    "\n",
    "\n",
    "# Voici notre fonction objectif , qui tient compte du fait que plus on produits de pièces, Moins ça coute cher !!\n",
    "# On voit qu'elle est non linéaire parce que A , B et C sont élevés au carré !!\n",
    "m.Maximize( A * (81 - ( A / 20  )) + B * (90 - (B / 10)) + C * (85 - (C / 10)))"
   ]
  },
  {
   "cell_type": "code",
   "execution_count": 3,
   "metadata": {},
   "outputs": [
    {
     "name": "stdout",
     "output_type": "stream",
     "text": [
      "Solution\n",
      "A: [467.0]\n",
      "B: [279.0]\n",
      "C: [254.0]\n",
      "Objectif: 59386.85\n"
     ]
    }
   ],
   "source": [
    "# On imprime le résultat \n",
    "m.options.IMODE = 3 # Steady state optimization\n",
    "\n",
    "m.solve(disp=False) # Solve\n",
    "\n",
    "print('Solution')\n",
    "\n",
    "print('A: ' + str(A.value))\n",
    "print('B: ' + str(B.value))\n",
    "print('C: ' + str(C.value))\n",
    "\n",
    "print('Objectif: ' + str(-m.options.objfcnval))"
   ]
  }
 ],
 "metadata": {
  "kernelspec": {
   "display_name": "Python 3",
   "language": "python",
   "name": "python3"
  },
  "language_info": {
   "codemirror_mode": {
    "name": "ipython",
    "version": 3
   },
   "file_extension": ".py",
   "mimetype": "text/x-python",
   "name": "python",
   "nbconvert_exporter": "python",
   "pygments_lexer": "ipython3",
   "version": "3.8.0"
  },
  "orig_nbformat": 4
 },
 "nbformat": 4,
 "nbformat_minor": 2
}
