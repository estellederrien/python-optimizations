{
 "cells": [
  {
   "attachments": {},
   "cell_type": "markdown",
   "metadata": {},
   "source": [
    "# Produit mixe non linéaire\n",
    "# Prise en compte de la demande client\n",
    "\n",
    "Je vais recréer le même NLP que dans le fichier Excel ci joint, et voir si le solveur\n",
    "GEKKO trouve bien le même résultat !\n",
    "\n",
    "\n",
    "Code by Estelle Derrien \n",
    "\n",
    "* L'histoire\n",
    "- On a un magasin de jouets qui fabrique 5 jouets.\n",
    "\n",
    "- Le service commercial nous a communiqué les équations linéaires de la demande de chacun des chaque objets, il s'agit de données prévisionnelles de vente.\n",
    "- On a aussi le service production qui nous a communiqué ces contraintes de temps de travail MAXIMUM.\n",
    "- Combien de jouets faut il produire afin de maximiser le profit de notre entreprise ?\n",
    "\n",
    "\n",
    "Source: \n",
    "Bernard Taylor - Introduction to management science - Non linear optimizations\n",
    "\n"
   ]
  },
  {
   "cell_type": "code",
   "execution_count": 27,
   "metadata": {},
   "outputs": [],
   "source": [
    "# On importe Gekko\n",
    "from gekko import GEKKO\n",
    "\n",
    "m = GEKKO(remote=False) # Initialize gekko\n",
    "\n",
    "#The example problem that you referenced uses the default IPOPT solver. To get a binary or integer solution, switch to the APOPT solver.\n",
    "m.options.SOLVER = 1\n"
   ]
  },
  {
   "cell_type": "code",
   "execution_count": 28,
   "metadata": {},
   "outputs": [],
   "source": [
    "# On initialise nos variables de temps de travail max exprimées en heures\n",
    "temps_assemblage = 800\n",
    "temps_inspection = 500\n",
    "\n",
    "# On initialise nos variables de coût de production variable pour chaque jouet.\n",
    "cout_robot = 60\n",
    "cout_auto = 45\n",
    "cout_camion = 38\n",
    "cout_poupee = 40 \n",
    "cout_deguisement = 65\n",
    "\n",
    "# On crée les variables de décision de type entière puisqu'on ne peut pas avoir un demi jouet, c'est impossible.\n",
    "# Ces variables contiendront le nombre de jouets à réaliser, ca va être calculé par le solveur à la fin.\n",
    "robot = m.Var(value=1,lb=0,ub=10000,integer=True)\n",
    "auto = m.Var(value=1,lb=0,ub=10000,integer=True)\n",
    "camion = m.Var(value=1,lb=0,ub=10000,integer=True)\n",
    "poupee = m.Var(value=1,lb=0,ub=10000,integer=True)\n",
    "deguisement = m.Var(value=1,lb=0,ub=10000,integer=True)\n",
    "\n",
    "\n",
    "# On entre les Equations de contrainte de temps de travail, exprimées en heures.\n",
    "m.Equation(2 * robot + 3 * auto + 2 * camion + 3 * poupee + 1 * deguisement <= temps_assemblage)\n",
    "m.Equation(2 * robot + 1 * auto + 2 * camion + 1 * poupee + 2 * deguisement <= temps_inspection)\n",
    "\n",
    "\n",
    "# On entre les Equations de la demande qui ont été communiquées par le service commercial.\n",
    "# On les entre là, pour que la fonction objectif soies moins compliquée à lire après.\n",
    "demande_robot = m.Var()\n",
    "demande_auto = m.Var()\n",
    "demande_camion = m.Var()\n",
    "demande_poupee = m.Var()\n",
    "demande_deguisement = m.Var()\n",
    "m.Equation(demande_robot == (220 - 0.4 * robot)- cout_robot)\n",
    "m.Equation(demande_auto == (180 - 0.2 * auto) - cout_auto)\n",
    "m.Equation(demande_camion == (230 - 0.2 * camion) - cout_camion)\n",
    "m.Equation(demande_poupee == (175 - 0.2 * poupee) - cout_poupee)\n",
    "m.Equation(demande_deguisement == (220 - 0.2 * deguisement) - cout_deguisement)\n",
    "\n",
    "# Voici notre fonction objectif , qui tient compte de la demande\n",
    "m.Maximize( (demande_robot * robot) + (demande_auto * auto) + (demande_camion * camion) + (demande_poupee * poupee) + (demande_deguisement * deguisement)  ) \n",
    "\n",
    "\n",
    "\n",
    "\n",
    "\n"
   ]
  },
  {
   "cell_type": "code",
   "execution_count": 29,
   "metadata": {},
   "outputs": [
    {
     "name": "stdout",
     "output_type": "stream",
     "text": [
      "Solution\n",
      "robot: [13.0]\n",
      "auto: [86.0]\n",
      "camion: [106.0]\n",
      "poupee: [86.0]\n",
      "deguisement: [45.0]\n",
      "Objectif: -46948.8\n"
     ]
    }
   ],
   "source": [
    "# On imprime le résultat \n",
    "m.options.IMODE = 3 # Steady state optimization\n",
    "\n",
    "m.solve(disp=False) # Solve\n",
    "\n",
    "print('Solution')\n",
    "print('robot: ' + str(robot.value))\n",
    "print('auto: ' + str(auto.value))\n",
    "print('camion: ' + str(camion.value))\n",
    "print('poupee: ' + str(poupee.value))\n",
    "print('deguisement: ' + str(deguisement.value))\n",
    "print('Objectif: ' + str(m.options.objfcnval))"
   ]
  },
  {
   "attachments": {},
   "cell_type": "markdown",
   "metadata": {},
   "source": [
    "Le résultat est globalement le même que dans le fichier Excel ci joint, les différences minimes sont dues au fait que les variables de décisions sont définies en continue sous excel et en entiers sous gekko ( En entier, c'est ce qu'il faut.)\n",
    "\n",
    "Le solveur Gekko, confirme donc une fois de plus, qu'il peut traiter des problèmes identiques à ceux\n",
    "d'excel , et qu'il trouve le même résultat, en non linéaire, que le solveur GRG de excel.\n"
   ]
  }
 ],
 "metadata": {
  "kernelspec": {
   "display_name": "Python 3",
   "language": "python",
   "name": "python3"
  },
  "language_info": {
   "codemirror_mode": {
    "name": "ipython",
    "version": 3
   },
   "file_extension": ".py",
   "mimetype": "text/x-python",
   "name": "python",
   "nbconvert_exporter": "python",
   "pygments_lexer": "ipython3",
   "version": "3.8.0"
  },
  "orig_nbformat": 4
 },
 "nbformat": 4,
 "nbformat_minor": 2
}
