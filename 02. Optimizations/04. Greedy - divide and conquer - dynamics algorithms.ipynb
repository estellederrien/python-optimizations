{
 "cells": [
  {
   "cell_type": "markdown",
   "id": "0f17ab96",
   "metadata": {},
   "source": [
    "# Greedy - Divide and conquer - Dynamics algorithms\n",
    "\n",
    "comin' soon"
   ]
  }
 ],
 "metadata": {
  "language_info": {
   "name": "python"
  }
 },
 "nbformat": 4,
 "nbformat_minor": 5
}
