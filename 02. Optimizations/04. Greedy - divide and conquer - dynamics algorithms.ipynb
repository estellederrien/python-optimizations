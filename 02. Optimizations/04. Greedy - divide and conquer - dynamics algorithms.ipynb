{
 "cells": [
  {
   "cell_type": "markdown",
   "id": "0f17ab96",
   "metadata": {},
   "source": [
    "<div style=\"text-align:center\">\n",
    "<img src=\"img/pac-man-liste1.jpg\">\n",
    "</div>"
   ]
  },
  {
   "cell_type": "markdown",
   "id": "0d204a70",
   "metadata": {},
   "source": [
    "# <b>Introduction</b>\n",
    "\n",
    "Another option for performing optimizations is to use three types of algorithms: greedy algorithms, divide-and-conquer algorithms, and dynamic programming.\n",
    "\n",
    "In this notebook, I will use the basic ones.\n",
    "\n",
    "# <b> Summary </b>\n",
    "\n",
    "1. <b> Greedy algorithms </b>\n",
    "    - 1.1 Introduction and good and bad points\n",
    "    - 1.2 Fractional knapsack\n",
    "        - 1.2.1 Description\n",
    "        - 1.2.2 Code\n",
    "    - 1.3 Activity Selection Problem\n",
    "        - 1.3.1 Description\n",
    "        - 1.3.2 Code\n",
    "    - 1.4 Job Sequencing Problem\n",
    "        - 1.4.1 Description\n",
    "        - 1.4.2 Code\n",
    "    - 1.5 Minimum product subset of an array\n",
    "        - 1.5.1 Description\n",
    "        - 1.5.2 Code\n",
    "\n"
   ]
  }
 ],
 "metadata": {
  "language_info": {
   "name": "python"
  }
 },
 "nbformat": 4,
 "nbformat_minor": 5
}
