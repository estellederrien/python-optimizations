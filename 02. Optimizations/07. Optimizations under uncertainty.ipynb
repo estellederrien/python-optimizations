{
 "cells": [
  {
   "cell_type": "markdown",
   "id": "f846c314",
   "metadata": {},
   "source": [
    "Comin' soon\n",
    "\n",
    "Ali Papi Rad :\n",
    "\n",
    "📚 𝗕𝗲𝘀𝘁 𝗥𝗲𝗳𝗲𝗿𝗲𝗻𝗰𝗲𝘀 𝗼𝗳 𝗢𝗽𝘁𝗶𝗺𝗶𝘇𝗮𝘁𝗶𝗼𝗻 𝘂𝗻𝗱𝗲𝗿 𝗨𝗻𝗰𝗲𝗿𝘁𝗮𝗶𝗻𝘁𝘆\n",
    "\n",
    "Recently, I introduced 𝟏𝟓 + 𝟏 𝐓𝐨𝐩 𝐀𝐩𝐩𝐫𝐨𝐚𝐜𝐡𝐞𝐬 𝐭𝐨 𝐎𝐩𝐭𝐢𝐦𝐢𝐳𝐚𝐭𝐢𝐨𝐧 𝐮𝐧𝐝𝐞𝐫 𝐔𝐧𝐜𝐞𝐫𝐭𝐚𝐢𝐧𝐭𝐲 (here: https://lnkd.in/d5iBxFJJ). As promised, reflecting on my own experience and after gathering feedback from my students, I’m excited to disclose the resources that have truly elevated our learning journeys. If you’ve discovered a resource not on this list that’s made a real insight for you, I’d love to hear about it in the comments!\n",
    "\n",
    "\n",
    "✅ Stochastic Programming (SP)\n",
    "[1] Birge et al. (2011). Introduction to Stochastic Programming. Springer Sci. & Bus. Media\n",
    "[2] Shapiro et al. (2021). Lectures on Stochastic Programming: Modeling and Theory. SIAM\n",
    "\n",
    "✅ Conditional Value‑at‑Risk (CVaR) Optimization\n",
    "[3] Sarykalin et al. (2008). Value‑at‑Risk vs. Conditional Value‑at‑Risk in Risk Management and Optimization. INFORMS\n",
    "\n",
    "✅ Chance‑Constrained Programming (CCP)\n",
    "[4] Miller, B. L., & Wagner, H. M. (1965). Chance-constrained programming with joint constraints. Operations research, 13(6), 930-945.\n",
    "\n",
    "✅ Sample Average Approximation (SAA)\n",
    "[5] Kim et al. (2014). A Guide to Sample Average Approximation. Handb. Simul. Optim.\n",
    " [6] Pagnoncelli et al. (2009). Sample Average Approximation Method for Chance Constrained Programming: Theory and Applications. J. Optim. Theory Appl.\n",
    "\n",
    "✅ Robust Optimization (RO)\n",
    "[7] Bertsimas et al. (2011). Theory and Applications of Robust Optimization. SIAM Rev.\n",
    "[8] Gorissen et al. (2015). A Practical Guide to Robust Optimization. Omega\n",
    "[9] Gabrel et al. (2014). Recent Advances in Robust Optimization: An Overview. Eur. J. Oper. Res.\n",
    "\n",
    "\n",
    "✅ Distributionally Robust Optimization (DRO)\n",
    "[10] Van Parys et al. (2021). From Data to Decisions: Distributionally Robust Optimization Is Optimal. Manag. Sci.\n",
    "[11] Delage et al. (2010). Distributionally Robust Optimization Under Moment Uncertainty with Application to Data‑Driven Problems. Oper. Res.\n",
    "[12] Mohajerin Esfahani et al. (2018). Data‑Driven Distributionally Robust Optimization Using the Wasserstein Metric: Performance Guarantees and Tractable Reformulations. Math. Program.\n",
    "[13] Rahimian et al. (2022). Frameworks and Results in Distributionally Robust Optimization. Open J. Math. Optim."
   ]
  }
 ],
 "metadata": {
  "language_info": {
   "name": "python"
  }
 },
 "nbformat": 4,
 "nbformat_minor": 5
}
