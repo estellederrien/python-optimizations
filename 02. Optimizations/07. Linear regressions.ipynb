{
 "cells": [
  {
   "cell_type": "markdown",
   "id": "ebe810d1",
   "metadata": {},
   "source": [
    "\n",
    "\n",
    "<div style=\"text-align:center\">\n",
    "<img src=\"img/unnamed-chunk-2-1.png\">\n",
    "</div>"
   ]
  },
  {
   "cell_type": "markdown",
   "id": "86606d67",
   "metadata": {},
   "source": [
    "# Introduction\n",
    "\n",
    "Here is a single linear regression and a multiple linear regression example, using python."
   ]
  },
  {
   "cell_type": "markdown",
   "id": "0a6b9a4f",
   "metadata": {},
   "source": [
    "# Summary\n",
    "\n",
    "1. <b> Single linear regression </b>\n",
    "    - 1.1 Presentation\n",
    "    - 1.2 Coding\n",
    "2. <b> Multiple linear regression </b>\n",
    "    - 2.1 Presentation\n",
    "    - 2.2 Coding"
   ]
  },
  {
   "cell_type": "markdown",
   "id": "19ad4b29",
   "metadata": {},
   "source": [
    " Comin' soon\n",
    " \n",
    " https://github.com/Pritam0112/Operations-Research-Problems/blob/main/Least_Absolute_Regression.ipynb"
   ]
  }
 ],
 "metadata": {
  "language_info": {
   "name": "python"
  }
 },
 "nbformat": 4,
 "nbformat_minor": 5
}
