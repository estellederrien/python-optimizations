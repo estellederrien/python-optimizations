{
 "cells": [
  {
   "cell_type": "markdown",
   "metadata": {},
   "source": [
    "# Les Optimisations en mécanique.\n",
    "\n",
    "## Introduction.\n",
    "\n",
    "A venir !"
   ]
  }
 ],
 "metadata": {
  "language_info": {
   "name": "python"
  }
 },
 "nbformat": 4,
 "nbformat_minor": 2
}
