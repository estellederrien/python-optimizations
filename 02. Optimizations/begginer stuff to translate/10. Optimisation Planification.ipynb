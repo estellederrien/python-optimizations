{
 "cells": [
  {
   "cell_type": "markdown",
   "metadata": {},
   "source": [
    "# Les optimisations en planification.\n",
    "\n",
    "# Introduction"
   ]
  },
  {
   "cell_type": "markdown",
   "metadata": {},
   "source": [
    "# Sommaire\n",
    "\n",
    "- 1. Minimiser le nombre d'embauches d'employés.\n",
    "        - Notre problème de base\n",
    "        - Modélisation mathématique\n",
    "        - Solution avec Python Pulp\n",
    "- 2. Minimiser le coût de l'embauche d'employés.\n",
    "        - Notre problème de base\n",
    "        - Modélisation mathématique\n",
    "        - Solution avec Python Pulp\n",
    "- 2. Minimiser le nombre d'employés sur chaque créneaux ( les \"time shifts\" )\n",
    "        - Notre problème de base\n",
    "        - Modélisation mathématique\n",
    "        - Solution\n",
    "- 3. Minimisation multi période ( watson book page 109)\n",
    "        - Notre problème de base\n",
    "        - Modélisation mathématique\n",
    "        - Solution\n",
    "\n",
    "\n",
    "Etude globale proposée par <b>Estelle Derrien - Github estellederrien</b>"
   ]
  },
  {
   "attachments": {},
   "cell_type": "markdown",
   "metadata": {},
   "source": [
    "En cours de création - Sujet à modifications.\n",
    "\n"
   ]
  },
  {
   "cell_type": "markdown",
   "metadata": {},
   "source": [
    "# 1. Minimiser le nombre d'embauches d'employés.\n",
    "\n",
    "Problème :\n",
    "https://support.microsoft.com/en-gb/office/using-solver-to-schedule-your-workforce-7ae8dd69-7582-4f41-83f1-ea3543398b46"
   ]
  },
  {
   "cell_type": "code",
   "execution_count": 41,
   "metadata": {},
   "outputs": [],
   "source": [
    "# Besoins en employés :\n",
    "# Lundi     : 17\n",
    "# Mardi     : 13\n",
    "# Mercredi  : 15\n",
    "# Jeudi     : 17\n",
    "# Vendredi  : 9\n",
    "# Samedi    : 9\n",
    "# Dimanche  : 12\n",
    "\n",
    "# Contrainte : Chaque employé travaille 5 jours d'affilée suivi de 2 jours de congé.\n",
    "# Combien d'employés faut-il embaucher ?"
   ]
  },
  {
   "cell_type": "markdown",
   "metadata": {},
   "source": [
    "# Modélisation mathématique.\n",
    "\n",
    "Xi = nombre d'employé travaillant le jour i\n",
    "\n",
    "Objectif : Minimiser X0 + X1 + X2 + X3 + X4 + X5 + X6\n",
    "\n",
    "X0 + X3 + X4 + X5 + X6 >= 17\n",
    "\n",
    "X0 + X1 + X4 + X5 + X6 >= 13\n",
    "\n",
    "X0 + X1 + X2 + X5 + X6 >= 15\n",
    "\n",
    "X0 + X1 + X2 + X3 + X6 >= 17\n",
    "\n",
    "X0 + X1 + X2 + X3 + X4 >= 9\n",
    "\n",
    "X1 + X2 + X3 + X4 + X5 >= 9\n",
    "\n",
    "X2 + X3 + X4 + X5 + X6 >= 12\n",
    "\n",
    "Xi >= 0\n"
   ]
  },
  {
   "cell_type": "code",
   "execution_count": 42,
   "metadata": {},
   "outputs": [
    {
     "name": "stdout",
     "output_type": "stream",
     "text": [
      "employé_commence_à_travailler_jour_0 = 3.0\n",
      "employé_commence_à_travailler_jour_1 = 3.0\n",
      "employé_commence_à_travailler_jour_2 = 0.0\n",
      "employé_commence_à_travailler_jour_3 = 4.0\n",
      "employé_commence_à_travailler_jour_4 = 0.0\n",
      "employé_commence_à_travailler_jour_5 = 2.0\n",
      "employé_commence_à_travailler_jour_6 = 8.0\n",
      "Nb employés minimisé =  20.0\n"
     ]
    }
   ],
   "source": [
    "import pulp as p\n",
    "import pandas as pd\n",
    "\n",
    "# Initialize Class\n",
    "model = p.LpProblem(\"Minimize_Staffing\",p.LpMinimize)\n",
    "days = list(range(7))\n",
    "# Define Decision Variables\n",
    "x = p.LpVariable.dicts('employé_commence_à_travailler_jour', days,lowBound=0, cat='Integer')\n",
    "# Define Objective\n",
    "model += p.lpSum([x[i] for i in days])\n",
    "# Define Constraints\n",
    "model += x[0] + x[3] + x[4] + x[5] + x[6] >= 17 # Lundi\n",
    "model += x[0] + x[1] + x[4] + x[5] + x[6] >= 13 # Mardi\n",
    "model += x[0] + x[1] + x[2] + x[5] + x[6] >= 15 # Mercredi\n",
    "model += x[0] + x[1] + x[2] + x[3] + x[6] >= 17 # Jeudi\n",
    "model += x[0] + x[1] + x[2] + x[3] + x[4] >= 9 # Vendredi\n",
    "model += x[1] + x[2] + x[3] + x[4] + x[5] >= 9 # Samedi\n",
    "model += x[2] + x[3] + x[4] + x[5] + x[6] >= 12 # Dimanche\n",
    "\n",
    "# Résoudre\n",
    "model.solve()\n",
    "# On imprime les variables qui ont leur valeur optimisées\n",
    "for v in model.variables():\n",
    "    print(v.name, \"=\", v.varValue)\n",
    "\n",
    "# La valeur de la fonction objective optimisée est imprimée à l'écran\n",
    "print(\"Nb employés minimisé = \", p.value(model.objective))\n"
   ]
  },
  {
   "cell_type": "markdown",
   "metadata": {},
   "source": [
    "Analyse du résultat précédent. \n",
    "\n",
    "Je voudrais savoir si le Lundi, je vais bien avoir 17 personnes présentes.\n",
    "Donc , je remonte les 5 jours plus hauts dans la semaine et fait la somme \n",
    "\n",
    "Jour 6 soit dimanche : 8.0 employés commencent à travailler + Jour 5 soit samedi : 2 employés commencent + Jour 4 soit Vendredi : 0 employés commencent à travailler + Jour 3 soit Jeudi : 4 employés commencent à travailler \n",
    "Total : 14 employés + 3 le jour 0 soit Lundi, donc ca fait bien 17 personnes qui travaillent le Lundi !\n",
    "\n",
    "A noter que le résultat est le même dans le fichier Microsoft Excel de mon répertoire \"Excel\""
   ]
  },
  {
   "cell_type": "markdown",
   "metadata": {},
   "source": [
    "# 2. Minimiser le coût d'embauche d'employés\n",
    "\n",
    "Le BIM optimise la construction, la rénovation et la maintenance de bâtiments. \n",
    "Parmi les éléments à optimiser il y a les ouvriers. \n",
    "En général, il existe 4 types d’ouvriers en fonction de leur week-end. \n",
    "Le salaire des ouvriers dépendent de ces journées de congés :\n",
    "\n",
    "<div style=\"text-align:center\">\n",
    "<img src=\"img/lineaire28.webp\">\n",
    "</div>\n",
    "Les demandes quotidiennes en ouvriers sont les suivantes :\n",
    "<div style=\"text-align:center\">\n",
    "<img src=\"img/lineaire29.webp\">\n",
    "</div>\n",
    "Combien de personnes de chaque catégorie doit-on faire travailler de façon à satisfaire \n",
    "la demande et à minimiser le coût du personnel ? \n",
    "Donner la forme canonique du problème et résoudre à l’aide du Solver Excel."
   ]
  },
  {
   "cell_type": "code",
   "execution_count": 43,
   "metadata": {},
   "outputs": [
    {
     "name": "stdout",
     "output_type": "stream",
     "text": [
      "Status: Optimal\n",
      "X1 = 13.0\n",
      "X2 = 12.0\n",
      "X3 = 7.0\n",
      "X4 = 11.0\n",
      "223200.0\n"
     ]
    }
   ],
   "source": [
    "# Importer la librairie Pulp \n",
    "import pulp \n",
    "  \n",
    "# Créer un programme linéaire de MINIMISATION\n",
    "model = pulp.LpProblem(\"Minimiser\", pulp.LpMinimize)\n",
    "  \n",
    "# Créer les variables du problème \n",
    "X1 = pulp.LpVariable('X1', lowBound=0, cat='Integer')\n",
    "X2 = pulp.LpVariable('X2', lowBound=0, cat='Integer')\n",
    "X3 = pulp.LpVariable('X3', lowBound=0, cat='Integer')\n",
    "X4 = pulp.LpVariable('X4', lowBound=0, cat='Integer')\n",
    "  \n",
    "# Function économique objectif\n",
    "model += 5200 * X1 + 4800 * X2 + 5200 * X3 + 5600 * X4, \"PAYE\"\n",
    "\n",
    "# Contraintes\n",
    "\n",
    "model += X1  >= 0\n",
    "model += X2  >= 0\n",
    "model += X3  >= 0\n",
    "model += X4  >= 0\n",
    "model += 1 * X1 + 1 * X2 + 0 * X3 + 0 * X4 >= 25\n",
    "model += 1 * X1 + 1 * X2 + 1 * X3 + 0 * X4 >= 18\n",
    "model += 1 * X1 + 1 * X2 + 1 * X3 + 1 * X4 >= 41\n",
    "model += 1 * X1 + 1 * X2 + 1 * X3 + 1 * X4 >= 41\n",
    "model += 0 * X1 + 1 * X2 + 1 * X3 + 1 * X4 >= 30\n",
    "model += 0 * X1 + 0 * X2 + 1 * X3 + 1 * X4 >= 18\n",
    "model += 1 * X1 + 0 * X2 + 0 * X3 + 1 * X4 >= 24\n",
    "\n",
    "  \n",
    "# Résoudre le problème\n",
    "model.solve()\n",
    "pulp.LpStatus[model.status]\n",
    "\n",
    "# On imprime les résultats \n",
    "\n",
    "print(\"Status:\", pulp.LpStatus[model.status])\n",
    "for v in model.variables():\n",
    "    print(v.name, \"=\", v.varValue)\n",
    "\n",
    "# Print our objective function value\n",
    "print (pulp.value(model.objective))\n"
   ]
  },
  {
   "cell_type": "markdown",
   "metadata": {},
   "source": [
    "# Liens \n",
    "\n",
    "https://machinelearninggeek.com/solving-staff-scheduling-problem-using-linear-programming/"
   ]
  }
 ],
 "metadata": {
  "kernelspec": {
   "display_name": "Python 3",
   "language": "python",
   "name": "python3"
  },
  "language_info": {
   "codemirror_mode": {
    "name": "ipython",
    "version": 3
   },
   "file_extension": ".py",
   "mimetype": "text/x-python",
   "name": "python",
   "nbconvert_exporter": "python",
   "pygments_lexer": "ipython3",
   "version": "3.8.0"
  },
  "orig_nbformat": 4
 },
 "nbformat": 4,
 "nbformat_minor": 2
}
