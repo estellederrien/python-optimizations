{
 "cells": [
  {
   "cell_type": "markdown",
   "metadata": {},
   "source": [
    " # Les optimisations dynamiques.\n",
    "\n",
    "# Introduction.\n",
    "\n",
    "Mes autres notebooks décrivent des méthodes d'optimisation que l'on peut considérer comme statiques.\n",
    "Comme son nom l'indique, les optimisations dynamiques ont pour but d'optimiser un objet en mouvement.\n",
    "Forcément, on pressent que les équations différentielles vont donc apparaitre dans les optimisations réalisées avec les solveurs ainsi que la notion de temps, et qu'on a affaire à des problèmes plus complexes, qui nécessitent des bases mathématiques confirmées.\n",
    "\n",
    "Je vais déjà commencer par reprendre des méthodes de l'excellente société ApMonitor, ainsi que de livres. Il est clair qu'il s'agit d'un niveau supérieur aux autres optimisations. Le principe est cependant le même, variables de décisions, contraintes qui peuvent désormais comprendre des équations différentielles etc...\n",
    "\n",
    "EN COURS DE CREATION"
   ]
  },
  {
   "cell_type": "code",
   "execution_count": null,
   "metadata": {},
   "outputs": [],
   "source": []
  }
 ],
 "metadata": {
  "kernelspec": {
   "display_name": "Python 3",
   "language": "python",
   "name": "python3"
  },
  "language_info": {
   "codemirror_mode": {
    "name": "ipython",
    "version": 3
   },
   "file_extension": ".py",
   "mimetype": "text/x-python",
   "name": "python",
   "nbconvert_exporter": "python",
   "pygments_lexer": "ipython3",
   "version": "3.8.0"
  },
  "orig_nbformat": 4
 },
 "nbformat": 4,
 "nbformat_minor": 2
}
