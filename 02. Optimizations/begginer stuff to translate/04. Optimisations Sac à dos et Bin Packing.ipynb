{
 "cells": [
  {
   "attachments": {},
   "cell_type": "markdown",
   "metadata": {},
   "source": [
    "# Les Optimisations de type \"Sac à dos \" et \"Remplir un container\"\n",
    "\n",
    "## Introduction.\n",
    "Les optimisations de type sac à dos permettent de maximiser la valeur d'un sac en emportant uniquement \n",
    "les objets les plus chers, sous contrainte de poids maximum.\n",
    "Dans la pratique, cela sert à charger des camions ou des cargos judicieusement, afin d'optimiser le profit, cependant, on peut décider d'optimiser un autre paramètre.\n",
    "On peut par exemple optimiser une équipe de foot en choisissant les joueurs les plus rapides sous contrainte de budget maximum, et bien d'autres.\n",
    "\n",
    "\n",
    "Dans ce notebook, je vais aussi traiter les optimisations de type \" Remplir un container\" (Bin packing en Anglais) en une dimension, et deux dimensions, car cela se rapproche dans certains cas des problèmes de sac à dos. On veut remplir N containers de la façon la plus judicieuse, afin de minimiser le nombre de containers à utiliser, et donc, économiser de l'argent !\n",
    "\n",
    "Etude globale proposée par <b>Estelle Derrien - Github estellederrien</b>\n",
    "\n",
    "CREATION EN COURS\n",
    "\n",
    "L'exemple de base d'une optimisation sac à dos, résolu par mon application www.solvgraph.com en mode graphique:\n",
    "\n",
    "<div style=\"text-align:center\">\n",
    "<img src=\"img/knapsack.png\">\n",
    "</div>\n",
    "\n",
    "\n",
    "\n",
    "- https://machinelearninggeek.com/solving-cargo-loading-problem-using-integer-programming-in-python/"
   ]
  },
  {
   "cell_type": "markdown",
   "metadata": {},
   "source": [
    "# Sommaire\n",
    "- 0. <b>Les variantes de sac à dos.</b>\n",
    "        - Description\n",
    "- 1. <b>Le Sac à dos en 0-1</b>\n",
    "        - Notre problème de base\n",
    "        - Modélisation mathématique\n",
    "        - Solution avec Python Pulp\n",
    "- 2. <b>Le sac à dos illimité</b>\n",
    "        - Notre problème de base\n",
    "        - Modélisation mathématique\n",
    "        - Solution\n",
    "- 3. <b>Le Sac à dos Multiple</b>\n",
    "        - Notre problème de base\n",
    "        - Modélisation mathématique\n",
    "        - Solution avec Python Pulp\n",
    "- 4. <b>Le sac à dos en 2 dimensions</b>\n",
    "        - Notre problème de base\n",
    "        - Modélisation mathématique\n",
    "        - Exemple\n",
    "- 5. <b>Le sac à dos quadratique</b>\n",
    "        - Notre problème de base\n",
    "        - Modélisation mathématique\n",
    "        - Exemple\n",
    "- 6. <b>Le Bin packing en une dimension</b>\n",
    "        - Notre problème de base\n",
    "        - Modélisation mathématique\n",
    "        - Solution avec Python Pulp\n",
    "- 7. <b>Le Bin Packing en deux dimensions</b>\n",
    "        - Notre problème de base\n",
    "        - Modélisation mathématique\n",
    "        - Solution"
   ]
  },
  {
   "cell_type": "markdown",
   "metadata": {},
   "source": [
    "# 0. Les variantes de sacs à dos.\n",
    "\n",
    "## Description\n",
    "\n",
    "- <b>Sac à dos 0-1:</b>\n",
    "\n",
    "On prends un seul objet à la fois pour remplir \n",
    "le sac pour obtenir la plus grande valeur \n",
    "sous contrainte de poids maximum (ou autres param)\n",
    "\n",
    "- <b>Sac à dos illimités:</b>\n",
    "\n",
    "On peut prendre autant de fois le même objet qu'on veut. (Unbounded knapsack)\n",
    "\n",
    "- <b>Sac à dos multiples: </b>\n",
    "\n",
    "On peut prendre plusieurs sacs à dos.  \n",
    "\n",
    "- <b>Sac à dos en 2 dimensions:</b>\n",
    "\n",
    "On prends en compte la largeur et la longueur des objets - Idem Bin Packing 2 dimensions.\n",
    "\n",
    "- <b>Sac à dos quadratique.</b>\n",
    "\n",
    "C'est non linéaire."
   ]
  },
  {
   "cell_type": "markdown",
   "metadata": {},
   "source": [
    "# 1. Le sac à dos en 0-1\n",
    "\n",
    "Intérêt : Maximiser la valeur de ce que l'on transporte.\n",
    "\n",
    "Description :On ne peut prendre qu'une seule fois le même objet pour maximiser la valeur du sac."
   ]
  },
  {
   "cell_type": "markdown",
   "metadata": {},
   "source": [
    "## Notre problème de base.\n",
    "\n",
    "- J'ai le choix entre 4 objets, 1 marteau, 1 masse, 1 tournevis, 1 serviette.\n",
    "- Leur valeur est respectivement de 8, 3, 6 et 4 euros\n",
    "- Leur Poids est respectivement de 5,7,4, et 3 kgs.\n",
    "La capacité de mon sac est de 14 kgs maximum, sinon il craque.\n",
    "\n",
    "Quels objets dois-je prendre afin de maximiser la valeur de mon sac."
   ]
  },
  {
   "cell_type": "markdown",
   "metadata": {},
   "source": [
    "## Modélisation mathématique\n",
    "A venir !"
   ]
  },
  {
   "cell_type": "markdown",
   "metadata": {},
   "source": [
    "## Solution avec Python Pulp"
   ]
  },
  {
   "cell_type": "code",
   "execution_count": 5,
   "metadata": {},
   "outputs": [
    {
     "name": "stdout",
     "output_type": "stream",
     "text": [
      "Status = Optimal\n",
      "x_marteau = 1.000000\n",
      "x_masse = 0.000000\n",
      "x_serviette = 1.000000\n",
      "x_tournevis = 1.000000\n",
      "Valeur de mon sac = 18.000000\n"
     ]
    }
   ],
   "source": [
    "# Import du solveur.\n",
    "from pulp import *\n",
    "\n",
    "# v comme valeurs\n",
    "v = {'marteau':8, 'masse':3, 'tournevis':6, 'serviette':4}\n",
    "\n",
    "# p comme poids\n",
    "p = {'marteau':5, 'masse':7, 'tournevis':4, 'serviette':3}\n",
    "\n",
    "# Le poids maximum que mon sac peut contenir.\n",
    "limit = 14\n",
    "\n",
    "# astuce pour récupérer les noms des variables de décision.\n",
    "objets = list(sorted(v.keys()))\n",
    "\n",
    "# Créer le modèle : maximiser la valeur totale dans mon sac\n",
    "m = LpProblem(\"Knapsack\", LpMaximize)\n",
    "\n",
    "# Variables de décision\n",
    "x = LpVariable.dicts('x', objets, cat=LpBinary)\n",
    "\n",
    "# Objectif :  La somme des valeurs de objets doit être maximisée\n",
    "m += sum(v[i]*x[i] for i in objets)\n",
    "\n",
    "# Contrainte : La somme du poids des objets doit être inférieur à la limite.\n",
    "m += sum(p[i]*x[i] for i in objets) <= limit\n",
    "\n",
    "# Optimize\n",
    "m.solve()\n",
    "\n",
    "# Imprimer le statut\n",
    "print(\"Status = %s\" % LpStatus[m.status])\n",
    "\n",
    "# Imprimer les valeurs des variables de décision à leur optimum\n",
    "for i in objets:\n",
    "    print(\"%s = %f\" % (x[i].name, x[i].varValue))\n",
    "\n",
    "# Afficher l'objectif maximisé.\n",
    "print(\"Valeur de mon sac = %f\" % value(m.objective))\n"
   ]
  },
  {
   "cell_type": "markdown",
   "metadata": {},
   "source": [
    "# Le sac à dos illimité.\n",
    "\n",
    "On peut prendre autant de fois le même objet qu'on veut. "
   ]
  },
  {
   "cell_type": "markdown",
   "metadata": {},
   "source": [
    "## Notre problème de base.\n",
    "\n",
    "On reprends le même que dans le problème précédent, sauf qu'on a un sac de capacité de 140kgs."
   ]
  },
  {
   "cell_type": "markdown",
   "metadata": {},
   "source": [
    "## Modélisation mathématique\n",
    "A venir."
   ]
  },
  {
   "cell_type": "markdown",
   "metadata": {},
   "source": [
    "## Solution avec Pulp"
   ]
  },
  {
   "cell_type": "code",
   "execution_count": 6,
   "metadata": {},
   "outputs": [
    {
     "name": "stdout",
     "output_type": "stream",
     "text": [
      "Status = Optimal\n",
      "x_marteau = 28.000000\n",
      "x_masse = 0.000000\n",
      "x_serviette = 0.000000\n",
      "x_tournevis = 0.000000\n",
      "Valeur de mon sac = 224.000000\n",
      "Poids total = 140.000000\n"
     ]
    }
   ],
   "source": [
    "# Import du solveur.\n",
    "from pulp import *\n",
    "\n",
    "# v comme valeurs\n",
    "v = {'marteau':8, 'masse':3, 'tournevis':6, 'serviette':4}\n",
    "\n",
    "# p comme poids\n",
    "p = {'marteau':5, 'masse':7, 'tournevis':4, 'serviette':3}\n",
    "\n",
    "# q comme quantité\n",
    "q = {'marteau':1000, 'masse':400, 'tournevis':500, 'serviette':150}\n",
    "\n",
    "# Le poids maximum que mon sac peut contenir.\n",
    "limit = 140\n",
    "\n",
    "# astuce pour récupérer les noms des variables de décision.\n",
    "objets = list(sorted(v.keys()))\n",
    "\n",
    "# Créer le modèle : maximiser la valeur totale dans mon sac\n",
    "m = LpProblem(\"Knapsack_illimité\", LpMaximize)\n",
    "\n",
    "# Variables de décision, elle ne peut pas être négative et est entière, pas binaire.\n",
    "x = LpVariable.dicts('x', objets, lowBound=0,  cat=LpInteger)\n",
    "\n",
    "# Objectif :  La somme des valeurs de objets doit être maximisée\n",
    "m += sum(v[i]*x[i] for i in objets)\n",
    "\n",
    "# Contrainte : La somme du poids des objets doit être inférieur à la limite.\n",
    "m += sum(p[i]*x[i] for i in objets) <= limit\n",
    "\n",
    "# La quantité de chaque objets doit être inférieur à la quantité disponible\n",
    "for i in objets:\n",
    "    m += x[i] <= q[i]\n",
    "\n",
    "# Optimize\n",
    "m.solve()\n",
    "\n",
    "# Imprimer le statut\n",
    "print(\"Status = %s\" % LpStatus[m.status])\n",
    "\n",
    "# Imprimer les valeurs des variables de décision à leur optimum\n",
    "for i in objets:\n",
    "    print(\"%s = %f\" % (x[i].name, x[i].varValue))\n",
    "\n",
    "# Afficher l'objectif maximisé.\n",
    "print(\"Valeur de mon sac = %f\" % value(m.objective))\n",
    "\n",
    "print(\"Poids total = %f\" % sum([x[i].varValue*p[i] for i in objets]))"
   ]
  },
  {
   "cell_type": "markdown",
   "metadata": {},
   "source": [
    "# 6. Remplir un container en 1 dimension\n",
    "\n",
    "## Notre problème de base.\n",
    "\n"
   ]
  },
  {
   "cell_type": "markdown",
   "metadata": {},
   "source": [
    "## Modélisation mathématique\n",
    "\n",
    "    y[i] = 1 si un bin i est utilisé, 0 sinon.\n",
    "    x[(i, j)] = 1 si l'élément j est placé dans le bac i, 0 sinon\n",
    "    z = nombre de bacs réellement utilisés\n",
    "    n = nombre d'articles\n",
    "    c = capacité d'un seul bac\n",
    "    w[j] = poids (ou taille) de l'article j"
   ]
  },
  {
   "cell_type": "code",
   "execution_count": 2,
   "metadata": {},
   "outputs": [
    {
     "name": "stdout",
     "output_type": "stream",
     "text": [
      "Solved in 0.2211909294128418 seconds.\n",
      "Bins used: 5.0\n",
      "0: ['a', 'b', 'e', 'i', 'm', 'n']\n",
      "1: ['c', 'g', 'h', 'l']\n",
      "12: ['d']\n",
      "13: ['f']\n",
      "7: ['k']\n"
     ]
    }
   ],
   "source": [
    "\n",
    "from pulp import *\n",
    "import time\n",
    "\n",
    "#\n",
    "# Une liste de tuples d'éléments (nom, poids) -- le nom n'a de sens que pour les humains.\n",
    "# Le poids et la taille sont utilisés de manière interchangeable ici et ailleurs.\n",
    "#\n",
    "items = [(\"a\", 5),\n",
    "         (\"b\", 6),\n",
    "         (\"c\", 7),\n",
    "         (\"d\", 32),\n",
    "         (\"e\", 2),\n",
    "         (\"f\", 32),\n",
    "         (\"g\", 5),\n",
    "         (\"h\", 7),\n",
    "         (\"i\", 9),\n",
    "         (\"k\", 12),\n",
    "         (\"l\", 11),\n",
    "         (\"m\", 1),\n",
    "         (\"n\", 2)]\n",
    "\n",
    "itemCount = len(items)\n",
    "\n",
    "# Nombre de bacs maximum \n",
    "maxBins = 32\n",
    "\n",
    "# Taille d'un bac\n",
    "binCapacity = 32\n",
    "\n",
    "# Variable indicatrice affectée à 1 lorsque le bac est utilisé.\n",
    "y = pulp.LpVariable.dicts('BinUsed', range(maxBins),\n",
    "                            lowBound = 0,\n",
    "                            upBound = 1,\n",
    "                            cat = \"Integer\")\n",
    "\n",
    "# Une variable indicatrice qui est affectée à 1 lorsque l'élément est placé dans binNum\n",
    "possible_ItemInBin = [(itemTuple[0], binNum) for itemTuple in items\n",
    "                                            for binNum in range(maxBins)]\n",
    "x = pulp.LpVariable.dicts('itemInBin', possible_ItemInBin,\n",
    "                            lowBound = 0,\n",
    "                            upBound = 1,\n",
    "                            cat = \"Integer\")\n",
    "\n",
    "# Initialiser le problème\n",
    "prob = LpProblem(\"Bin Packing Problem\", LpMinimize)\n",
    "\n",
    "\n",
    "# Ajoutez la fonction objectif.\n",
    "prob += lpSum([y[i] for i in range(maxBins)]), \"Minimize_Bins_Used\"\n",
    "\n",
    "#\n",
    "# Ceci est la section des contraintes.\n",
    "#\n",
    "\n",
    "# Première contrainte : Un objet ne peut être que dans un seul bac\n",
    "for j in items:\n",
    "    prob += lpSum([x[(j[0], i)] for i in range(maxBins)]) == 1, (\"An item can be in only 1 bin -- \" + str(j[0]))\n",
    "\n",
    "# Deuxième contrainte : Pour chaque bac, le nombre d'articles dans le bac ne peut pas dépasser la capacité du bac\n",
    "for i in range(maxBins):\n",
    "    prob += lpSum([items[j][1] * x[(items[j][0], i)] for j in range(itemCount)]) <= binCapacity*y[i], (\"The sum of item sizes must be smaller than the bin -- \" + str(i))\n",
    "\n",
    "# Ecrire le modèle sur le disque\n",
    "prob.writeLP(\"BinPack.lp\")\n",
    "\n",
    "# Résoudre l'optimisation\n",
    "start_time = time.time()\n",
    "prob.solve()\n",
    "print(\"Solved in %s seconds.\" % (time.time() - start_time))\n",
    "\n",
    "\n",
    "# Les bacs utilisés\n",
    "print(\"Bins used: \" + str(sum(([y[i].value() for i in range(maxBins)]))))\n",
    "\n",
    "# Améliorer l'aspect des résultats.\n",
    "bins = {}\n",
    "for itemBinPair in x.keys():\n",
    "    if(x[itemBinPair].value() == 1):\n",
    "        itemNum = itemBinPair[0]\n",
    "        binNum = itemBinPair[1]\n",
    "        if binNum in bins:\n",
    "            bins[binNum].append(itemNum)\n",
    "        else:\n",
    "            bins[binNum] = [itemNum]\n",
    "\n",
    "for b in bins.keys():\n",
    "    print(str(b) + \": \" + str(bins[b]))\n",
    "\n"
   ]
  }
 ],
 "metadata": {
  "kernelspec": {
   "display_name": "Python 3",
   "language": "python",
   "name": "python3"
  },
  "language_info": {
   "codemirror_mode": {
    "name": "ipython",
    "version": 3
   },
   "file_extension": ".py",
   "mimetype": "text/x-python",
   "name": "python",
   "nbconvert_exporter": "python",
   "pygments_lexer": "ipython3",
   "version": "3.8.0"
  },
  "orig_nbformat": 4
 },
 "nbformat": 4,
 "nbformat_minor": 2
}
