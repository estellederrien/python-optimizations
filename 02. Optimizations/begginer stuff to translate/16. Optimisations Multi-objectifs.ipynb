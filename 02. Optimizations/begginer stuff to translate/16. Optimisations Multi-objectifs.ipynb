{
 "cells": [
  {
   "cell_type": "markdown",
   "metadata": {},
   "source": [
    "# Les Optimisations à objectifs multiples.\n",
    "\n",
    "## Introduction.\n",
    "\n",
    "A venir !"
   ]
  },
  {
   "cell_type": "code",
   "execution_count": null,
   "metadata": {},
   "outputs": [],
   "source": []
  }
 ],
 "metadata": {
  "language_info": {
   "name": "python"
  }
 },
 "nbformat": 4,
 "nbformat_minor": 2
}
