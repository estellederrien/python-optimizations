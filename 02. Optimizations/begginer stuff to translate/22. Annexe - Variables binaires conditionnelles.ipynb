{
 "cells": [
  {
   "attachments": {},
   "cell_type": "markdown",
   "metadata": {},
   "source": [
    "# Les variables binaires en optimisation \n",
    "\n",
    "\n",
    "<b>CREATION EN COURS - SUJET A DE LOURDES MODIFICATIONS </b><br>\n",
    "Etude globale proposée par <b>Estelle Derrien - Github estellederrien</b>\n",
    "\n",
    "# Introduction\n",
    "\n",
    "- Elles permettent de sélectionner.\n",
    "- Elles permettent d'établir des contraintes logiques (Et,Ou, Si/Alors...), dans ce document, on traite les contraintes de type Si/Alors ( IF/ELSE), d'autres contraintes logique existent, telles que les contraintes de multiplicité, par exemple, mais elles ne seront pas abordées ici.\n",
    "- Valeurs : Elles prennent la valeur 0 ou 1 (non ou oui).\n",
    "- Intérêt : Sélectionner  , établir une condition, pénaliser une variable de décision, sélectionner une contrainte, discriminer une contrainte, encadrer une contrainte .\n",
    "- Utilisation : Directement dans la fonction objectif, ou avec les contraintes. La démarche est souvent de lier une variable binaire T à une variable entière ou continue K, afin de créer un déclencheur en fonction de la valeur que prendra la variable K.\n",
    "- Déclaration : Elle diffère selon les solveurs, elle est plus facile dans certains.\n",
    "- Semblable à : IF/THEN ( Si/Alors en Anglais ), Semblable à un principe ON/OFF pour les machines. Equivaut à un 'trigger' en Anglais, un déclencheur.\n",
    "- Relaté à : Les méthodes <b>\"Big M\"</b> qui concernent la pénalisation , pas la méthode de base( Wikipédia).\n",
    "- Permettent souvent de : Eviter de faire une optimisation non linéaire dans le cadre des \"Piecewize constraints\".\n",
    "- Permettent d'attribuer une <b>pénalité</b> à une variable de décision, si sa valeur dépasse un certain seuil.\n",
    "- On évite d'utiliser la fonctionnalité de limites (Bounds) sur les variables de décision souvent fournies avec le solveur, <b>en même temps que</b> les variables binaires, c'est soit l'un,soit l'autre.\n",
    "\n",
    "# Les cas :\n",
    "<img src = \"img/th1.png\">\n",
    "\n",
    "<img src = \"img/th2.png\">\n",
    "\n",
    "\n",
    "#  Les Exemples simples que l'on va tenter de traiter avec les solveurs :\n",
    "\n",
    "<b>Exemple 1: Selection</b> J'ai 70k à investir dans un projet . \n",
    "Je veux maximiser l'efficacité Globale de mon futur groupe.\n",
    "Si Paul est choisi, alors Michel ne doit pas être choisi.\n",
    "Si Philippe est choisi, alors Eric et Gontran doivent être choisis.\n",
    "\n",
    "<b>Exemple 2: Selection</b> J'ai 70k à investir dans un projet . \n",
    "Je veux maximiser l'efficacité Globale de mon futur groupe.\n",
    "Paul, Michel et Mohammed doivent être impérativement choisis.\n",
    "\n",
    "\n",
    "<b>Exemple 3: Condition </b> Si la production de x dépasse 20, alors la contrainte z de coût de maintenance de 10 euros s'applique, sinon, elle ne s'applique pas.\n",
    "\n",
    "<b>Exemple 4: Condition multiple</b> Si la production de objet y > 100 ; coût de 20 euros, Si la production de objet y > 200 ; coût de 5 euros en plus ( donc 20 + 5)\n",
    "\n",
    "<b>Exemple 5: Condition \"ou\" (OR)</b> Ou la production de l'objet x est 0, Ou elle est > à 10.\n",
    "\n",
    "<b>Exemple 6:</b> Si un objet X1(variable de décision) dépasse 20kgs, alors le container Z n'est pas utilisé, c'est le container Y qui est utilisé.\n",
    "\n",
    "<b>Exemple 7:</b> Affectation d'employés aux tâches.\n",
    "\n",
    "<b>Exemple 8:</b> Si un élément chimique X1 (variable de décision) dépasse un seuil de 20grammes, alors, une pénalité lui est appliquée, ce qui privilégie l'élement chimique X2 dans l'optimisation finale.\n",
    "\n",
    "<b>Exemple 9:</b> Déclencher une machine X2 si la production sur la machine X1 est > 1000, sinon, ne pas la déclencher (Mode ON/OFF)\n",
    "\n",
    "\n",
    "\n",
    "<b>Exemple annexe</b> Créer une contrainte, si une variable de décision dépasse un certain seuil.\n",
    "\n",
    "# Liens :\n",
    "\n",
    "Pour comprendre les contraintes logiques et la méthode BigM dans une certaine mesure :\n",
    "\n",
    "https://ocw.mit.edu/courses/15-053-optimization-methods-in-management-science-spring-2013/resources/mit15_053s13_lec11/\n",
    "\n",
    "https://download.aimms.com/aimms/download/manuals/AIMMS3OM_IntegerProgrammingTricks.pdf\n",
    "\n",
    "https://math.stackexchange.com/questions/1851140/binary-integer-variables-in-linear-programming\n",
    "\n",
    "https://en.wikipedia.org/wiki/Big_M_method\n",
    "\n",
    "https://towardsdatascience.com/hands-on-integer-binary-linear-optimization-using-python-b6d8160cb1de\n",
    "\n",
    "https://arts.brainkart.com/article/big-m-method--introduction--1123/\n",
    "\n",
    "http://www.yzuda.org/Useful_Links/optimization/if-then-else-02.html\n",
    "\n",
    "https://benalexkeen.com/linear-programming-with-python-and-pulp-part-6/\n",
    "\n",
    "https://stackoverflow.com/questions/58825442/how-can-i-write-an-if-condition-for-my-decision-variable-for-mixed-integer-linea\n"
   ]
  },
  {
   "attachments": {},
   "cell_type": "markdown",
   "metadata": {},
   "source": [
    "# Exemple 1\n",
    "\n",
    "J'ai 70k à investir dans un projet . \n",
    "Je veux maximiser l'efficacité Globale de mon futur groupe.\n",
    "Si Paul est choisi, alors Michel ne doit pas être choisi.\n",
    "Si Philippe est choisi, alors Eric et Gontran doivent être choisis."
   ]
  },
  {
   "cell_type": "code",
   "execution_count": 37,
   "metadata": {},
   "outputs": [
    {
     "name": "stdout",
     "output_type": "stream",
     "text": [
      "Status: Optimal\n",
      "personnes_eric = 1.0\n",
      "personnes_etienne = 1.0\n",
      "personnes_gontran = 1.0\n",
      "personnes_henri = 0.0\n",
      "personnes_marie = 1.0\n",
      "personnes_michel = 0.0\n",
      "personnes_mohammed = 1.0\n",
      "personnes_paul = 1.0\n",
      "personnes_philippe = 1.0\n",
      "personnes_sandra = 1.0\n",
      "Total Efficacité 71.0\n"
     ]
    }
   ],
   "source": [
    "# Import de la lib\n",
    "from pulp import *\n",
    "\n",
    "# On entre les variables de décision\n",
    "personnes = [\"henri\", \"paul\",\"michel\",\"sandra\",\"etienne\",\"philippe\",\"eric\",\"gontran\",\"marie\",\"mohammed\"]\n",
    "\n",
    "# On entre les salaires\n",
    "salaires = {\"henri\": 8, \"paul\": 12, \"michel\": 14,\"sandra\": 3,\"etienne\":6,\"philippe\":13,\"eric\":12,\"gontran\":5,\"marie\":8,\"mohammed\":11}\n",
    "\n",
    "# On entre les évaluations d'efficacité\n",
    "efficacite = {\"henri\": 3, \"paul\": 8, \"michel\": 12,\"sandra\": 6,\"etienne\":8,\"philippe\":13,\"eric\":10,\"gontran\":8,\"marie\":9,\"mohammed\":9}\n",
    "\n",
    "\n",
    "# On définit notre probleme linéaire\n",
    "prob = LpProblem (\"MaximiserEfficaciteTotale\", LpMaximize)\n",
    "\n",
    "# On crée les variables de décision binaires à l'aide du tableau des variables de décision \"personnes\"\n",
    "x = LpVariable.dicts(\"personnes\", personnes , lowBound=0, cat='Binary')\n",
    "\n",
    "# On crée la fonction objectif qui est de maximiser l'efficacité totale\n",
    "prob += lpSum([efficacite[i] * x[i] for i in personnes ]), \"MaximiserEfficaciteTotale\" \n",
    "\n",
    "# On crée la contrainte qu'on doit payer au plus 70k  de salaire.\n",
    "prob += lpSum([salaires[i] * x[i] for i in personnes ]) <= 70,\"salaire\"\n",
    "\n",
    "\n",
    "# Ici, on a des exemples d'utilisation des contraintes pour effectuer de la sélection.\n",
    "\n",
    "# Paul est forcément choisi si sa variable de décision binaire est imposée à 1.\n",
    "# prob += (x['paul'] == 1,\"paul est choisi\")\n",
    "\n",
    "# Si Paul est sélectionné dans l'optimisation, alors ne pas choisir Michel, et vice versa.\n",
    "# On comprends que la var de décision 1 + 1 ne peux pas être <= 1 donc , le solveur\n",
    "# ne choisira jamais Paul et Michel Simultanément.\n",
    "prob += (x['paul'] + x['michel'] <= 1,\"michel pas avec paul\")\n",
    "\n",
    "# On utilise le solver pulp\n",
    "prob.solve()\n",
    "\n",
    "# On affiche le statut de la solution\n",
    "print (\"Status:\", LpStatus [prob.status])\n",
    "\n",
    "# Afficher l'optimium de chaques variables produits qui s'exprime en unité construites\n",
    "for v in prob.variables ():\n",
    "    print (v.name, \"=\", v.varValue)\n",
    "\n",
    "\n",
    "# Le résultat de la fonction objectif est ici :\n",
    "print (\"Total Efficacité\", value (prob.objective))\n",
    "\n"
   ]
  },
  {
   "attachments": {},
   "cell_type": "markdown",
   "metadata": {},
   "source": [
    "## Exemple 3\n",
    "<b>Si la production de x dépasse 20, alors la contrainte z de coût maintenance de 10 euros s'applique, sinon, elle ne s'applique pas.</b>\n",
    "\n",
    "On s'entraine sur un programme linéaire simple avec Pulp .\n",
    "La création de la variable binaire z se passe en deux temps\n",
    "- 1. On instancie la variable binaire\n",
    "- 2. On crée une contrainte qui mets en jeu cette variable binaire\n",
    "\n",
    "Le problème : L'usine produit 2  objets x et y et les vends resp 10.5 euros et 8.5 euros, quand la production de l'objet x dépasse 20 unités, alors un coût de maintenance de 10 euros est soustrait à notre profit.  Comment modéliser ce problème simple avec les solveurs ?"
   ]
  },
  {
   "cell_type": "code",
   "execution_count": 38,
   "metadata": {},
   "outputs": [
    {
     "name": "stdout",
     "output_type": "stream",
     "text": [
      "100.0 Objets produits x\n",
      "60.0 Objets produits y\n",
      "1.0 La valeur de la variable binaire utilisée ou pas , 0 ou 1\n",
      "1550.0 est notre profit\n"
     ]
    }
   ],
   "source": [
    "# Importer la librairie Pulp sous le pseudo p\n",
    "import pulp as p \n",
    "  \n",
    "# Créer un programme linéaire de maximisation\n",
    "Lp_prob = p.LpProblem('Problem', p.LpMaximize)  \n",
    "\n",
    "# -----------------------------------\n",
    "# On définit nos constantes\n",
    "#\n",
    "# -----------------------------------\n",
    "\n",
    "# On spécifie le cout de maintenance\n",
    "cout_maintenance = 10\n",
    "\n",
    "# On spécifie le seuil de déclenchement de la maintenance\n",
    "declencheur_maintenance = 20\n",
    "\n",
    "# -----------------------------------\n",
    "# On définit nos variables de décision\n",
    "#\n",
    "# -----------------------------------\n",
    "  \n",
    "# On Crée les variables de décision du problème , x et y sont des objets que l'usine produit\n",
    "x = p.LpVariable(\"x\", lowBound = 0, cat='Integer')   # Create a variable x >= 0 \n",
    "y = p.LpVariable(\"y\", lowBound = 0, cat='Integer')   # Create a variable y >= 0 \n",
    "\n",
    "# Comme on a besoin d'appliquer un cout de maintenance conditionnel, on a besoin \n",
    "# de définir une variable binaire qui va se déclencher si la production de x est supérieure\n",
    "# à 20 objets !\n",
    "z = p.LpVariable(\"z\", lowBound=0, cat='Binary')\n",
    "z.setInitialValue(0) # On tente d'initialiser la variable à 0\n",
    "\n",
    "# -----------------------------------\n",
    "# On définit la fonction objectif\n",
    "#\n",
    "# -----------------------------------\n",
    "  \n",
    "# Ecrire la fonction objectif à maximizer qui nous donne un résultat en Euros \n",
    "# Ici, x est vendu 10.5 euros et y 8.5 euros, le coût de 10 euros de maintenance\n",
    "#  est soustrait seulement si z est positive.\n",
    "Lp_prob +=  10.5 * x + 8.5 * y - cout_maintenance * z\n",
    "\n",
    "\n",
    "# -----------------------------------\n",
    "# On définit nos contraintes\n",
    "#\n",
    "# ----------------------------------- \n",
    "\n",
    "# Heures de travail au mois\n",
    "# Ca prends 3 heures de crée un objet x, et 2 heures de créer un objet y\n",
    "Lp_prob += 3 * x + 2 * y  <= 420\n",
    "\n",
    "# Il faut produire au minimum ce nombre d'objets :\n",
    "Lp_prob += x  >= 100\n",
    "Lp_prob += y  >= 40\n",
    "\n",
    "# La contrainte binaire qu'on doit faire:\n",
    "\n",
    "# On utilise la méthode \" BigM \"\n",
    "# On vérifie que cela fonctionne en changeant le signe, on voit que la variable binaire passe bien \n",
    "# de 1 à 0 et que le coût est appliqué dans un cas, et pas dans l'autre dans la fonction objectif.\n",
    "\n",
    "M = 1000  # M se calcule selon une certaine méthode , voir plus bas.\n",
    "\n",
    "# si x > 20 alors z = 1 s'écrit comme cela avec PULP\n",
    "Lp_prob += z >= (x - declencheur_maintenance )/M\n",
    "\n",
    "\n",
    "# -----------------------------------\n",
    "# On résouds avec le solveur\n",
    "#\n",
    "# -----------------------------------\n",
    "\n",
    "# Afficher le problème linéaire\n",
    "# print(Lp_prob) \n",
    "status = Lp_prob.solve()   # Exécuter le solver\n",
    "# print(p.LpStatus[status])   # Le statut de la solution\n",
    "\n",
    "# Afficher la solution :\n",
    "print(p.value(x),\"Objets produits x\")\n",
    "print(p.value(y) , \"Objets produits y\"  )\n",
    "print(p.value(z) , \"La valeur de la variable binaire utilisée ou pas , 0 ou 1\"  )\n",
    "print(p.value(Lp_prob.objective) ,\"est notre profit\" )\n"
   ]
  },
  {
   "attachments": {},
   "cell_type": "markdown",
   "metadata": {},
   "source": [
    "Maintenant, on va essayer avec le solveur DocPlex, qui permet d'écrire les contraintes binaires plus simplement"
   ]
  },
  {
   "cell_type": "code",
   "execution_count": 39,
   "metadata": {},
   "outputs": [
    {
     "name": "stdout",
     "output_type": "stream",
     "text": [
      "Model: LP_example\n",
      " - number of variables: 4\n",
      "   - binary=2, integer=2, continuous=0\n",
      " - number of constraints: 5\n",
      "   - linear=3, indicator=1, equiv=1\n",
      " - parameters: defaults\n",
      " - objective: maximize\n",
      " - problem type is: MILP\n",
      "Version identifier: 22.1.0.0 | 2022-03-25 | 54982fbec\n",
      "CPXPARAM_Read_DataCheck                          1\n",
      "Tried aggregator 1 time.\n",
      "MIP Presolve eliminated 4 rows and 2 columns.\n",
      "MIP Presolve added 1 rows and 1 columns.\n",
      "Reduced MIP has 1 rows, 3 columns, and 3 nonzeros.\n",
      "Reduced MIP has 0 binaries, 3 generals, 0 SOSs, and 0 indicators.\n",
      "Presolve time = 0.02 sec. (0.01 ticks)\n",
      "Found incumbent of value 1380.000000 after 0.02 sec. (0.01 ticks)\n",
      "Tried aggregator 1 time.\n",
      "MIP Presolve eliminated 1 rows and 1 columns.\n",
      "MIP Presolve added 1 rows and 1 columns.\n",
      "Reduced MIP has 1 rows, 3 columns, and 3 nonzeros.\n",
      "Reduced MIP has 0 binaries, 3 generals, 0 SOSs, and 0 indicators.\n",
      "Presolve time = 0.02 sec. (0.00 ticks)\n",
      "MIP emphasis: balance optimality and feasibility.\n",
      "MIP search method: dynamic search.\n",
      "Parallel mode: deterministic, using up to 8 threads.\n",
      "Root relaxation solution time = 0.00 sec. (0.00 ticks)\n",
      "\n",
      "        Nodes                                         Cuts/\n",
      "   Node  Left     Objective  IInf  Best Integer    Best Bound    ItCnt     Gap\n",
      "\n",
      "*     0+    0                         1380.0000     1686.5000            22.21%\n",
      "*     0     0      integral     0     1550.0000     1550.0000        0    0.00%\n",
      "Elapsed time = 0.06 sec. (0.02 ticks, tree = 0.00 MB, solutions = 2)\n",
      "\n",
      "Root node processing (before b&c):\n",
      "  Real time             =    0.06 sec. (0.02 ticks)\n",
      "Parallel b&c, 8 threads:\n",
      "  Real time             =    0.00 sec. (0.00 ticks)\n",
      "  Sync time (average)   =    0.00 sec.\n",
      "  Wait time (average)   =    0.00 sec.\n",
      "                          ------------\n",
      "Total (root+branch&cut) =    0.06 sec. (0.02 ticks)\n",
      "objective: 1550.000\n",
      "status: OPTIMAL_SOLUTION(2)\n",
      "  x=100\n",
      "  y=60\n",
      "  z=1\n"
     ]
    }
   ],
   "source": [
    "\n",
    "import cplex\n",
    "import docplex.mp\n",
    "from docplex.mp.model import Model\n",
    "\n",
    "# On crée notre modèle\n",
    "model = Model(name='LP_example', log_output=True)\n",
    "\n",
    "# On crée nos variables de décision\n",
    "x = model.integer_var(name='x')\n",
    "y = model.integer_var(name='y')\n",
    "z = model.binary_var(name='z')\n",
    "\n",
    "# On crée la fonction objectif\n",
    "model.maximize(10.5 * x + 8.5 * y - z * cout_maintenance)\n",
    "\n",
    "# On crée les contraintes\n",
    "model.add_constraint(x  >= 100)\n",
    "model.add_constraint(y >= 40)\n",
    "model.add_constraint(3 * x + 2 * y  <= 420)\n",
    "\n",
    "# On spécifie le déclencheur de la contrainte z, \n",
    "# qui dit que si la production de x dépasse 20, \n",
    "# alors le coût de 10 euros est soustrait dans la fonction objectif\n",
    "#if then constraint\n",
    "model.add_constraint(model.if_then(x >= declencheur_maintenance, z == 1))\n",
    "\n",
    "\n",
    "model.print_information() \n",
    "sol_model = model.solve()\n",
    "model.print_solution()\n"
   ]
  },
  {
   "attachments": {},
   "cell_type": "markdown",
   "metadata": {},
   "source": [
    "Donc, on voit qu'avec Pulp, et surement d'autre solveurs, on doit utiliser une astuce appelée BigM , parce que ils n'ont pas de fonctionnalité IF/THEN native."
   ]
  },
  {
   "attachments": {},
   "cell_type": "markdown",
   "metadata": {},
   "source": [
    "## Exemple 4\n",
    "<b>\n",
    "\n",
    "- Si la production de objet y > 100 ; coût de 20 euros\n",
    "\n",
    "- Si la production de objet y > 200 ; coût de 5 euros en plus ( donc 20 + 5)\n",
    "</b>\n",
    "\n",
    "Note Importante à propos du fonctionnement de cette optimisation : IL faut comprendre que la fonction objectif évitera d'affecter des côuts , vu que le but est de maximiser. \n",
    "\n",
    "Du coup, si le coût de y augmente trop, elle préfèrera choisir de produire des objets x, on le voit en modifiant les variables.\n",
    "\n",
    "Il faut comprendre que les coûts sont intégrés dans l'optimisation et donc la maximisation de profit, et n'interviennent pas dans une seconde partie, après lieu en dehors de l'optimisation ( Mais on pourrait le faire en codant quelque chose après l'optimisation, un simple calcul)."
   ]
  },
  {
   "cell_type": "code",
   "execution_count": 40,
   "metadata": {},
   "outputs": [
    {
     "name": "stdout",
     "output_type": "stream",
     "text": [
      "0.0 Objets produits x\n",
      "210.0 Objets produits y\n",
      "1.0 La valeur de la variable binaire utilisée ou pas , 0 ou 1\n",
      "1.0 La valeur de la variable binaire utilisée ou pas , 0 ou 1\n",
      "1760.0 est notre profit\n",
      "Optimal\n"
     ]
    }
   ],
   "source": [
    "import pulp as p \n",
    "\n",
    "# On veut maximiser notre profit.\n",
    "Lp_prob = p.LpProblem('Problem', p.LpMaximize)  \n",
    "\n",
    "# On crée les variables de décision.\n",
    "x = p.LpVariable(\"x\", lowBound = 0, cat='Integer')   \n",
    "y = p.LpVariable(\"y\", lowBound = 0, cat='Integer')   \n",
    "z = p.LpVariable(\"z\", lowBound=0, cat='Binary')\n",
    "r = p.LpVariable(\"r\", lowBound=0, cat='Binary')\n",
    "\n",
    "# Fonction objectif à maximiser avec les coûts qui sont soustraits.\n",
    "Lp_prob +=  10.5 * x + 8.5 * y - 20 * z - 5* r\n",
    "\n",
    "# Contrainte d'heures de travail.\n",
    "Lp_prob += 3 * x + 2 * y  <= 420\n",
    "\n",
    "# Les contraintes de coûts qui s'appliquent si la production de y dépasse un certain seuil\n",
    "\n",
    "# Méthode BigM , on choisit une sorte de limite supérieure \n",
    "# qu'on pense valide pour la production de y\n",
    "\n",
    "M = 1000  # Méthode BigM\n",
    "M2 = 1000 \n",
    "\n",
    "# Si y > 100, alors  z=1 et les coûts sont soustraits dans la fonction objectif\n",
    "Lp_prob += z >= (y - 100 )/M\n",
    "\n",
    "# Si y > 200, alors r = 1 et les coûts sont soustraits dans la fonction objectif\n",
    "Lp_prob += r >= (y - 200 )/M2\n",
    "\n",
    "# Résolution avec le solveur\n",
    "status = Lp_prob.solve()   \n",
    "print(p.value(x),\"Objets produits x\")\n",
    "print(p.value(y) , \"Objets produits y\"  )\n",
    "print(p.value(z) , \"La valeur de la variable binaire utilisée ou pas , 0 ou 1\"  )\n",
    "print(p.value(r) , \"La valeur de la variable binaire utilisée ou pas , 0 ou 1\"  )\n",
    "print(p.value(Lp_prob.objective) ,\"est notre profit\" )\n",
    "print(p.LpStatus[status])   "
   ]
  },
  {
   "attachments": {},
   "cell_type": "markdown",
   "metadata": {},
   "source": [
    "# Exemple 5: Condition \"ou\" (XOR)</b> Ou la production de l'objet x est 0, Ou elle est > à 10.\n",
    "\n",
    "Lien : https://math.stackexchange.com/questions/1851140/binary-integer-variables-in-linear-programming\n",
    "\n",
    "Le modèle avec des contraintes OR :\n",
    "\n",
    "<img src=\"img/xor1.png\">\n",
    "\n",
    "Une solution de modélisation BigM :\n",
    "\n",
    "<img src=\"img/xor2.jpg\">\n",
    "\n",
    "\n",
    "Maintenant, on recrée sa modélisation BigM d'une contrainte OR avec un solveur : "
   ]
  },
  {
   "cell_type": "code",
   "execution_count": null,
   "metadata": {},
   "outputs": [],
   "source": []
  },
  {
   "attachments": {},
   "cell_type": "markdown",
   "metadata": {},
   "source": [
    "# Exemple 7 : Affectation d'employés aux tâches\n",
    "\n",
    "On utilise de nouveau les variables binaires pour affecter les employés aux tâches, de manière à minimiser le côut total.\n",
    "Problème Excel issu de : https://www.excel-easy.com/examples/assignment-problem.html\n",
    "\n",
    "On trouve le même résultat avec le code Python ci dessous, qu'avec le solveur Excel.\n",
    "\n",
    "On remarque que le créateur de ce code ci dessous a pas mal utilisé les tableaux, il serait possible d'utiliser les dictionnaires python plutôt, on va essayer ( Voir ma méthode ' Créer des vars de décision rapidement.ipynb').\n",
    "\n",
    "<b> Le principe </b>\n",
    "\n",
    "On voit qu'il crée une variables de décision de type binaire par possibilité d'affectation à une tâche, pour cela, il utilise le code d'une certaine façon. A la fin, il y a 9 possibilités différentes d'affectation.\n"
   ]
  },
  {
   "cell_type": "code",
   "execution_count": 41,
   "metadata": {},
   "outputs": [
    {
     "name": "stdout",
     "output_type": "stream",
     "text": [
      "defaultdict(<function __makeDict.<locals>.<lambda> at 0x0000026DF5DBA160>, {'Pierre': defaultdict(<function __makeDict.<locals>.<lambda> at 0x0000026DE66D4CA0>, {'Plomberie': 40, 'Carrelage': 47, 'Electricité': 80}), 'Paul': defaultdict(<function __makeDict.<locals>.<lambda> at 0x0000026DF5DBA310>, {'Plomberie': 72, 'Carrelage': 36, 'Electricité': 58}), 'Jacques': defaultdict(<function __makeDict.<locals>.<lambda> at 0x0000026DF5DBA280>, {'Plomberie': 24, 'Carrelage': 61, 'Electricité': 71})})\n"
     ]
    }
   ],
   "source": [
    "# On importe PUlp\n",
    "from pulp import *\n",
    "\n",
    "workers=[\"Pierre\",\"Paul\",\"Jacques\"]\n",
    "jobs=[\"Plomberie\",\"Carrelage\",\"Electricité\"]\n",
    "\n",
    "# Matrice des côuts\n",
    "costs=[[40,47,80],\n",
    "      [72,36,58],\n",
    "      [24,61,71]]\n",
    "\n",
    "prob = LpProblem(\"Assignment_Problem\", LpMinimize) \n",
    "\n",
    "# On crée un dictionnaire avec les datas des coûts\n",
    "costs= makeDict([workers, jobs], costs, 0)\n",
    "\n",
    "print(costs)"
   ]
  },
  {
   "cell_type": "code",
   "execution_count": 42,
   "metadata": {},
   "outputs": [
    {
     "name": "stdout",
     "output_type": "stream",
     "text": [
      "[('Pierre', 'Plomberie'), ('Pierre', 'Carrelage'), ('Pierre', 'Electricité'), ('Paul', 'Plomberie'), ('Paul', 'Carrelage'), ('Paul', 'Electricité'), ('Jacques', 'Plomberie'), ('Jacques', 'Carrelage'), ('Jacques', 'Electricité')]\n"
     ]
    }
   ],
   "source": [
    "# Creates a list of tuples containing all the possible assignments\n",
    "# On crée une list de tuples qui contient toutes les affectations en français\n",
    "assign = [(w, j) for w in workers for j in jobs]\n",
    "\n",
    "print(assign)"
   ]
  },
  {
   "cell_type": "code",
   "execution_count": 43,
   "metadata": {},
   "outputs": [
    {
     "name": "stdout",
     "output_type": "stream",
     "text": [
      "{'Pierre': {'Plomberie': Assign_Pierre_Plomberie, 'Carrelage': Assign_Pierre_Carrelage, 'Electricité': Assign_Pierre_Electricité}, 'Paul': {'Plomberie': Assign_Paul_Plomberie, 'Carrelage': Assign_Paul_Carrelage, 'Electricité': Assign_Paul_Electricité}, 'Jacques': {'Plomberie': Assign_Jacques_Plomberie, 'Carrelage': Assign_Jacques_Carrelage, 'Electricité': Assign_Jacques_Electricité}}\n"
     ]
    }
   ],
   "source": [
    "# A dictionary called 'Vars' is created to contain the referenced variables\n",
    "# un dicitonnaire appelé vars est créé pour contenir toutes les variables référencées\n",
    "vars = LpVariable.dicts(\"Assign\", (workers, jobs), 0, None, LpBinary)\n",
    "\n",
    "print(vars)"
   ]
  },
  {
   "cell_type": "code",
   "execution_count": 44,
   "metadata": {},
   "outputs": [
    {
     "name": "stdout",
     "output_type": "stream",
     "text": [
      "Assign_Jacques_Carrelage = 0.0\n",
      "Assign_Jacques_Electricité = 0.0\n",
      "Assign_Jacques_Plomberie = 1.0\n",
      "Assign_Paul_Carrelage = 0.0\n",
      "Assign_Paul_Electricité = 1.0\n",
      "Assign_Paul_Plomberie = 0.0\n",
      "Assign_Pierre_Carrelage = 1.0\n",
      "Assign_Pierre_Electricité = 0.0\n",
      "Assign_Pierre_Plomberie = 0.0\n",
      "Value of Objective Function =  129.0\n"
     ]
    }
   ],
   "source": [
    "# The objective function is added to 'prob' first\n",
    "# On ajoute la fonction objectif en premier à notre problème linéaire.\n",
    "prob += (\n",
    "    lpSum([vars[w][j] * costs[w][j] for (w, j) in assign]),\n",
    "    \"Sum_of_Assignment_Costs\",\n",
    ")\n",
    "\n",
    "# There are row constraints. Each job can be assigned to only one employee.\n",
    "# Il y a des contraintes de type ligne, chaque emploi ne peut être assigné qu'à un seul employé.\n",
    "for j in jobs:\n",
    "    prob+= lpSum(vars[w][j] for w in workers) == 1\n",
    "\n",
    "# There are column constraints. Each employee can be assigned to only one job.\n",
    "# Il y a des contraintes de type colonne, chaque employé ne peut être assigné qu'à un seul emploi - Note, on peut mettre 2 si il peut faire 2 emplois.\n",
    "for w in workers:\n",
    "    prob+= lpSum(vars[w][j] for j in jobs) == 1\n",
    "\n",
    "# The problem is solved using PuLP's choice of Solver\n",
    "# On résouds le problème.\n",
    "prob.solve()\n",
    "\n",
    "# Print the variables optimized value\n",
    "# On imprime les variables optimisées.\n",
    "for v in prob.variables():\n",
    "    print(v.name, \"=\", v.varValue)\n",
    "    \n",
    "# The optimised objective function value is printed to the screen\n",
    "# On imprime le total de notre fonction objectif, qui est le coût minimisé.\n",
    "# en fait, le solveur affecte les employés aux tâches de façon à minimiser notre coût global\n",
    "print(\"Value of Objective Function = \", value(prob.objective))\n",
    "\n"
   ]
  },
  {
   "attachments": {},
   "cell_type": "markdown",
   "metadata": {},
   "source": [
    "# Exemple annexe : Créer une contrainte, si une variable de décision dépasse un certain seuil.\n",
    "\n",
    "Voici la traduction de l'auteur qui a fourni un bon exemple de BigM sur StackOverflow (Kabdulla et Alfer):\n",
    "\n",
    "\n",
    "Le terme de recherche que vous recherchez est \"variable indicatrice\" ou \"contrainte big-M\".\n",
    "\n",
    "Autant que je sache, PULP ne prend pas directement en charge les variables indicatrices, donc une contrainte big-M est la voie à suivre.\n",
    "\n",
    "A Simple Example: x1 <= 0 IF x2 > 2\n"
   ]
  },
  {
   "cell_type": "code",
   "execution_count": 45,
   "metadata": {},
   "outputs": [
    {
     "name": "stdout",
     "output_type": "stream",
     "text": [
      "Optimal\n",
      "2.0 10.0 0.0 11.0\n"
     ]
    }
   ],
   "source": [
    "from pulp import *\n",
    "\n",
    "prob = LpProblem(\"MILP\", LpMaximize)\n",
    "x1 = LpVariable(\"x1\", lowBound=0, upBound=10, cat = 'Continuous')\n",
    "x2 = LpVariable(\"x2\", lowBound=0, upBound=10, cat = 'Continuous')\n",
    "\n",
    "prob += 0.5*x1 + x2, \"Objective Function\"\n",
    "\n",
    "b1 = LpVariable(\"b1\", cat='Binary')\n",
    "\n",
    "M1 = 1e6\n",
    "prob += b1 >= (x1 - 2)/M1\n",
    "\n",
    "M2 = 1e3\n",
    "prob += x2 <= M2*(1 - b1)\n",
    "\n",
    "status = prob.solve()\n",
    "print(LpStatus[status])\n",
    "print(x1.varValue, x2.varValue, b1.varValue, pulp.value(prob.objective))"
   ]
  },
  {
   "attachments": {},
   "cell_type": "markdown",
   "metadata": {},
   "source": [
    "Nous voulons qu'une contrainte x1 <= 0 existe quand x2 > 2. Quand x2 <= 2 aucune telle contrainte n'existe (x1 peut être positif ou négatif).\n",
    "\n",
    "Nous créons d'abord une variable binaire :"
   ]
  },
  {
   "cell_type": "code",
   "execution_count": 46,
   "metadata": {},
   "outputs": [],
   "source": [
    "b1 = LpVariable(\"b1\", cat='Binary')"
   ]
  },
  {
   "attachments": {},
   "cell_type": "markdown",
   "metadata": {},
   "source": [
    "Choisissez ceci pour représenter la condition x2 > 2. Le moyen le plus simple d'y parvenir en ajoutant une contrainte :\n",
    "\n"
   ]
  },
  {
   "cell_type": "code",
   "execution_count": 47,
   "metadata": {},
   "outputs": [],
   "source": [
    "M1 = 1e6\n",
    "prob += b1 >= (x2 - 2)/M1"
   ]
  },
  {
   "attachments": {},
   "cell_type": "markdown",
   "metadata": {},
   "source": [
    "Ici, M1 est la valeur du grand M. Il doit être choisi de telle sorte que pour la plus grande valeur possible de x2, l'expression (x2-2)/M soit <=1. Il doit être aussi petit que possible pour éviter les problèmes numériques/de mise à l'échelle. Ici, une valeur de 10 fonctionnerait (x2 a une limite supérieure de 10).\n",
    "\n",
    "Pour comprendre comment fonctionne cette contrainte, pensez aux cas, pour x2<=2, le côté droit est au plus 0, et n'a donc aucun effet (borne inférieure d'une variable binaire déjà définie sur 0). Cependant, si x2> 2, le côté droit forcera b1 à être supérieur à 0 - et en tant que variable binaire, il sera forcé à être 1.\n",
    "\n",
    "Enfin, nous devons construire la contrainte requise :\n"
   ]
  },
  {
   "cell_type": "code",
   "execution_count": 48,
   "metadata": {},
   "outputs": [],
   "source": [
    "M2 = 1e3\n",
    "prob += x1 <= M2*(b1 - 1)"
   ]
  },
  {
   "attachments": {},
   "cell_type": "markdown",
   "metadata": {},
   "source": [
    "Encore une fois pour comprendre le fonctionnement de cette contrainte, considérons les cas, si b1 est vrai (1) la contrainte est active et devient : x1 <= 0. Si b1 est faux ('0') la contrainte devient x1 <= M2, à condition que M2 est suffisamment grand, cela n'aura aucun effet (ici, il pourrait être aussi petit que 10 car x1 a déjà une limite supérieure de 10.\n",
    "\n",
    "Dans le code complet ci-dessus, si vous faites varier le coefficient de x1 dans la fonction objectif, vous devriez remarquer que b1 est activé/désactivé et la contrainte supplémentaire appliquée à x1 comme prévu."
   ]
  },
  {
   "cell_type": "code",
   "execution_count": null,
   "metadata": {},
   "outputs": [],
   "source": []
  }
 ],
 "metadata": {
  "kernelspec": {
   "display_name": "Python 3",
   "language": "python",
   "name": "python3"
  },
  "language_info": {
   "codemirror_mode": {
    "name": "ipython",
    "version": 3
   },
   "file_extension": ".py",
   "mimetype": "text/x-python",
   "name": "python",
   "nbconvert_exporter": "python",
   "pygments_lexer": "ipython3",
   "version": "3.8.0"
  },
  "orig_nbformat": 4
 },
 "nbformat": 4,
 "nbformat_minor": 2
}
