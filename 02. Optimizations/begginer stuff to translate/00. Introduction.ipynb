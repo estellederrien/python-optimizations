{
 "cells": [
  {
   "cell_type": "markdown",
   "metadata": {},
   "source": [
    "# Introduction aux optimisations.\n",
    "\n",
    "## Introduction .\n",
    "Ces fichiers notebook sont des études en optimisation mathématique, sur tous les problèmes d'optimisation classiques.\n",
    "Je pars toujours de modèles reconnus, avec une instance la plus simple.\n",
    "Je place le modèle mathématique avant chaque optimisation.\n",
    "\n",
    "La recherche opérationnelle fait partie des mathématiques <b>prescriptifs</b>, qui vient naturellement en conjonction avec les mathématiques <b>descriptifs</b> (Statistiques) et <b>prédictifs</b> (Probabilités). \n",
    "\n",
    "Elles nécessitent tout de même un savoir basique en matière d'algorithme du <b>simplexe</b>, son histoire, et son rôle, ainsi qu'en optimisations comme par exemple <b>l'algorithme du point intérieur</b>, hormis cela, on voit surtout comment résoudre des problèmes concrets avec les Solveurs Python( Et Excel en parrallèle).\n",
    "\n",
    "Il faut également comprendre les notions de <b>variables de décision</b>, et les <b>contraintes</b>, connaitre les <b>matrices</b> et le <b>symbole de sommation</b>. Le Système international d'unités (abrégé en SI) <b>S.I</b> ( kilos, mêtres, centimêtres, tonnes etc ...) en ingéniérie est également à connaitre afin de ne pas s'emmeler les pinceaux lors de optimisations, car il y a parfois des <b>conversions</b> à faire, il faut également s'y connaitre en <b>pourcentages</b>.\n",
    "Pour les optimisations dynamiques, il faut connaitre les <b>équations différentielles</b>.\n",
    "\n",
    "Il existe différents niveaux en recherche opérationnelle : Les doctorants élaborent les modèles mathématiques, \n",
    "Les ingénieurs peuvent y apporter des modifications et parfois en créer, les techniciens peuvent ensuite appliquer un modèle mathématique à une <b>instance d'un problème de la vie réelle</b>, et donc , un programme python à tel ou tel problème de la vie réelle. C'est donc toute une gamme d'emplois à créer et satisfaire dans le futur.\n",
    "Tout projet se doit d'utiliser la recherche opérationnelle mathématique, afin d'éviter des déboires, autrement, c'est naviguer au petit bonheur la chance, c'est s'en remettre au hasard pour ces projets.\n",
    "\n",
    "J'utilise le solveur linéaire Python Pulp, ainsi que le solveur Quadratique Cplex mais également Gekko, Gurobi, Cvxopt, Google Or et d'autres encore et les solveurs sous Excel. Certains solveurs sont payants, d'autres non. Le challenge est d'essayer d'utiliser les solveurs gratuits, qui n'ont pas certaines options comme par exemple Pulp et les contraintes piecewize qui sont implémentées d'origine dans Python CPlex.\n",
    "\n",
    "A terme, les fichiers Excel concernant les problèmes identiques seront placés dans le répertoire Excel, de manière à pouvoir comparer.\n",
    "\n",
    "Avec ce lot d'outils de base, on peut déjà aborder les optimisations pour de petites entreprises ou pme, et l'on ne trouve pas, à ma connaissance de documentations de ce style, surtout en Français, ce qui m'a porté à travailler sur cela et je ne suis pas prête d'arrêter. En effet, les exemples proposés sont souvent trop complexes  dès le départ, ici, je fais tout mon possible pour partir de problèmes concrets simples, et augmenter la complexité au fil du notebook.\n",
    "\n",
    "Les exemples résultent d'une étude étendue portant sur environ 10 livres de recherche opérationnelle en Anglais et 2 en Français, ainsi qu'une étude journalière de l'Internet, de sites tels que StackOverflow, ou de sites plus spécialisés, les résultats sont systématiquement vérifiés.\n",
    "\n",
    "Certaines méthodes sont particulièrement hardues à comprendre, par exemple, les méthodes BigM appliquées directement dans les optimisations, certaines personnes excellent en ça, par exemple sur https://or.stackexchange.com/. \n",
    "\n",
    "A terme, cette étude me servira à rendre mon application https://www.solvgraph.com plus efficace et adaptée.\n",
    "\n",
    "Etude globale proposée par <b>Estelle Derrien - Github estellederrien</b>\n",
    "\n",
    "## Sommaire\n",
    "\n",
    "- 1. Le vocabulaire.\n",
    "- 2. Les solveurs Python.\n",
    "\n",
    "## Sources \n",
    "\n",
    "Les livres suivants : \n",
    " \n",
    "- Practical management science de Wayne Winston\n",
    "- Operations research de Hillier\n",
    "- Operations Management de R Russel\n",
    "- Optimizations modeling with spreadsheets de R. Baker\n",
    "- Recherche opérationnelle - Méthodes d'optimisation en Gestion\n",
    "\n",
    "## Lots d'exemples :\n",
    "\n",
    "- https://github.com/google/or-tools/tree/stable/examples/python\n",
    "- A venir"
   ]
  }
 ],
 "metadata": {
  "kernelspec": {
   "display_name": "Python 3",
   "language": "python",
   "name": "python3"
  },
  "language_info": {
   "codemirror_mode": {
    "name": "ipython",
    "version": 3
   },
   "file_extension": ".py",
   "mimetype": "text/x-python",
   "name": "python",
   "nbconvert_exporter": "python",
   "pygments_lexer": "ipython3",
   "version": "3.8.0"
  },
  "orig_nbformat": 4
 },
 "nbformat": 4,
 "nbformat_minor": 2
}
