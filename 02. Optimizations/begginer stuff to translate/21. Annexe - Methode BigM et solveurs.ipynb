{
 "cells": [
  {
   "attachments": {},
   "cell_type": "markdown",
   "metadata": {},
   "source": [
    "# Annexe : Méthodes BigM et solveurs.\n",
    "\n",
    "# Introduction\n",
    "\n",
    "Normalement, quand on resouds un programme linéaire à la main, on doit \"normaliser\" le P.L d'une certaine façon si il y a des contraintes de type >=. Pour cela, on utilise la méthode BigM.\n",
    "Le but de ce notebook est de savoir si le solveur Pulp et d'autres appliquent automatiquement cette méthode, et nous ote donc le besoin d'utiliser la méthode BigM.\n",
    "\n",
    "Sommaire .\n",
    "1. Entrer un P.L avec des inégalités <= et >= directement dans le solveur\n",
    "2. Description de la méthode BigM\n",
    "3. Vérification si on trouve pareil en modifiant le P.L au préalable avec la méthode BigM\n",
    "\n",
    "Objectif :\n",
    "Valider si le solveur applique la méthode BigM automatiquement.\n",
    "\n",
    "By Estelle Derrien\n",
    "\n",
    "Lien :  https://uomustansiriyah.edu.iq/media/lectures/6/6_2022_01_08!08_00_55_PM.pdf"
   ]
  },
  {
   "attachments": {},
   "cell_type": "markdown",
   "metadata": {},
   "source": [
    "# Entrer un P.L avec des inégalités <= et >= directement dans le solveur"
   ]
  },
  {
   "cell_type": "code",
   "execution_count": 20,
   "metadata": {},
   "outputs": [
    {
     "name": "stdout",
     "output_type": "stream",
     "text": [
      "x = 0.0\n",
      "y = 9.0\n",
      "18.0\n"
     ]
    }
   ],
   "source": [
    "# Importer la librairie Pulp \n",
    "import pulp \n",
    "  \n",
    "# Créer un programme linéaire de maximisation\n",
    "model = pulp.LpProblem(\"Maximiser\", pulp.LpMaximize)\n",
    "  \n",
    "# Créer les variables du problème \n",
    "x = pulp.LpVariable('x', lowBound=0, cat='Continuous')\n",
    "y = pulp.LpVariable('y', lowBound=0, cat='Continuous')\n",
    "  \n",
    "# Fonction économique objectif\n",
    "model += 3 * x + 2 * y, \"Profit\"\n",
    "\n",
    "# Contraintes\n",
    "model += 2 * x + 1 * y <= 9\n",
    "model += x  + 2 * y >= 9\n",
    "model += x  >= 0\n",
    "model += y  >= 0\n",
    "\n",
    "  \n",
    "# Résoudre le problème\n",
    "model.solve()\n",
    "pulp.LpStatus[model.status]\n",
    "\n",
    "# Print our decision variable values\n",
    "print (\"x = {}\".format(x.varValue))\n",
    "print (\"y = {}\".format(y.varValue))\n",
    "  \n",
    "# Print our objective function value\n",
    "print (pulp.value(model.objective))\n",
    "\n"
   ]
  },
  {
   "attachments": {},
   "cell_type": "markdown",
   "metadata": {},
   "source": [
    "# Description de la méthode BigM"
   ]
  },
  {
   "attachments": {},
   "cell_type": "markdown",
   "metadata": {},
   "source": [
    "En recherche opérationnelle, la méthode Big M est une méthode de résolution de problèmes de programmation linéaire utilisant l'algorithme du simplexe. La méthode Big M étend l'algorithme du simplexe aux problèmes contenant des contraintes \"supérieur à\". Il le fait en associant les contraintes à de grandes constantes négatives qui ne feraient partie d'aucune solution optimale, si elle existait.\n",
    "\n",
    "\n",
    "\n",
    "- Multipliez les contraintes d'inégalité pour vous assurer que le membre de droite est positif.\n",
    "\n",
    "- Si le problème est de minimisation, transformer en maximisation en multipliant l'objectif par −1.\n",
    "\n",
    "- Pour toute contrainte supérieure à, introduisez le surplus si et des variables artificielles ai (comme indiqué ci-dessous).\n",
    "\n",
    "- Choisir une grande valeur positive M et introduire un terme dans l'objectif de la forme −M multipliant les variables artificielles.\n",
    "\n",
    "- Pour des contraintes inférieures ou égales, introduisez des variables d'écart si afin que toutes les contraintes soient des égalités.\n",
    "\n",
    "- Résolvez le problème en utilisant la méthode habituelle du simplexe."
   ]
  },
  {
   "attachments": {},
   "cell_type": "markdown",
   "metadata": {},
   "source": [
    "On applique la théorie BigM sur notre programme linéaire, et on regarde si on trouve pareil avec Python Pulp.\n",
    "Si on trouve le même résultat, ca veut dire que Python Pulp applique le BigM en arrière plan, il n'est donc pas nécessaire de transformer le P.L avec la méthode big M si on a un >= dans les contraintes."
   ]
  },
  {
   "attachments": {},
   "cell_type": "markdown",
   "metadata": {},
   "source": [
    "# Vérification si on trouve pareil en modifiant le P.L au préalable avec la méthode BigM"
   ]
  },
  {
   "cell_type": "code",
   "execution_count": 21,
   "metadata": {},
   "outputs": [
    {
     "name": "stdout",
     "output_type": "stream",
     "text": [
      "x = 0.0\n",
      "y = 9.0\n",
      "18.0\n"
     ]
    }
   ],
   "source": [
    "# Importer la librairie Pulp \n",
    "import pulp \n",
    "  \n",
    "# Créer un programme linéaire de maximisation\n",
    "model = pulp.LpProblem(\"Maximiser\", pulp.LpMaximize)\n",
    "  \n",
    "# Créer les variables du problème \n",
    "x = pulp.LpVariable('x', lowBound=0, cat='Continuous')\n",
    "y = pulp.LpVariable('y', lowBound=0, cat='Continuous')\n",
    "Ma = pulp.LpVariable('Ma', lowBound=0, cat='Continuous')\n",
    "s = pulp.LpVariable('s', lowBound=0, cat='Continuous')\n",
    "e = pulp.LpVariable('e', lowBound=0, cat='Continuous')\n",
    "a = pulp.LpVariable('a', lowBound=0, cat='Continuous')\n",
    "  \n",
    "# Fonction économique objectif\n",
    "model += 3 * x + 2 * y - Ma, \"Profit\"\n",
    "\n",
    "# Contraintes\n",
    "model += 2 * x + 1 * y + s + 0 * e + 0 * a + 0 * (3 * x + 2 * y - Ma)<= 9\n",
    "model += x  + 2 * y + 0 * s - 1* e + 1 * a + 0 * (3 * x + 2 * y - Ma)>= 9\n",
    "model += -3 * x  - 2 * y + 0 * s + 0 * e + 1 * Ma +  (3 * x + 2 * y - Ma)== 0\n",
    "\n",
    "model += x  >= 0\n",
    "model += y  >= 0\n",
    "\n",
    "  \n",
    "# Résoudre le problème\n",
    "model.solve()\n",
    "pulp.LpStatus[model.status]\n",
    "\n",
    "# Print our decision variable values\n",
    "print (\"x = {}\".format(x.varValue))\n",
    "print (\"y = {}\".format(y.varValue))\n",
    "  \n",
    "# Print our objective function value\n",
    "print (pulp.value(model.objective))\n"
   ]
  }
 ],
 "metadata": {
  "kernelspec": {
   "display_name": "Python 3",
   "language": "python",
   "name": "python3"
  },
  "language_info": {
   "codemirror_mode": {
    "name": "ipython",
    "version": 3
   },
   "file_extension": ".py",
   "mimetype": "text/x-python",
   "name": "python",
   "nbconvert_exporter": "python",
   "pygments_lexer": "ipython3",
   "version": "3.8.0"
  },
  "orig_nbformat": 4
 },
 "nbformat": 4,
 "nbformat_minor": 2
}
